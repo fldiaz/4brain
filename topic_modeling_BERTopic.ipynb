{
 "cells": [
  {
   "cell_type": "markdown",
   "metadata": {
    "id": "BLG-tKtgFImX"
   },
   "source": [
    "\n",
    "#This notebook perform  model for topic modeling with BERTopic\n",
    "\n",
    "- https://maartengr.github.io/BERTopic/\n",
    "\n",
    "- https://github.com/MaartenGr/BERTopic\n",
    "\n",
    "- https://towardsdatascience.com/topic-modeling-with-bert-779f7db187e6\n"
   ]
  },
  {
   "cell_type": "markdown",
   "metadata": {
    "id": "-YA9JXLLjZ5-"
   },
   "source": []
  },
  {
   "cell_type": "code",
   "execution_count": null,
   "metadata": {
    "colab": {
     "base_uri": "https://localhost:8080/"
    },
    "id": "eUfepqwIWvFt",
    "outputId": "91ecd79c-a8cc-4eed-9689-bd695261a4ce"
   },
   "outputs": [
    {
     "name": "stdout",
     "output_type": "stream",
     "text": [
      "Requirement already satisfied: bertopic[all] in /usr/local/lib/python3.7/dist-packages (0.9.3)\n",
      "\u001b[33mWARNING: bertopic 0.9.3 does not provide the extra 'all'\u001b[0m\n",
      "Requirement already satisfied: pandas>=1.1.5 in /usr/local/lib/python3.7/dist-packages (from bertopic[all]) (1.1.5)\n",
      "Requirement already satisfied: scikit-learn>=0.22.2.post1 in /usr/local/lib/python3.7/dist-packages (from bertopic[all]) (0.22.2.post1)\n",
      "Requirement already satisfied: numpy>=1.20.0 in /usr/local/lib/python3.7/dist-packages (from bertopic[all]) (1.21.4)\n",
      "Requirement already satisfied: sentence-transformers>=0.4.1 in /usr/local/lib/python3.7/dist-packages (from bertopic[all]) (2.1.0)\n",
      "Requirement already satisfied: tqdm>=4.41.1 in /usr/local/lib/python3.7/dist-packages (from bertopic[all]) (4.62.3)\n",
      "Requirement already satisfied: umap-learn>=0.5.0 in /usr/local/lib/python3.7/dist-packages (from bertopic[all]) (0.5.2)\n",
      "Requirement already satisfied: plotly<4.14.3,>=4.7.0 in /usr/local/lib/python3.7/dist-packages (from bertopic[all]) (4.14.2)\n",
      "Requirement already satisfied: pyyaml<6.0 in /usr/local/lib/python3.7/dist-packages (from bertopic[all]) (5.4.1)\n",
      "Requirement already satisfied: hdbscan>=0.8.27 in /usr/local/lib/python3.7/dist-packages (from bertopic[all]) (0.8.27)\n",
      "Requirement already satisfied: six in /usr/local/lib/python3.7/dist-packages (from hdbscan>=0.8.27->bertopic[all]) (1.15.0)\n",
      "Requirement already satisfied: joblib>=1.0 in /usr/local/lib/python3.7/dist-packages (from hdbscan>=0.8.27->bertopic[all]) (1.0.1)\n",
      "Requirement already satisfied: cython>=0.27 in /usr/local/lib/python3.7/dist-packages (from hdbscan>=0.8.27->bertopic[all]) (0.29.24)\n",
      "Requirement already satisfied: scipy>=1.0 in /usr/local/lib/python3.7/dist-packages (from hdbscan>=0.8.27->bertopic[all]) (1.4.1)\n",
      "Requirement already satisfied: pytz>=2017.2 in /usr/local/lib/python3.7/dist-packages (from pandas>=1.1.5->bertopic[all]) (2018.9)\n",
      "Requirement already satisfied: python-dateutil>=2.7.3 in /usr/local/lib/python3.7/dist-packages (from pandas>=1.1.5->bertopic[all]) (2.8.2)\n",
      "Requirement already satisfied: retrying>=1.3.3 in /usr/local/lib/python3.7/dist-packages (from plotly<4.14.3,>=4.7.0->bertopic[all]) (1.3.3)\n",
      "Requirement already satisfied: torch>=1.6.0 in /usr/local/lib/python3.7/dist-packages (from sentence-transformers>=0.4.1->bertopic[all]) (1.9.0+cu111)\n",
      "Requirement already satisfied: transformers<5.0.0,>=4.6.0 in /usr/local/lib/python3.7/dist-packages (from sentence-transformers>=0.4.1->bertopic[all]) (4.12.3)\n",
      "Requirement already satisfied: sentencepiece in /usr/local/lib/python3.7/dist-packages (from sentence-transformers>=0.4.1->bertopic[all]) (0.1.96)\n",
      "Requirement already satisfied: torchvision in /usr/local/lib/python3.7/dist-packages (from sentence-transformers>=0.4.1->bertopic[all]) (0.10.0+cu111)\n",
      "Requirement already satisfied: nltk in /usr/local/lib/python3.7/dist-packages (from sentence-transformers>=0.4.1->bertopic[all]) (3.2.5)\n",
      "Requirement already satisfied: huggingface-hub in /usr/local/lib/python3.7/dist-packages (from sentence-transformers>=0.4.1->bertopic[all]) (0.1.1)\n",
      "Requirement already satisfied: tokenizers>=0.10.3 in /usr/local/lib/python3.7/dist-packages (from sentence-transformers>=0.4.1->bertopic[all]) (0.10.3)\n",
      "Requirement already satisfied: typing-extensions in /usr/local/lib/python3.7/dist-packages (from torch>=1.6.0->sentence-transformers>=0.4.1->bertopic[all]) (3.7.4.3)\n",
      "Requirement already satisfied: regex!=2019.12.17 in /usr/local/lib/python3.7/dist-packages (from transformers<5.0.0,>=4.6.0->sentence-transformers>=0.4.1->bertopic[all]) (2019.12.20)\n",
      "Requirement already satisfied: requests in /usr/local/lib/python3.7/dist-packages (from transformers<5.0.0,>=4.6.0->sentence-transformers>=0.4.1->bertopic[all]) (2.23.0)\n",
      "Requirement already satisfied: importlib-metadata in /usr/local/lib/python3.7/dist-packages (from transformers<5.0.0,>=4.6.0->sentence-transformers>=0.4.1->bertopic[all]) (4.8.1)\n",
      "Requirement already satisfied: sacremoses in /usr/local/lib/python3.7/dist-packages (from transformers<5.0.0,>=4.6.0->sentence-transformers>=0.4.1->bertopic[all]) (0.0.46)\n",
      "Requirement already satisfied: packaging>=20.0 in /usr/local/lib/python3.7/dist-packages (from transformers<5.0.0,>=4.6.0->sentence-transformers>=0.4.1->bertopic[all]) (21.0)\n",
      "Requirement already satisfied: filelock in /usr/local/lib/python3.7/dist-packages (from transformers<5.0.0,>=4.6.0->sentence-transformers>=0.4.1->bertopic[all]) (3.3.0)\n",
      "Requirement already satisfied: pyparsing>=2.0.2 in /usr/local/lib/python3.7/dist-packages (from packaging>=20.0->transformers<5.0.0,>=4.6.0->sentence-transformers>=0.4.1->bertopic[all]) (2.4.7)\n",
      "Requirement already satisfied: numba>=0.49 in /usr/local/lib/python3.7/dist-packages (from umap-learn>=0.5.0->bertopic[all]) (0.51.2)\n",
      "Requirement already satisfied: pynndescent>=0.5 in /usr/local/lib/python3.7/dist-packages (from umap-learn>=0.5.0->bertopic[all]) (0.5.5)\n",
      "Requirement already satisfied: llvmlite<0.35,>=0.34.0.dev0 in /usr/local/lib/python3.7/dist-packages (from numba>=0.49->umap-learn>=0.5.0->bertopic[all]) (0.34.0)\n",
      "Requirement already satisfied: setuptools in /usr/local/lib/python3.7/dist-packages (from numba>=0.49->umap-learn>=0.5.0->bertopic[all]) (57.4.0)\n",
      "Requirement already satisfied: zipp>=0.5 in /usr/local/lib/python3.7/dist-packages (from importlib-metadata->transformers<5.0.0,>=4.6.0->sentence-transformers>=0.4.1->bertopic[all]) (3.6.0)\n",
      "Requirement already satisfied: idna<3,>=2.5 in /usr/local/lib/python3.7/dist-packages (from requests->transformers<5.0.0,>=4.6.0->sentence-transformers>=0.4.1->bertopic[all]) (2.10)\n",
      "Requirement already satisfied: urllib3!=1.25.0,!=1.25.1,<1.26,>=1.21.1 in /usr/local/lib/python3.7/dist-packages (from requests->transformers<5.0.0,>=4.6.0->sentence-transformers>=0.4.1->bertopic[all]) (1.24.3)\n",
      "Requirement already satisfied: certifi>=2017.4.17 in /usr/local/lib/python3.7/dist-packages (from requests->transformers<5.0.0,>=4.6.0->sentence-transformers>=0.4.1->bertopic[all]) (2021.5.30)\n",
      "Requirement already satisfied: chardet<4,>=3.0.2 in /usr/local/lib/python3.7/dist-packages (from requests->transformers<5.0.0,>=4.6.0->sentence-transformers>=0.4.1->bertopic[all]) (3.0.4)\n",
      "Requirement already satisfied: click in /usr/local/lib/python3.7/dist-packages (from sacremoses->transformers<5.0.0,>=4.6.0->sentence-transformers>=0.4.1->bertopic[all]) (7.1.2)\n",
      "Requirement already satisfied: pillow>=5.3.0 in /usr/local/lib/python3.7/dist-packages (from torchvision->sentence-transformers>=0.4.1->bertopic[all]) (7.1.2)\n"
     ]
    }
   ],
   "source": [
    "!pip install bertopic[all]"
   ]
  },
  {
   "cell_type": "code",
   "execution_count": null,
   "metadata": {
    "colab": {
     "base_uri": "https://localhost:8080/"
    },
    "id": "qibsb493288v",
    "outputId": "ba83fdb3-bea9-4004-cf80-d70587175705"
   },
   "outputs": [
    {
     "name": "stdout",
     "output_type": "stream",
     "text": [
      "Drive already mounted at /content/drive; to attempt to forcibly remount, call drive.mount(\"/content/drive\", force_remount=True).\n"
     ]
    }
   ],
   "source": [
    "from google.colab import drive\n",
    "drive.mount('/content/drive')"
   ]
  },
  {
   "cell_type": "code",
   "execution_count": null,
   "metadata": {
    "id": "8wEWWSoR3C6F"
   },
   "outputs": [],
   "source": [
    "import json\n",
    "import os\n",
    "import itertools\n",
    "import pandas as pd\n",
    "import numpy as np\n",
    "import time\n",
    "import multiprocessing"
   ]
  },
  {
   "cell_type": "code",
   "execution_count": null,
   "metadata": {
    "id": "G1ue_ZoNYPb1"
   },
   "outputs": [],
   "source": [
    "from bertopic import BERTopic"
   ]
  },
  {
   "cell_type": "code",
   "execution_count": null,
   "metadata": {
    "id": "HlVofZaK3C0o"
   },
   "outputs": [],
   "source": [
    "#os.chdir('/content/drive/MyDrive/GLG project/data')\n",
    "os.chdir('drive/MyDrive/FourthBrain/capstone-glg-nlp')"
   ]
  },
  {
   "cell_type": "code",
   "execution_count": null,
   "metadata": {
    "colab": {
     "base_uri": "https://localhost:8080/"
    },
    "id": "wu4CKpdw3CyC",
    "outputId": "79776fe1-beb5-4eed-bdc1-2c1ef49f031a"
   },
   "outputs": [
    {
     "data": {
      "text/plain": [
       "['topic_modeling_BERTopic.ipynb',\n",
       " 'healthcare_industry_from_1900_2021.csv',\n",
       " 'healthcare_industry_from_1900_2021.jsonl',\n",
       " 'taggers',\n",
       " 'healthcare_industry_from_1900_2021_NER.ipynb',\n",
       " 'mlruns',\n",
       " 'topic_modeling_flair.ipynb',\n",
       " '=4.0.0',\n",
       " 'tsne.svg',\n",
       " 'tsne.png',\n",
       " 'Wordcloud.png',\n",
       " 'tweet_topic_modeling_flair.ipynb',\n",
       " 'model.state.sstats.npy',\n",
       " 'logs.log',\n",
       " 'topic_modeling_pycaret.ipynb',\n",
       " 'topic_modeling_Top2Vec.ipynb']"
      ]
     },
     "execution_count": 6,
     "metadata": {},
     "output_type": "execute_result"
    }
   ],
   "source": [
    "os.listdir()"
   ]
  },
  {
   "cell_type": "code",
   "execution_count": null,
   "metadata": {
    "colab": {
     "base_uri": "https://localhost:8080/",
     "height": 54
    },
    "id": "QXogslrviexe",
    "outputId": "a17bdff1-72a9-4738-ce49-5c7a595f5844"
   },
   "outputs": [
    {
     "data": {
      "application/vnd.google.colaboratory.intrinsic+json": {
       "type": "string"
      },
      "text/plain": [
       "\"\\nwith open('healthcare_industry_from_1900_2021.jsonl') as f:\\n    lines = f.readlines()\\n\\ntype(lines), len(lines)\\n\\ncorpus = [json.loads(line)['fullText'] for line in lines  ] \\ncorpus = [' '.join(text)  for text in corpus]\\ndate = [json.loads(line)['datePublished'] for line in lines  ] \\n\""
      ]
     },
     "execution_count": 7,
     "metadata": {},
     "output_type": "execute_result"
    }
   ],
   "source": [
    "'''\n",
    "with open('healthcare_industry_from_1900_2021.jsonl') as f:\n",
    "    lines = f.readlines()\n",
    "\n",
    "type(lines), len(lines)\n",
    "\n",
    "corpus = [json.loads(line)['fullText'] for line in lines  ] \n",
    "corpus = [' '.join(text)  for text in corpus]\n",
    "date = [json.loads(line)['datePublished'] for line in lines  ] \n",
    "'''"
   ]
  },
  {
   "cell_type": "code",
   "execution_count": null,
   "metadata": {
    "id": "-YV8xN880TWk"
   },
   "outputs": [],
   "source": [
    "def get_metadata():\n",
    "    with open(data_file, 'r') as f:\n",
    "        for line in f:\n",
    "            yield line\n",
    "\n",
    "\n",
    "data_file = 'healthcare_industry_from_1900_2021.jsonl'\n",
    "metadata = get_metadata()\n",
    "corpus  = []\n",
    "date = []\n",
    "for paper in metadata:\n",
    "    paper_dict = json.loads(paper)\n",
    "    article = paper_dict.get('fullText')\n",
    "    article = ' '.join(article)\n",
    "    corpus.append(article)\n",
    "    date.append(paper_dict.get('datePublished'))\n"
   ]
  },
  {
   "cell_type": "code",
   "execution_count": null,
   "metadata": {
    "colab": {
     "base_uri": "https://localhost:8080/"
    },
    "id": "QhSt119G1Tem",
    "outputId": "471cbd64-3d63-488b-b6b6-1591a658b899"
   },
   "outputs": [
    {
     "data": {
      "text/plain": [
       "(\"Avian influenza is an acute viral respiratory disease that causes severe damage to the poultry industry because it results in high mortality. Recent global outbreaks of avian influenza caused by the avian influenza virus (AIV) poses a serious public health threat because of potential transmission among humans. Influenza viruses belong to the family Orthomyxoviridae and are further divided into subtypes according to the combination of 2 major immunogenic surface glycoprotein components: hemagglutinin (HA) and neuraminidase (NA), which are present on the surface of viral envelopes [1, 2] . At the initial stage of viral infection, HA binds to the host respiratory cell receptor, which contains sialic acid, allowing the virus to enter the host cell through the endosomal pathway [3, 4] . HA is a homotrimeric transmembrane protein with a globular head and a stem region that are both exposed to the outside of the membrane [5] . These regions contain N-linked oligosaccharides [6] , which have been known to affect the functional properties of HA [7, 8] . Glycosylation sites in the peptide sequences are highly conserved, indicating functional significance for HA glycosylation [9] . HA is synthesized as a precursor protein (HA0) that undergoes proteolytic cleavage into HA1 and HA2 subunits; HA1 mediates initial contact with the cell membrane, and HA2 is responsible for membrane fusion [10, 11] . HA is the primary target for antiviral agents such as infectivity-neutralizing antibodies [4] and nucleic acid aptamers [12] . The recombinant HA1 subunit, expressed and purified from bacteria, induces an immune response against the influenza virus in humans [13] and is sufficient for screening antiviral RNA aptamers [14] . The recombinant HA protein, which retains glycosylation, has been expressed and produced in a baculovirus/insect cell system, which exhibited enhanced HA inhibition and virus neutralization [15] . Aptamers are nucleic acid ligands that bind to a specific target molecule with high affinity. They are usually obtained from an oligonucleotide library harboring random sequences by using the SELEX (Systematic Evolution of Ligands by EXponential enrichment) method [16, 17] . Compared with protein antibodies, aptamers have many advantages over protein antibodies, such as high affinity, rapid synthesis, low cost, low-temperature sensitivity, large-scale production, and ease of chemical modification [12] . To date, aptamers have been used in a wide range of applications as research reagents, for medical diagnosis, and as biosensor or therapeutic tools against viruses and cancer. [18, 19] . Previously, our group selected an RNA aptamer against HA1 of subtype H5 AIV, which specifically binds to HA1 and inhibits hemagglutination of erythrocytes in vitro [14] . The HA1-specific RNA aptamer HAS15-5 was screened using the recombinant HA1-GST fusion protein that lacks glycosylation because of its expression in bacteria [14] . However, RNA aptamers specific to glycosylated HA rather than unglycosylated HA would be preferable for blocking and inhibiting influenza virus entry into host cells. In the present study, glycosylated hemagglutinin (gHA1) subtype H5 AIV was expressed from a recombinant baculovirus. gHA1 was expressed in a suspension culture of insect cells by infection with the recombinant baculovirus for glycosylation modifications. We isolated RNA aptamers that specifically bind to the gHA1 protein and demonstrated that the selected RNA aptamer, HA12-16, efficiently inhibited viral infection in host cells and enhanced cell viability. For suspension culture of insect cells, Sf21 (Invitrogen, Carlsbad, CA) and TriEx Sf9 (Novagen, Darmstadt, Germany) cells were grown in 100 ml of Sf-900 serum-free media (Gibco BRL, Carlsbad, CA) and SFX-Insect cell culture media (Hyclone, Logan, UT), respectively, in 500-ml baffled glass flasks and were incubated at 27uC in a rotary shaker at 90 rpm. For maintaining the insect cells in monolayer cultures, cells were subcultured every 3 days by diluting seed cultures from 5.0610 5 cells/ml to a cell density of 2.5610 4 cells/ml with fresh media. The cells were then grown in monolayer cultures at 27uC. The full-length gene encoding the receptor-binding domain of hemagglutinin (HA1) from influenza virus strain A/wild-duck/ Korea/ES/2004 (H5N2) was obtained, as previously described [14] . The HA1 gene was amplified by PCR and digested with XhoI and HindIII and then subcloned into the pBAC6 baculovirus transfer vector (Novagen, Darmstadt, Germany), which contained 6 His-tag at the N-terminal and signal peptides for protein secretion in insect cells. Recombinant pBAC6 plasmids and linearized baculovirus DNA were co-transfected into Sf21 insect cells, as described in the BD BaculoGold baculovirus expression system protocols (BD Biosciences, Franklin Lakes, NJ). Briefly, recombinant pBAC6/HA plasmids (2 mg) and linearized baculovirus DNA (0.5 mg) were mixed in Cellfectin reagent (Invitrogen, Carlsbad, CA) for 5 min and then added to 1 ml of Sf-900 serum-free media. After 15 min of incubation at room temperature, the DNA mixture was added to the Sf21 cells (2.0610 6 cells/ ml) in the T25 flask and incubated at 28uC for 4 h while rocking back and forth. Following the rocking incubation, the DNA mixture was removed, and 4 ml of fresh Sf-900 serum-free media was added to insect cells. The insect cells were then incubated at 28uC for 4 days, and the supernatant, which was enriched with recombinant baculovirus (pBAC6/HA), was collected by centrifugation at 1000 6 g for 5 min. The gHA1 protein was expressed in a suspension culture of TriEx-Sf9 cells infected with the recombinant pBAC6/HA baculovirus. TriEx-Sf9 cells that were grown in suspension culture (2.5610 5 cells/ml) were infected with the recombinant pBAC6/ HA baculovirus with a multiplicity of infection (MOI) of 3.0 and incubated at 28uC for 3 days. Post-infection with the baculovirus, the culture supernatant containing the secreted protein was harvested by centrifugation at 1000 6 g for 5 min. All viral supernatants were ultra-filtered with the equilibrium buffer (50 mM Tris-HCl, pH 8.0, 100 mM NaCl) through polyethersulfone (PES) membranes of MWCO 5 kDa at a flow rate 120 ml/ min using the tangential flow filtration system (PALL, Port Washington, NY) for concentration and diafiltration. The concentrated sample was loaded onto a 5-ml Ni-NTA His Trap affinity column (GE Healthcare, Buckinghamshire, UK), which was pre-equilibrated with the equilibrium buffer. The column was washed twice, and the recombinant gHA1 was eluted with a gradient from 0.1 to 1 M imidazole in the equilibration buffer. The eluted fractions were collected and concentrated with a Centricon Plus-20 (Millipore, Billerica, MA) and were analyzed by 12% SDS-PAGE for the presence of His-tagged gHA1 protein. The gHA1-containing fractions identified by the band corresponding to 50 kDa were then loaded onto a HiLoad Superdex 200 (GE Healthcare, Buckinghamshire, UK), and eluted at a flow rate 1.5 ml/min. Pure protein fractions were dialyzed against buffer (20 mM Tris-HCl, pH 8.0, 1.0 mM EDTA, 5 mM DTT, 20% glycerol, 0.5% (v/v) Triton X-100, and 150 mM NaCl). Purified gHA1 was quantified using a Bradford protein assay kit (Bio-Rad) using bovine serum albumin (BSA) as the reference standard. The identity of the purified protein was determined by immunoblotting with mouse AIV H5N1 HA polyclonal antibodies (ProSci, Poway, CA) and anti-mouse IgG-horseradish peroxidase conjugate as secondary antibodies (Santa Cruz Biotechnology, Dallas, TX). The glycosylation status of the recombinant gHA1 protein was determined with Peptide-N-Glycosidase F (PNGase F) that cleaves the complex oligosaccharides at N-linked glycosylations. Briefly, purified gHA1 (3 mg) was denatured in buffer (0.5% SDS and 4 mM DTT), heated at 100uC for 10 min, and subsequently incubated with PNGase F (New England Biolabs, Beverly, MA) according to the manufacturer's protocol. The reaction products were resolved by 12% SDS-PAGE, and the presence of HA1 was subsequently determined by immunoblotting, as described above. To conduct the SELEX procedure, an RNA pool of random sequences (RNA library) was produced by PCR and by in vitro transcription of the DNA template containing 40 random nucleotides, as previously described [20] . The His-tagged HA1 glycoprotein (50 mg) was immobilized on Ni-NTA spin trap columns (GE Healthcare, Buckinghamshire, UK). The random RNA library (6 mg) was denatured at 85uC for 5 min and then incubated at room temperature in binding buffer (20 mM sodium phosphate, pH 7.5, 500 mM NaCl, and 20 mM imidazole). At every iteration of SELEX, negative selection was performed to remove RNAs bound to Ni-NTA resins in columns by passing the RNA pool through separate Ni-NTA spin trap columns. After three iterative rounds of negative selection, the unbound RNAs were collected and reloaded onto new Ni-NTA spin trap columns that were charged with His-tagged gHA1. Next, the column was washed 3 times with binding buffer, and the bound RNA was eluted with elution buffer (20 mM sodium phosphate, pH 7.5, 500 mM NaCl, and 300 mM imidazole). The RNAs were purified by phenol-chloroform extraction and subsequent ethanol precipitation. The purified RNA was subjected to RT-PCR and in vitro transcription to generate the RNA library for the next round of SELEX. The amount of His-tagged HA1 glycoprotein used for SELEX was gradually reduced from 50 to 5 mg to enhance stringency of the selection procedure. After the 12th round of SELEX, the amplified cDNA was cloned into a pGEM T-Easy vector (Promega, Madison, WI) and then transformed into E. coli by heat shock at 42uC. The plasmid DNA from each clone was prepared and sequenced, and each RNA aptamer was generated by in vitro transcription using the linearized recombinant plasmid that harbored the RNA aptamer sequence. Secondary structures of selected RNA aptamer sequences were predicted by the M-Fold web server, which is based on Zuker's algorithm [21] . To compare the binding affinity of the RNA library at each round, semi-quantitative RT-PCR was carried out as previously described [14] . Briefly, 1.5 mg of gHA1 protein was loaded and immobilized onto the Ni-NTA spin trap column, and 4 mg of RNA pool from each round of SELEX was loaded onto the column. The column containing the RNA-protein complex was then washed 3 times with 200 ml of the binding buffer used in SELEX, and unbound RNAs were collected as flow-through. The RNAs that bound to the gHA1 protein were then eluted from the column by 3 consecutive washes with 200 ml of the elution buffer used in SELEX. Protein-bound RNAs were then extracted by phenol-chloroform and ethanol precipitation, and the extracted RNAs from each elution were subjected to RT-PCR using aptamer-specific primers. The conditions for PCR were as follows: 11 cycles of 94uC for 30 s, 55uC for 30 s, and 72uC for 30 s. PCR products were electrophoresed on 1.5% agarose gel to measure the amount of DNA that was amplified from each eluant, and the amplified DNA bands on the gel were quantified using the Gel-Pro analyzer software (Media Cybernetics, Bethesda, MD). Alternatively, to compare each RNA aptamer candidate that originated from the final round of SELEX, a nitrocellulose filter binding assay [22] was performed to measure the binding affinities of RNA aptamers with the gHA1 protein. Each RNA aptamer generated by in vitro transcription was dephosphorylated and the 59-end-labeled with [c-32 P] ATP by T4 polynucleotide kinase (New England Biolabs). The 59-32 P end-labeled RNA aptamer (5 nM) was incubated with the gHA1 protein (500 nM) in binding buffer (30 mM Tris-HCl, pH 7.5, 150 mM NaCl, and 1.3 mM MgCl 2 ) at room temperature for 30 min. The reaction mixture was filtered under vacuum onto double filters composed of a positively charged Hybond N+ membrane (GE Healthcare, Buckinghamshire, UK) beneath the nitrocellulose membranes (GE Healthcare) using a 96-well dot-blot apparatus (Bio-Rad). The membrane was then washed twice with washing buffer (20 mM Tris-HCl, pH 7.5, and 50 mM NaCl) and dried at room temperature. Filters were then assayed for radioactivity remaining in proteinbound RNAs and free RNAs retained on the nitrocellulose membrane and the hybond N+ membrane, respectively. Radioactivity was measured and quantified on a Cyclone Phosphor-Imager (Packard Instrument Co., Meriden, CT), and the fraction of protein-bound RNAs was determined using the amount of RNA remaining on the nitrocellulose membrane relative to the total amount of RNA present in both membranes. Enzyme-linked immunosorbent assay (ELISA) Preparation of 39-biotinylated RNAs occurred by ligation of biotinylated cytidine to the 39-end of RNA using the 39-end biotinylation kit (Pierce, Rockford, IL). Briefly, the non-labeled RNAs (50 pmol) were heated at 85uC for 5 min, immediately put on ice, and added to the reaction mixture (40 U RNase inhibitor, 1 nM biotinylated cytidine (bis) phosphate, T4 RNA ligase, and 30% polyethylene glycol) in RNA ligase reaction buffer (50 mM Tris-HCl, pH 7.8, 10 mM MgCl 2 , 10 mM DTT, and 1 mM ATP). After the reaction mixture was incubated at 16uC overnight to increase ligation efficiency, 39-biotinylated RNAs were then extracted by phenol-chloroform and ethanol precipitation. For enzyme-linked immunosorbent assay (ELISA), the wells of a nickel-coated plate (Pierce, Rockford, IL) were incubated overnight with the purified gHA1 (0.5 mg) at 4uC. The wells were washed with phosphate-buffered saline with Tween (PBS-T; 0.1% Tween 20 in PBS, pH 7.4) 3 times and blocked with 1% bovine serum albumin (BSA) in PBS at room temperature for 1 h to avoid non-specific binding. After washing, 30 ng of 39-biotinylated RNAs was added to wells (100 ml in PBS per well) and incubated at room temperature for 2 h. The wells were then washed with PBS-T three times, and the protein-bound biotinylated RNAs were detected by incubation with 100 ml of streptavidin-conjugated horseradish peroxidase (diluted 1:8000 in PBS-T, Pierce) at room temperature for 1 h. After washing, the color development was initiated by adding 100 ml of 3,39,5,59-tetrametylbenzidine (TMB) substrate solution (Pierce, Rockford, IL) to each well, and stopped by adding 2 M H 2 SO 4 . The absorbance of each well was measured at 450 nm using a VICTOR X3 Multilabel Plate Reader (PerkinElmer, Waltham, MA). Madin-Darby Canine Kidney (MDCK) cells (KCLB, Seoul, Korea) were grown in Dulbecco's modified Eagle's medium (DMEM, Hyclone, Logan, UT) supplemented with heat-inactivated 10% fetal bovine serum and 1% penicillin-streptomycin (Hyclone, Logan, UT). Influenza virus strain A/Victoria/210/ 2009 (Reassortant NYMC X-187) H3N2 grown in the allantoic cavity of 11-day-old embryonated hen eggs was used for infection into MDCK cells. The titer of virus used for infection was evaluated by the infection of MDCK cells with expression, because the tissue culture infective doses lead to 50% infected cells (TCID 50 ) [23] . MDCK cells were seeded on 96-well plates (5610 3 /well) 24 h before the experiment. After 24 h of incubation, the cells were maintained as-is or infected with the influenza virus H3N2 at an MOI of 0.1 TCID 50 in the presence or absence of the selected RNA aptamer (50 nM). The cells were further incubated in serum-free DMEM at 37uC for 24 h. The cell media were removed after incubation, and cell viability was assayed by adding 5 mg/ml MTT (Sigma) dissolved in PBS to each well and incubation at 37uC for 4 h. The supernatants were aspirated, and the formazan dyes were dissolved in 100 ml/well dimethylsulfoxide (DMSO, Sigma). The absorbance was measured at 570 nm using a VICTOR X3 Multilabel Plate Reader (PerkinElmer, Waltham, MA). MDCK cells were placed in 5610 4 /wells on 8-well chamber glass slides (Nunc, Penfield, NY) prior to the experiment. The cells were washed twice in PBS and then added to a mixture containing the virus and the designated aptamer sample. The MDCK cells were maintained as-is or infected with the influenza virus H3N2 at an MOI of 0.1 TCID 50 with or without 30 min of pre-incubation with the HA12-16 RNA aptamer (100 nM). MDCK cells were also treated with the RNA aptamer without viral infection as a control. After 24 h of incubation, the cells were fixed with 3% paraformaldehyde followed by permeabilization with 0.5% Triton X-100. The influenza virus antigen HA was detected by incubating the cultures with a mouse anti-H3 (H3N2) antibody (diluted to 1:100 in PBS, Abcam, Cambridge, UK). The antibody was incubated at room temperature for 1 h, followed by 3 washes in PBS for at least 5 min per wash. Primary antibodies were detected with FITCconjugated goat polyclonal anti-mouse immunoglobulin secondary antibodies (Abcam). Nuclei were visualized using DAPI (Sigma) staining. Immunofluorescence images of the cells were obtained using an AxioCam MRc5 digital camera equipped with an Axio Imager A1 microscope (Carl Zeiss, Oberkochen, Germany). The HA1 subunit of hemagglutinin in AIV has been previously expressed in and purified from E. coli [14] , which produces unglycosylated protein. Because HA is an N-glycosylated glycoprotein with a globular head and stem regions [24] , proper posttranslational glycosylation and protein folding might be required for its function [9] . Hence, we expressed recombinant HA1 in insect cells to obtain the glycosylated HA of AIV by using the baculovirus expression system [15] . The baculovirus expression system can produce post-translationally modified and biologically active recombinant proteins from insect cells. A pBAC6 baculovirus plasmid carrying the full-length HA1 gene was cloned and transfected into Sf21 insect cells. The morphology of the infected insect cells became larger and irregular (data not shown). Four days post-infection, the secreted recombinant HA1 was collected and purified. The His-tagged gHA1 recombinant protein was purified through the combined use of Ni-NTA His Trap affinity chromatography and gel filtration. The purified protein was separated by SDS-PAGE and identified by immunoblotting analysis. As shown in Fig. 1A , the gHA1 protein fused to His-tag revealed a single band with a molecular weight of 50 kDa in SDS-PAGE. Although the molecular weight of gHA1 is estimated to be about 46 kDa, including 10 kDa of signal sequence plus the His-tag, a slightly higher molecular weight of 50 kDa appeared in SDS-PAGE, probably due to glycosylation. To confirm whether the purified recombinant HA1 was Nglycosylated during post-translational processing, the purified protein was treated with PNGase F that cleaves glycans from the protein. As shown in Fig. 1B , PNGase F-treated samples had bands that migrated further owing to a loss of glycans, within which the predicted size of unglycosylated HA1 was about 46 kDa. Thus, the purified recombinant HA protein was Nglycosylated and was used for the subsequent RNA aptamer selection procedure (SELEX). To obtain antiviral RNA aptamers specific to gHA1 of AIV using SELEX, an RNA library containing 40 random nucleotides (,10 24 nucleic acid sequences) was initially prepared by PCR and subsequent in vitro transcription of the DNA template ( Fig. 2A) . Twelve iterative rounds of the selection process were performed by increasing the stringencies of RNA binding to the gHA1 protein as the rounds progressed. Starting from the 5th round, more strict conditions were employed by reducing the protein concentration in each subsequent round: 25 mg (rounds 5-6), 12.5 mg (rounds 7-8), 6.25 mg (rounds 9-10), and 5 mg (rounds [11] [12] . After the 12th round of selection and amplification, the amplified cDNA of the final round was subcloned, and 26 individual aptamer clones were sequenced. Based on the degenerated sequences of these clones, sequences of 26 clones were classified into 4 groups (Fig. 2B) . The population frequency of the selected RNA aptamers was 42.3.26.9.19.2.11.5% in decreasing percentage ranks (Fig. 2B) . Each RNA aptamer group has a conserved sequence that might be considered a binding site Figure 4 . Binding of the RNA SELEX pools to gHA1. The gHA1 protein charged in Ni-NTA spin trap columns was eluted with buffer solution containing the initial RNA pool, the 5th, 9th, and 12th round RNA pools, or no RNA (negative control, NC). Elution with imidazole buffer was collected and subjected to RT-RCR. Amplified cDNAs indicating the gHA1-bound RNAs were stained with ethidium bromide on 1.5% agarose gel after electrophoresis and were quantified. Relative amounts of the gHA1-bound RNAs are shown in the graph. doi:10.1371/journal.pone.0097574.g004 Figure 5 . Affinity measurements of selected RNA aptamers to gHA1. (A) Each 32 P end-labeled RNA aptamer was incubated with gHA1, and the reaction sample was then filtered through a pre-wetted nitrocellulose membrane and applied to the double-filter dot-blot apparatus. The amounts of 32 P end-labeled RNA aptamers retained on the membrane in the presence of gHA1 were radioactively measured and quantified. Percentage binding to the gHA1 protein relative to the highest value is shown in the graph. (B) The immobilized gHA1 protein (0.5 mg) was incubated with each 39-biotinylated RNA sample (30 ng) as indicated. After addition of streptavidin-conjugated HRP, the amount of the gHA1-aptamer complex was measured by absorbance reading at 450 nm. doi:10.1371/journal.pone.0097574.g005 specific to the gHA1 protein. The 4 RNA aptamer sequences identified in the 12th selection pool were predicted for the secondary structures of RNA using the M-Fold program, which is based on Zuker's algorithm [21] . RNA aptamers appear to contain a number of stem and loop structures, in which conserved sequences mostly reside at the stemand-loop region in the RNA secondary structure (Fig. 3) . These conserved sequences in each RNA aptamer are believed to be exposed to facilitate interactions with the HA1 protein [14, 20, 25] . The conserved sequences could constitute a binding motif specific to gHA1, whereas the stem structures of other sequences could merely stabilize the secondary structure of RNA. After 12 rounds of iterative SELEX cycles, the gHA1 protein binding affinity of the 12th RNA pool was compared with that of the initial RNA pool and the 5th and the 9th RNA pools were compared through the semi-quantitative RT-PCR amplification of RNAs bound to the target protein (Fig. 4) . For this experiment, the same amount of RNAs from each round was loaded onto an affinity column charged with the gHA1 protein. The affinityeluted fractions (gHA1-bound RNAs) were collected and subjected to RT-PCR. PCR cycles were limited to 11 cycles to avoid saturation of cDNA amplification [14] . cDNAs were visualized and quantified by ethidium bromide staining on an agarose gel, which reflected the amount of RNA bound to gHA1. Based on quantitation of amplified cDNA, the 12th round RNA pool was more tightly bound to gHA1 than any other round of RNA pool or the negative control containing irrelevant RNA sequences (Fig. 4) . To evaluate the binding affinity of the selected aptamer candidates against gHA1, we performed the double-filter assay for nitrocellulose-filter binding to analyze protein-RNA interactions [22, 26] . The dephosphoylated RNA aptamers were endlabeled with [c-32 P] ATP using T4 polynucleotide kinase. Each 32 P-end labeled RNA aptamer (5 nM) was incubated with gHA1 (500 nM) for 30 min at room temperature, and the reaction mixture was filtered through double filters containing nitrocellulose membrane (0.45 mm). After exposure of the nitrocellulose membrane for visualization of radioactive RNA aptamers bound to the protein, radioactivity was quantified and normalized as shown in Fig. 5A . RNA aptamer HAS15-5, which was previously selected against the unglycosylated HA1 protein [14] , did not significantly bind to the glycosylated HA1 protein. In contrast, among the selected RNA aptamer candidates against gHA1, the HA12-16 aptamer displayed the highest affinity. As an alternative attempt to measure binding affinity of the HA12-16 aptamer to the target protein, gHA1, we carried out a sandwich ELISA assay by adding 39-biotinylated aptamer RNAs to immobilized target proteins. As shown in Fig. 5B , HA12-16 aptamer RNA exhibited a higher absorbance value compared with other RNAs, such as the initial RNA library and the HAS15-5 aptamer. These results indicate that the selected RNA aptamer (HA12-16) against gHA1 is different from the HAS15-5 RNA aptamer that has been previously selected against the unglycosylated HA1. The virus surface glycoprotein HA plays a key role in mediating membrane fusion between the virus and host cellular membranes [4, 12] . We hypothesized that the RNA aptamer specific to gHA1 suppresses viral infection in the host cell by binding, thereby promoting viability in host cells exposed to the influenza virus. To test this hypothesis, we investigated the antiviral effect of the RNA aptamer candidates targeting the gHA1 viral surface protein by performing a host cell viability assay. MDCK cells were infected with the influenza virus H3N2 at an MOI of 0.1 and treated with the selected RNA aptamer candidates. After 24 h of incubation to The cells were fixed with 3% paraformaldehyde followed by permeabilization with 0.5% Triton X-100. The cells were then immunostained to test for the presence of the influenza virus by using mouse anti-HA antibodies and goat anti-mouse polyclonal antibodies conjugated to FITC as secondary antibodies. Nuclei were visualized by staining with DAPI; HA and nuclei are shown in green and blue fluorescence, respectively. doi:10.1371/journal.pone.0097574.g006 facilitate viral infection into host cells, cell viability was measured using the MTT reagent. As shown in Fig. 6A , over 50% of the host cells survived in the presence of the RNA aptamers specific to gHA1 except for 1 RNA aptamer candidate (HA12-5). Additionally, the initial RNA pool and RNA aptamer specific to unglycosylated HA1 (HAS15-5) did not inhibit viral infection in host cells compared with the other RNA aptamer candidates. Among the aptamer candidates, the HA12-16 aptamer exhibited the highest antiviral activity by revealing comparable cell viability in the uninfected cells. Of importance, the extent of cell viability is positively correlated with the binding affinity of the RNA aptamer to gHA1, as revealed by the binding assay (Fig. 5A) . These results indicate that the most effective aptamer, HA12-16, prevents influenza infection by strongly binding to the gHA1 viral surface protein, thereby decreasing mortality of host cells. To further validate the antiviral activity of the HA12-16 aptamer in blocking viral binding and entry into host cells, we performed fluorescence microscopy analysis of the cells undergoing viral infection. For the assay, MDCK cells were incubated with the influenza virus in the presence or absence of the HA12-16 aptamer at 37uC for 24 h. The presence of the influenza virus was fluorescently analyzed by FITC-conjugated secondary antibodies bound to anti-HA primary antibodies. MDCK cells infected with the viruses were noticeably fluorescent because of the viruses attached to the cell membrane, whereas addition of the HA12-16 aptamer significantly reduced the FITC-fluorescence owing to the suppression of viral attachment to the cell membrane through aptamer-gHA1 binding (Fig. 6B) . When the cells were only treated with the HA12-16 aptamer, FITC fluorescence on the cells appeared to be similar to the one treated with the viruses plus the aptamer. This result suggests that the HA12-16 RNA aptamer suppresses viral attachment to the host cells by neutralizing the receptor-binding site of influenza virus HA, which results in the inhibition of viral replication. In this study, we isolated an RNA aptamer specific to the glycosylated receptor-binding domain of an AIV HA protein (gHA1) using SELEX. The HA1 gene was cloned from subtype H5 of AIV and expressed in insect cells, and the glycosylated recombinant HA1 protein was purified for screening of RNA aptamers. Glycosylation of the purified HA1 protein was confirmed by cleaving glycans with PNGase F. After the 12 rounds of iterative SELEX, the RNA pool that binds to the gHA1 protein was cloned and sequenced, and RNA secondary structures were predicted. Among the 4 representative RNA aptamer candidates, HA12-16 was chosen because of its high binding affinity to gHA1 and suppression of viral infection in host cells. These results suggest that the RNA aptamer can recognize the viral HA, likely at or around the receptor binding region required for the penetration of influenza virus into host cells [27] . Interestingly, the previously selected RNA aptamer against the unglycosylated HA (HAS15-5) failed to inhibit viral infection in host cells. Thus, the HA12-16 aptamer isolated in this study is expected to interrupt influenza invasion through specific binding to the glycosylated ectodomain of HA, which is crucial for viral attachment to the host cell membrane. In future research, the selected RNA aptamers should be modified to improve stability by base modification of nucleotides, capping of RNA fragments, and end-labeling with appropriate chemicals resistant to RNase. If a stable RNA aptamer is combined with an appropriate RNA delivery method, which is necessary for therapeutic use [28] , it can be used as an antiviral reagent that is comparable to antibodies and could be used as a therapeutic agent.\",\n",
       " '2014-05-16')"
      ]
     },
     "execution_count": 9,
     "metadata": {},
     "output_type": "execute_result"
    }
   ],
   "source": [
    "corpus[0], date[0]"
   ]
  },
  {
   "cell_type": "code",
   "execution_count": null,
   "metadata": {
    "id": "adSGWy5n75FJ"
   },
   "outputs": [],
   "source": []
  },
  {
   "cell_type": "markdown",
   "metadata": {
    "id": "2uaRyKBEjB7v"
   },
   "source": [
    "#**Initialize Setup**"
   ]
  },
  {
   "cell_type": "code",
   "execution_count": null,
   "metadata": {
    "colab": {
     "base_uri": "https://localhost:8080/",
     "height": 357
    },
    "id": "Nh6goY50ARzu",
    "outputId": "d57eded0-dc3a-44e6-f02b-4de4ab2e3ee4"
   },
   "outputs": [
    {
     "name": "stdout",
     "output_type": "stream",
     "text": [
      "<class 'pandas.core.frame.DataFrame'>\n",
      "RangeIndex: 1500 entries, 0 to 1499\n",
      "Data columns (total 2 columns):\n",
      " #   Column   Non-Null Count  Dtype         \n",
      "---  ------   --------------  -----         \n",
      " 0   article  1500 non-null   object        \n",
      " 1   date     1500 non-null   datetime64[ns]\n",
      "dtypes: datetime64[ns](1), object(1)\n",
      "memory usage: 23.6+ KB\n"
     ]
    },
    {
     "data": {
      "text/html": [
       "<div>\n",
       "<style scoped>\n",
       "    .dataframe tbody tr th:only-of-type {\n",
       "        vertical-align: middle;\n",
       "    }\n",
       "\n",
       "    .dataframe tbody tr th {\n",
       "        vertical-align: top;\n",
       "    }\n",
       "\n",
       "    .dataframe thead th {\n",
       "        text-align: right;\n",
       "    }\n",
       "</style>\n",
       "<table border=\"1\" class=\"dataframe\">\n",
       "  <thead>\n",
       "    <tr style=\"text-align: right;\">\n",
       "      <th></th>\n",
       "      <th>article</th>\n",
       "      <th>date</th>\n",
       "    </tr>\n",
       "  </thead>\n",
       "  <tbody>\n",
       "    <tr>\n",
       "      <th>0</th>\n",
       "      <td>Avian influenza is an acute viral respiratory ...</td>\n",
       "      <td>2014-05-16</td>\n",
       "    </tr>\n",
       "    <tr>\n",
       "      <th>1</th>\n",
       "      <td>Managing what Cannot be Managed On the Possibi...</td>\n",
       "      <td>2017-01-01</td>\n",
       "    </tr>\n",
       "    <tr>\n",
       "      <th>2</th>\n",
       "      <td>References Aaron HJ, “How Not to Reform Medica...</td>\n",
       "      <td>2014-01-01</td>\n",
       "    </tr>\n",
       "    <tr>\n",
       "      <th>3</th>\n",
       "      <td>Porcine epidemic diarrhea (PED) was first reco...</td>\n",
       "      <td>2014-03-13</td>\n",
       "    </tr>\n",
       "    <tr>\n",
       "      <th>4</th>\n",
       "      <td>APPENDIX B Federal Geospatial Data Sources Ide...</td>\n",
       "      <td>2004-01-01</td>\n",
       "    </tr>\n",
       "  </tbody>\n",
       "</table>\n",
       "</div>"
      ],
      "text/plain": [
       "                                             article       date\n",
       "0  Avian influenza is an acute viral respiratory ... 2014-05-16\n",
       "1  Managing what Cannot be Managed On the Possibi... 2017-01-01\n",
       "2  References Aaron HJ, “How Not to Reform Medica... 2014-01-01\n",
       "3  Porcine epidemic diarrhea (PED) was first reco... 2014-03-13\n",
       "4  APPENDIX B Federal Geospatial Data Sources Ide... 2004-01-01"
      ]
     },
     "execution_count": 10,
     "metadata": {},
     "output_type": "execute_result"
    }
   ],
   "source": [
    "# convert list to pandas dataframe\n",
    "df = pd.DataFrame(list(zip(corpus, date)), columns=['article', 'date' ])\n",
    "df['date'] = pd.to_datetime(df['date'])\n",
    "df.info()\n",
    "df.head()"
   ]
  },
  {
   "cell_type": "code",
   "execution_count": null,
   "metadata": {
    "colab": {
     "base_uri": "https://localhost:8080/"
    },
    "id": "kZ7TOfgnNAih",
    "outputId": "4220769f-9cf7-46b6-a29c-8de0a7b23039"
   },
   "outputs": [
    {
     "data": {
      "text/plain": [
       "[\"Avian influenza is an acute viral respiratory disease that causes severe damage to the poultry industry because it results in high mortality. Recent global outbreaks of avian influenza caused by the avian influenza virus (AIV) poses a serious public health threat because of potential transmission among humans. Influenza viruses belong to the family Orthomyxoviridae and are further divided into subtypes according to the combination of 2 major immunogenic surface glycoprotein components: hemagglutinin (HA) and neuraminidase (NA), which are present on the surface of viral envelopes [1, 2] . At the initial stage of viral infection, HA binds to the host respiratory cell receptor, which contains sialic acid, allowing the virus to enter the host cell through the endosomal pathway [3, 4] . HA is a homotrimeric transmembrane protein with a globular head and a stem region that are both exposed to the outside of the membrane [5] . These regions contain N-linked oligosaccharides [6] , which have been known to affect the functional properties of HA [7, 8] . Glycosylation sites in the peptide sequences are highly conserved, indicating functional significance for HA glycosylation [9] . HA is synthesized as a precursor protein (HA0) that undergoes proteolytic cleavage into HA1 and HA2 subunits; HA1 mediates initial contact with the cell membrane, and HA2 is responsible for membrane fusion [10, 11] . HA is the primary target for antiviral agents such as infectivity-neutralizing antibodies [4] and nucleic acid aptamers [12] . The recombinant HA1 subunit, expressed and purified from bacteria, induces an immune response against the influenza virus in humans [13] and is sufficient for screening antiviral RNA aptamers [14] . The recombinant HA protein, which retains glycosylation, has been expressed and produced in a baculovirus/insect cell system, which exhibited enhanced HA inhibition and virus neutralization [15] . Aptamers are nucleic acid ligands that bind to a specific target molecule with high affinity. They are usually obtained from an oligonucleotide library harboring random sequences by using the SELEX (Systematic Evolution of Ligands by EXponential enrichment) method [16, 17] . Compared with protein antibodies, aptamers have many advantages over protein antibodies, such as high affinity, rapid synthesis, low cost, low-temperature sensitivity, large-scale production, and ease of chemical modification [12] . To date, aptamers have been used in a wide range of applications as research reagents, for medical diagnosis, and as biosensor or therapeutic tools against viruses and cancer. [18, 19] . Previously, our group selected an RNA aptamer against HA1 of subtype H5 AIV, which specifically binds to HA1 and inhibits hemagglutination of erythrocytes in vitro [14] . The HA1-specific RNA aptamer HAS15-5 was screened using the recombinant HA1-GST fusion protein that lacks glycosylation because of its expression in bacteria [14] . However, RNA aptamers specific to glycosylated HA rather than unglycosylated HA would be preferable for blocking and inhibiting influenza virus entry into host cells. In the present study, glycosylated hemagglutinin (gHA1) subtype H5 AIV was expressed from a recombinant baculovirus. gHA1 was expressed in a suspension culture of insect cells by infection with the recombinant baculovirus for glycosylation modifications. We isolated RNA aptamers that specifically bind to the gHA1 protein and demonstrated that the selected RNA aptamer, HA12-16, efficiently inhibited viral infection in host cells and enhanced cell viability. For suspension culture of insect cells, Sf21 (Invitrogen, Carlsbad, CA) and TriEx Sf9 (Novagen, Darmstadt, Germany) cells were grown in 100 ml of Sf-900 serum-free media (Gibco BRL, Carlsbad, CA) and SFX-Insect cell culture media (Hyclone, Logan, UT), respectively, in 500-ml baffled glass flasks and were incubated at 27uC in a rotary shaker at 90 rpm. For maintaining the insect cells in monolayer cultures, cells were subcultured every 3 days by diluting seed cultures from 5.0610 5 cells/ml to a cell density of 2.5610 4 cells/ml with fresh media. The cells were then grown in monolayer cultures at 27uC. The full-length gene encoding the receptor-binding domain of hemagglutinin (HA1) from influenza virus strain A/wild-duck/ Korea/ES/2004 (H5N2) was obtained, as previously described [14] . The HA1 gene was amplified by PCR and digested with XhoI and HindIII and then subcloned into the pBAC6 baculovirus transfer vector (Novagen, Darmstadt, Germany), which contained 6 His-tag at the N-terminal and signal peptides for protein secretion in insect cells. Recombinant pBAC6 plasmids and linearized baculovirus DNA were co-transfected into Sf21 insect cells, as described in the BD BaculoGold baculovirus expression system protocols (BD Biosciences, Franklin Lakes, NJ). Briefly, recombinant pBAC6/HA plasmids (2 mg) and linearized baculovirus DNA (0.5 mg) were mixed in Cellfectin reagent (Invitrogen, Carlsbad, CA) for 5 min and then added to 1 ml of Sf-900 serum-free media. After 15 min of incubation at room temperature, the DNA mixture was added to the Sf21 cells (2.0610 6 cells/ ml) in the T25 flask and incubated at 28uC for 4 h while rocking back and forth. Following the rocking incubation, the DNA mixture was removed, and 4 ml of fresh Sf-900 serum-free media was added to insect cells. The insect cells were then incubated at 28uC for 4 days, and the supernatant, which was enriched with recombinant baculovirus (pBAC6/HA), was collected by centrifugation at 1000 6 g for 5 min. The gHA1 protein was expressed in a suspension culture of TriEx-Sf9 cells infected with the recombinant pBAC6/HA baculovirus. TriEx-Sf9 cells that were grown in suspension culture (2.5610 5 cells/ml) were infected with the recombinant pBAC6/ HA baculovirus with a multiplicity of infection (MOI) of 3.0 and incubated at 28uC for 3 days. Post-infection with the baculovirus, the culture supernatant containing the secreted protein was harvested by centrifugation at 1000 6 g for 5 min. All viral supernatants were ultra-filtered with the equilibrium buffer (50 mM Tris-HCl, pH 8.0, 100 mM NaCl) through polyethersulfone (PES) membranes of MWCO 5 kDa at a flow rate 120 ml/ min using the tangential flow filtration system (PALL, Port Washington, NY) for concentration and diafiltration. The concentrated sample was loaded onto a 5-ml Ni-NTA His Trap affinity column (GE Healthcare, Buckinghamshire, UK), which was pre-equilibrated with the equilibrium buffer. The column was washed twice, and the recombinant gHA1 was eluted with a gradient from 0.1 to 1 M imidazole in the equilibration buffer. The eluted fractions were collected and concentrated with a Centricon Plus-20 (Millipore, Billerica, MA) and were analyzed by 12% SDS-PAGE for the presence of His-tagged gHA1 protein. The gHA1-containing fractions identified by the band corresponding to 50 kDa were then loaded onto a HiLoad Superdex 200 (GE Healthcare, Buckinghamshire, UK), and eluted at a flow rate 1.5 ml/min. Pure protein fractions were dialyzed against buffer (20 mM Tris-HCl, pH 8.0, 1.0 mM EDTA, 5 mM DTT, 20% glycerol, 0.5% (v/v) Triton X-100, and 150 mM NaCl). Purified gHA1 was quantified using a Bradford protein assay kit (Bio-Rad) using bovine serum albumin (BSA) as the reference standard. The identity of the purified protein was determined by immunoblotting with mouse AIV H5N1 HA polyclonal antibodies (ProSci, Poway, CA) and anti-mouse IgG-horseradish peroxidase conjugate as secondary antibodies (Santa Cruz Biotechnology, Dallas, TX). The glycosylation status of the recombinant gHA1 protein was determined with Peptide-N-Glycosidase F (PNGase F) that cleaves the complex oligosaccharides at N-linked glycosylations. Briefly, purified gHA1 (3 mg) was denatured in buffer (0.5% SDS and 4 mM DTT), heated at 100uC for 10 min, and subsequently incubated with PNGase F (New England Biolabs, Beverly, MA) according to the manufacturer's protocol. The reaction products were resolved by 12% SDS-PAGE, and the presence of HA1 was subsequently determined by immunoblotting, as described above. To conduct the SELEX procedure, an RNA pool of random sequences (RNA library) was produced by PCR and by in vitro transcription of the DNA template containing 40 random nucleotides, as previously described [20] . The His-tagged HA1 glycoprotein (50 mg) was immobilized on Ni-NTA spin trap columns (GE Healthcare, Buckinghamshire, UK). The random RNA library (6 mg) was denatured at 85uC for 5 min and then incubated at room temperature in binding buffer (20 mM sodium phosphate, pH 7.5, 500 mM NaCl, and 20 mM imidazole). At every iteration of SELEX, negative selection was performed to remove RNAs bound to Ni-NTA resins in columns by passing the RNA pool through separate Ni-NTA spin trap columns. After three iterative rounds of negative selection, the unbound RNAs were collected and reloaded onto new Ni-NTA spin trap columns that were charged with His-tagged gHA1. Next, the column was washed 3 times with binding buffer, and the bound RNA was eluted with elution buffer (20 mM sodium phosphate, pH 7.5, 500 mM NaCl, and 300 mM imidazole). The RNAs were purified by phenol-chloroform extraction and subsequent ethanol precipitation. The purified RNA was subjected to RT-PCR and in vitro transcription to generate the RNA library for the next round of SELEX. The amount of His-tagged HA1 glycoprotein used for SELEX was gradually reduced from 50 to 5 mg to enhance stringency of the selection procedure. After the 12th round of SELEX, the amplified cDNA was cloned into a pGEM T-Easy vector (Promega, Madison, WI) and then transformed into E. coli by heat shock at 42uC. The plasmid DNA from each clone was prepared and sequenced, and each RNA aptamer was generated by in vitro transcription using the linearized recombinant plasmid that harbored the RNA aptamer sequence. Secondary structures of selected RNA aptamer sequences were predicted by the M-Fold web server, which is based on Zuker's algorithm [21] . To compare the binding affinity of the RNA library at each round, semi-quantitative RT-PCR was carried out as previously described [14] . Briefly, 1.5 mg of gHA1 protein was loaded and immobilized onto the Ni-NTA spin trap column, and 4 mg of RNA pool from each round of SELEX was loaded onto the column. The column containing the RNA-protein complex was then washed 3 times with 200 ml of the binding buffer used in SELEX, and unbound RNAs were collected as flow-through. The RNAs that bound to the gHA1 protein were then eluted from the column by 3 consecutive washes with 200 ml of the elution buffer used in SELEX. Protein-bound RNAs were then extracted by phenol-chloroform and ethanol precipitation, and the extracted RNAs from each elution were subjected to RT-PCR using aptamer-specific primers. The conditions for PCR were as follows: 11 cycles of 94uC for 30 s, 55uC for 30 s, and 72uC for 30 s. PCR products were electrophoresed on 1.5% agarose gel to measure the amount of DNA that was amplified from each eluant, and the amplified DNA bands on the gel were quantified using the Gel-Pro analyzer software (Media Cybernetics, Bethesda, MD). Alternatively, to compare each RNA aptamer candidate that originated from the final round of SELEX, a nitrocellulose filter binding assay [22] was performed to measure the binding affinities of RNA aptamers with the gHA1 protein. Each RNA aptamer generated by in vitro transcription was dephosphorylated and the 59-end-labeled with [c-32 P] ATP by T4 polynucleotide kinase (New England Biolabs). The 59-32 P end-labeled RNA aptamer (5 nM) was incubated with the gHA1 protein (500 nM) in binding buffer (30 mM Tris-HCl, pH 7.5, 150 mM NaCl, and 1.3 mM MgCl 2 ) at room temperature for 30 min. The reaction mixture was filtered under vacuum onto double filters composed of a positively charged Hybond N+ membrane (GE Healthcare, Buckinghamshire, UK) beneath the nitrocellulose membranes (GE Healthcare) using a 96-well dot-blot apparatus (Bio-Rad). The membrane was then washed twice with washing buffer (20 mM Tris-HCl, pH 7.5, and 50 mM NaCl) and dried at room temperature. Filters were then assayed for radioactivity remaining in proteinbound RNAs and free RNAs retained on the nitrocellulose membrane and the hybond N+ membrane, respectively. Radioactivity was measured and quantified on a Cyclone Phosphor-Imager (Packard Instrument Co., Meriden, CT), and the fraction of protein-bound RNAs was determined using the amount of RNA remaining on the nitrocellulose membrane relative to the total amount of RNA present in both membranes. Enzyme-linked immunosorbent assay (ELISA) Preparation of 39-biotinylated RNAs occurred by ligation of biotinylated cytidine to the 39-end of RNA using the 39-end biotinylation kit (Pierce, Rockford, IL). Briefly, the non-labeled RNAs (50 pmol) were heated at 85uC for 5 min, immediately put on ice, and added to the reaction mixture (40 U RNase inhibitor, 1 nM biotinylated cytidine (bis) phosphate, T4 RNA ligase, and 30% polyethylene glycol) in RNA ligase reaction buffer (50 mM Tris-HCl, pH 7.8, 10 mM MgCl 2 , 10 mM DTT, and 1 mM ATP). After the reaction mixture was incubated at 16uC overnight to increase ligation efficiency, 39-biotinylated RNAs were then extracted by phenol-chloroform and ethanol precipitation. For enzyme-linked immunosorbent assay (ELISA), the wells of a nickel-coated plate (Pierce, Rockford, IL) were incubated overnight with the purified gHA1 (0.5 mg) at 4uC. The wells were washed with phosphate-buffered saline with Tween (PBS-T; 0.1% Tween 20 in PBS, pH 7.4) 3 times and blocked with 1% bovine serum albumin (BSA) in PBS at room temperature for 1 h to avoid non-specific binding. After washing, 30 ng of 39-biotinylated RNAs was added to wells (100 ml in PBS per well) and incubated at room temperature for 2 h. The wells were then washed with PBS-T three times, and the protein-bound biotinylated RNAs were detected by incubation with 100 ml of streptavidin-conjugated horseradish peroxidase (diluted 1:8000 in PBS-T, Pierce) at room temperature for 1 h. After washing, the color development was initiated by adding 100 ml of 3,39,5,59-tetrametylbenzidine (TMB) substrate solution (Pierce, Rockford, IL) to each well, and stopped by adding 2 M H 2 SO 4 . The absorbance of each well was measured at 450 nm using a VICTOR X3 Multilabel Plate Reader (PerkinElmer, Waltham, MA). Madin-Darby Canine Kidney (MDCK) cells (KCLB, Seoul, Korea) were grown in Dulbecco's modified Eagle's medium (DMEM, Hyclone, Logan, UT) supplemented with heat-inactivated 10% fetal bovine serum and 1% penicillin-streptomycin (Hyclone, Logan, UT). Influenza virus strain A/Victoria/210/ 2009 (Reassortant NYMC X-187) H3N2 grown in the allantoic cavity of 11-day-old embryonated hen eggs was used for infection into MDCK cells. The titer of virus used for infection was evaluated by the infection of MDCK cells with expression, because the tissue culture infective doses lead to 50% infected cells (TCID 50 ) [23] . MDCK cells were seeded on 96-well plates (5610 3 /well) 24 h before the experiment. After 24 h of incubation, the cells were maintained as-is or infected with the influenza virus H3N2 at an MOI of 0.1 TCID 50 in the presence or absence of the selected RNA aptamer (50 nM). The cells were further incubated in serum-free DMEM at 37uC for 24 h. The cell media were removed after incubation, and cell viability was assayed by adding 5 mg/ml MTT (Sigma) dissolved in PBS to each well and incubation at 37uC for 4 h. The supernatants were aspirated, and the formazan dyes were dissolved in 100 ml/well dimethylsulfoxide (DMSO, Sigma). The absorbance was measured at 570 nm using a VICTOR X3 Multilabel Plate Reader (PerkinElmer, Waltham, MA). MDCK cells were placed in 5610 4 /wells on 8-well chamber glass slides (Nunc, Penfield, NY) prior to the experiment. The cells were washed twice in PBS and then added to a mixture containing the virus and the designated aptamer sample. The MDCK cells were maintained as-is or infected with the influenza virus H3N2 at an MOI of 0.1 TCID 50 with or without 30 min of pre-incubation with the HA12-16 RNA aptamer (100 nM). MDCK cells were also treated with the RNA aptamer without viral infection as a control. After 24 h of incubation, the cells were fixed with 3% paraformaldehyde followed by permeabilization with 0.5% Triton X-100. The influenza virus antigen HA was detected by incubating the cultures with a mouse anti-H3 (H3N2) antibody (diluted to 1:100 in PBS, Abcam, Cambridge, UK). The antibody was incubated at room temperature for 1 h, followed by 3 washes in PBS for at least 5 min per wash. Primary antibodies were detected with FITCconjugated goat polyclonal anti-mouse immunoglobulin secondary antibodies (Abcam). Nuclei were visualized using DAPI (Sigma) staining. Immunofluorescence images of the cells were obtained using an AxioCam MRc5 digital camera equipped with an Axio Imager A1 microscope (Carl Zeiss, Oberkochen, Germany). The HA1 subunit of hemagglutinin in AIV has been previously expressed in and purified from E. coli [14] , which produces unglycosylated protein. Because HA is an N-glycosylated glycoprotein with a globular head and stem regions [24] , proper posttranslational glycosylation and protein folding might be required for its function [9] . Hence, we expressed recombinant HA1 in insect cells to obtain the glycosylated HA of AIV by using the baculovirus expression system [15] . The baculovirus expression system can produce post-translationally modified and biologically active recombinant proteins from insect cells. A pBAC6 baculovirus plasmid carrying the full-length HA1 gene was cloned and transfected into Sf21 insect cells. The morphology of the infected insect cells became larger and irregular (data not shown). Four days post-infection, the secreted recombinant HA1 was collected and purified. The His-tagged gHA1 recombinant protein was purified through the combined use of Ni-NTA His Trap affinity chromatography and gel filtration. The purified protein was separated by SDS-PAGE and identified by immunoblotting analysis. As shown in Fig. 1A , the gHA1 protein fused to His-tag revealed a single band with a molecular weight of 50 kDa in SDS-PAGE. Although the molecular weight of gHA1 is estimated to be about 46 kDa, including 10 kDa of signal sequence plus the His-tag, a slightly higher molecular weight of 50 kDa appeared in SDS-PAGE, probably due to glycosylation. To confirm whether the purified recombinant HA1 was Nglycosylated during post-translational processing, the purified protein was treated with PNGase F that cleaves glycans from the protein. As shown in Fig. 1B , PNGase F-treated samples had bands that migrated further owing to a loss of glycans, within which the predicted size of unglycosylated HA1 was about 46 kDa. Thus, the purified recombinant HA protein was Nglycosylated and was used for the subsequent RNA aptamer selection procedure (SELEX). To obtain antiviral RNA aptamers specific to gHA1 of AIV using SELEX, an RNA library containing 40 random nucleotides (,10 24 nucleic acid sequences) was initially prepared by PCR and subsequent in vitro transcription of the DNA template ( Fig. 2A) . Twelve iterative rounds of the selection process were performed by increasing the stringencies of RNA binding to the gHA1 protein as the rounds progressed. Starting from the 5th round, more strict conditions were employed by reducing the protein concentration in each subsequent round: 25 mg (rounds 5-6), 12.5 mg (rounds 7-8), 6.25 mg (rounds 9-10), and 5 mg (rounds [11] [12] . After the 12th round of selection and amplification, the amplified cDNA of the final round was subcloned, and 26 individual aptamer clones were sequenced. Based on the degenerated sequences of these clones, sequences of 26 clones were classified into 4 groups (Fig. 2B) . The population frequency of the selected RNA aptamers was 42.3.26.9.19.2.11.5% in decreasing percentage ranks (Fig. 2B) . Each RNA aptamer group has a conserved sequence that might be considered a binding site Figure 4 . Binding of the RNA SELEX pools to gHA1. The gHA1 protein charged in Ni-NTA spin trap columns was eluted with buffer solution containing the initial RNA pool, the 5th, 9th, and 12th round RNA pools, or no RNA (negative control, NC). Elution with imidazole buffer was collected and subjected to RT-RCR. Amplified cDNAs indicating the gHA1-bound RNAs were stained with ethidium bromide on 1.5% agarose gel after electrophoresis and were quantified. Relative amounts of the gHA1-bound RNAs are shown in the graph. doi:10.1371/journal.pone.0097574.g004 Figure 5 . Affinity measurements of selected RNA aptamers to gHA1. (A) Each 32 P end-labeled RNA aptamer was incubated with gHA1, and the reaction sample was then filtered through a pre-wetted nitrocellulose membrane and applied to the double-filter dot-blot apparatus. The amounts of 32 P end-labeled RNA aptamers retained on the membrane in the presence of gHA1 were radioactively measured and quantified. Percentage binding to the gHA1 protein relative to the highest value is shown in the graph. (B) The immobilized gHA1 protein (0.5 mg) was incubated with each 39-biotinylated RNA sample (30 ng) as indicated. After addition of streptavidin-conjugated HRP, the amount of the gHA1-aptamer complex was measured by absorbance reading at 450 nm. doi:10.1371/journal.pone.0097574.g005 specific to the gHA1 protein. The 4 RNA aptamer sequences identified in the 12th selection pool were predicted for the secondary structures of RNA using the M-Fold program, which is based on Zuker's algorithm [21] . RNA aptamers appear to contain a number of stem and loop structures, in which conserved sequences mostly reside at the stemand-loop region in the RNA secondary structure (Fig. 3) . These conserved sequences in each RNA aptamer are believed to be exposed to facilitate interactions with the HA1 protein [14, 20, 25] . The conserved sequences could constitute a binding motif specific to gHA1, whereas the stem structures of other sequences could merely stabilize the secondary structure of RNA. After 12 rounds of iterative SELEX cycles, the gHA1 protein binding affinity of the 12th RNA pool was compared with that of the initial RNA pool and the 5th and the 9th RNA pools were compared through the semi-quantitative RT-PCR amplification of RNAs bound to the target protein (Fig. 4) . For this experiment, the same amount of RNAs from each round was loaded onto an affinity column charged with the gHA1 protein. The affinityeluted fractions (gHA1-bound RNAs) were collected and subjected to RT-PCR. PCR cycles were limited to 11 cycles to avoid saturation of cDNA amplification [14] . cDNAs were visualized and quantified by ethidium bromide staining on an agarose gel, which reflected the amount of RNA bound to gHA1. Based on quantitation of amplified cDNA, the 12th round RNA pool was more tightly bound to gHA1 than any other round of RNA pool or the negative control containing irrelevant RNA sequences (Fig. 4) . To evaluate the binding affinity of the selected aptamer candidates against gHA1, we performed the double-filter assay for nitrocellulose-filter binding to analyze protein-RNA interactions [22, 26] . The dephosphoylated RNA aptamers were endlabeled with [c-32 P] ATP using T4 polynucleotide kinase. Each 32 P-end labeled RNA aptamer (5 nM) was incubated with gHA1 (500 nM) for 30 min at room temperature, and the reaction mixture was filtered through double filters containing nitrocellulose membrane (0.45 mm). After exposure of the nitrocellulose membrane for visualization of radioactive RNA aptamers bound to the protein, radioactivity was quantified and normalized as shown in Fig. 5A . RNA aptamer HAS15-5, which was previously selected against the unglycosylated HA1 protein [14] , did not significantly bind to the glycosylated HA1 protein. In contrast, among the selected RNA aptamer candidates against gHA1, the HA12-16 aptamer displayed the highest affinity. As an alternative attempt to measure binding affinity of the HA12-16 aptamer to the target protein, gHA1, we carried out a sandwich ELISA assay by adding 39-biotinylated aptamer RNAs to immobilized target proteins. As shown in Fig. 5B , HA12-16 aptamer RNA exhibited a higher absorbance value compared with other RNAs, such as the initial RNA library and the HAS15-5 aptamer. These results indicate that the selected RNA aptamer (HA12-16) against gHA1 is different from the HAS15-5 RNA aptamer that has been previously selected against the unglycosylated HA1. The virus surface glycoprotein HA plays a key role in mediating membrane fusion between the virus and host cellular membranes [4, 12] . We hypothesized that the RNA aptamer specific to gHA1 suppresses viral infection in the host cell by binding, thereby promoting viability in host cells exposed to the influenza virus. To test this hypothesis, we investigated the antiviral effect of the RNA aptamer candidates targeting the gHA1 viral surface protein by performing a host cell viability assay. MDCK cells were infected with the influenza virus H3N2 at an MOI of 0.1 and treated with the selected RNA aptamer candidates. After 24 h of incubation to The cells were fixed with 3% paraformaldehyde followed by permeabilization with 0.5% Triton X-100. The cells were then immunostained to test for the presence of the influenza virus by using mouse anti-HA antibodies and goat anti-mouse polyclonal antibodies conjugated to FITC as secondary antibodies. Nuclei were visualized by staining with DAPI; HA and nuclei are shown in green and blue fluorescence, respectively. doi:10.1371/journal.pone.0097574.g006 facilitate viral infection into host cells, cell viability was measured using the MTT reagent. As shown in Fig. 6A , over 50% of the host cells survived in the presence of the RNA aptamers specific to gHA1 except for 1 RNA aptamer candidate (HA12-5). Additionally, the initial RNA pool and RNA aptamer specific to unglycosylated HA1 (HAS15-5) did not inhibit viral infection in host cells compared with the other RNA aptamer candidates. Among the aptamer candidates, the HA12-16 aptamer exhibited the highest antiviral activity by revealing comparable cell viability in the uninfected cells. Of importance, the extent of cell viability is positively correlated with the binding affinity of the RNA aptamer to gHA1, as revealed by the binding assay (Fig. 5A) . These results indicate that the most effective aptamer, HA12-16, prevents influenza infection by strongly binding to the gHA1 viral surface protein, thereby decreasing mortality of host cells. To further validate the antiviral activity of the HA12-16 aptamer in blocking viral binding and entry into host cells, we performed fluorescence microscopy analysis of the cells undergoing viral infection. For the assay, MDCK cells were incubated with the influenza virus in the presence or absence of the HA12-16 aptamer at 37uC for 24 h. The presence of the influenza virus was fluorescently analyzed by FITC-conjugated secondary antibodies bound to anti-HA primary antibodies. MDCK cells infected with the viruses were noticeably fluorescent because of the viruses attached to the cell membrane, whereas addition of the HA12-16 aptamer significantly reduced the FITC-fluorescence owing to the suppression of viral attachment to the cell membrane through aptamer-gHA1 binding (Fig. 6B) . When the cells were only treated with the HA12-16 aptamer, FITC fluorescence on the cells appeared to be similar to the one treated with the viruses plus the aptamer. This result suggests that the HA12-16 RNA aptamer suppresses viral attachment to the host cells by neutralizing the receptor-binding site of influenza virus HA, which results in the inhibition of viral replication. In this study, we isolated an RNA aptamer specific to the glycosylated receptor-binding domain of an AIV HA protein (gHA1) using SELEX. The HA1 gene was cloned from subtype H5 of AIV and expressed in insect cells, and the glycosylated recombinant HA1 protein was purified for screening of RNA aptamers. Glycosylation of the purified HA1 protein was confirmed by cleaving glycans with PNGase F. After the 12 rounds of iterative SELEX, the RNA pool that binds to the gHA1 protein was cloned and sequenced, and RNA secondary structures were predicted. Among the 4 representative RNA aptamer candidates, HA12-16 was chosen because of its high binding affinity to gHA1 and suppression of viral infection in host cells. These results suggest that the RNA aptamer can recognize the viral HA, likely at or around the receptor binding region required for the penetration of influenza virus into host cells [27] . Interestingly, the previously selected RNA aptamer against the unglycosylated HA (HAS15-5) failed to inhibit viral infection in host cells. Thus, the HA12-16 aptamer isolated in this study is expected to interrupt influenza invasion through specific binding to the glycosylated ectodomain of HA, which is crucial for viral attachment to the host cell membrane. In future research, the selected RNA aptamers should be modified to improve stability by base modification of nucleotides, capping of RNA fragments, and end-labeling with appropriate chemicals resistant to RNase. If a stable RNA aptamer is combined with an appropriate RNA delivery method, which is necessary for therapeutic use [28] , it can be used as an antiviral reagent that is comparable to antibodies and could be used as a therapeutic agent.\",\n",
       " 'Managing what Cannot be Managed On the Possibility of Science Policy Barend van der Meulen Waldsterben. We are familiar with that term mainly from the 1980s, when acid rain led to the death of large tracts of Europe’s coniferous forests. But the phenomenon is in fact much older and occurred for the f irst time in Central and Eastern Europe in the nineteenth century. In the eighteenth century, Frederick the Great of Prussia had developed the concept of the modern state – a state involving itself in all facets of society. This also led to the idea of ‘f iscal forestry’, i.e. forestry intended to f ill the coffers of the state. Pursued systematically, this approach showed that some trees and some areas of forest produced higher yields than others. Birch and spruce, in particular, turned out to quickly yield a lot of timber, leading to the planting of large areas of production forest in Prussia. That was a success, and the approach spread to other parts of Europe. But what the ancient forests had never been able to teach the foresters became apparent in the nineteenth century. The emphasis on rapid production and the resulting monoculture led to the soil becoming exhausted and to Waldsterben, i.e. ‘forest dieback’ – the simultaneous death of large tracts of forest within only a short time. In his book Seeing like a State (1998), James Scott uses the example of f iscal forestry to show that when governments attempt to manage matters, they are doomed to simplif ication. (Scott, 1998) At f irst, such simplif ication appears to offer solely advantages, but in the long run things go wrong. Scott’s book – which is subtitled ‘How Certain Schemes to Improve the Human Condition Have Failed’ – otherwise mainly concerns large-scale modernist projects that we tend to see as being pursued by overambitious technocrats and governments blinded by ideology: Le Corbusier’s ville contemporaine, the Soviet collectivisation of agriculture, and the enforced creation of villages in African countries. That is a pity. The issue of how government can manage activities about which it actually knows too lit- tle is not only important for overambitious technocratic dictatorships. In the Dutch situation too, with a government that is by virtually all criteria normal, it is also relevant, certainly as regards science policy. After all, what does the government know about science? I know that after reading the above introduction there will be research- ers in the Netherlands who will instantly recognize my Prussian forestry 88 BAReND vAN DeR MeuleN example as a metaphor for the country’s current system of science and scholarship. This system sees itself compelled by the ‘key economic sec- tors’ policy to focus on short-term economic yields (Valorisation! ‘From knowledge to skills to cash !’) and is slipping into a monoculture because of a lack of appreciation for the humanities and other supposedly economically useless knowledge. I myself don’t think things are really all that bad. Despite politicians and science administrators for thirty years now calling for more profiling, choices, ‘peaks in the delta’, focus areas and all the rest of it, the Netherlands, like other rich Western countries, has a broad portfolio of scientif ic and scholarly disciplines (Horlings and Van de Besselaar, 2012). The Ministry of Education, Culture and Science is the largest funder of research, and in its relationships with the Netherlands Organisation for Scientif ic Research (NWO), the Royal Netherlands Academy of Arts and Sciences (KNAW), and the universities it still adheres to the principle of ‘managing at a distance’. There is no question of any ‘science dieback’ in the Netherlands (KNAW, 2015). The recurring question for the government, however, is how knowledge for specif ic purposes can be encouraged within the broad palette of Dutch science and scholarship. The ‘key economic sectors’ are the most recent example of this. At the end of the last century, the aim was to encourage emerging f ields such as biotechnology, materials science, microelectronics, nanotechnology, and catalysis. In the 1970s, when the Netherlands briefly had a separate Minister for Science Policy, there was a research policy for such areas as toxicology, soil science, and demography. And ten years before that, scientists had raised the question of how to choose between different investments if an end were to come to the almost exponential increase in the budget for science in the 1950s (Weinberg, 1962,). It was at about that time that some Dutch professors began to push for an explicit science policy, and the former Advisory Council for Science Policy (RAWB) was set up. The initial recommendations by the new council concerned, inter alia, participation in CERN, investment in space research, and the possibility of involving persons other than scientists when making choices in the scientif ic f ield (National Archive, 2008,). So there would seem to be nothing new under the sun. But over the years there has been a growing understanding of the relationship between government and science – including the essential tension that there is – and there has been successful science policy. And what seemed successful or promising has come to a stop again. Based on game theory insights into the relationship between government and science and past experience, I shall attempt to analyse what possibilities exist for managing research. MANAGiNG WHAT cANNoT Be MANAGeD 89 Why have a science policy? Can government in fact manage scientif ic research? A legitimate counter- question is whether government should wish to do so. There are good rea- sons for leaving scientif ic research in the Netherlands to the free dynamics of science and the choices made by researchers, certainly if the value of knowledge is in itself a suff icient reason to fund research. But governments do not invest in science only in order to know – they also want to win. And knowledge is a powerful weapon. The US federal budget for research has its origins, inter alia, in the American Civil War, the Second World War, and the signif icantly named ‘War on Cancer’. The European research budget received a powerful boost in the 1990s when Japanese companies, with the support of their government, were winning the technological race in microelectronics. European companies such as Philips and Siemens sought and found support for additional investment at European level. And in our own country the ever-present threat of water is still always a good reason to have a world-renowned technological institute in this f ield, as well as research programmes, and several clusters of questions on the quality, management, and use of water in the Dutch National Research Agenda. In 1963, the then Minister of Education, Arts and Sciences, Theo Bot, defended the concept of science policy as follows: Science has come to occupy a central place in modern Western society, and there is virtually no sector of contemporary society in which it does not exert its influence to a greater or lesser extent. [...] At the same time, scientif ic research demands ever greater f inancial and human resources. Both these developments have led to science no longer being a matter for scientists in general, but a matter of general interest. [...] We cannot do without a deliberate policy. (Handelingen, 1963-64, pp. 729-731) The Minister went on to note that science policy must also recognize the value of ‘free research that is not aimed at increasing the standard of living’, must create the right conditions for such research, and must ensure that it does not focus too narrowly on the natural and technological sciences. Those are arguments that resonate into the present century. The Minister also added immediately that it [is] still too early to predict the solutions to which the reassessment of the Dutch organisation for science policy, which has now commenced, will ultimately lead. Every country, including the Netherlands, will need 90 BAReND vAN DeR MeuleN to develop its own institutional and procedural solutions [...] It is not possible to indicate general rules for this [...]. And that brings us back to the core of the problem. Government wishes to pursue policy, and have good reasons for it, but how it should do so is often unclear. Knowledge for sale The question regarding ‘managing science’ can probably best be answered if we start from the simple idea that government must make choices and then ensure that we become the best in the fields it has chosen. And for those who do not wish to leave matters entirely to the government, ‘the Netherlands Ltd’ should make the choices and we should become the best in those f ields. There is a lot that can be said against such an approach. But the idea of making choices as the core of science policy is a constant theme of advisory reports, policy papers, and discussion contributions about science policy. That makes it at least a useful starting point for an essay on the issue of managing science. To put it in a rather less commercial manner: science is important for the welfare of society and the economy (as was forestry in Prussia). It is therefore an object of state concern, and the state must ensure that Dutch scientists carry out – or are able to carry out – the research that the country needs, and above all the research that the country really needs. This creates a relationship between government and scientists that goes beyond the former patronage relationships in which powerful administrators or rich patrons gave artists and scientists the scope to engage in the arts and science. A factor that should make it easier for government to make choices is that there is a f inancial relationship between government and researcher. This offers the possibility of a contract between the two parties. However, that contract concerns ‘knowledge’ and is therefore different to a contract by which government buys a new logo, commissions a new tunnel, or purchases off ice chairs. Although on the fringes of research policy, parts of applied research become the subject of calls for tenders which seem hardly to differ from the procurement procedures for a logo, tunnel, or off ice chair, it is generally the case that government knows too little to be able to specify what knowledge it needs. That immediately leads to the f irst experience- based conclusion: to buy knowledge, you need more than just money. Buying knowledge requires knowledge of knowledge. In 1972, the British government introduced the ‘customer-contractor’ principle for funding MANAGiNG WHAT cANNoT Be MANAGeD 91 policy-supporting research. The role of the government as a ‘customer’ for research needed to be more clearly separated from that of the researcher as a ‘contractor’ for research projects. In their book Governance and Research (1983), Maurice Kogan and Mary Henkel tracked several years of efforts by the Department of Health to implement this principle. The problem was always that in order to determine what its demand for knowledge was, the ministry needed advice from experts – in fact researchers who would ultimately also be the ones to carry out the assignments involved. The book is still instructive with a view to understanding why it is diff icult for ministries, including those in the Netherlands, to implement an effective knowledge policy and to manage research. Science policy as a game The ‘contractual relationship’ between government and researchers can be envisioned as a game. The outcome of a game is always dependent on the combination of the players’ strategies. In other words, it is not just what the government does that is relevant as regards whether it can manage science, but also how the researchers (or their organisations) respond to government policy. And vice versa. Whether the possibilities and needs to manage science also depend on the research strategies of the scientists. Do they allow the government to manage them? The general consensus among researchers is that they do not. In their view, government policy – at most – explains the problems, but not the capacity to thrive and be successful (Koier et al., 2016). The history of science policy shows, however, that not much new policy is established without the involvement of researchers and scientif ic organisations. Conditions can therefore be created in which scientists apparently still see the benefits of such policy. The science policy game displays features of a ‘principal-agent relation- ship’, i.e. a relationship between a client (the ‘principal’) and a contractor (the ‘agent’) in which the client does not have the knowledge needed in order to know whether it is getting value for money from the contractor. The client can try to control the contractor, but doing so is very expensive. It is much cheaper to trust the contractor. Because the client has insuff icient knowledge of the matter, the contractor may also pursue its own objectives rather than committing itself entirely to achieving those of the client. This is a relationship that frequently applies between a client and a professional. Someone who engages a lawyer trusts that the lawyer will devote his or her efforts to representing the client’s case, will actually spend 92 BAReND vAN DeR MeuleN the hours he or she bills on dealing with the case, and will not waste time on a case if it is hopeless. But the lawyer may have his or her own objectives. She or he may in fact consider the case to be hopeless but – needing the fees to keep his or her f irm going – will continue to pursue the case even if doing so is contrary to the client’s actual interests. Both players in a principal-agent relationship have two options. The principal can trust or control the agent. The agent may comply with the principal’s expectations or pursue its own objectives. If the game is played endlessly, each of the four combinations of strategies is unstable. In each combination, one of the two players can increase its payoffs by switching strategy. If the government trusts, it is advantageous for the researcher to pursue his or her own curiosity. If the researcher pursues his or her own curiosity, it is more advantageous for the government to build in control mechanisms. If the government controls strictly, the researcher better comply with the requirements. If the researcher complies with the requirements, it is more advantageous for the government to trust... (Van der Meulen, 1998). In terms of game theory: a Nash equilibrium is lacking. Where social relationships are unstable but considered necessary, institu- tions arise that make possible a long-term relationship (North, 1990). One of these is the idea expressed by Vannevar Bush in his much-quoted report Science, The Endless Frontier (1945). Bush wrote the report during the Second World War, which in America led to a number of major mission-oriented research projects intended to contribute to victory in the short term. The most familiar example is the Manhattan Project, which produced the atom bomb. The reason for Bush’s report was President Roosevelt’s question as to whether – once the military struggle had ceased – the R&D expenditure involved should be continued in peacetime, and if so, how. The core mes- sage of the report was that government must continue research efforts in peacetime too, but based on the trust that basic research can push back the boundaries of knowledge and will be useful in the long run. That trust could not be blind, however: to distribute funds a National Science Foundation had to be set up, headed by scientists who would ensure that the money found its way to the best researchers. That was not an obvious matter. It took a long time before Congress ap- proved the idea that not government itself would decide on the distribution of the money but rather those who received it. But for a government that actually dares to trust that scientific research will generate yields in the long term, this is a favourable configuration of players and strategies. Thanks to competition and mutual quality control between researchers, the govern- ment can be confident that the money will f ind its way to the right place MANAGiNG WHAT cANNoT Be MANAGeD 93 and will pay off in the long run. For researchers, this configuration provides the scope to pursue their own goals and is therefore interesting. As long as the cost of the ‘control’ – i.e. writing and evaluating proposals – remains within bounds and enough researchers are allocated funds, there is a Nash equilibrium. In the Netherlands, this combination of players and strategies has evolved into what we now know as the NWO’s Open Competition, and at European level into the European Research Council (ERC). However, the pressure on the contract has become extremely high. Even researchers who are clearly benefiting, or have benefited, wonder whether ‘the system’ has not gone too far and whether the perverse effects are not overwhelming the benefits (Science in Transition, 2013; Bollen and Scheffer, 2015). Development of the ‘f irst f low of funds’ in the Netherlands (i.e. direct government funding) shows a similar dynamic of institutionalization of confidence in evaluation practices. For a long time, f inancing of university research was based on blind trust. Funds were provided but there was no monitoring of whether they were utilized effectively. In 1979, the Minister pointed out in the Policy Memorandum on University Research [Beleidsnota Universitair Onderzoek] that it was unclear whether research funds were being spent efficiently: there was no division of tasks, the choice of themes for research was not sufficiently determined by social needs, and it was unclear whether performance was sufficient. What followed was a decade of division of tasks, concentration, selective contraction and growth, advisory commit- tees and conditional funding, and a great deal of frustration in the relationship between government and university researchers. But it did also lead to quality control at universities – in the form of external reviews of research, output indicators, and priorities – becoming something commonplace (Whitley and Gläser, 2007). The government’s trust is no longer blind but is well-founded. Some 35 years later, the Minister could inform the Dutch House of Representa- tives that ‘the Dutch scientific system performs extremely well in terms of quality and productivity’ (Minister of Education, Culture and Science, 2015). Aiming for socially relevant goals For situations in which government does have its own goals, this configura- tion of well-founded trust is not a satisfactory solution. Neither through competitions organised by research councils such as the NWO, NSF, and ERC nor through control mechanisms such as external reviews of research and output indicators can government manage matters in such a way that ‘the right kind’ of research takes place, in other words, research that ‘meets 94 BAReND vAN DeR MeuleN the needs of society’, or, as it is termed in the recent Vision for Science 2025 document [Wetenschapsvisie 2025], ‘research with maximum impact’. One of the ways of achieving this is to organise competition oneself. In the UK, the government does this by means of the Research Excellence Framework. The remarkable thing about the Framework is that, although assessment is carried out by researchers, the criteria, and therefore what is considered to be high-quality research of the right kind, are formulated by the government. The REF describes in detail how research will be assessed, what criteria will apply, and how the universities can demonstrate that their research meets those criteria. To assess the impact of research, for example, a precise def inition is provided, a f ive-point scale, and guidelines for case studies that can demonstrate the impact (HEFCE, 2011). From the perspective of game theory, there was a similar situation in the Netherlands after 1994 in the distribution of money from the Economic Structure Enhancing Fund (FES) (a fund created from natural gas revenues) which was destined for the knowledge infrastructure. The ‘Committee of Sages’ which advised how the money should be spent, assessed the proposals for research programmes not only according to the quality of the research involved but also according to such things as whether the programmes dis- played cohesion, whether the intellectual property, demand-driven nature, and anchoring of the results were properly arranged, whether management was effective, and whether there was international entrenchment. The com- mittee continued to keep track of the programmes while they were running, and did not hesitate to issue recommendations for improvement on the basis of interim reports (Commissie van Wijzen Kennis en Innovatie, 2011). Past experience shows that it is diff icult to ensure that such a configura- tion remains stable. In the UK, every new round of evaluation leads to heated discussion and changes in policy. In the Netherlands, researchers complained that distribution of the FES funds was politically determined. When a new cabinet was formed in 2010, the government terminated the FES programmes so quickly and in such an ill-considered manner that the realisation is only now beginning to dawn that it was thus surrendering one of its last methods for managing research. Agendas as an instrument for control A third way to arrive at a workable relationship between government and researchers is to reach consensus on the priorities for research. If govern- ment and researchers agree on the goals, government can minimize the cost MANAGiNG WHAT cANNoT Be MANAGeD 95 of monitoring whether the researcher is doing the right research, while the researcher can still investigate what he or she is curious about. This way of organising the relationship between government and researchers has a long tradition in the Netherlands. Because the Dutch National Research Agenda is in line with that tradition, it is a good thing to once more reconsider this historical line in science policy. Agenda setting in Dutch science policy began in agriculture. The National Council for Agricultural Research (NRLO) was established in 1957 as part of the Netherlands Organisation for Applied Scientif ic Research (TNO) in order to coordinate agricultural research. A compromise organisation, the TNO legislation did provide for a TNO agriculture organisation but the Ministry of Agriculture did not want its institutes to be made part of TNO. The NRLO therefore became a council within TNO that had to coordinate research outside TNO, a seemingly impossible construction. Nevertheless, the NRLO continued to exist for a remarkably long time and was only abolished in 2000. By then it had ceased to be a council within TNO and had evolved into a combination of a sector council and an agency of the Ministry of Agriculture, Nature and Food Quality (Dijksterhuis and Van der Meulen, 2007). The history of the NRLO also shows how difficult it is to manage research. Initially, the Council tried to do so with typical planning instruments. It categorized the research, mapped out who did what, set up a project administration, and developed criteria for the economic evaluation of the research. This did not lead to the expected rationalisation which would allow priorities to be set on the basis of clear cost-benef it analyses. The development of ‘social frames of reference’, also taking account of ‘psycho- logical’ and ‘legal aspects’, did not help either. In the course of the 1970s, the rationalistic approach slowly disappeared into the background. That approach led to a great deal of paperwork regarding tasks which – as the staff noted – could also be performed in a qualitative manner by experts and other persons involved. That this shift could happen was also because the NRLO had gradually evolved into a participation organisation. Its f ield of activity had been ex- tended to the whole of agricultural research, including research taking place within, for example, Wageningen Agricultural University and the Faculty of Veterinary Medicine in Utrecht. ‘The sector’ also became increasingly involved in the consultations through the then Chamber of Agriculture and the Product Boards. In the 1970s, environmental organisations and other ministries were also given seats on the Council. The NRLO evolved into an organisation made up of larger and smaller consultative bodies within 96 BAReND vAN DeR MeuleN which different interests and perspectives regarding agricultural research and innovation were brought together, weighed up, and translated into recommendations for priorities and research programmes. The 1974 Science Budget presented this approach as exemplary for all sectors of Dutch society. Such a comprehensive system has never been implemented. Development of the system of sector councils was fraught with diff iculty and it was only in 1986 that the government submitted the Sector Councils for Research and Development Act [Wet Sectorraden Onderzoek en Ontwikkeling] to Parliament. Besides the NRLO, only three sector councils gained a f irm foothold: the RAWOO (research in the context of development cooperation), the RMNO (environment and nature), and the RGO (health research). Other sector councils were fairly quickly disbanded, for example the Council for Energy Research and the VRA-OGO (research on the built environment), or got stuck at the concept stage (Council for Technological Industrial Research, Sector Council for Chemical Research). By 2000, the sector councils were among the f irst to perish in the drive to reduce the number of bodies advising government. That they had been extremely valuable in managing research played no role in the decision- making on this matter. The unique thing about the sector councils was that, very early on in the history of science policy, they institutionalised the idea that consultation would enable government, research organisations, and civil-society organi- sations to develop research objectives and thus agree on the management of research. This approach produced a range of instruments that deployed long-range strategies providing a political explanation of how the research f itted in with government policy objectives and the needs of society, and vice versa how government and the sector concerned could respond to developments in research. This in turn led to a series of national research programmes in the areas of agriculture, the environment and nature, and healthcare. The same approach was also adopted in the 1990s by the Consultative Committee on Foresight Studies [Overleg Commissie Verkenningen], which was instructed by the then Minister, Jo Ritzen, to organise foresight studies and identify priorities for scientif ic research (OCV, 1997). The activities and reports of the committee covered a wide range of disciplines and research areas, including chemistry, art history, economy, and nanotechnology. After four years, following its f inal report, the committee was disbanded. One of the experiences of the consultative committee was that the bless- ings of science policy were not confined to the sciences and engineering f ields. Among its more successful initiatives was the panel on the future MANAGiNG WHAT cANNoT Be MANAGeD 97 of research in law. The panel observed that current research in law did not match with the needs of stakeholders and major societal developments such as globalisation, high tech innovations and deregulation. As a result, the government put law research high on the agenda in its Science Budget 1997; the research council was asked to set up research programmes to support new research programmes on law and funding became available for a research institute on the internationalization of law. More recently, a number of the FES programmes, such as the Climate Change Spatial Planning Programme [Klimaat voor Ruimte] and Knowledge for Climate [Kennis voor Klimaat] generated methods for programming and also implementing research together with civil-society stakeholders. This institutional entrenchment of the approach disappeared, however, along with the FES programmes. In the context of innovation policy, ‘tripartite consultation’ has been modernised as the ‘Golden Triangle’, and within the key economic sectors long-range strategies and research agendas are referred to as ‘roadmaps’. The idea of joint consultation remains, although the government seems to have hardly any innovation objectives of its own, and has placed implementation and the steering wheel in the hands of industry. In conclusion What does this analytical and historical consideration of the management of science tell us about current science policy? Firstly, that government does wish to pursue science policy. However, the legitimacy of the idea of science policy is based on the importance of science itself rather than on a clear perception of what government can do to manage the system. Researchers too want government to pursue a science policy. One of their main reasons is that science always seems to grow faster than the government’s budget. That applied to the ‘big science’ of large-scale facilities (De Solla Price, 1963), but nowadays it also applies to the ‘little science’ of individual applications for VENI scholarships (Van Arensbergen et al., 2013) and art history (KNAW Verkenningscommissie Kunstgeschiedenis, 2013). If researchers experience bottlenecks in their discipline, career possibilities or research infrastructure, advisory reports quickly call upon government to help. In such cases even scientists apparently have greater trust in govern- ment than in their own organisations and colleagues. For many years, two tracks were visible in science policy. One is today referred to as ‘excellent science’, but it began, once upon a time, with the 98 BAReND vAN DeR MeuleN despairing conclusion by the Minister of Education, Culture and Science that it was unclear just what the quality of scientif ic research in the Nether- lands actually was. Measures aimed at improving quality can almost always count on support from the scientif ic community and – almost as a matter of course – from the scientif ic elite. Thanks to the NWO’s Open Competition, Innovational Research Incentive, Spinoza Prizes, review committees, and ‘Gravitation’ schemes, government’s trust in the quality of research has been f irmly institutionalised. This part of science policy provides a simple answer to the initial question whether government can manage science. Yes it can, by institutionalising proper evaluation and funding processes run by scientists and their organisations. Scientists are said to be curiosity-driven. One of the lessons of science policy is that monitoring performance and quality assessments are helpful as well to drive researchers. The second track is a winding and bumpy one, and one that seems to constantly f ind itself at a dead end: the targeted encouragement of research areas. This track shows how unstable the relationship is between govern- ment and science. Theoretically, institutions can be designed, such as competition and consultation, to make such a policy possible. Looking back, we see that these have in fact been used, in the form of advisory committees, committees of sages, sector councils, and foresight studies, but none of these instruments has become permanently institutionalised. In the Dutch system, it is currently the European Commission that is perhaps the only authority which manages research towards specif ied aims. A signif icant amount of the money in the Horizon 2020 research programme is divided on the basis of Grand Challenges, but it is questionable whether that will remain so. European research policy too has from the outset sought an effective way of managing research. This may sound somewhat defeatist, but it may in fact be the most im- portant lesson for the Dutch Research Agenda. History shows us that the emergence of new f ields of research, the urge to push back the boundaries with larger facilities, and society’s need for relevant knowledge have always been a reason to develop ad hoc solutions to what is a persistent problem. For a long time, the Netherlands had various consultation structures – between government departments, between government and researchers, between researchers, government, and civil-society parties – from which solutions were slowly but surely developed in the form of research agendas, long-range strategies, and research programmes. There is a ‘Vision for Science’ docu- ment [Wetenschapsvisie]. There is a research agenda. Let us hope that from these, research programmes will evolve in which government, civil-society organisations, and researchers will be able to unite their various interests. MANAGiNG WHAT cANNoT Be MANAGeD 99 Bibliography Arensbergen, Pleun van, Laurens Hessels, and Barend van der Meulen, Talent Centraal. Ontwikkeling en selectie van wetenschappers in Nederland (The Hague: Rathenau Instituut, 2013) Bollen, Johan, and Marten Scheffer, De wijze massa, waarom wetenschappers onderzoeksgeld beter zelf kunnen verdelen, De Omslag, 2015, https://omslag.nu/ onderzoeksf inanciering/de-wijze-massa/ (retrieved 5 March 2016) Bush, Vannevar, Science, The Endless Frontier (Washington: Off ice of Scientif ic Research and Development, 1945) Commissie van Wijzen Kennis en Innovatie, Advies aan het Kabinet over de resul- taten van de totale BSIK-impuls, 2011 De Solla Price, Derek, Little Science, Big Science... and Beyond (New York: Columbia University Press, 1963) Dijksterhuis, Fokko Jan, and Barend van der Meulen, Landbouwinnovatie en onder- zoekcoördinatie, De Nationale Raad voor Landbouwkundig Onderzoek, 1957-2000 (Groningen/Wageningen: Netherlands Agricultural Historical Institute [NAHI], 2007) Handelingen der Staten Generaal 1963-1964, II, pp. 729-731, www.statengeneraal- digitaal.nl HEFCE, Assessment framework and guidance on submissions, REF 02.2011, 2011 Horlings, Edwin and Peter van de Besselaar, Focus en massa in het wetenschappelijk onderzoek: de Nederlandse onderzoeksportfolio (The Hague: Rathenau Instituut, 2012) KNAW Verkenningscommissie Kunstgeschiedenis, Verschilzicht. Beweging in het kunsthistorisch onderzoek in Nederland (Amsterdam: KNAW, 2013) KNAW – Adviescommissie Witte Vlekken Universitair Onderzoek, Ruimte voor Ongebonden Onderzoek, signalen uit de wetenschap (Amsterdam: KNAW, 2015) Kogan, Maurice and Mary Henkel, Government and Research. The Rothschild Experiment in a Government Department (London: Heinemann Educational Books, 1983) Koier, Elisabeth, Barend van der Meulen, Edwin Horlings, and Rosalie Belder, Chinese borden – Financiële stromen en prioriteringsbeleid in het Nederlandse universitaire onderzoek (The Hague: Rathenau Instituut, 2016) Meulen, Barend van der, ‘Science policies as principal-agent games. Institutionali- zation and path dependency in the relation between government and science’, Research Policy 27, 1998, pp. 397-414 Minister of Education, Culture and Science, Wetenschapsvisie 2025, Keuzes voor de Toekomst (The Hague: Ministry of Education, Culture and Science, 2015) 100 BAReND vAN DeR MeuleN National Archive The Hague, Inventaris van het archief van de Raad van Advies voor het Wetenschapsbeleid (RAWB), 1966-1990, No. 2.14.82, 2008 North, Douglas, Institutions, Institutional Change and Economic Performance (Cambridge: Cambridge University Press, 1990) Overleg Commissie Verkenningen (OCV), Een vitaal kennissysteem, Nederlands onderzoek in toekomstig perspectief (Amsterdam, 1996) Science in Transition, Waarom de wetenschap niet werkt zoals het moet, en wat daar aan te doen is, Position Paper, 2013, www.scienceintransition.nl/wp-content/ uploads/2013/09/POSITION-PAPER-16-sep-2013.pdf (retrieved 5 March 2016) Scott, James, Seeing Like a State, How Certain Schemes to Improve the Human Condi- tion Have Failed (New Haven: Yale University Press, 1998) Weinberg, Alvin, ‘Criteria for Scientif ic Choice’, Minerva 1 (2), 1962, pp. 158-171 Whitley, Richard, and Jochen Gläser, The Changing Governance of the Sciences, Sociology of the Sciences Yearbook 26, 2007, Springer',\n",
       " 'References Aaron HJ, “How Not to Reform Medicare,” New England Journal of Medicine, Vol. 364, No. 17, April 28, 2011, pp. 1588–1589. Aaron HJ and Reischauer RD, “The Medicare Reform Debate: What Is the Next Step?” Health Affairs, Vol. 14, No. 5, 1995, pp. 8–30. Ackerly DC, Valverde AM, Diener LW, Dossary KL, and Schulman KA, “Fueling Innovation in Medical Devices (and Beyond): Venture Capital in Health Care,” Health Affairs, web exclusive, December 2, 2008, pp. w68–w75. AHIP Coverage, “New Report: Medigap Enrollment Continues to Increase,” Washington, D.C., May 20, 2013. As of March 15, 2014: http://www.ahipcoverage.com/2013/05/20/new-report-medigap-enrollment-continues-to-increase/ Altman SH, “The Lessons of Medicare’s Prospective Payment System Show That the Bundled Payment Program Faces Challenges,” Health Affairs, Vol. 31, No. 9, 2012, pp. 1923–1930. American Medical Association, “Medicare Shared Savings Program: Accountable Care Organizations Final Rule,” November 2011. As of January 1, 2014: http://www.ama-assn.org/resources/doc/washington/medicare-shared-savings-chart.pdf Andrews M, “Low-Premium, High-Deductible Health Plans Are Endangered by the Affordable Care Act,” Washington Post, August 12, 2013. As of January 1, 2014: http://www.washingtonpost.com/national/health-science/ low-premium-high-deductible-health-plans-are-endangered-by-affordable-care-act/ 2013/08/12/6b63ffac-fa46-11e2-9bde-7ddaa186b751_print.html Auerbach DI and Kellermann AL, “A Decade of Health Care Cost Growth Has Wiped Out Real Income Gains for an Average US Family,” Health Affairs, Vol. 30, No. 9, September 2011, pp. 1620–1636. Azoulay P, Graff Zivin JS, and Manso G, “Incentives and Creativity: Evidence from the Academic Life Sciences,” RAND Journal of Economics, Vol. 42, No. 3, 2011, pp. 527–554. Bach PB, “Limits on Medicare’s Ability to Control Rising Spending on Cancer Drugs,” New England Journal of Medicine, Vol. 360, February 5, 2009, pp. 626–633. Baciu, Alina, Kathleen Stratton, and Sheila P. Burke, eds., The Future of Drug Safety: Promoting and Protecting the Health of the Public, Institute of Medicine of the National Academies, Washington, D.C.: National Academies Press, 2007. Baicker K and Goldman D, “Patient Cost-Sharing and Healthcare Spending Growth,” Journal of Economic Perspectives, Vol. 25, No. 2, Spring 2011, pp. 47–68. 91 92 Redirecting Innovation in U.S. Health Care: Options to Decrease Spending and Increase Value Barbash GI and Glied SA, “New Technology and Health Care Costs—The Case of Robot-Assisted Surgery,” New England Journal of Medicine, Vol. 363, No. 8, August 19, 2010, pp. 701–704. Bentley TGK, Effros R, Palar K, and Keeler EB, “Waste in the U.S. Health Care System: A Conceptual Framework,” The Milbank Quarterly, Vol. 86, No. 4, December 2008, pp. 629–659. Berwick DM, “Launching Accountable Care Organizations—The Proposed Rule for the Medicare Shared Savings Program,” New England Journal of Medicine, Vol. 364, No. 16, April 21, 2011, p. e32. Bishop TF, Federman AD, and Keyhani S, “Physicians’ Views on Defensive Medicine: A National Survey,” Archives of Internal Medicine, Vol. 170, No. 12, June 28, 2010, pp. 1081–1083. Blume-Kohout ME, “Does Targeted, Disease-Specific Public Research Funding Influence Pharmaceutical Innovation?” Journal of Policy Analysis and Management, Vol. 31, No. 3, Summer 2012, pp. 641–660. Brennan RA, Bodenheimer T, and Pham HH, “Specialty Service Lines: Salvos in the New Medical Arms Race,” Health Affairs, Vol. 25, No. 5, September–October 2006, pp. w337–w343. Brennan TJ, Maccauley MK, and Whitefoot KS, Prizes or Patents for Technology Development—An Assessment and Analytic Framework, discussion paper DP 11-21-REV, Washington D.C.: Resources for the Future, December 2012. Brenner DJ and Hall EJ, “Computed Tomography—An Increasing Source of Radiation Exposure,” New England Journal of Medicine, Vol. 357, November 29, 2007, pp. 2277–2284. Brill S, “Bitter Pill: Why Medical Bills Are Killing Us,” Time, February 20, 2013. Brown SH, Lincoln MJ, Groen PJ, and Kolodner RM, “VistA—U.S. Department of Veterans Affairs National-Scale HIS,” International Journal of Medical Informatics, Vol. 69, No. 2–3, March 2003, pp. 135–156. Buntin MB, Haviland AM, McDevitt R, and Sood N, “Healthcare Spending and Preventive Care in High-Deductible and Consumer-Directed Health Plans,” American Journal of Managed Care, Vol. 17, No. 3, March 2011, pp. 222–230. Buxton MJ and Chambers JD, “What Values Do the Public Want Their Health Systems to Use in Evaluating Technologies?” European Journal of Health Economics, Vol. 12, No. 4, August 2011, pp. 285–288. Calfee JE, Berndt ER, Hahn R, Philipson T, Rubin P, and Viscusi WK, “Brief of John E. Calfee, Ernst R. Berndt, Robert Hahn, Tomas Philipson, Paul Rubin, and W. Kip Viscusi as Amici Curiae Supporting Petitioner” (in Wyeth v. Levine),” June 3, 2008. Camarillo DB, Krummel TM, and Salisbury JK Jr, “Robotic Technology in Surgery: Past, Present, and Future,” American Journal of Surgery, Vol. 188, Supplement4A, October 2004, pp. 2S–15S. Carnahan SJ, “Medicare’s Coverage with Study Participation: Clinical Trials or Tribulations?” Yale Journal of Health Policy, Law, and Ethics, Vol. 7, No. 2, Summer 2007, pp. 230–272. Carrier E, Pham HH, and Rich EC, Comparative Effectiveness Research and Innovation: Policy Options to Foster Medical Advances, National Institute for Health Care Reform (NIHCR), NIHCR Policy Analysis No. 3, October 2010. Carrns A, “Trends to Watch for in Employer Health Plans,” New York Times, September 26, 2013. As of February 16, 2014: http://www.nytimes.com/2013/09/26/your-money/ trends-to-watch-for-in-employer-health-plans.html?_r=0&pagewanted=print References 93 Cassel CK and Guest JA, “Choosing Wisely—Helping Physicians and Patients Make Smart Decisions About Their Care,” Journal of the American Medical Association, Vol. 307, No. 17, May 2, 2012, pp. 1801–1802. Centers for Disease Control and Prevention, “Achievements in Public Health, 1900–1999: Impact of Vaccines Universally Recommended for Children—United States, 1990–1998,” Morbidity and Mortality Weekly, Vol. 48, No. 12, April 2, 1999a, pp. 243–248. As of January 7, 2014: http://www.cdc.gov/mmwr/preview/mmwrhtml/00056803.htm Centers for Disease Control and Prevention, “Ten Great Public Health Achievements—United States, 1900–1999,” Morbidity and Mortality Weekly, Vol. 48, No. 12, April 2, 1999b, pp. 241–243. As of January 7, 2014: http://www.cdc.gov/mmwr/preview/mmwrhtml/00056796.htm Centers for Medicare & Medicaid Services, “Innovation Models,” undated (a). As of March 10, 2014: http://innovation.cms.gov/initiatives/#views=models Centers for Medicare & Medicaid Services, National Health Expenditures 2012 Highlights, undated (b). Centers for Medicare & Medicaid Services, Hospital Outpatient Prospective Payment System, Payment System Fact Sheet Series, ICN 006820, December 2012. Centers for Medicare & Medicaid Services, “Medicare Dashboard Advances ACA Goals for Chronic Conditions,” press release, March 28, 2013a. As of December 30, 2013: http://www.cms.gov/Newsroom/MediaReleaseDatabase/Press-Releases/ 2013-Press-Releases-Items/2013-03-28.html Centers for Medicare & Medicaid Services, Chronic Conditions Among Medicare Beneficiaries— Chartbook: 2012 Edition, April 25, 2013b. As of December 30, 2013: http://www.cms.gov/Research-Statistics-Data-and-Systems/Statistics-Trends-and-Reports/ Chronic-Conditions/2012ChartBook.html Centers for Medicare & Medicaid Services, “Qualified Electronic Health Record (EHR) Direct Vendors for the 2013 Physician Quality Reporting System (PQRS) and Electronic Prescribing (eRx) Incentive Programs,” August 21, 2013c. As of February 11, 2014: http://www.cms.gov/Medicare/Quality-Initiatives-Patient-Assessment-Instruments/PQRS/ Downloads/2013QualifiedEHRDirectVendors.pdf Chambers JD, “Medicare Coverage Decision Emphasizes CMS-FDA Coordination,” Cost- Effectiveness Analysis Registry, The CEA Registry Blog, February 23, 2012. As of February 13, 2014: https://research.tufts-nemc.org/cear4/Resources/CEARegistryBlog/tabid/69/EntryId/198/ Medicare-coverage-decision-emphasizes-CMS-FDA-coordination.aspx Chambers JD, Neumann PJ, and Buxton MJ, “Does Medicare Have an Implicit Cost-Effectiveness Threshold?” Medical Decision Making, Vol. 30, No. 4, June 15, 2010, pp. E14–E27. Chandra A, Cutler D, and Song Z, “Who Ordered That? The Economics of Treatment Choices in Medical Care,” Chapter Six in Pauly MV, Mcguire TG, and Barros PB, eds., Handbook of Health Economics, Vol. 2, 2012, pp. 397–432. Chandra A and J Skinner, “Technology Growth and Expenditure Growth in Health Care,” Journal of Economic Literature, Vol. 50, No. 3, September 2012, pp. 645–680. Chatterji AK, “Spawned with a Silver Spoon? Entrepreneurial Performance and Innovation in the Medical Device Industry,” Strategic Management Journal, Vol. 30, No. 2, February 2008, pp. 185–206. 94 Redirecting Innovation in U.S. Health Care: Options to Decrease Spending and Increase Value Chernew ME, Juster IA, Shah M, Wegh A, Rosenberg S, Rosen AB, Sokol MC, Yu-Isenberg K, and Fendrick AM, “Evidence That Value-Based Insurance Can Be Effective,” Health Affairs, Vol. 29, No. 3, March 2010, pp. 530–536. Chernew ME and Newhouse JP, “Health Care Spending Growth,” Chapter One in Pauly MV, Mcguire TG, and Barros PB, eds., Handbook of Health Economics, Vol. 2, 2012, pp. 1–43. Chernew ME, Rosen AB, and Fendrick AM, “Value-Based Insurance Design,” Health Affairs, Vol. 26, No. 2, March 2007, pp. w195–w203. Choosing Wisely, home page, 2014. As of March 15, 2014: http://www.choosingwisely.org/ CMS—see Centers for Medicare & Medicaid Services. Cohen JT, Neumann PJ, and Weinstein MC, “Does Preventive Care Save Money? Health Economics and the Presidential Candidates,” New England Journal of Medicine, Vol. 387, No. 7, February 14, 2008, pp. 661–663. CommonWell Health Alliance, home page, 2014. As of March 17, 2014: http://www.commonwellalliance.org Congressional Budget Office, Research and Development in the Pharmaceutical Industry, Washington, D.C., 2006. Congressional Budget Office, Prescription Drug Pricing in the Private Sector, Washington, D.C., 2007. Congressional Budget Office, Technological Change and the Growth of Health Care Spending, Washington, D.C., January 2008. As of September 29, 2013: http://www.cbo.gov/sites/default/files/cbofiles/ftpdocs/89xx/doc8947/01-31-techhealth.pdf Congressional Budget Office, The 2013 Long-Term Budget Outlook, September 17, 2013. As of March 17, 2014: http://www.cbo.gov/publication/44521 Coombs B, “The Race for Next-Generation Alzheimer’s Drugs,” CNBC, September 5, 2013. As of February 12, 2014: http://www.cnbc.com/id/101011893 Cutler DM, Your Money or Your Life: Strong Medicine for America’s Health Care System, Oxford University Press, 2004. Cutler DM and McClellan M, “Is Technological Change in Medicine Worth It?” Health Affairs, Vol. 20, No. 5, September 2001, pp. 11–29. Cutler DM, Rosen AB, and Vijan S, “The Value of Medical Spending in the United States, 1960– 2000,” New England Journal of Medicine, Vol. 355, August 31, 2006, pp. 920–927. Cutler DM and Sahni NR, “If Slow Rate of Health Care Spending Growth Persists, Projections May Be Off by $770 Billion,” Health Affairs, Vol. 32, No. 5, May 2013, pp. 841–850. Daniel GW, Rubens EK, and McClellan M, “Coverage with Evidence Development for Medicare Beneficiaries—Challenges and Next Steps,” JAMA Internal Medicine, Vol. 173, No. 14, July 22, 2013, pp. 1281–1282. Devers KJ, Brewster LR, and Casalino LP, “Changes in Hospital Competitive Strategy: A New Medical Arms Race?” Health Services Research, Vol. 38, No. 1, Part 2, February 2003, pp. 447–469. Dolan P, “The Measurement of Health-Related Quality of Life for Use in Resource Allocation Decisions in Health Care,” in Culyer AJ and Newhouse J, eds., Handbook of Health Economics, Oxford: Elsevier, 2000, pp. 1723–1760. References 95 Eastwood B, “Why Healthcare Providers Aren’t Happy with EHR Systems,” CIO, July 1, 2013. As of October 30, 2013: http://www.cio.com/article/735754/ Why_Healthcare_Providers_Aren_t_Happy_With_EHR_Systems Edney A and Larkin C, “Drug Approvals Reach 15-Year High on Smoother FDA Reviews,” Bloomberg, January 1, 2013. As of November 5, 2013: http://www.bloomberg.com/news/2013-01-02/ drug-approvals-reach-15-year-high-on-smoother-fda-reviews.html Emanuel EJ, “A Plan to Fix Cancer Care,” New York Times, Opinionator blog, March 23, 2013. As of October 31, 2013: http://opinionator.blogs.nytimes.com/2013/03/23/a-plan-to-fix-cancer-care Emanuel EJ and Person SD, “It Costs More, But Is It Worth More?” New York Times, January 2, 2012. As of January 30, 2014: http://opinionator.blogs.nytimes.com/2012/01/02/it-costs-more-but-is-it-worth-more/?_r=0 Engelberg Center for Health Care Reform at Brookings, Bending the Curve—Person-Centered Health Care Reform: A Framework for Improving Care and Slowing Health Care Cost Growth, 2013. As of January 7, 2014: http://www.brookings.edu/research/reports/2013/04/person-centered-health-care-reform# Esserman LJ, Thompson IM, and Reid B, “Overdiagnosis and Overtreatment in Cancer: An Opportunity for Improvement,” Journal of the American Medical Association, Vol. 310, No. 8, August 28, 2013, pp. 797–798. Executive Office of the President, President’s Council of Advisors on Science and Technology, Realizing the Full Potential of Health Information Technology to Improve Healthcare for Americans: The Path Forward, Report to the President, December 2010. As of October 28, 2013: http://www.whitehouse.gov/sites/default/files/microsites/ostp/pcast-health-it-report.pdf FamiliesUSA, “Medicaid,” 2014. As of March 17, 2014: http://familiesusa.org/issues/medicaid/ Fang FC and Casadevall A, “NIH Peer Review Reform—Change We Need or Lipstick on a Pig?” Infection and Immunology, Vol. 77, No. 3, March 2009, pp. 929–932. FDA—see U.S. Food and Drug Administration. Feifer AH, Elkin EB, Lowrance WT, Denton B, Jacks L, Yee DS, Coleman JA, Laudone VP, Scardino PT, and Eastham JA, “Temporal Trends and Predictors of Pelvic Lymph Node Dissection in Open or Minimally Invasive Radical Prostatectomy,” Cancer, Vol. 117, No. 17, September 1, 2011, pp. 3933–3942. Fendrick AM, Chernew M, and Levi GW, “Value-Based Insurance Design: Embracing Value Over Costs Alone,” American Journal of Managed Care, Vol. 15, No. 10, Supplement, December 2009, pp. S277–S283. Fendrick AM, Smith DG, and Chernew ME, “Applying Value-Based Insurance to Low-Value Health Services,” Health Affairs, Vol. 29, No. 11, November 1, 2010, pp. 2017–2021. Foote SB, “Focus on Locus: Evolution of Medicare’s Local Coverage Policy,” Health Affairs, Vol. 22, No. 4, July–August 2003, pp. 137–146. Fuchs VR, “Major Trends in the U.S. Health Economy Since 1950,” New England Journal of Medicine, Vol. 366, March 15, 2012, pp. 973–977. As of September 29, 2013: http://www.nejm.org/doi/full/10.1056/NEJMp1200478 GAO—see U.S. Government Accountability Office. 96 Redirecting Innovation in U.S. Health Care: Options to Decrease Spending and Increase Value Garber A, “Advances in Cost-Effectiveness Analysis,” Chapter Four in Culyer AJ and Newhouse JP, eds., Handbook of Health Economics, Vol. 1, Part 1, Elsevier, 2000. Garber AM, “Cost-Effectiveness and Evidence Evaluation as Criteria for Coverage Policy,” Health Affairs, May 19, 2004, pp. W4, 284–296. Garber AM and Skinner J, “Is American Health Care Uniquely Inefficient?” Journal of Economic Perspectives, Vol. 22, No. 4, Fall 2008, pp. 27–50. Garber A and Sox HC, “The Role of Costs in Comparative Effectiveness Research,” Health Affairs, Vol. 29, No. 10, October 2010, pp. 1805–1811. Garber S, Economic Effects of Product Liability and Other Litigation Involving the Safety and Effectiveness of Pharmaceuticals, Santa Monica, Calif.: RAND Corporation, MG-1259-ICJ, 2013. As of September 29, 2013: http://www.rand.org/pubs/monographs/MG1259.html Garber S, Ridgely MS, Taylor R, and Meili R, Managed Care and the Evaluation and Adoption of Emerging Medical Technologies, Santa Monica, Calif.: RAND Corporation, MR-1195-HIMA, 2000. As of August 19, 2011: http://www.rand.org/pubs/monograph_reports/MR1195.html Gawande A, “Letting Go,” The New Yorker, August 2, 2010. As of October 31, 2013: http://www.newyorker.com/reporting/2010/08/02/100802fa_fact_gawande Gawande A, “Big Med,” The New Yorker, August 13, 2012. As of October 29, 2013: http://www.newyorker.com/reporting/2012/08/13/120813fa_fact_gawande Glassman E, Hanson WA, Kazanzides P, Mittelstadt BD, Musits BL, Paul HA, and Taylor RH, “Image-Directed Robotic System for Precise Robotic Surgery Including Redundant Consistency Checking,” U.S. Patent US5086401 A, February 4, 1992. Glennerster R and Kremer M, “A Better Way to Spur Medical Research and Development,” Regulation, Vol. 23, No. 2, Summer 2000, pp. 34–39. Gold J, “Proton Beam Therapy Heats Up Hospital Arms Race,” Kaiser Health News, May 31, 2013. Gold MR, Siegel JE, Russell LB, and Weinstein MC, eds., Cost-Effectiveness in Health and Medicine, New York: Oxford University Press, 1996. Goldman D and Lakdawalla D, “Intellectual Property, Information Technology, Biomedical Research, and Marketing of Patented Products,” in Handbook of Health Economics, Vol. 2, 2012. Grabowski HG and Vernon JM, The Regulation of Pharmaceuticals: Balancing the Benefits and Risks, American Enterprise Institute for Public Policy Research, 1983. Graham SJH, Merges RP, Samuelson P, and Sichelman TM, “High Technology Entrepreneurs and the Patent System: Results of the 2008 Berkeley Patent Survey,” unpublished manuscript, 2009. Guell RC and Fischbaum M, “Toward Allocative Efficiency in the Prescription Drug Industry,” Milbank Quarterly, Vol. 73, No. 2, 1995, pp. 213–230. Hancock J, “Hospital CEO Bonuses Reward Volume and Growth,” Kaiser Health News, June 16, 2013. As of October 31, 2013: http://www.kaiserhealthnews.org/stories/2013/june/06/hospital-ceo-compensation-mainbar.aspx Hanna KE, Innovation and Invention in Medical Devices: Workshop Summary, National Academies Press, 2001. References 97 Hare J, Testimony to the House Committee on Ways and Means, Subcommittee on Health, Washington, D.C., July 20, 2010. As of November 1, 2013: http://waysandmeans.house.gov/media/pdf/111/2010jul20_hare_testimony.pdf Harrington SE, Incentivizing Comparative Effectiveness Research, The Wharton School, University of Pennsylvania, January 2011. Haviland AM, Sood N, McDevitt RD, and Marquis MS, “The Effects of Consumer-Directed Health Plans on Episodes of Health Care,” Forum for Health Economics & Policy, Vol. 14, No. 2, Article 9, September 2011. “Health Policy Brief: Excise Tax on ‘Cadillac’ Plans,” Health Affairs, September 12, 2013. As of February 16, 2014: http://www.healthaffairs.org/healthpolicybriefs/brief.php?brief_id=99 Herper M, “Five Health IT Firms Band Together to Create a National System for Identifying Patients and Sharing Medical Records,” Forbes, March 4, 2013. As of October 19, 2013: http://www.forbes.com/sites/matthewherper/2013/03/04/ exclusive-health-it-firms-join-forces-to-create-national-system-for-sharing-medical-records/ HHMI—see Howard Hughes Medical Institute. HHS—see U.S. Department of Health and Human Services. Howard Hughes Medical Institute, “About Us,” 2013. As of December 30, 2013: http://www.hhmi.org/about Hu JC, Gu X, Lipsitz SR, Barry MJ, D’Amico AV, Weinberg AC, and Keating NL, “Comparative Effectiveness of Minimally Invasive Vs. Open Radical Prostatectomy,” Journal of the American Medical Association, Vol. 302, No. 14, October 14, 2009, pp. 1557–1564. Hurwitz H, Fehrenbacher L, Novotny W, Cartwright T, Hainsworth J, Heim W, Berlin J, Baron A, Griffing S, Holmgren E, Ferrara N, Fyfe G, Rogers B, Ross R, and Kabbinavar F, “Bevacizumab Plus Irinotecan, Fluorouracil, and Leucovorin for Metastatic Colorectal Cancer,” New England Journal of Medicine, Vol. 350, No. 23, June 3, 2004, pp. 2335–2342. IMS Health, “Top-Line Market Data,” 2014. As of February 11, 2014: http://www.imshealth.com/portal/site/ims/menuitem.5ad1c081663fdf9b41d84b903208c22a/ ?vgnextoid=fbc65890d33ee210VgnVCM10000071812ca2RCRD Institute of Medicine, U.S. Health in International Perspective: Shorter Lives, Poorer Health, National Academies Press, January 9, 2013. As of November 1, 2013: http://www.iom.edu/Reports/2013/ US-Health-in-International-Perspective-Shorter-Lives-Poorer-Health.aspx IOM—see Institute of Medicine. Kaiser Family Foundation, “Medicare Spending and Financing Fact Sheet,” November 14, 2012. As of January 2, 2014: http://kff.org/medicare/fact-sheet/medicare-spending-and-financing-fact-sheet/ Kaiser Family Foundation, “Assessing the Effects of the Economy on the Recent Slowdown in Health Spending,” Issue Brief, April 22, 2013. As of October 31, 2013: http://kff.org/health-costs/issue-brief/ assessing-the-effects-of-the-economy-on-the-recent-slowdown-in-health-spending-2/ Kaiser Family Foundation and Health Research & Educational Trust, Employer Health Benefits, “2013 Summary of Findings,” August 20, 2013. As of March 17, 2014: http://kff.org/report-section/2013-summary-of-findings/ 98 Redirecting Innovation in U.S. Health Care: Options to Decrease Spending and Increase Value Keeler E, Melnick G, and Zwanziger J, “The Changing Effects of Competition on Non-Profit and For-Profit Hospital Pricing Behavior,” Journal of Health Economics, Vol. 18, No. 1, January 1999, pp. 69–86. Keller DM, “Proton Beam Radiation Therapy: The ‘Chicken & Egg’ Dilemma, Part 1 of a Multipart Investigation,” Oncology Times, Vol. 32, No. 6, March 25, 2010a, pp. 35–36, 39–40. Keller DM, “Proton Beam Radiation Therapy: The ‘Chicken & Egg’ Dilemma, Part 2, Continuing Series,” Oncology Times, Vol. 32, No. 7, April 10, 2010b, pp. 35–36. Kelley AS, Deb P, Du Q, Aldridge Carlson MD, and Morrison RS, “Hospice Enrollment Saves Money for Medicare snd Improves Care Quality Across a Number of Different Lengths-of-Stay,” Health Affairs, Vol. 32, No. 3, March 2013, pp. 552–561. Kesselheim AS, Myers JA, Solomon DH, Winkelmayer WC, Levin R, and Avorn J, “The Prevalence and Cost of Unapproved Uses of Top-Selling Orphan Drugs,” PLoS ONE, Vol. 7, No. 2, February 21, 2012. Ketcham JD and Furukawa MF, “Hospital-Physician Gainsharing in Cardiology,” Health Affairs, Vol. 27, No. 3, May 2008, pp. 803–812. Kliff S, “Steven Brill’s 26,000-Word Health-Care Story, in One Sentence,” Washington Post, Wonkblog, February 23, 2013. As of October 28, 2013: http://www.washingtonpost.com/blogs/wonkblog/wp/2013/02/23/ steven-brills-26000-word-health-care-story-in-one-sentence/ Knowledge Ecology International, “Annotated Bibliography of Articles and Books on Innovation Prizes,” undated. As of December 26, 2013: http://keionline.org/prizes/cites Knowledge Ecology International, Selected Innovation Prizes and Reward Programs, KEI Research Note No. 2008:1, 2008. Kocher R and Roberts B, “The Calculus of Cures,” New England Journal of Medicine, published online February 26, 2014. Kolata G, “FDA Plans Looser Rules on Approving Alzheimer’s Drugs,” New York Times, March 13, 2013. As of February 12, 2014: http://www.nytimes.com/2013/03/14/health/fda-to-ease-alzheimers-drug-approval-rules.html?_r=0 Korobkin R, Relative Value Health Insurance: A Behavioral Law and Economics Solution to the Medical Care Cost Crises, UCLA Law & Economics Series, 2012. As of September 29, 2013: http://escholarship.org/uc/item/6j85h1dc Kozauer N and Katz R, “Regulatory Innovation and Drug Development for Early-Stage Alzheimer’s Disease,” New England Journal of Medicine, Vol. 368, March 28, 2013, pp. 1169–1171. Kremer M, “Patent Buyouts: A Mechanism for Encouraging Innovation,” Quarterly Journal of Economics, Vol. 113, No. 4, November 1998, pp. 1137–1167. Kulkarni SS, “Quick Facts About High-Deductible Health Plans,” Kaiser Health News, April 27, 2012. As of March 17, 2014: http://www.kaiserhealthnews.org/stories/2012/april/27/high-deductible-health-plans.aspx Lakhani KR and Jeppesen LB, “Getting Unusual Suspects to Solve R&D Puzzles,” Harvard Business Review, May 2007, pp. 30, 32. Lakhani KR, Jeppesen LB, Lohse PA, and Panetta JA, “The Value of Openness in Scientific Problem Solving,” Discussion Paper 07-050, Harvard Business School, October 2006. References 99 Lee J, “FDA to Offer Draft Guidance on Interoperability of Medical Devices,” Modern Healthcare, February 6, 2014. As of February 12, 2014: http://www.modernhealthcare.com/article/20140206/NEWS/302069934 Levey NN, “Doctors List Overused Medical Treatments,” Los Angeles Times, February 20, 2013. As of December 29, 2013: http://articles.latimes.com/2013/feb/20/nation/la-na-medical-procedures-20130221 Lo Sasso AT, Helmchen L, and Kaestner R, “The Effects of Consumer-Directed Health Plans on Health Care Spending,” Journal of Risk and Insurance, Vol. 77, No. 1, March 2010, pp. 85–103. Luft HS, “Economic Incentives to Promote Innovation in Healthcare Delivery,” Clinical Orthopaedics and Related Research, online exclusive, June 19, 2009. Mack MJ, “Minimally Invasive and Robotic Surgery,” Journal of the American Medical Association, Vol. 285, No. 5, February 7, 2001, pp. 568–572. Makower J, Meer A, and Denend L, FDA Impact on U.S. Medical Technology Innovation: A Survey of Over 200 Medical Technology Companies, November 2010. Marshall JL, Cheson BD, and Kerr D, “Physicians ‘Hit the Barricades’ Over Cancer Costs,” Medscape Oncology, June 10, 2013. As of October 21, 2013: http://www.medscape.com/viewarticle/805503 Matthews CA, “The Promise of Robotics in Urogynecology,” International Urogynecology Journal, Vol. 23, No. 9, September 2012, pp. 1177–1178. McClellan MB and Tunis SR, “Medicare Coverage of ICDs,” New England Journal of Medicine, Vol. 352, No. 3, January 20, 2005, pp. 222–224. Medicaid.gov, “Managed Care,” undated. As of February 6, 2014: http://www.medicaid.gov/Medicaid-CHIP-Program-Information/By-Topics/Delivery-Systems/ Managed-Care/Managed-Care.html Mello MM, Studdert DM, and Brennan TA, “Shifting Terrain in the Regulation of Off-Label Promotion of Pharmaceuticals,” New England Journal of Medicine, Vol. 360, No. 15, April 9, 2009, pp. 1557–1566. Melnick G and Keeler E, “The Effects of Multi-Hospital Systems on Hospital Prices,” Journal of Health Economics, Vol. 26, No. 2, March 1, 2007, pp. 400–413. Meltzer DO and Smith P, “Theoretical Issues Relevant to the Economic Evaluation of Health Technologies,” Chapter Seven in Culyer AJ, Pauly MV, Newhouse JP, McGuire TG, and Barros PP, eds., Handbook of Health Economics, Vol. 2, Elsevier, 2012, pp. 433–470. Miller K, Wang M, Gralow J, Dickler M, Cobleigh M, Perez EA, Shenkier T, Cella D, and Davidson NE, “Paclitaxel Plus Bevacizumab Versus Paclitaxel Alone for Metastatic Breast Cancer,” New England Journal of Medicine, Vol. 357, No. 26, December 27, 2007, pp. 2666–2676. Morgan S, Grootendorst P, Lexchin J, Cunningham C, and Greyson D, “The Cost of Drug Development: A Systematic Review,” Health Policy, Vol. 100, No. 1, April 2011, pp. 4–17. Moukheiber Z, “An Interview with the Most Powerful Woman in Health Care,” Forbes, May 15, 2013. Moussa, Nader (Nimur), “Laproscopic Surgery Robot,” 2004. As of March 28, 2014: http://en.wikipedia.org/wiki/File:Laproscopic_Surgery_Robot.jpg Murray K, “How Doctors Die—It’s Not Like the Rest of Us, But It Should Be,” Zócalo Public Square, November 30, 2011. As of December 30, 2013: http://www.zocalopublicsquare.org/2011/11/30/how-doctors-die/ideas/nexus/ 100 Redirecting Innovation in U.S. Health Care: Options to Decrease Spending and Increase Value Murray K, “Doctors Really Do Die Differently,” Zócalo Public Square, July 23, 2012. As of December 30, 2013: http://www.zocalopublicsquare.org/2012/07/23/doctors-really-do-die-differently/ideas/nexus/ National Association for Proton Therapy, home page, 2013. As of November 5, 2013: http://www.proton-therapy.org National Cancer Institute, “FDA Approval for Bevacizumab,” updated July 1, 2013. As of January 10, 2014: http://www.cancer.gov/cancertopics/druginfo/fda-bevacizumab National Heart, Lung, and Blood Institute, “What Is an Implantable Cardioverter Defibrillator?” revised August 2009. As of March 25, 2014: http://www.nhlbi.nih.gov/health//dci/images/scd_icd.jpg National Institutes of Health, “NIH Budget” September 18, 2012. As of December 30, 2013: http://www.nih.gov/about/budget.htm National Institutes of Health, “High-Risk Research—Overview,” June 26, 2013a. As of December 30, 2013: https://commonfund.nih.gov/highrisk/overview National Institutes of Health, “NIH Announces 2013 High-Risk, High-Reward Research Awards,” September 30, 2013b. As of December 30, 2013: http://www.nih.gov/news/health/sep2013/od-30.htm National Institutes of Health, Office of Budget, “Spending History by Institute/Center, Mechanism, Etc. (1983 to present),” 2013. As of November 5, 2013: http://officeofbudget.od.nih.gov/spending_hist.html National Institutes of Health, Office of Extramural Research, “Qualifying Therapeutic Discovery Project Program,” June 18, 2010. As of March 17, 2014: http://grants.nih.gov/grants/funding/QTDP_PIM/ Neumann PJ and Chambers JD, “Medicare’s Enduring Struggle to Define ‘Reasonable and Necessary’ Care,” New England Journal of Medicine, November 8, 2012, pp. 1775–1777. Neumann PJ and Chambers J, “Medicare’s Reset on ‘Coverage with Evidence Development,’” Health Affairs Blog, April 1, 2013. As of January 4, 2013: http://healthaffairs.org/blog/2013/04/01/medicares-reset-on-coverage-with-evidence-development/ Neumann PJ, Divi N, Beinfeld MT, Levine BS, Keenan PS, Halpern EF, and Gazelle GS, “Medicare’s National Coverage Decisions, 1999–2003: Quality of Evidence and Review,” Health Affairs, Vol. 24, No. 1, 2005, pp. 243–254. Neumann PJ, Kamae MS, and Palmer JA, “Medicare’s National Coverage Decisions for Technologies, 1999–2007,” Health Affairs, Vol. 27, No. 6, November–December 2008, pp. 1620–1631. Newhouse JP, “Why Is There a Quality Chasm?” Health Affairs, Vol. 21, No. 4, July 2002, pp. 13–25. As of September 29, 2013: http://content.healthaffairs.org/content/21/4/13.full Newhouse JP and the Insurance Experiment Group, Free for All? Lessons from the RAND Health Insurance Experiment, Cambridge, Mass.: Harvard University Press, CB-199, 1993. As of October 31, 2013: http://www.rand.org/pubs/commercial_books/CB199.html NIH—see National Institutes of Health. References 101 Orenstein P, “Our Feel-Good War on Breast Cancer,” New York Times, April 25, 2013. As of October 31, 2013: http://www.nytimes.com/2013/04/28/magazine/our-feel-good-war-on-breast-cancer.html?_r=0 Orszag P, “How Health Care Can Save or Sink America: The Case for Reform and Fiscal Sustainability,” Foreign Affairs, Vol. 90, No. 4, July/August 2011, pp. 42–57. Patient-Centered Outcomes Research Institute, “Research We Support,” 2014. As of March 10, 2014: http://www.pcori.org/research-we-support/landing/ PCORI—see Patient-Centered Outcomes Research Institute. Pearson SD and Bach PB, “How Medicare Could Use Comparative Effectiveness Research in Deciding on New Coverage and Reimbursement,” Health Affairs, Vol. 29, No. 10, October 2010, pp. 1796–1804. Peltola H, “Worldwide Haemophilus influenzae Type b Disease at the Beginning of the 21st Century: Global Analysis of the Disease Burden 25 Years After the Use of the Polysaccharide Vaccine and a Decade After the Advent of Conjugates,” Clinical Microbiology Reviews, Vol. 13, No. 2, April 2000, pp. 302–317. Peltzman S, Regulation of Pharmaceutical Innovation: The 1962 Amendments (Evaluative Studies 15), American Enterprise Institute for Public Policy Research, 1974. Pham HH, Ginsburg PB, Lake TK, and Maxwell MM, Episode-Based Payments: Charting a Course for Health Care Payment Reform, Washington, D.C.: National Institute for Health Care Reform, January 2010. Pharmaceutical Research and Manufacturers of America (PhRMA), “Medicines in Development— Alzheimer’s Disease,” 2013. Philipson T, Eber M, Lakdawalla DN, Corral M, Conti R, and Goldman DP, “Analysis of Whether Higher Health Care Spending in the United States Versus Europe Is ‘Worth It’ in the Case of Cancer,” Health Affairs, Vol. 31, No. 4, April 2012, pp. 667–675. Philipson TJ and Sun E, “Is the Food and Drug Administration Safe and Effective?” Journal of Economic Perspectives, Vol. 22, No. 1, 2008, pp. 85–102. PhRMA—see Pharmaceutical Research and Manufacturers of America. Pollack A, “Doctors Denounce Cancer Drug Prices of $100,000 a Year,” New York Times, April 25, 2013. As of October 30, 2013: http://www.nytimes.com/2013/04/26/business/cancer-physicians-attack-high-drug-costs.html Pstay BM and Ray W, “FDA Guidance on Off-Label Promotion and the State of the Literature from Sponsors,” Journal of the American Medical Association, Vol. 299, No. 16, April 23/30, 2008, pp. 1949–1951. Radley DC, Finkelstein SN, and Stafford RS, “Off-Label Prescribing Among Office-Based Physicians,” Archives of Internal Medicine, Vol. 166, No. 9, May 8, 2006, pp. 1021–1026. Robbins CJ, Rudsenske T, and Vaughan JS, “Private Equity Investments in Health Care,” Health Affairs, Vol. 27, No. 5, September/October 2008, pp. 1389–1398. Robinson JC, “Applying Value-Based Insurance Design to High-Cost Health Services,” Health Affairs, Vol. 29, No. 11, November 2010, pp. 2009–2015. Robinson JC, “Providers’ Payment and Delivery System Reforms Hold Both Threats and Opportunities for the Drug and Device Industries,” Health Affairs, Vol. 31, No. 9, September 2012, pp. 2059–2067. 102 Redirecting Innovation in U.S. Health Care: Options to Decrease Spending and Increase Value Robinson JC and Luft HS, “Competition and the Cost of Hospital Care, 1972 to 1982,” Journal of the American Medical Association, Vol. 257, No. 23, June 19, 1987, pp. 3241–3245. Robinson JC and MacPherson K, “Payers Test Reference Pricing and Centers of Excellence to Steer Patients to Low-Price and High-Quality Providers,” Health Affairs, Vol. 31, No. 9, September 2012, pp. 2028–2036. Rosenberg T, “Prizes with an Eye Toward the Future,” New York Times, Opinionator blog, February 29, 2012. As of January 5, 2014: http://opinionator.blogs.nytimes.com/2012/02/29/prizes-with-an-eye-toward-the-future/?_r=0 Rosenberg T, “Revealing a Health Care Secret: The Price,” New York Times, Opinionator blog, July 31, 2013. As of October 28, 2013: http://opinionator.blogs.nytimes.com/2013/07/31/a-new-health-care-approach-dont-hide-the-price/ Rosenthal ET, “Proton Beam Radiation Therapy: Balancing Evidence-Based Use with the Bottom Line, Part 3 of a Series,” Oncology Times, Vol. 32, No. 8, April 25, 2010a, pp. 34–38. Rosenthal ET, “Proton Beam Radiation Therapy: Balancing Evidence-Based Use with the Bottom Line, Part 4 of a Series,” Oncology Times, Vol. 32, No. 9, May 10, 2010b, pp. 28–30. Rosenthal ET, “Proton Beam Radiation Therapy: The Case of Hampton University Proton Therapy Institute, Part 5 of a Series,” Oncology Times, Vol. 32, No. 10, May 25, 2010c, pp. 26, 28–29. Rosenthal E, “The Soaring Cost of a Simple Breath,” New York Times, October 12, 2013. As of October 29, 2013: http://www.nytimes.com/2013/10/13/us/the-soaring-cost-of-a-simple-breath.html Rundle R, “In the Drive to Mine Medical Data, VHA Is the Unlikely Leader,” Wall Street Journal, 2001, p. 1. Russell LB, “Preventing Chronic Disease: An Important Investment, But Don’t Count on Cost Savings,” Health Affairs, Vol. 28, No. 1, January/February 2009, pp. 42–45. Ryu AJ, Gibson TB, McKellar MR, and Chernew ME, “The Slowdown in Health Care Spending in 2009–11 Reflected Factors Other Than the Weak Economy and Thus May Persist,” Health Affairs, Vol. 32, No. 5, May 2013, pp. 835–840. Schleifer D and Rothman DJ, “‘The Ultimate Decision Is Yours’: Exploring Patients’ Attitudes About the Overuse of Medical Interventions,” PLoS ONE, Vol. 7, No. 12, December 2012, e52552. As of October 27, 2013: http://www.plosone.org/article/info%3Adoi%2F10.1371%2Fjournal.pone.0052552 Schoen C, Guterman S, Shih A, Lau J, Kasimow S, Gauthier A, and Davis K, Bending the Curve: Options for Achieving Savings and Improving Value in U.S. Health Spending, Commonwealth Fund, December 2007. As of January 7, 2014: http://www.commonwealthfund.org/Publications/Fund-Reports/2007/Dec/ Bending-the-Curve--Options-for-Achieving-Savings-and-Improving-Value-in-U-S--Health-Spending. aspx Scott Morton F and Kyle M, “Markets for Pharmaceutical Products,” in Pauly MV, McGuire TG, and Barros PP, eds., Handbook of Health Economics, North Holland, 2012. Sethi MK, Obremskey WT, Natividad H, Mir HR, and Jahangir AA, “Incidence and Costs of Defensive Medicine,” American Journal of Orthopedics, Vol. 41, No. 2, February 2012, pp. 69–73. Sloan FA, ed., Valuing Health Care: Costs, Benefits, and Effectiveness of Pharmaceuticals and Other Medical Technologies, Cambridge University Press, 1996. References 103 Sloan FA and Shadle JH, “Is There Empirical Evidence for ‘Defensive Medicine’? A Reassessment,” Journal of Health Economics, Vol. 28, No. 2, March 2009, pp. 481–491. Smith S, Newhouse JP, and Freeland MS, “Income, Insurance, and Technology: Why Does Health Spending Outpace Economic Growth?” Health Affairs, Vol. 28, No. 5, September/October 2009, pp. 1276–1284. Sorenson C, Drummond M, and Khan BB, “Medical Technology as a Key Driver of Rising Health Expenditure: Disentangling the Relationship,” ClinicoEconomics and Outcomes Research, Vol. 5, May 2013, pp. 223–234. Sox HC, “Evaluating Off-Label Uses of Anticancer Drugs: Time for a Change,” editorial, Annals of Internal Medicine, Vol. 150, No. 5, March 3, 2009, pp. 353–354. Spurling GK, Mansfield PR, Montgomery BD, Lexchin J, Doust J, Othman N, and Vitry AI, “Information from Pharmaceutical Companies and the Quality, Quantity, and Cost of Physicians’ Prescribing: A Systematic Review,” PLoS Medicine, Vol. 7, No. 10, 2010. Stafford RS, “Regulating Off-Label Drug Use: Rethinking the Role of the FDA,” New England Journal of Medicine, Vol. 358, No. 14, 2008, pp. 1427–1429. Stiglitz JE and Jayadev A, “Medicine for Tomorrow: Some Alternative Proposals to Promote Socially Beneficial Research and Development in Pharmaceuticals,” Journal of Generic Medicines: The Business Journal for the Generic Medicines Sector, Vol. 7, No. 3, July 2010, pp. 217–226. Stitzenberg KB, Wong YN, Nielsen ME, Egleston BL, and Uzzo RG, “Trends in Radical Prostatectomy: Centralization, Robotics, and Access to Urologic Cancer Care,” Cancer, Vol. 118, No. 1, January 1, 2012, pp. 54–62. Studdert DM, Mello MM, Sage WM, DesRoches CM, Peugh J, Zapert K and Brennan TA, “Defensive Medicine Among High-Risk Specialist Physicians in a Volatile Malpractice Environment,” Journal of the American Medical Association, Vol. 293, No. 21, June 1, 2005, pp. 2609–2617. Su LM, “Robot-Assisted Radical Prostatectomy: Advances Since 2005,” Current Opinion in Urology, Vol. 20, No. 2, March 2010, pp. 130–135. Thomas JW, Ziller EC, and Thayer DA, “Low Costs of Defensive Medicine, Small Savings from Tort Reform,” Health Affairs, Vol. 29, No. 9, September 2010, pp. 1578–1584. Tillman K, Burton B, Jacques LB, and Phurrough SE, “Compendia and Anticancer Therapy Under Medicare,” Annals of Internal Medicine, Vol. 150, No. 5, March 3, 2009, pp. 348–350. Toole AA, “Does Public Scientific Research Complement Private Research and Development Investment in the Pharmaceutical Industry?” Journal of Law and Economics, Vol. 50, No. 1, February 2007. Tufts Center for the Study of Drug Development, “Biotech Products in Big Pharma Clinical Pipelines Have Grown Dramatically,” news release, Boston, Mass., November 14, 2013. As of January 3, 2014: http://csdd.tufts.edu/news/complete_story/pr_ir_nov_dec_2013 Tunis SR and Pearson SD, “Coverage Options for Promising Technologies: Medicare’s ‘Coverage with Evidence Development,’” Health Affairs, Vol. 25, No. 5, September–October 2006, pp. 1218–1230. U.S. Department of Health and Human Services, “Doctors and Hospitals’ Use of Health IT More Than Doubles Since 2012,” news release, May 22, 2013. As of February 12, 2014: http://www.hhs.gov/news/press/2013pres/05/20130522a.html 104 Redirecting Innovation in U.S. Health Care: Options to Decrease Spending and Increase Value U.S. Food and Drug Administration, “Innovation Pathway,” April 12, 2012. As of January 6, 2014: http://www.fda.gov/AboutFDA/CentersOffices/OfficeofMedicalProductsandTobacco/CDRH/ CDRHInnovation/InnovationPathway/default.htm U.S. Food and Drug Administration, “Fast Track, Breakthrough Therapy, Accelerated Approval and Priority Review,” last updated June 26, 2013a. As of December 27, 2013: http://www.fda.gov/forconsumers/byaudience/forpatientadvocates/ speedingaccesstoimportantnewtherapies/ucm128291.htm U.S. Food and Drug Administration, “Medical Devices—Health IT Regulatory Framework,” last updated September 11, 2013b. As of February 11, 2014: http://www.fda.gov/MedicalDevices/ProductsandMedicalProcedures/ConnectedHealth/ ucm338920.htm U.S. Food and Drug Administration, “FDA-CMS Parallel Review,” last updated January 16, 2014. As of February 13, 2014: http://www.fda.gov/MedicalDevices/DeviceRegulationandGuidance/HowtoMarketYourDevice/ PremarketSubmissions/ucm255678.htm U.S. Government Accountability Office, Medicare—Lack of Price Transparency May Hamper Hospitals’ Ability to Be Prudent Purchasers of Implantable Medical Devices, Washington, D.C., GAO-12-126, January 13, 2012a. As of October 27, 2013: http://www.gao.gov/products/GAO-12-126 U.S. Government Accountability Office, Medical Devices—FDA Has Met Most Performance Goals but Device Reviews Are Taking Longer, Washington, D.C., GAO-12-418, February 29, 2012b. As of October 30, 2013: http://www.gao.gov/products/GAO-12-418 U.S. Government Accountability Office, Prescription Drugs—FDA Has Met Most Performance Goals for Reviewing Applications, Washington, D.C., GAO-12-500, March 2012c. As of October 30, 2013: http://www.gao.gov/products/GAO-12-500 University of Michigan Center for Value-Based Insurance Design, “The Evidence for V-BID: Validating an Intuitive Concept,” V-BID Center Brief, Ann Arbor. Mich.: University of Michigan, November 2012. As of January 1, 2014: http://www.sph.umich.edu/vbidcenter/publications/pdfs/ V-BID%20brief%20Evidence%20Nov2012.pdf University of Michigan Center for Value-Based Insurance Design, “V-BID in Action: Driving Value Through Clinically Nuanced Incentives,” V-BID Center Brief, Ann Arbor, Mich.: University of Michigan, February 2013. As of October 31, 2013: http://www.sph.umich.edu/vbidcenter/publications/pdfs/ V-BID%20brief%20low-value%20Feb2013%20final.pdf UpToDate, home page, 2014. As of March 17, 2014: http://www.uptodate.com/home Vernon JA, Golec JH, Lutter R, and Nardinelli C, “An Exploratory Study of FDA New Drug Review Times, Prescription Drug User Fee Acts, and R&D Spending,” Quarterly Review of Economics and Finance, Vol. 49, No. 4, November 2009, pp. 1260–1274. Weeks JC, Catalano PJ, Cronin A, Finkelman MD, Mack JW, Keating NL, and Schrag D, “Patients’ Expectations About Effects of Chemotherapy for Advanced Cancer,” New England Journal of Medicine, Vol. 367, October 25, 2012, pp. 1616–1625. References 105 Wharam JF, Ross-Degnan D, and Rosenthal MB, “The ACA and High-Deductible Insurance— Strategies for Sharpening a Blunt Instrument,” New England Journal of Medicine, Vol. 369, No. 16, October 17, 2013, pp. 1481–1484. Zenios S, Makower J, and Yock P, eds., Biodesign—The Process of Innovating Medical Technologies, Cambridge, UK: Cambridge University Press, 2010. Zhao D and Liu D, “Clinical Training Technology for Vascular Interventional Surgery Robot System Based on Master-Slave Expansion,” 2012 International Conference on Mechatronics and Automation (ICMA), Institute of Electrical and Electronics Engineers (IEEE), 2012, pp. 604–610. ',\n",
       " \"Porcine epidemic diarrhea (PED) was first recognized as a devastating enteric disease in feeder and fattening pig, resembling transmissible gastroenteritis (TGE) in pigs in the United Kingdom, in 1971. It is a member of Coronavirinae, which are single-stranded, positive-sense RNA viruses with the largest genome that are known to infect humans, other mammals, and birds, usually causing subclinical or respiratory and gastrointestinal diseases. The porcine epidemic diarrhea virus (PEDV) subgenomic mRNAs, which are transcribed from the genome, produce viral proteins, such as the spike (S, 180-220 kDa), envelope (E, ~8.8 kDa), membrane (M, 27-32 kDa), nucleoprotein (N, [55] [56] [57] [58] , and several other proteins of unknown function [1] [2] [3] . Among the proteins, N, as the RNA-binding protein, play an important role in both virus RNA synthesis and modulating host cell processes, and phosphorylation may regulate these processes by exposing various functional motifs [4, 5] . Several other functions have been postulated for the coronavirus N protein throughout the virus life cycle, including encapsidation, packaging, correct folding of the RNA molecule, the deregulation of the host cell cycle [6] [7] [8] , inhibition of interferon production [9, 10] , up-regulation of COX2 production [11, 12] , up-regulation of AP1 activity [13] , induction of apoptosis [14] [15] [16] , association with host cell proteins [17] , and RNA chaperone activity [18] . Therefore, it is clear that N is a multifunctional protein involved in biological processes related to the survival of PEDV. The nucleolus was one of the first subcellular structures to be identified by early users of the light microscope, appearing as a highly refractive black dot(s) in the nucleus of the cell [19] . The nucleolus is a highly specialized structure that participates in regulation of several host cell processes, including ribosome subunit biogenesis, RNA processing, control of cell growth and response [20] . Interestingly, a cytoplasmic-nucleolar distribution pattern has been reported for the N proteins of several coronaviruses, including representative members of Alphacoronavirus (transmissible gastroenteritis virus, TGEV), Betacoronavirus (mouse hepatitis virus, MHV; and severe acute respiratory syndrome coronavirus, SARS-CoV), and Gammacoronavirus (infectious bronchitis virus, IBV) [2, 21, 22] . Further study indicated that N protein co-localize with major nucleolar proteins, including nucleolin, fibrillarin, and nucleophosmin [23] [24] [25] . How viral and cellular proteins traffic to the nucleolus and what determines their sub-nucleolar localization is not clearly understood, but proteins that localize to the cytoplasm and nucleus or nucleolus contain multiple signals that determine their subcellular localization [26] , such as nucleolar localization signal (NoLS). Active nuclear import of proteins is mediated by nuclear localization signals (NLSs), which are then recognized by proteins of the importin super-family (importin α and β) that mediate the transport across the nuclear envelope using Ran-GTP [27] . Similar to nuclear import, export of a protein from nucleus depends on the presence of a specific nuclear export signal (NES) [28] . The chromosome region maintenance 1 (CRM1; also known as exportin 1 or Xpo1) has been identified as an export receptor that interacts with the predominant NES, the so-called leucine-rich NES, which is found in a large variety of nucleocytoplasmic shuttling proteins [29, 30] . In fact, some of these NESs are not necessarily leucine rich but rather characterized by several hydrophobic residues. The pharmacological compound leptomycin B (LMB) directly interacts with CRM1 and blocks NES-mediated protein export [31] . Therefore, the proteins can shuttle between the nucleus and the cytoplasm with their subcellular localization signals. It was reported previously that N protein nucleolar localization is a common feature in coronaviruses, however, there are different results regarding N subcellular localization in a strain of SARS-CoV [4] . Within the Alphacoronavirus coronaviruses, the precise NoLS and NES of PEDV N and its traffic mechanism are still elusive. Therefore, we have attempted to characterize these signals, and the molecular mechanism responsible for its subcellular localization. In this study, we examined the intracellular localization of the PEDV N protein in PEDV-infected and transfected cell lines using mouse polyclonal antisera and confocal microscopy. By generating a series of deletion and mutagenesis constructions, we found that amino acids 71-90 in region 1 were sufficient for nucleolar retention and we also identified two NESs (aa221-236 and 325-364), but only the NES (aa325-364) was found to be functional in the context of the full-length N protein. The nucleocytoplasmic shuttling of N and the nuclear export of GFP-NES could be blocked by LMB, an inhibitor of the CRM1, which is the receptor for exportin-1-dependent nuclear export. A polyclonal antibody specifically against the N protein was produced to determine its intracellular localization. We generated anti-N mouse antisera using an E coli-produced fusion protein as the antigen. The antigenicity of the recombinant N protein was confirmed by immunoreactivity with PEDV pigs sera using ELISA assay, which showed high sensitivity and specificity (data not show). To examine the reactivity and specificity of the mouse antiserum, blot results demonstrated that mouse antisera notably reacted with N protein from CV777 strain PEDV, and the cell lysate from Vero E6 cells transfected with pcDNA3.1-N showed a band with the same molecular mass to N protein, whereas no band was detected from samples of cells uninfected PEDV and transfected with an empty vector alone ( Figure 1A ,B).  Our results showed that N protein was localized predominantly in the cytoplasm in PEDV CV777-infected cells, while in a few cells fluorescence was also observed in the nucleus (or nucleolus) ( Figure 2A ). No significant fluorescence was observed in uninfected cells (data not shown). A similar observation was also found in Vero E6 cells transfected with plasmid expressing full length N protein ( Figure 2B ). The N protein was observed to localize mainly in the cytoplasm with some protein in the nucleus (or nucleolus). The results suggested that the N protein localized to a subnuclear structure and may contain functional signals. To identify predicted nuclear (or nucleolar) localization signals, and whether they participate in this process or not, we conducted further experiments. After 24 h, infected or transfected, cells were fixed and analyzed by indirect immunofluorescence using mouse anti-N polyclonal antibody (Green) and stained with PI (red) to visualize the nuclear DNA. Differentially fluorescing images were gathered separately using confocal microscopy. Images were obtained with a 63× oil objective. To identify whether there were subcellular localization signals in PEDV N protein, we first conducted a bioinformatics analysis on the protein using existing motif prediction algorithms. Predict NLS [32] and PSORT II [33] were used to identify potential NLSs, and the NES predictor (Net NES) [29] was used to identify potential NESs. Predict NLS found no NLSs, whereas PSORT II indicated that PEDV N protein contained a pat7 motif (261PKKNKSR267). Net NES found no NES. In other studies, coronaviruses, such as TGEV, MHV, IBV, and SARS-CoV showed a common characteristic, that of NLS-rich in C-terminal. So through amino acid sequence comparison among groups we also found a basic amino acid-rich short peptide (383RKKEKKNKRE393) in C-terminal. We presumed it might play a role in N protein localization as a new localization signal, and named it patx. Although N protein contains putative nuclear (or nucleolar) localization signals (N (or No) LS), it is not known whether they are functional or not. To investigate whether these and other unknown signals operated to determine the subcellular trafficking of N protein, we utilized AcGFP as a fusion marker to observe the localization characteristics of N and truncated N protein in live cells. The B23.1-DsRed fusion protein was used to tag the nucleolus, so we could analyze nucleolar localization properties and colocalization in cotransfected cells by live cell imaging (direct fluorescence) or confocal microscopy. At 24 h post-cotransfection, live cell imaging indicated that as previously shown, AcGFP evenly distributed throughout the cytoplasm and the nucleoplasm but not the nucleolar, on the contrary AcGFP-N protein localized to both the cytoplasm and nucleolus but not the nucleus in Vero E6 cells ( Figure 3 ). From the above results we hypothesize that there is a NoLS in N, which can guide exogenous protein to the nucleolus. To determine the exact NoLS, the AcGFP-tagged truncated different regions of the N protein were transfected into Vero E6 cells, which did not destroy the integrity of the signals. In our observation, AcGFP-NR1 mainly localized to nucleolar structures, AcGFP-NR2 localized predominantly to the cytoplasm and appeared also to accumulate in the nucleolus to the low level as the cytoplasm, whereas AcGFP-NR3 predominantly localized to the cytoplasm; AcGFP-NR1+2 protein same to AcGFP-N and localized to the cytoplasm and nucleolus, AcGFP-NR2+3 protein localized predominantly in cytoplasmic ( Figure 3 ). This evidence demonstrated that region 2 targeted to the nucleolus with weaker enrichment, while region 1 localized to the nucleolus with stronger enrichment. Thus, we speculated that region 1 have an effect on the nucleolar localization of N. This data also suggested that region 2 and 3 may contain NESs because region 2 and 3 was mainly directed to the cytoplasm. Interestingly, although region 2 and 3 contained predicted pat7 and patx motifs, respectively, they could either have been submissive to the NES or not functional. None of these fusion proteins had a distribution similar to AcGFP only. To further identify the sequence for nucleolar localization in detail, a series of expression constructs containing fragments of region 1 were constructed. Vero E6 cells were cotransfected with, either pAcGFP-NR1 1-50 , pAcGFP-NR1 51-100 , or pAcGFP-NR1 101-147 , and pDsRed-B23.1, analyzed using live cell imaging and confocal microscopy at 24 h post-transfection. The data indicated that AcGFP-NR1 51-100 colocalized with B23.1, whereas the other two fusion proteins did not ( Figure 4 ). To further refine the amino acids involved in nucleolar localization, 20 amino acid overlapping motifs encompassing amino acids 51-100 were cloned into downstream of AcGFP, creating plasmids pAcGFP-NR1 51-70 , pAcGFP-NR1 61-80 , pAcGFP-NR1 71-90 , and pAcGFP-NR1 81-100 for the expression of recombinant fusion proteins. Vero E6 cells were cotransfected with these constructs and pDsRed-B23.1, at 24 h post-cotransfection analyzed using live cell imaging and confocal microscopy ( Figure 5 ). The data indicated that AcGFP-NR1 71-90 localized to the nucleolus and colocalized with B23.1. Therefore, the amino acids at positions 71-90 in PEDV N protein were capable to localize in the nucleolus. Comparison of the PEDV N protein NoLS with known cellular and viral NoLSs showed that the R87 and R89 of the PEDV N protein NoLS might be conserved, although some cellular and viral NoLSs in this site did not contain basic amino acids ( Figure 6 ). Current work is directed at further resolving PEDV NoLS sequence, including the contribution of individual amino acid residues. Red squares indicate the amino acids of conservation. The cellular and viral NoLSs are described in NoLS IBV N protein [34] , NoLS PRRSV N [20] , NoLS HTLV-1 Rex [35] , NoLS HSV gamma1 34.5 [36] , NoLS MDM2 [37] , NoLS MDV MEQ [38] , NoLS NF-kappa [39] , NoLS Nuclear VCP-like protein (NVL2) [40] , NoLS p 120 [41] , NoLS surviving-deltaEx3 [42] , NoLS (GGNNV) protein alpha [43] , BHV-1 BICP27 [44] , Earning-associated protein 1-19 [45] , HSV-1 ICP27 [46] , NoLS angiogen [47] , NoLS Fibroblast growth factor-2 [48] , NoLS herpes-mareks MEQ [38] , NoLS HIC p40 [49] , NoLS HIV-1 rev [50] , NoLS HIV-1 Tat [51] . To map the amino acid sequence of region 2 responsible for its nuclear export, similar to the approach used to identify the NoLS in region 1, region 2 was subdivided into two distinct components. Amino acids 148-220 and 221-294 were placed downstream of AcGFP, creating expression vectors pAcGFP-NR2 148-220 and pAcGFP-NR2 221-294 . These expression plasmids were transfected into Vero E6 cells, the nuclear was stained with DAPI at 24 h post-transfection indicated that amino acids 148-220 directed AcGFP to the cytoplasm and nucleus and had a subcellular localization similar to AcGFP. In contrast, amino acids 221-294 directed AcGFP to the cytoplasm; further investigation revealed that amino acids 241-260 and 261-294, when fused to AcGFP, directed this protein to the cytoplasm and nucleus, whereas amino acids 221-240 directed AcGFP to the cytoplasm (Figure 7) . To further define the amino acids involved in cytoplasm trafficking, we conducted a tetra-alanine substitution mutagenesis of amino acids 221-240. These were placed down stream of AcGFP, creating expression plasmids, pAcGFP-NR2 221-224DLVA-AAAA , pAcGFP-NR2 225-228AVKD-AAAA , pAcGFP-NR2 229-232ALKS-AAAA , pAcGFP-NR2 233-236LGIG-AAAA and pAcGFP-NR2 237-240ENPD-AAAA . Therefore, in some cases, the wild-type alanine was not substituted. The data indicated that substituting 221-224DLVA-AAAA, 229-232ALKS-AAAA, and 233-236LGIG-AAAA abolished cytoplasm trafficking. The remaining tetra-alanine substitutions had no effect on cytoplasm trafficking (Figure 8 ), indicating that amino acids 221 DLVAAVKDALKSLGIG 236 were involved in cytoplasm trafficking. To test whether this amino acid sequence was involved in directing the cytoplasm trafficking of N protein, this motif was deleted in the context of full-length N protein tagged to AcGFP (plasmid pAcGFP-N ∆221-236 ). This plasmid was transfected into Vero E6 cells and the subcellular localization of the resulting fusion protein AcGFP-N ∆221-236 investigated using confocal microscopy. There was no difference at 24 h post-transfection ( Figure 9 ) compared with cells expressing AcGFP-N protein. This data also indicated that the NES identified in region 2 was not necessary for cytoplasm trafficking in PEDV N protein. As region 3 of PEDV N protein localized to the cytoplasm, thus, the similar approach was used to identify the NES in region 3. The data indicated that amino acids 295-394 directed AcGFP to the cytoplasm; further investigation revealed that amino acids 325-364 directed AcGFP to the cytoplasm ( Figure 10 ). Taken together, we proposed that amino acids 325-364 are necessary and sufficient to direct N protein to the cytoplasm, and no other signals are involved.  To determine if the PEDV N protein was exported via the CRM1-mediated pathway, the subcellular localization of the pAcGFP-N, pAcGFP-NR3 or pAcGFP-NR3 325-364 , was compared between Vero E6 cells left untreated or treated with 2.5 ng/mL LMB. As shown in Figure 11 , the nucleocytoplasmic shuttling of PEDV N, NR3 and NR3 325-364 was completely inhibited by LMB. The finding indicates that PEDV N shuttling activity was affected by LMB and, thus, suggests that PEDV N protein was transported via the classical CRM1-dependent pathway. PEDV is an important pathogen causing viral diarrhea in the swine industry. Although much research has been carried out on the general characteristics of PEDV, few reports have been reported on the functions of the PEDV structural proteins, especially N protein. N protein plays an important role in virus replication and modulation of host cellular machinery, which should be a result of its self-interaction and interaction with other viral and cellular proteins and with virus and host cell nucleic acids. Therefore, it is important to understand the subcellular localization properties of the PEDV N protein. Figure 11 . The nuclear export mechanism of PEDV N. Vero E6 cells were transiently transfected with plasmids encoding pAcGFP-N, pAcGFP-NR3, pAcGFPNR3 365-394 , with or without treatment with LMB, and examined live 24 h after transfection by confocal microscopy. Each image is representative of the majority of the cells observed in the same cells. The nucleolus (No) is arrowed where appropriate. To enter and export from the nucleus, all molecules or cargoes must traverse a large macromolecular structure called the nuclear pore complex (NPC), which is located in the nuclear envelope. Small molecules up to 40-60 kDa or less than 10 nm in diameter can passively diffuse through the NPC, but if proteins are larger than this size-exclusion limit and/or are required to move against a concentration gradient, then transport requires energy-driven mechanisms [52] . In this case, most proteins should contain the appropriate trafficking motifs, such as NLS. The rules and signals that govern the nuclear localization of proteins are well defined. NLSs can be classified into several categories, including the pat4 and pat7 motifs and bipartite NLSs, are composed of basic amino acids of a given sequence length. The pat4 motif consists of a continuous stretch of (usually) four basic amino acids, and the pat7 motif starts with a proline residue and is followed by six amino acids [32, 53] . By contrast, the signals that govern nucleolar localization and retention are not well defined [26] . The motifs involved are usually rich in arginine and lysine residues; however there is no immediately obvious consensus sequence or structure. Proteins that localize to the nucleolus can also have nuclear-import motifs. The NoLSs that have been identified so far can be grouped into those that contain single motif and those that contain multiple motifs [54] . In this study, the living cells fluorescence microscopy and confocal microscopy were employed for investigating the subcellular localization and nuclear import and export mechanisms of PEDV N protein. It is well known that living cells fluorescence microscopy and confocal microscopy has an advantage over conventional in vitro nuclear transport assays in that cells are not physically damaged by microinjection, detergent, or mechanical perforation, this means that cellular components important for trafficking, such as nuclear import and export receptors, the MT network, intact [55, 56] . Our results indicated that PEDV N protein mainly distributes throughout the cytoplasm with localization to a substructure within the nucleolus in infected cells. Similar results were also obtained in transfected cells. To eliminate the influence of charged protein migration to the nucleolus post-fixation, and to investigate the nuclear (or nucleolar) localization of PEDV N protein and the functions of these motifs in more detail, we generated constructs that express the protein (or parts of the protein) as a fusion with enhanced green fluorescent protein. The protein could then be detected by direct fluorescence using both live-cell and confocal microscopy. No difference in the localization of either protein was observed between different cell lines, and the presence of a fluorescent tag at either the N terminus or C terminus of N protein did not affect the localization of the fusion protein compared with native protein [2, 4] . Furthermore, the B23.1 gene was amplified from the Vero E6 cells and then fused with DsRed in order to visualize the nucleolus. Transfection assay results indicated that AcGFP localized predominately to the cytoplasm and the nucleus, but not the nucleolus. The characteristics of AcGFP-N protein localized to either the cytoplasm alone or the cytoplasm and nucleolus, with a maximum of 60% of transfected cells exhibiting this phenotype at 24 h. Our studies indicated that fusing AcGFP with PEDV N protein increased the molecular weight of this protein (82 kDa) above the size exclusion limit of the nuclear pore complex, and it could not diffuse passively through the NPC. This result suggested that there must be some signals in N protein that determined the nucleolar localization. A number of viruses and viral proteins can disrupt nucleolar architecture [57] , and the N protein of coronavirus can also localize to the nucleolus in a cell cycle dependent manner and this may be related to dynamic trafficking [58] . A previous study of SARS-CoV indicated the N protein inhibited B23 phosphorylation and might influence ribosome biogenesis to suppress host gene expression and create a more favorable milieu for virus survival [25] , so the N protein of PEDV might take part in some cellular process. To investigate whether PEDV N protein contained a NoLS, the protein was expressed as a series of single and overlapping regions. This preliminary analysis indicated that PEDV N protein contained a NoLS in region 1. Deletion mutagenesis delineated amino acid PEDV N 71-90, a 20 aa motif that modulated nucleolar localization. Furthermore, comparison with cellular and viral NoLSs, the data indicated that R87 and R89 may be critical for the nucleolar localization. For the site of replication and virus assembly is the cytoplasm, if the subcellular localization of the nucleocapsid protein is in the nucleolar, then the protein is not available for RNA synthesis, encapsidation and assembly, and therefore progeny virus production might be less efficient. However, if such proteins do target the nucleolar as part of a virus replication strategy then they will contain appropriate targeting signals. Thus, these will include not only NLSs and NoLSs, but perhaps more importantly NES. By using a series of N deletion mutants fused to the AcGFP and tetra-alanine substitution mutagenesis, we identified two NES site in region 2 (aa221-236) and region 3 (aa325-364), but NES in region 2 was deleted in the context of full length N protein did not affect cytoplasm trafficking, suggesting that the NES presented in region 2 submissive to the NES in region 3 or not function. Furthermore, PEDV N protein nucleocytoplasmic shuttling was specifically blocked by LMB treatment suggested that PEDV N protein is transported via the classical CRM1-dependent pathway. Vero E6 was grown and maintained in Dulbecco's modified Eagle's medium supplemented with 10% heat-inactivated fetal calf serum and penicillin-streptomycin, and incubated at 37 °C in 5% CO 2 . Vero E6 cells were infected with PEDV strain CV777 kindly provided by Pensaert M B at MOI = 1, and were seeded and after 24 h for both indirect immunofluorescence assay and Western blot analysis. All enzymes used for cloning procedures were purchased from Takara (Dalian, China) except T4 DNA ligase from New England Biolabs (Ipswich, MA, USA). pDsRed-B23.1 encodes a fusion of DsRed protein to the amino terminus of B23.1 and pAcGFP-N encodes a C-terminally GFP-epitope-tagged version of PEDV N and has been previously described [59] . The regions and subregions were amplified by PCR using pAcGFP-N as a template. Primers incorporated 5' BamH I site and 3' Xho1 used for cloning into pET30a; Primers incorporated 5' Kpn I site and 3' Xho I site used for cloning into pcDNA3.1 and the other primers incorporated 5' Xhol I site and 3' Kpn I site used for cloning into pAcGFP-C1. The cloning procedures for constructing most of recombinant plasmids were similar and all primers are listed in Table 1 . At all times, numbers used in primer or construct names denoting amino acid numbers refer to their position on the full length N protein. For the Tetra-alanine substitution, each pair of oligonucleotide strands was annealed, and the resultant double-stranded DNA fragments were cloned into the vector pAcGFP-C1. Additionally, the NES of NR2 was deleted in the context of full-length N protein by overlapping PCR using forward primer 1-U and reverse primer 1-L (Table 1) to generate one PCR product and forward primer 2-U and reverse primer 2-L (Table 1) to generate the second PCR product. A second round of PCR was performed using both PCR products as templates and 1-U and 2-L as the forward and reverse primer, respectively. The resulting product was subcloned into pAcGFP-C1. All plasmid were confirmed by sequencing analysis.  The recombinant 6× His-tagged N protein was expressed in E. coli BL21 (DE3) cells after induction with 1 mM IPTG for 5 h in LB-medium at 37 °C . The recombinant protein was purified by a GravitrapTM affinity column (GE Healthcare, Bio-Sciences, Piscataway, NJ, USA) according to the manufacturer's instructions. BALB/c mice were immunized with 0.1~0.2 mg of purified recombinant N protein injected subcutaneously at multiple sites on the back. Booster injections were given two and four weeks later. Blood was drown from the mouse at the fifth week following the immunization, and the blood was allowed to clot at 4 °C and the antiserum was recovered by centrifugation at 5,000× g for 10 min at 4 °C . A control serum was made by injecting normal saline under the same conditions. The animal experiment was approved by Harbin Veterinary Research Institute and performed in accordance with animal ethics guidelines and approved protocols. The animal Ethics Committee approval number is Heilongjiang-SYXK-2006-032. On the day before transfection, 0.5~2 × 10 5 cells grown on 35 mm culture dishes so that 60%-80% confluent cell monolayers were transfected with plasmid DNA with Lipofectamine™ 2000 (Invitrogen, Groningen, Netherlands) according to the instructions of the manufacturer. Protein samples were collected 48 h after transfection by direct lysis of the cells in 5× SDS protein sample buffer with 5% 2-mercaptoethanol. The samples were boiled for 5 min, resolved with 12% SDS-PAGE, and blotted with the following antibodies. For the infection and transfection protein samples: the N protein polyclonal antiserum was the first antibody and IRDyeTM700DX Conjugated Affinity Purified anti-Mouse IgG (H&L)(Mouse) (LI-COR Biosciences, Lincoln, NE, USA) was the second antibody; The images were acquired by The ODYSSEYTM Infrared Imaging System (LI-COR). Vero E6 Cells were grown on coverslips and fixed 24 h post-infection (or post-transfection) with 50% methanol-50% acetone for analysis by indirect immunofluorescence using mouse anti-PEDV N polyclonal sera (1:50 dilution) followed by fluorescein isothiocyanate (FITC)-labeled goat anti-mouse antibody (Sigma, St Louis, MO, USA). The cells were washed twice with phosphate-buffered saline (PBS) and subjected to perforation using 0.2% Triton X-100. Then the cells were stained with propidium iodide (PI) (50 μg/mL) (Sigma) to visualize nuclear DNA. Samples were analyzed using fluorescence microscopy. For AcGFP and DsRed fusion expression constructs, co-transfection analyses were carried out. At 24 h post-transfection, subcellular localization properties in living cells were analyzed by laser confocal scanning microscope (Leica Laser Technik, Heidelberg, Germany) with appropriate filters. In order to better display the results at the time of identify the NES in the regions of NR2 and NR3, at 24 h after transfection, cells on glass cover slips were rinsed with PBS and subjected to fixation using 50% methanol-50% acetone for 30 min and permeabilized with 0.2% Triton X-100. Then the nuclear was stained with 4',6-diamidino-2-phenylindole (DAPI) (0.05μg /mL) (Sigma) and analyzed by confocal microscope. Cells were transfected with pAcGFP-N, pAcGFP-NR3, or pAcGFP-NR3 325-364 . At 18 h post-transfection, cells were washed with PBS followed by either treated with 2.5 ng/mL LMB diluted with medium or left in unsupplemented cell culture medium for a further 6 h, then analyzed by used confocal microscope. A NoLS (aa71-90) and a functional NES (aa325-364) of PEDV N protein were identified for the first time. Additionally, the N protein was demonstrated to transport between the nucleolus and the cytoplasm through the NES by CRM1-dependent pathway.\",\n",
       " 'APPENDIX B Federal Geospatial Data Sources Identified This appendix contains the 465 programs, offices, or major initiatives identified at 30 different federal agencies—namely the federal publicly accessible geospatial sources that we identified. These sources, and their corresponding Web sites, were found during the data collection phase of our research from spring 2002 through summer 2002. These Web sites were revisited during our analysis process that continued through spring 2003. However, since that time, some of these agency programs, offices, and initiatives and their corresponding Web sites may have changed or gone away. In addi- tion, there may be new programs, offices, or initiatives, or ones not identified in our extensive survey, that also make geospatial informa- tion publicly available. In most cases, this table lists agencies and major suborganiza- tions (such as subagencies) along with the Web site of interest for the major program, office, or initiative. However, in some cases, we go below the major program, office, or initiative level because of the diversity in federal agencies, their activities and data, and its relevance to critical sites. For example, EPA’s Envirofacts Data Warehouse con- tains data from different major regulatory programs, such as Resource Conservation and Recovery Act (RCRA) and water discharge permit information. 135 136 Mapping the Risks Table B.1 Federal Geospatial Data Sources Agency/ Title of Web Site for Program, Suborganization Office, or Initiative Location Architect of the Capitol Architect of the Capitol Web www.aoc.gov Site Capitol Visitor Center Capitol Visitor www.aoc.gov/cvc/cvc_ Project Office Center—Overview overview.htm Central Intelligence Central Intelligence Agency & www.cia.gov Agency Director of Central Intelligence Defense Nuclear Defense Nuclear Facilities www.dnfsb.gov Facilities Safety Board Safety Board Department of United States Department of www.usda.gov Agriculture (USDA) Agriculture’s Home Page Agricultural Market- AMS at USDA—AMS Food www.ams.usda.gov/cp/ ing Service Purchase Resources—Main Menu AMS at USDA, Fruit and www.ams.usda.gov/fv/ Vegetable Programs, Fresh fpbdigimage.html Product Standards and Quality Certification Auditing Services www.ams.usda.gov/lsg/ arc/audit.htm Livestock and Grain Reports www.ams.usda.gov/lsg/ mncs/index.htm AMS at USDA—Science and www.ams.usda.gov/ Technology—Pesticide Data science/pdp/index.htm Program Grain Transportation Report www.ams.usda.gov/ Homepage tmd/grain.htm Agricultural Research USDA-ARS Hydrology and http://hydrolab.ars Service Remote Sensing Laboratory usda.gov Animal and Plant Animal and Plant Health www.aphis.usda.gov Health Inspection Inspection Service (APHIS) Service CAHM [Center for Animal www.aphis.usda.gov/ Health Monitoring] Home Page vs/ceah/cahm/index. htm Federal Geospatial Data Sources Identified 137 Table B.1—Continued Agency/ Title of Web Site for Program, Suborganization Office, or Initiative Location USDA (cont.) Animal and Plant Plant Protection and www.aphis.usda.gov/ Health Inspection Quarantine ppq/ Service (cont.) Emergency Management www.aphis.usda.gov/vs Response System (EMRS) /ep/emrs.html Cooperative State Cooperative State Research, www.reeusda.gov Research, Education, Education, and Extension and Extension Service Service (CSREES) of USDA Economic Research ERS/USDA Data www.ers.usda.gov/ Service Data/ Farm Service Agency Farm Service Agency— www.fsa.usda.gov US Department of Agriculture (USDA-FSA)—Entry Page Aerial Photography Field Office www.apfo.usda.gov Home Page Welcome to the Farm Service www.fsa.usda.gov/ Agency—Commodity Opera- daco/default.htm tions Food Safety Inspection Office of Policy, Program www.fsis.usda.gov/ Service Development and Evaluation OPPDE/op/ Home Page OPHS [Office of Public Health www.fsis.usda.gov/ and Science] Home Page OPHS/ophshome.htm TSC [Technical Service Center] www.fsis.usda.gov/ Home Page OFO/TSC/ Foreign Agricultural U.S. Trade Internet System www.fas.usda.gov/ Service ustrade/ Forest Service USDA Forest Service— www.fs.fed.us Caring for the Land and Serving People Fire and Aviation Management www.fs.fed.us/fire/fire_ new/ USDA Forest Service www.fs.fed.us/aboutus /org_chart.shtml 138 Mapping the Risks Table B.1—Continued Agency/ Title of Web Site for Program, Suborganization Office, or Initiative Location USDA (cont.) Forest Service (cont.) GIS Coverages [Roadless Areas] www.roadless.fs.fed.us /documents/feis/data/ gis/coverages/index. shtml GIS [Wasatch-Cache National www.fs.fed.us/wcnf/ Forest GIS Page] gis/ Grain Inspection, Grain Inspection www.usda.gov/gipsa/ Packers, and Stock- yards Administration National Agricultural AgNIC System Engineer www.agnic.org Library National Agricultural USDA-NASS, State Statistical www.usda.gov/nass/ Statistics Service Offices Home Page sso-rpts.htm South Dakota Agricultural www.nass.usda.gov/sd/ Statistics Service USDA, NASS, Research Division www.nass.usda.gov/ research/avhrr/avhrr mnu.htm Natural Resources Natural Resources Conservation www.nrcs.usda.gov/ Conservation Service Service USDA: NRCS: Geospatial Data www.lighthouse.nrcs. Gateway: Home usda.gov/gateway/ gatewayhome.html National Resources Inventory: www.nrcs.usda.gov/ NRCS [National Resources technical/NRI/ Inventory] USDA-NRCS Soils & Soil Survey www.statlab.iastate. edu/soils/nssc/ Regional and State Offices: www.nrcs.usda.gov/ NRCS about/organization/ regions.html Office of Community Rural Empowerment Zones and www.ezec.gov Development Enterprise Communities Inter- net Home Page Federal Geospatial Data Sources Identified 139 Table B.1—Continued Agency/ Title of Web Site for Program, Suborganization Office, or Initiative Location USDA (cont.) Risk Management Welcome to the RMA Web www.rma.usda.gov Agency Rural Development USDA Rural Development— www.rurdev.usda.gov/ About Us rd/ Rural Utilities Service Rural Utilities Service www.usda.gov/rus/ Department of Department of Commerce www.commerce.gov Commerce (DOC) Home Page Bureau of Economic Gross Domestic Product (GDP) www.bea.doc.gov Analysis and Other US Economic Data from the Bureau of Economic Analysis Bureau of Industry The Home Page of the Bureau www.bis.doc.gov and Security of Industry and Security (Bureau of Export (Formerly Bureau of Export Administration) Administration) Bureau of the Census Census Bureau Home Page www.census.gov U.S. Census Bureau Geography www.census.gov/geo/ Web Page www/index.html LandView Main Page www.census.gov/geo/ landview/ International Trade International Trade www.trade.gov Administration Administration—Home Page National Institute of National Institute of Standards www.nist.gov Standards and Tech- and Technology nology National Oceanic and NOAA Home Page www.noaa.gov Atmospheric Administration Center for Operational www.co-ops.nos.noaa. Oceanographic Products and gov Services (CO-OPS) Homepage NOAA Coastal Services Center www.csc.noaa.gov 140 Mapping the Risks Table B.1—Continued Agency/ Title of Web Site for Program, Suborganization Office, or Initiative Location DOC (cont.) National Oceanic and NOAA CSC Products www3.csc.noaa.gov/CS Atmospheric Cweb/genericPage.asp? Administration (cont.) bin=10 NOAA CoastWatch Central coastwatch.noaa.gov Operations Homepage NCDC: National Climatic Data www.ncdc.noaa.gov/ Center (NCDC) oa/ncdc.html National Data Buoy Center www.ndbc.noaa.gov Geostationary Satellite Server www.goes.noaa.gov U.S. DoC/NOAA/NOS/National www.ngs.noaa.gov Geodetic Survey USDOC/NOAA/NESDIS/National www.ngdc.noaa.gov Geophysical Data Center (NGDC) Home Page NOAA Fisheries www.nmfs.gov NOAA’s National Ocean Service http://oceanservice. noaa.gov/ National Virtual Data System www.nvds.noaa.gov NOAA—National Weather www.nws.noaa.gov Service Office of Coast Survey— http://chartmaker.ncd. Marine Chart Division noaa.gov/mcd/ About Us—CPRD http://response.restora tion.noaa.gov/cpr/ aboutus/aboutus.html NOAA Office of Response and http://response.restora Restoration tion.noaa.gov/index. html Critical Infrastructure CIAO Home Page www.ciao.gov Assurance Office National Technical NTIS www.ntis.gov Information Service Federal Geospatial Data Sources Identified 141 Table B.1—Continued Agency/ Title of Web Site for Program, Suborganization Office, or Initiative Location DOC (cont.) Patent and Trademark United States Patent and www.uspto.gov Office Database Trademark Office Home Page STAT-USA Database STAT-USA/Internet: Home Page www.stat-usa.gov Department of Defense (DoD) Aberdeen Proving Environmental Activities at http://web1.ead.anl. Ground J-Field, Aberdeen Proving gov/jfield/ Ground, Maryland (Hosted by DOE ANL) Army Corps of Coastal and Hydraulics http://chl.wes.army.mil Engineers Laboratory Welcome to www. www.evergladesplan. evergladesplan.org org IWR Home Page www.iwr.usace.army. mil Los Angeles District—Reservoir www.spl.usace.army. Regulation Station mil/resreg/ National Inventory of Dams http://crunch.tec.army. mil/nid/webpages/nid. cfm Corps of Engineers Navigation www.wrsc.usace.army. Data Center (NDC) Maintaining mil/ndc/index.htm Databases of Waterborne Com- merce, Domestic Commercial Vessels, Port Facilities, Lock Facilities and Lock Operations, and Navigation Dredging Projects Where We Are—US Army Corps www.usace.army.mil/ of Engineers where.html#State Rock Island District—U.S. Army www.mvr.usace.army. Corps of Engineers mil 142 Mapping the Risks Table B.1—Continued Agency/ Title of Web Site for Program, Suborganization Office, or Initiative Location DoD (cont.) Army Corps of NIC—Navigation Information www.mvr.usace.army. Engineers (cont.) Connection mil/navdata/Default. htm Water Management Center http://water.mvr.usace. army.mil USAED–St Paul Water Control www.mvp-wc.usace. Center Public Web Server army.mil PCASE–Airfield Road www.pcase.com/ Transportation Software screenshots.htm (USACE Transportation Systems Center) Airfield & Pavements http://pavement.wes. Branch—Roads, Airfields, army.mil Railroads—Transportation Software Army National Guard Army National Guard—ARNG www.arng.army.mil Engineer Research and Tri-Service Civil Works www.nww.usace.army. Development Center CADD/GIS/FM Registry and mil/apps/tscwrc/ Clearinghouse Fort Belvoir Welcome to the Fort Belvoir www.belvoir.army.mil Home Page Military Traffic Military Traffic Management www.tea.army.mil/ Management Command Transportation DATA/default.htm Command Engineering Agency (MTMCTEA) National Imagery and NIMA www.nima.mil Mapping Agency NIMA: Aeronautical Information https://164.214.2.62/pro ducts/digitalaero/index. html NIMA: Airfield Initiative Program http://164.214.2.62/pro ducts/rbai/index.html Geospatial Engine http://geoengine.nima. mil NIMA: (U) Geospatial Sciences http://164.214.2.59/ Division (Unclassified) GandG/ Federal Geospatial Data Sources Identified 143 Table B.1—Continued Agency/ Title of Web Site for Program, Suborganization Office, or Initiative Location DoD (cont.) National Imagery and Digital Nautical Chart (DNC) www.nima.mil/cda/ Mapping Agency Home Page (Maritime Safety article/0,2311,3104_ (cont.) Information Division) 12135_118824,00.html National Reconnais- National Reconnaissance Office www.nro.gov sance Office Office of the Secretary DefenseLINK—Official Web www.defenselink.mil of Defense Site of the U.S. Department of Defense Other DoD FY02 Base Structure Report www.defenselink.mil/ Installations news/Jun2002/base structure2002.pdf United States Air USAF GeoBase Information https://www.il.hq.af. Force Portal mil/geobase/ Environmental Management www.eglin.af.mil/em/ Virtual Tours virtualtours/index.htm Base Map http://web.archive.org/ web/20010131233500/ www.macdill.af.mil/ BaseMap.asp United States Air The Air Force Research www.afrl.af.mil Force Research Lab Laboratory Splash Page Model Based Vision Library www.mbvlab.wpafb. af.mil United States Army The United States Army www.army.mil Homepage United States Navy U.S. Navy Office of the www.chinfo.navy.mil Information Department of Energy U.S. Department of Energy www.doe.gov (DOE) Home Page Alternative Fuels Data Alternative Fuels Data Center www.afdc.doe.gov Center Home Ames National Ames Laboratory Home Page www.external.ames Laboratory lab.gov/ 144 Mapping the Risks Table B.1—Continued Agency/ Title of Web Site for Program, Suborganization Office, or Initiative Location DOE (cont.) Argonne National Lab Argonne National Laboratory www.anl.gov Home Page ANL-West—Home Page www.anlw.anl.gov Bonneville Power Bonneville Power Admini- www.bpa.gov/ Marketing Admini- stration corporate/kc/home/ stration index.cfm Brookhaven National Brookhaven National www.bnl.gov/world/ Laboratory Laboratory BNL Environmental Restoration www.bnl.gov/erd/ Division Waste Management Division www.bnl.gov/wmd/ Carlsbad Field Office WIPP [Waste Isolation Pilot www.wipp.carlsbad. Plant] Home Page nm.us/ Departmental Facility Representative Home www.facrep.org Representative to the DNFSB [Defense Nuclear Facilities Safety Board] Energy Efficiency and Distributed Energy Resources www.eere.energy.gov/ Renewable Energy Home der/ Network U.S. Department of Energy www.eere.energy.gov/ Building Technologies Program buildings/index.cfm Home Page Energy Information Energy Information www.eia.doe.gov Administration Administration Home Page U.S. Energy Information www.eia.doe.gov/ Administration: Office of Coal, cneaf/ Nuclear, Electric and Alternate Fuels Coal Home Page www.eia.doe.gov/ fuelcoal.html Electricity Home Page www.eia.doe.gov/ fuelelectric.html Federal Geospatial Data Sources Identified 145 Table B.1—Continued Agency/ Title of Web Site for Program, Suborganization Office, or Initiative Location DOE (cont.) Energy Information Notice to Readers www.eia.doe.gov/ Administration (cont.) emeu/reps/eimap/ei_ contents.html Environmental EML: Environmental www.eml.doe.gov Measurements Measurements Laboratory Laboratory Federal Energy Federal Energy Regulatory www.ferc.gov Regulatory Commission Commission Fermi National Fermi National Accelerator www.fnal.gov Research Laboratory Laboratory Grand Junctions Office U.S. Department of Energy http://lts1.gjo.doe.gov Grand Junction Office (Long-Term Surveillance and Maintenance Program) Idaho National Engi- Idaho National Engineering www.inel.gov neering and Environ- and Environmental Laboratory mental Laboratory Environmental Monitoring— www.inel.gov/environ INEEL ment/monitoring/ Independent DOE Independent Oversight www.oa.doe.gov Oversight and and Performance Assurance Performance Program Assurance Office Lawrence Berkeley Lawrence Berkeley National www.lbl.gov National Lab Laboratory National Energy Strategic Center for Natural www.netl.doe.gov/ Technology Gas—National Energy scng/ Laboratory Technology Laboratory National Nuclear National Nuclear Safety www.nnsa.doe.gov Security Admini- Administration stration National Renewable National Renewable Energy www.nrel.gov Energy Laboratory Laboratory (NREL) Home Page 146 Mapping the Risks Table B.1—Continued Agency/ Title of Web Site for Program, Suborganization Office, or Initiative Location DOE (cont.) National Renewable Wind Energy Resource Atlas of http://rredc.nrel.gov/ Energy Laboratory the United States wind/pubs/atlas/ (cont.) National Spent Welcome to the National Spent http://nsnfp.inel.gov Nuclear Fuel Program Nuclear Fuel Program Home Page National Transporta- TRAGIS http://apps.ntp.doe. tion Program gov/tragis/tragis.htm Nevada Field DOE/NA—U.S. Department of www.nv.doe.gov/ Operations Office Energy Nevada Site Office Default.htm Oak Ridge National Oak Ridge National Laboratory www.ornl.gov Laboratory (Oak Ridge ORNL Science Technology Transfer Research Development) Geographic Information www.ornl.gov/gist/ Science & Technology, ORNL gisthome.html ORNL ESD GIS Facility http://wag21.esd.ornl. Homepage gov Oak Ridge Operations Oak Ridge Operations— www.oakridge.doe. Office US Department of Energy gov Office of Civilian OCRWM—Office of Civilian www.ocrwm.doe.gov Radioactive Waste Radioactive Waste Manage- Management ment Office of Environ- U.S. Department of Energy www.em.doe.gov/ mental Management Office of Environmental index4.html Management (EM) Office of Fissile Function: Threat Reduction www.nn.doe.gov/ Materials Disposition functions_threat.shtml Office of Fossil Energy DOE Fossil Energy— www.fe.doe.gov/oil_ Natural Gas Regulation gas/im_ex/ DOE-Fossil Energy: Strategic www.fe.doe.gov/spr/ Petroleum Reserve Storage site_descriptions/spr_ Sites sites.html Federal Geospatial Data Sources Identified 147 Table B.1—Continued Agency/ Title of Web Site for Program, Suborganization Office, or Initiative Location DOE (cont.) Office of Nuclear Office of Nuclear Energy, Science www.ne.doe.gov Energy, Science and and Technology—DOE Technology Ohio Field Office The Ohio Field Office www.ohio.doe.gov Pacific Northwest Pacific Northwest National www.pnl.gov National Laboratory Laboratory NorthWest Infrared (Remote https://secure.pnl.gov/ Sensing and Electro Optics) nsd/NSD.nsf/Welcome? OpenForm Richlands Operations Environmental Restoration www.bhi-erc.com/ Office Projects projects/ Sandia National Sandia National Laboratories www.sandia.gov/ Laboratories Main.html Transportation Risk & Packaging http://ttd.sandia.gov/ at Sandia National Laboratories risk/gis.htm Southwestern Power Southwestern Power Marketing www.swpa.gov/index. Marketing Admini- Administration html stration Stanford Linear Welcome to SLAC (Stanford www.slac.stanford.edu Accelerator Center Linear Accelerator Center) Thomas Jefferson Thomas Jefferson National www.jlab.org National Accelerator Accelerator Facility Facility Thomas Jefferson Integrated Emergency www.jlab.org/intralab/ National Accelerator Management emergency/ Facility Western Area Power Western Area Power www.wapa.gov Marketing Admini- Administration Home Page stration Yucca Mountain Site Yucca Mountain Project Home www.ymp.gov Office Page Department of Health United States Department of www.hhs.gov and Human Services Health and Human Services (DHHS) 148 Mapping the Risks Table B.1—Continued Agency/ Title of Web Site for Program, Suborganization Office, or Initiative Location DHHS (cont.) Administration for Administration for Children www.acf.dhhs.gov Children and Families and Families Home Page Agency for Healthcare Agency for Healthcare Research www.ahrq.gov Research and Quality and Quality (AHRQ) Home Page Center for Medicare Centers for Medicare & www.hcfa.gov and Medicaid Services Medicaid Services (Formerly (HCFA deprecated) HCFA) Centers for Disease Centers for Disease Control and www.cdc.gov Control and Pre- Prevention vention ATSDR—Agency for Toxic www.atsdr.cdc.gov Substances and Disease Registry/U.S. Dept. of Health and Human Services Division of Public Health www.cdc.gov/epo/ Surveillance and Informatics dphsi/ Chronic Disease Prevention www.cdc.gov/nccdphp/ National Center for Envi- www.cdc.gov/nceh/ ronmental Health ncehhome.htm National Center for Health www.cdc.gov/nchs/ Statistics National Center for Infectious www.cdc.gov/ncidod/ Diseases National Center for Injury www.cdc.gov/ncipc/ Prevention and Control Home Page NIP [National Immunization www.cdc.gov/nip/ Program]: Public Home Page NIOSH—The National Institute www.cdc.gov/niosh/ for Occupational Safety and homepage.html Health Federal Geospatial Data Sources Identified 149 Table B.1—Continued Agency/ Title of Web Site for Program, Suborganization Office, or Initiative Location DHHS (cont.) Centers for Disease NIOSH Mining Safety and www.cdc.gov/niosh/ Control and Health Research mining/ Prevention (cont.) Food and Drug Office of Regulatory Affairs www.fda.gov/ora/ Administration Start Page on the FDA Web Health Resources and HRSA [Health Resources and www.hrsa.gov Services Administra- Services Administration] tion Indian Health Service Indian Health Service— www.ihs.gov About IHS National Institutes of National Institutes of Health www.nih.gov Health (NIH) Substance Abuse and The Substance Abuse & Mental www.samhsa.gov Mental Health Services Health Services Administration Administration SAMHSA Department of Housing Homes and Communities— www.hud.gov and Urban Develop- U.S. Department of Housing ment (HUD) and Urban Development (HUD) Office of Multifamily Office of Multifamily Housing www.hud.gov/offices/ Housing Programs Programs—HUD hsg/hsgmulti.cfm Policy Development Welcome to HUD USER— www.huduser.org and Research Policy Development and Research’s Information Service Department of Justice (DOJ) Drug Enforcement Drug Enforcement www.usdoj.gov/dea/ Agency Administration Home index.htm Federal Bureau of Federal Bureau of Investigation www.fbi.gov Investigation Home Page Federal Bureau of BOP Home Page www.bop.gov Prisons 150 Mapping the Risks Table B.1—Continued Agency/ Title of Web Site for Program, Suborganization Office, or Initiative Location DOJ (cont.) Immigration and USINS INS Internet Home Page www.ins.usdoj.gov/ Naturalization Service graphics/index.htm National Archive of Access Data www.icpsr.umich.edu/ Criminal Justice Data NACJD/archive.html Office of Justice Bureau of Justice Statistics http://149.101.22.40/ Programs Crime & Justice Data Online dataonline/Search/ Crime/Crime.cfm Mapping Tools www.ojp.usdoj.gov/ cmrc/ Crime Mapping Research www.icpsr.umich.edu/ Center Homepage ORG/Publications/ NACJD/nij2000.pdf Office for Domestic Pre- www.ojp.usdoj.gov/ paredness Homepage odp/ United States U.S. Attorneys’ Offices www.usdoj.gov/usao/ Attorney Offices offices/index.html United States Marshals U.S. Marshals Service— www.usdoj.gov/ Service District Offices marshals/usmsofc.html Department of Labor (DOL) Bureau of Labor At a Glance Tables www.bls.gov/eag/ Statistics home.htm Geographic Profile of www.bls.gov/gps/ Employment and Unem- home.htm ployment Home Page Department of State US Department of State: www.state.gov (DOS) Home Page Bureau of Intelligence Bureau of Intelligence and www.state.gov/s/inr/ and Research Research International Home www.ibwc.state.gov Boundary and Water Crossings Federal Geospatial Data Sources Identified 151 Table B.1—Continued Agency/ Title of Web Site for Program, Suborganization Office, or Initiative Location DOS (cont.) Office of Protocol Office of Protocol www.state.gov/s/cpr/ U.S. Embassies U.S. Dept of State FOIA www.foia.state.gov/ [Freedom of Information Act] mms/KOH/keyofficers. Electronic Reading Room asp Department of the Department of the Interior www.doi.gov Interior (DOI) Bureau of Indian This Website Is Temporarily www.doi.gov/bureau- Affairs Unavailable indian-affairs.html Bureau of Land BLM AML Inventory Page—Link www.blm.gov/aml/ Management to AMLS [Abandoned Mine amlis.htm Lands Information System] Bureau of Land Management www.ak.blm.gov National Web Page (Alaskan Regional Office) BLM Arizona—Lake Havasu www.az.blm.gov/gps/ Field Office GPS Maps gps.htm Download GCDB Data www.ca.blm.gov/ cadastral/readme.html BLM Colorado—Browse Page www.co.blm.gov/ browse/browse_2_13. htm BLM-ES Home Page (Eastern www.es.blm.gov/ States Regional Office) Home—BLM GLO [General www.glorecords.blm. Land Office] Records gov GeoCom Explorer www.geocommuni cator.gov/explorer Land Survey Information www.lsi.blm.gov/ System website/lsi/viewer.htm? Title=Land%20Survey %20Information Geospatial Support Team www.blm.gov/gis/ Idaho Bureau of Land www.id.blm.gov Management 152 Mapping the Risks Table B.1—Continued Agency/ Title of Web Site for Program, Suborganization Office, or Initiative Location DOI (cont.) Bureau of Land WIS [Well Information System] www.wispermits.org Management (cont.) Home Page BLM Montana/Dakotas Home www.mt.blm.gov Page NARSC [National Applied www.blm.gov/gis/ Resource Sciences Center] GIS narsc/ National Landscape Con- www.blm.gov/nlcs/ servation System Map map.htm BLM Public Lands & www.blm.gov/nstc/ Administrative Jurisdictions jurisdictions/ Mineral Materials DB http://158.68.233.67/ minerals.nsf?Open Database Nevada BLM Home www.nv.blm.gov BLM, New Mexico, Oklahoma, www.nm.blm.gov Kansas, Texas BLM Oregon/Washington State www.or.blm.gov Office: Home Page Information Resources www.or.blm.gov/gis/ Management/GIS Website— index.asp BLM, Oregon/Washington GCDB [Geographic Coordinate www.blm.gov/gcdb/ Data Base] National Home Page (Public Land Survey System: Cadastral Survey) BLM Utah Home Page www.ut.blm.gov GIS (Mapping Sciences) www.ut.blm.gov/geo sciences/mappingsci/ gis.html Bureau of Land Management www.wy.blm.gov Wyoming Bureau of Bureau of Reclamationtion [sic] www.usbr.gov Reclamation Home Page Federal Geospatial Data Sources Identified 153 Table B.1—Continued Agency/ Title of Web Site for Program, Suborganization Office, or Initiative Location DOI (cont.) Bureau of Bureau of Reclamation www.usbr.gov/power/ Reclamation (cont.) Hydropower Program USBR RSGIS Archive Library www.rsgis.do.usbr.gov/ html/archives.html Water Operations Information www.usbr.gov/main/ Within the Bureau of Recla- water/ mation Great Plains Region— www.gp.usbr.gov Bureau of Reclamation Bureau of Reclamation— www.usbr.gov/lc/ Lower Colorado Region region/ Welcome to the Mid-Pacific www.mp.usbr.gov/ Region Homepage U.S. Department of the www.usbr.gov/niwqp/ Interior—National Irrigation index.html Water Quality Program Bureau of Reclamation www.usbr.gov/pn/ (Pacific Northwest Region) Upper Colorado Region, www.uc.usbr.gov/wrg/ US Bureau of Reclamation: index.html Home Page U.S.–Mexico Border DOI Field Cooridinating www.cerc.usgs.gov/fcc/ Field Coordinating Committe [sic] Home Page Committee Fish and Wildlife Environmental Conservation http://ecos.fws.gov Service Online System GIS—U.S. Fish and Wildlife www.fws.gov/data/ Service (Information Resources gishome.html Management: National Data Administration Office) Migratory Bird Data Center http://birddata.fws.gov Home Page National Wetlands Inventory http://wetlands.fws.gov Home Page 154 Mapping the Risks Table B.1—Continued Agency/ Title of Web Site for Program, Suborganization Office, or Initiative Location DOI (cont.) Fish and Wildlife U.S. Fish & Wildlife Service: http://southwest.fws. Service (cont.) Southwest Region 2 gov Welcome to the Great Lakes– www.midwest.fws.gov Big Rivers Region Region 4: U.S. Fish and Wildlife http://southeast.fws. Service Home gov North Carolina Endangered http://nc-es.fws.gov/ and Threatened Species es/es.html Welcome to the Northeast http://northeast.fws. Region, U.S. Fish and Wildlife gov/ Service Region 6, the Mountain-Prairie http://mountain- Region, U.S. Fish and Wildlife prairie.fws.gov/ Service USFWS Alaska: Alaska Region www.r7.fws.gov U.S. Fish and Wildlife Service, www.r1.fws.gov Pacific Region Mineral Management MMS Home Page www.mms.gov Service Minerals Revenue Management www.mrm.mms.gov Home Page Offshore Minerals www.mms.gov/ Management Home Page offshore/ Minerals Management www.mms.gov/alaska/ Service—Alaska Region Homepage Minerals Management www.gomr.mms.gov/ Service—Gulf of Mexico index.html Region Homepage POCSR Home Page www.mms.gov/omm/ pacific/ National Park Service National Park Service— www.nps.gov Experience Your America Federal Geospatial Data Sources Identified 155 Table B.1—Continued Agency/ Title of Web Site for Program, Suborganization Office, or Initiative Location DOI (cont.) National Park Service GIS—National Park Service www.nps.gov/gis/ (cont.) Geographic Information Systems (GIS) National Archeological www.cast.uark.edu/ Database: MAPS other/nps/maplib/ CRGIS Community Base Station www2.cr.nps.gov/gis/ (Cultural Resources Mapping & basestation/index.htm GIS) Inventory of Historic Light www.cr.nps.gov/ Stations—Summary List by State maritime/ltsum.htm (Marine Heritage Program) National Historic Landmarks http://tps.cr.nps.gov/ Program (NHL) nhl/ Using the NRIS—National www.cr.nps.gov/nr/ Register of Historic Places research/nris.htm Research Page National Trails System: Home www.ncrc.nps.gov/ (National Center for Recreation programs/nts/index. & Conservation) html Species in Parks: Flora and http://ice.ucdavis.edu/ Fauna Databases (Information nps/ Center for the Environment— ICE) Office of Surface Office of Surface Mining Home www.osmre.gov Mining Page Office of Surface Mining www.avs.osmre.gov Applicant/Violator System Office Website Mine Map Repository Home mmr.osmre.gov Page United States Home Page of the USGS Atlas of http://usarc.usgs.gov/ Geological Survey Antarctic Research antarctic_atlas/ NBII Clearinghouse Search http://mercury.ornl. (National Coal Resources Data gov/nbii/ System) 156 Mapping the Risks Table B.1—Continued Agency/ Title of Web Site for Program, Suborganization Office, or Initiative Location DOI (cont.) United States Center for Integration of http://cindi.usgs.gov Geological Survey Natural Disaster Information (cont.) (CINDI) Index Page Noga Online—Choose a Map http://certmapper.cr. usgs.gov/noga/servlet/ MapWindowServ EarthExplorer http://edcsns17.cr.usgs. gov/EarthExplorer/ USGS ESIC: Earth Science http://mapping.usgs. Information Centers gov/esic/esic_index. html USGS GEO-DATA Explorer http://dss1.er.usgs.gov USGS Mapping Information: http://geonames.usgs. Geographic Names Information gov System (GNIS) USGS Geologic Information— http://pubs.usgs.gov/ Maps products/maps/ Earth Science Data on the http://edcwww.cr.usgs. Global Land Information System gov/webglis/ USGS: Maps on Demand http://rockyweb.cr.usgs. gov/mod/index.html Digital Raster Graphics http://mcmcweb.er. usgs.gov/drg/ U.S. Geological Survey: Mineral http://mrdata.usgs.gov/ Resources On-Line Spatial Data index.html EarthExplorer Map Finder http://edcwww.cr.usgs. (Photofinder/NAPP) gov/Webglis/glisbin/ finder_main.pl?dataset _name=NAPP National Atlas of the United http://nationalatlas.gov States /natlas/natlasstart.asp US COALQUAL Database http://energy.er.usgs.g Introduction (National Coal ov/products/databases/ Resources Data System) CoalQual/intro.htm Federal Geospatial Data Sources Identified 157 Table B.1—Continued Agency/ Title of Web Site for Program, Suborganization Office, or Initiative Location DOI (cont.) United States USGS National Geologic Map http://ngmdb.usgs.gov Geological Survey Database (National Coopera- (cont.) tive Geologic Mapping Pro- gram) USGS Geography Informational http://mapping.usgs. Home Page gov/ EROS Data Center, Sioux Falls, http://edc.usgs.gov/ SD geodata/ USGS EDC: National Elevation http://edcnts12.cr.usgs. Dataset Home Page gov/ned/ GISDATA Map Studio http://gisdata.usgs.net USGS Topographic Maps Home http://mcmcweb.er. Page usgs.gov/topomaps/ Gateway to the Earth: http://orxddwimdn.er. Project/NAWQA Program usgs.gov/servlet/page?_ pageid=543&_dad= portal30&_schema= PORTAL30 USGS Rocky Mountain Mapping http://rockyweb.cr. Center usgs.gov TerraServer Homepage http://terraserver. homeadvisor.msn.com/ default.asp USGS Geography: The National http://nationalmap. Map usgs.gov USGS—Water Resources of the http://water.usgs.gov United States (Water Resources Division) Current USGS Streamgage http://water.usgs.gov/ Network nsip/nsipmaps/current gages.html Ground-Water Data for the http://waterdata.usgs. Nation (National Water gov/nwis/gw Inventory System) 158 Mapping the Risks Table B.1—Continued Agency/ Title of Web Site for Program, Suborganization Office, or Initiative Location DOI (cont.) United States Water-Quality Data for the http://waterdata.usgs. Geological Survey Nation (National Water gov/nwis/qw (cont.) Inventory System) Surface-Water Data for the http://waterdata.usgs. Nation (National Water gov/nwis/sw Inventory System) USGS Drinking Water Programs http://water.usgs.gov/ (Office of Water Quality) owq/dwi/ USGS Water Resources http://water.usgs.gov/ Applications Software software/ Digital Orthophoto www-wmc.wr.usgs. Quadrangles gov/doq/ Geopubs—USGS Western http://geopubs.wr.usgs. Region Geological Publications gov Department of Transportation (DOT) Bureau of Trans- 2001 National Transportation http://websas.bts.gov/ portation Statistics Atlas Data website/ntad/main download.html BTS—Geographic Information www.bts.gov/gis/ Services (2001 National ntatlas/facilities.html Transportation Atlas Data: Transportation Facilities) National Transportation Data www.bts.gov/ntda/ Archive (NTDA) USDOT: BTS: NTL: TRIS Online http://199.79.179.82/ sundev/search.cfm BTS—Airline Information www.bts.gov/oai/ Federal Aviation FAA—FAA Home Page www.faa.gov Administration FAA—AIS—Cartographic www.faa.gov/nfdcata Standards—Obtaining 100/130/130obta.html Aeronautical Charts Federal Geospatial Data Sources Identified 159 Table B.1—Continued Agency/ Title of Web Site for Program, Suborganization Office, or Initiative Location DOT (cont.) Federal Aviation The National Aviation Safety http://nasdac.faa.gov Administration (cont.) Data Analysis Center Notices to Airmen www1.faa.gov/ntap/ SPECIALNOTAMS/ Federal Aviation Admini- www.faa.gov/avr/aai/ stration Office of Accident iirform.htm Investigation ASD 400—Investment Analysis www1.faa.gov/asd/ and Operations Research ia-or/ Commercial Space http://ast.faa.gov Transportation—FAA/AST Commercial Space http://ast.faa.gov Transportation—FAA/AST (Operations at Towered Airports) Aviation Information http://av-info.faa.gov Runway Safety www.faarsp.org National Aeronautical Charting www.naco.faa.gov Office—NACO (Aviation System Standards) Federal Highway Central Federal Lands Highway www.cflhd.gov Administration Division Eastern Federal Lands Highway www.efl.fhwa.dot.gov Division National Scenic Byways Online www.byways.org Highway Performance www.fhwa.dot.gov/ Monitoring System ohim/hpmspage.htm (HPMS—Office of Highway Policy Information—FHWA) Office of Highway Policy www.fhwa.dot.gov/ Information Home Page ohim/ Office of Safety Home Page http://safety.fhwa.dot. gov 160 Mapping the Risks Table B.1—Continued Agency/ Title of Web Site for Program, Suborganization Office, or Initiative Location DOT (cont.) Federal Motor Carrier A&I [Analysis and Information http://ai.volpe.dot.gov/ Safety Administration Online] mcspa.asp National Hazardous Material http://hazmat.fmcsa. Route Registry dot.gov/ SAFER Web www.safersys.org/ CSP_Order.asp Federal Motor Carrier Safety www.fmcsa.dot.gov/ Administration—Performance factsfigs/prism.htm and Registration Information Systems Federal Railroad Automated Track Inspection http://atip.ensco.com Administration Program FRA Office of Safety Homepage http://safetydata.fra. dot.gov/OfficeofSafety/ Federal Transit Welcome to the National www.ntdprogram.com/ Administration Transit Database NTD/ntdhome.nsf? OpenDatabase Maritime Office of Ship Operations www.marad.dot.gov/ Administration Offices/Ship/ Office of Statistical & Economic www.marad.dot.gov/ Analysis statistics/usfwts/ National Highway NHTSA—National Highway www.nhtsa.dot.gov Traffic Safety Traffic Safety Administration Administration NCSA—Available Information www-nrd.nhtsa.dot. gov/departments/nrd- 30/ncsa/TextVer/CID. html NCSA—State Data System www-nrd.nhtsa.dot. gov/departments/nrd- 30/ncsa/SDS.html Research and OET/TEM Transportation www.rspa.dot.gov/oet/ Special Programs Emergency Management Administration Federal Geospatial Data Sources Identified 161 Table B.1—Continued Agency/ Title of Web Site for Program, Suborganization Office, or Initiative Location DOT (cont.) Research and Contact Information http://ops.dot.gov Special Programs Administration (cont.) Welcome to the Hazmat Safety http://hazmat.dot.gov Home Page Saint Lawrence Great Lakes St. Lawrence www.greatlakes- Seaway Development Seaway System: Seaway Map seaway.com/en/seaway Corporation map/index.html Surface Transporta- Surface Transportation www.stb.dot.gov tion Board Board—Home Page Transportation TSA—Transportation Security www.tsa.gov/trav_ Security Admini- Administration consumers/airports. stration shtm United States Coast POISE Contains Maritime www.uscg.mil/ Guard safeports/ MSO Mobile—Local Marine www.uscg.mil/d8/ Safety Information Bulletin mso/mobile/Gstrp/ Page mainGSTRP.htm National Response Center: www.nrc.uscg.mil Intro Page DGPS General Information— www.navcen.uscg.gov/ USCG Navigation Center dgps/default.htm Vessel Response Plans www.e-vrp.com Environmental Protec- Environmental Protection www.epa.gov tion Agency (EPA) Agency EPA Geospatial Data— www.epa.gov/nsdi/pag Theme-Based Browse es/theme_browse.html Clean Air Markets EPA’s Clean Air Markets— www.epa.gov/air Program The Emissions & Generation markets/egrid/index. Resource Integrated Database html 162 Mapping the Risks Table B.1—Continued Agency/ Title of Web Site for Program, Suborganization Office, or Initiative Location EPA (cont.) Envirofacts Data EPA—Envirofacts—BRS Query www.epa.gov/enviro/ Warehouse (cont.) html/brs/brs_query. html EPA—Envirofacts—Overview www.epa.gov/enviro/ html/ef_overview.html EPA—Envirofacts—Multisystem www.epa.gov/enviro/ Query html/multisystem_ query_java.html EPA—Envirofacts Warehouse— www.epa.gov/enviro/ PCS—Water Discharge Permits html/pcs/pcs_query_ Query Form java.html EPA—Envirofacts—RCRAInfo— www.epa.gov/enviro/ Query Form html/rcris/rcris_query_ java.html EPA—Window to My www.epa.gov/enviro/ Environment wme/ EnviroMapper http://maps.epa.gov/ enviromapper/ Environmental US EPA—Environmental www.epa.gov/docs/ Monitoring and Monitoring and Assessment emap/index.html Assessment Program Program (EMAP) Facility Registry EPA—Envirofacts—FRS— www.epa.gov/enviro/ Service Query Form html/fii/fii_query_java. html National Center for National Center for Envi- http://cfpub.epa.gov/ Environmental ronmental Assessment— ncea/cfm/ncearisk Assessment Risk Models and Tools models.cfm?ActType= DatabaseAndTools& detype=model&exc Col=Archive National Health and Mid-Atlantic Inventory— www.epa.gov/ Environmental Effects The National Environmental cludygxb/site-mid.html Research Laboratory Monitoring Initiative Federal Geospatial Data Sources Identified 163 Table B.1—Continued Agency/ Title of Web Site for Program, Suborganization Office, or Initiative Location EPA (cont.) Office of Air and EPA-OAQPS Enhanced Ozone www.epa.gov/air/ Radiation Monitoring—PAMS—PAMS oaqps/pams/network. Networks and Sites html EPA AIRNow www.epa.gov/airnow/ AIRS Executive for Windows www.epa.gov/airs/ aewin/index.html EPA AirData—Access to Air www.epa.gov/air/data/ Pollution Data index.html Office of Environ- EQ Environmental Atlas www.epa.gov/ceis mental Information web1/ceishome/atlas/ Office of Pesticide EPA: Pesticides—Pesticide www.epa.gov/ Programs Data Submitters List (PDSL) opppmsd1/Data SubmittersList/ NPIRS: National Pesticide http://ceris.purdue.edu/ Information Retrieval System npirs/index.html Office of Solid Waste Wastes: Municipal Solid Waste www.epa.gov/epa Landfills oswer/non-hw/muncpl/ landfill/index.htm#list Office of Water EPA WATERS Homepage www.epa.gov/waters/ National Drinking Water www.epa.gov/ncod/ Contaminant Occurrence Database Environmental Protection www.epa.gov/ogwdw/ Agency—Local Drinking Water dwinfo.htm Information Environmental Protection www.epa.gov/safe Agency (Accessing EPA’s water/data/getdata. Drinking Water Data in html SDWIS/FED) The Safe Drinking Water www.epa.gov/safe Information System/State water/sdwis_st/state. Version (SDWIS/State) htm 164 Mapping the Risks Table B.1—Continued Agency/ Title of Web Site for Program, Suborganization Office, or Initiative Location EPA (cont.) Office of Water (cont.) About BASINS 3.0—U.S. EPA www.epa.gov/water science/basins/basinsv3. htm EPA Clean Watersheds Needs www.epa.gov/owm/ Survey (CWNS) uc.htm EPA: National Estuary Program: www.epa.gov/owow/ Which Estuaries Are in the estuaries/find.htm NEP? Region 10 Office Environmental Protection www.epa.gov/r10 Agency—Region 10 GIS Map earth/maplib.html Library Region 2 Office GIS Data by Geographic Area www.epa.gov/region 02/gis/data/thematic data.htm Region 4 Office GIS—Geographic Information www.epa.gov/Region4/ Systems gis/index.html Region 5 Office U.S.E.P.A.—Region 5— www.epa.gov/reg5 R.M.D.—O.I.S.—Download ogis/download/index. htm Region 6 Office EPA Region 6 Geographic www.epa.gov/ Information System Arkansas/6en/gis/ Region 7 Office EPA Region 7—GIS www.epa.gov/region7/ envdata/gis/gis.html Region 8 Office Region 8 GIS Data Inventory www.epa.gov/Region8/ gis/gisdata.html Region 9 Office San Gabriel Valley GIS Data www.epa.gov/Region9/ waste/sfund/npl/ sangabriel/gisdata.html STORET (Storage and EPA: Water: Wetlands, Oceans, www.epa.gov/storet/ Retrieval) & Watersheds: Monitoring and Assessing Water Quality: STORET Superfund Program Superfund Information www.epa.gov/super Systems: CERCLIS Hazardous fund/sites/cursites/ Waste Sites index.htm Federal Geospatial Data Sources Identified 165 Table B.1—Continued Agency/ Title of Web Site for Program, Suborganization Office, or Initiative Location EPA (cont.) Superfund Program NPL Sites in the US, NPL, www.epa.gov/super (cont.) Superfund, US EPA fund/sites/npl/npl.htm Surf Your Watershed EPA: Surf Your Watershed: http://cfpub.epa.gov/ Locate Your Watershed surf/locate/index.cfm Toxics Release Toxics Release Inventory (TRI) www.epa.gov/tri Inventory Program Watershed EPA: Watershed Information www.epa.gov/water Information Network Network: Watershed Atlas atlas/ Atlas Export-Import Bank Export-Import Bank of the www.exim.gov United States Federal Communi- cations Commission (FCC) Wireless Telecommu- FCC: ULS Databases http://wireless.fcc.gov/ nications Bureau cgi-bin/wtb-datadump. pl FCC Universal Licensing System http://wireless.fcc.gov/ (ULS) uls/ FCC Universal Licensing System http://wireless.fcc.gov/ (ULS) (Antenna Structure antenna/ Registration System) TOWAIR Determination http://wireless2.fcc.gov/ UlsApp/AsrSearch/ towairSearch.jsp Federal Emergency Federal Emergency www.fema.gov Management Agency Management Agency (FEMA) Federal Insurance FEMA: Flood Hazard Mapping www.fema.gov/mit/tsd/ and Mitigation Administration Mapping and Analysis FEMA: ITS—2001 Maps www.gismaps.fema. Center gov/2001pages/2001 maps.shtml 166 Mapping the Risks Table B.1—Continued Agency/ Title of Web Site for Program, Suborganization Office, or Initiative Location FEMA (cont.) Map Service Center FEMA: Map Service Center http://msc.fema.gov/ MSC/product.htm National Dam Safety FEMA: National Dam Safety www.fema.gov/fima/ Program Program damsafe/ National Fire Incident USFA—NFIRS—National Fire www.nfirs.fema.gov/ Reporting System Incident Reporting System nfirs_userlogin.htm Regional Offices FEMA: Regional and Area www.fema.gov/about/ Offices regoff.htm U.S. Fire USFA—Hotel-Motel National www.usfa.fema.gov/ Administration Master List hotel/state_download. cfm Winter Storm Update FEMA: Winter Storm Update www.fema.gov/fema/ Center Center wsuc.htm General Services GSA Home www.gsa.gov Administration Public Buildings Public Buildings Service http://hydra.gsa.gov/ Service pbs/ Welcome to the Retail Tenant http://hydra.gsa.gov Services Center of Expertise! /pbs/centers/retail/ Interagency/Other EPA/NOAA Get CAMEO www.epa.gov/ swercepp/cameo/ request.htm FDIC FDIC: Individual Banks www.fdic.gov/bank/ individual/index.html Federal Reserve Bank Board of Governors of the www.federalreserve. Federal Reserve System gov Financial Report Search http://132.200.33.161/ (Federal Reserve National nicSearch/servlet/NIC Information Center) Servlet?$GRP$=FINREP T&REQ=BHC&MODE= SEARCH Federal Geospatial Data Sources Identified 167 Table B.1—Continued Agency/ Title of Web Site for Program, Suborganization Office, or Initiative Location Interagency/Other (cont.) FedStats.gov FedStats: MapStats http://www.fedstats. gov/qf/ Federal Geographic Federal Geographic Data http://130.11.52.184/ Data Committee Committee FirstGov FirstGov—The U.S. www.firstgov.gov/ Government’s Official Web Portal Mid-Atlantic Mid-Atlantic Integrated http://md.water.usgs. Integrated Assessment Assessment Project gov/maia/ Project National Fire Plan National Fire Plan www.fireplan.gov/fire_ maps.cfm National Interagency National Interagency www.nifc.gov/news/ Coordination Center Coordination Center nicc.html National Interagency GeoMAC [Geospatial Multi- http://geomac.usgs.gov Fire Center Agency Coordination]— Wildland Fire Support NBII The National Biological www.nbii.gov Information Infrastructure (NBII) Home Page Recreation.gov Recreation.gov www.recreation.gov/ aboutrecgov.cfm Regional Ecosystem Northwest Forest Plan Regional www.reo.gov Office Ecosystem Office Security and Exchange SEC Filings & Forms (EDGAR) www.sec.gov/edgar. Commission shtml Library of Congress The Library of Congress www.loc.gov (LOC) American Memory/ LC HABS/HAER Collections http://memory.loc.gov/ Historical Collections Search ammem/hhquery.html Center for Geographic Geography and Map Division www.loc.gov/rr/ Information Homepage, Library of Congress geogmap/ 168 Mapping the Risks Table B.1—Continued Agency/ Title of Web Site for Program, Suborganization Office, or Initiative Location National Aeronautics NASA—Welcome www.nasa.gov and Space Admini- stration (NASA) Earth Observatory EO Observation Deck: http://earth View Dataset Holdings observatory.nasa.gov/ Observatory/datasets. html NASA’s Visible Earth http://visibleearth.nasa. gov Earth Science Enter- Earth Science Image Studio and http://earth.nasa.gov/ prise Multimedia Introduction/studio. html Goddard Space Flight EOS Data Gateway at http://redhook.gsfc. Center redhook.gsfc.nasa.gov nasa.gov/~imswww/ pub/imswelcome/plain. html Human Spaceflight Human Space Flight (HSF)— http://spaceflight.nasa. Orbital Tracking gov/realdata/tracking/ index.html Jet Propulsion Shuttle Radar Topography www.jpl.nasa.gov/srtm/ Laboratory Mission dataprod.htm Johnson Space Center Earth from Space http://earth.jsc.nasa. gov Headquarters NASA Environmental Manage- www.hq.nasa.gov/ ment Division: GIS office/codej/codeje/je_ site/gis/about_gis.html The Disaster Finder http://disasterfinder. gsfc.nasa.gov Imagery Exchange NASA Image eXchange (NIX) http://nix.nasa.gov National Archives and NARA: US National Archives & www.nara.gov Records Administration Records Administration National Science National Science Foundation www.nsf.gov Foundation (NSF) (NSF)—Home Page Ocean Sciences NSF GEO Division of Ocean www.geo.nsf.gov/oce/ Science Federal Geospatial Data Sources Identified 169 Table B.1—Continued Agency/ Title of Web Site for Program, Suborganization Office, or Initiative Location NSF (cont.) WOCE: World U.S. WOCE Home Page www-ocean.tamu.edu/ Ocean Circulation WOCE/uswoce.html Experiment (Texas A&M) Nuclear Regulatory NRC: Home Page www.nrc.gov Commission Electronic Reading NRC: Document Collections www.nrc.gov/reading- Room rm/doc-collections/ Enforcement Program NRC: Current Issues and Actions www.nrc.gov/what- we-do/regulatory/ enforcement/current. html#reactor Office of Nuclear NRC: Office of Nuclear Material www.nrc.gov/who- Material Safety and Safety and Safeguards we-are/organization/ Safeguards nmssfuncdesc.html Office of Nuclear NRC: Office of Nuclear Reactor www.nrc.gov/who- Reactor Regulation Regulation we-are/organization/ nrrfuncdesc.html Office of Nuclear NRC: Office of Nuclear Security www.nrc.gov/who-we- Security and Incident and Incident Response are/organization/nsirfu Response ncdesc.html Supreme Court of the Supreme Court of the United www.supremecourt United States States us.gov Tennessee Valley TVA: Home Page www.tva.gov Authority (TVA) Environmental TVA: Environmental Stew- www.tva.com/ Stewardship ardship environment/ Map Store TVA Map & Photo Records www.tva.gov/river/ mapstore/index.htm River System TVA: River Information http://lakeinfo.tva.gov Operations and Environment Transmission and TVA: Power Home Page www.tva.gov/power Power Supply 170 Mapping the Risks Table B.1—Continued Agency/ Title of Web Site for Program, Suborganization Office, or Initiative Location United States U.S. International Trade www.usitc.gov International Trade Commission Commission United States Treasury United States Department of www.treas.gov the Treasury—Home Bureau of Alcohol, ATF Online—Bureau of www.atf.treas.gov Tobacco, and Firearms Alcohol, Tobacco, Firearms and Explosives Comptroller of the OCC—Comptroller of the www.occ.treas.gov Currency, Admin- Currency, Administrator of istrator of National National Banks Banks Federal Financial FFIEC Home Page www.ffiec.gov Institutions Examination Council Office of Thrift Office of Thrift Supervision www.ots.treas.gov Supervision U.S. Customs Service U.S. Customs Service www.customs.ustreas. gov U.S. District Courts The Federal Judiciary www.uscourts.gov']"
      ]
     },
     "execution_count": 11,
     "metadata": {},
     "output_type": "execute_result"
    }
   ],
   "source": [
    "corpus[:5]"
   ]
  },
  {
   "cell_type": "code",
   "execution_count": null,
   "metadata": {
    "colab": {
     "base_uri": "https://localhost:8080/"
    },
    "id": "3T9r1DH0ahFC",
    "outputId": "d096e595-13a9-4379-815f-849e15b599ae"
   },
   "outputs": [
    {
     "name": "stdout",
     "output_type": "stream",
     "text": [
      "Requirement already satisfied: sentence-transformers in /usr/local/lib/python3.7/dist-packages (2.1.0)\n",
      "Requirement already satisfied: scipy in /usr/local/lib/python3.7/dist-packages (from sentence-transformers) (1.4.1)\n",
      "Requirement already satisfied: numpy in /usr/local/lib/python3.7/dist-packages (from sentence-transformers) (1.21.4)\n",
      "Requirement already satisfied: nltk in /usr/local/lib/python3.7/dist-packages (from sentence-transformers) (3.2.5)\n",
      "Requirement already satisfied: torch>=1.6.0 in /usr/local/lib/python3.7/dist-packages (from sentence-transformers) (1.9.0+cu111)\n",
      "Requirement already satisfied: sentencepiece in /usr/local/lib/python3.7/dist-packages (from sentence-transformers) (0.1.96)\n",
      "Requirement already satisfied: transformers<5.0.0,>=4.6.0 in /usr/local/lib/python3.7/dist-packages (from sentence-transformers) (4.12.3)\n",
      "Requirement already satisfied: tokenizers>=0.10.3 in /usr/local/lib/python3.7/dist-packages (from sentence-transformers) (0.10.3)\n",
      "Requirement already satisfied: tqdm in /usr/local/lib/python3.7/dist-packages (from sentence-transformers) (4.62.3)\n",
      "Requirement already satisfied: huggingface-hub in /usr/local/lib/python3.7/dist-packages (from sentence-transformers) (0.1.1)\n",
      "Requirement already satisfied: scikit-learn in /usr/local/lib/python3.7/dist-packages (from sentence-transformers) (0.22.2.post1)\n",
      "Requirement already satisfied: torchvision in /usr/local/lib/python3.7/dist-packages (from sentence-transformers) (0.10.0+cu111)\n",
      "Requirement already satisfied: typing-extensions in /usr/local/lib/python3.7/dist-packages (from torch>=1.6.0->sentence-transformers) (3.7.4.3)\n",
      "Requirement already satisfied: filelock in /usr/local/lib/python3.7/dist-packages (from transformers<5.0.0,>=4.6.0->sentence-transformers) (3.3.0)\n",
      "Requirement already satisfied: importlib-metadata in /usr/local/lib/python3.7/dist-packages (from transformers<5.0.0,>=4.6.0->sentence-transformers) (4.8.1)\n",
      "Requirement already satisfied: pyyaml>=5.1 in /usr/local/lib/python3.7/dist-packages (from transformers<5.0.0,>=4.6.0->sentence-transformers) (5.4.1)\n",
      "Requirement already satisfied: packaging>=20.0 in /usr/local/lib/python3.7/dist-packages (from transformers<5.0.0,>=4.6.0->sentence-transformers) (21.0)\n",
      "Requirement already satisfied: regex!=2019.12.17 in /usr/local/lib/python3.7/dist-packages (from transformers<5.0.0,>=4.6.0->sentence-transformers) (2019.12.20)\n",
      "Requirement already satisfied: sacremoses in /usr/local/lib/python3.7/dist-packages (from transformers<5.0.0,>=4.6.0->sentence-transformers) (0.0.46)\n",
      "Requirement already satisfied: requests in /usr/local/lib/python3.7/dist-packages (from transformers<5.0.0,>=4.6.0->sentence-transformers) (2.23.0)\n",
      "Requirement already satisfied: pyparsing>=2.0.2 in /usr/local/lib/python3.7/dist-packages (from packaging>=20.0->transformers<5.0.0,>=4.6.0->sentence-transformers) (2.4.7)\n",
      "Requirement already satisfied: zipp>=0.5 in /usr/local/lib/python3.7/dist-packages (from importlib-metadata->transformers<5.0.0,>=4.6.0->sentence-transformers) (3.6.0)\n",
      "Requirement already satisfied: six in /usr/local/lib/python3.7/dist-packages (from nltk->sentence-transformers) (1.15.0)\n",
      "Requirement already satisfied: idna<3,>=2.5 in /usr/local/lib/python3.7/dist-packages (from requests->transformers<5.0.0,>=4.6.0->sentence-transformers) (2.10)\n",
      "Requirement already satisfied: certifi>=2017.4.17 in /usr/local/lib/python3.7/dist-packages (from requests->transformers<5.0.0,>=4.6.0->sentence-transformers) (2021.5.30)\n",
      "Requirement already satisfied: chardet<4,>=3.0.2 in /usr/local/lib/python3.7/dist-packages (from requests->transformers<5.0.0,>=4.6.0->sentence-transformers) (3.0.4)\n",
      "Requirement already satisfied: urllib3!=1.25.0,!=1.25.1,<1.26,>=1.21.1 in /usr/local/lib/python3.7/dist-packages (from requests->transformers<5.0.0,>=4.6.0->sentence-transformers) (1.24.3)\n",
      "Requirement already satisfied: joblib in /usr/local/lib/python3.7/dist-packages (from sacremoses->transformers<5.0.0,>=4.6.0->sentence-transformers) (1.0.1)\n",
      "Requirement already satisfied: click in /usr/local/lib/python3.7/dist-packages (from sacremoses->transformers<5.0.0,>=4.6.0->sentence-transformers) (7.1.2)\n",
      "Requirement already satisfied: pillow>=5.3.0 in /usr/local/lib/python3.7/dist-packages (from torchvision->sentence-transformers) (7.1.2)\n"
     ]
    }
   ],
   "source": [
    "!pip install sentence-transformers"
   ]
  },
  {
   "cell_type": "code",
   "execution_count": null,
   "metadata": {
    "colab": {
     "base_uri": "https://localhost:8080/",
     "height": 49,
     "referenced_widgets": [
      "ac6281a363e5403cadb8acbd782fa94b",
      "45c4cea7fbc94e5695341d12d5b61bed",
      "0d14309992de4bcc8cbf8bc3027d12f7",
      "60454dd804b24b0ea0a8703ac36bd2a2",
      "fe5f3f63d4fb4d65b659c6bbec7d277d",
      "6e9b5b7306334848bcecd1f051ce1916",
      "73d59e764d39400494c1926719f2d1cd",
      "bfaa8d48e70e4d3d9aefd1fa574e1836",
      "1eb1f5fd2b9045b6b2b51e782c50ae32",
      "da05df53605346058fc8902f46aa87f6",
      "80d6637143d04d3c9cecac7fccd0ae2d"
     ]
    },
    "id": "RI6Dh4XWahIt",
    "outputId": "ad1ed01e-9f80-428e-e6f4-64a651d4d2b2"
   },
   "outputs": [
    {
     "data": {
      "application/vnd.jupyter.widget-view+json": {
       "model_id": "ac6281a363e5403cadb8acbd782fa94b",
       "version_major": 2,
       "version_minor": 0
      },
      "text/plain": [
       "Batches:   0%|          | 0/47 [00:00<?, ?it/s]"
      ]
     },
     "metadata": {},
     "output_type": "display_data"
    }
   ],
   "source": [
    "from sentence_transformers import SentenceTransformer\n",
    "\n",
    "#  use BERT embeddings for a document (Distilbert as it gives a nice balance between speed and performance for document-level embeddings)\n",
    "model = SentenceTransformer('distilbert-base-nli-mean-tokens')\n",
    "\n",
    "\n",
    "#  transform documents in 512-dimensional vectors\n",
    "embeddings = model.encode(df['article'], show_progress_bar=True)"
   ]
  },
  {
   "cell_type": "code",
   "execution_count": null,
   "metadata": {
    "colab": {
     "base_uri": "https://localhost:8080/",
     "height": 667
    },
    "id": "wBkP1FzeahM2",
    "outputId": "6ae2191a-0796-4bf7-ff34-ff1758d1455a"
   },
   "outputs": [
    {
     "name": "stderr",
     "output_type": "stream",
     "text": [
      "/usr/local/lib/python3.7/dist-packages/numba/np/ufunc/parallel.py:363: NumbaWarning: The TBB threading layer requires TBB version 2019.5 or later i.e., TBB_INTERFACE_VERSION >= 11005. Found TBB_INTERFACE_VERSION = 9107. The TBB threading layer is disabled.\n",
      "  warnings.warn(problem)\n"
     ]
    },
    {
     "data": {
      "text/plain": [
       "<matplotlib.colorbar.Colorbar at 0x7f4df0bb6990>"
      ]
     },
     "execution_count": 14,
     "metadata": {},
     "output_type": "execute_result"
    },
    {
     "data": {
      "image/png": "[encoded data removed]",
      "text/plain": [
       "<Figure size 1440x720 with 2 Axes>"
      ]
     },
     "metadata": {
      "needs_background": "light"
     },
     "output_type": "display_data"
    }
   ],
   "source": [
    "import matplotlib.pyplot as plt\n",
    "import umap\n",
    "import hdbscan\n",
    "\n",
    "\n",
    "# Prepare data\n",
    "\n",
    "umap_embeddings = umap.UMAP(n_neighbors=15, \n",
    "                            n_components=5, \n",
    "                            metric='cosine').fit_transform(embeddings)\n",
    "\n",
    "\n",
    "cluster = hdbscan.HDBSCAN(min_cluster_size=15,\n",
    "                          metric='euclidean',                      \n",
    "                          cluster_selection_method='eom').fit(umap_embeddings)\n",
    "\n",
    "umap_data = umap.UMAP(n_neighbors=15, n_components=2, min_dist=0.0, metric='cosine').fit_transform(embeddings)\n",
    "\n",
    "result = pd.DataFrame(umap_data, columns=['x', 'y'])\n",
    "\n",
    "result['labels'] = cluster.labels_\n",
    "\n",
    "# Visualize clusters\n",
    "fig, ax = plt.subplots(figsize=(20, 10))\n",
    "outliers = result.loc[result.labels == -1, :]\n",
    "clustered = result.loc[result.labels != -1, :]\n",
    "plt.scatter(outliers.x, outliers.y, color='#BDBDBD', s=0.05)\n",
    "plt.scatter(clustered.x, clustered.y, c=clustered.labels, s=0.05, cmap='hsv_r')\n",
    "plt.colorbar()"
   ]
  },
  {
   "cell_type": "code",
   "execution_count": null,
   "metadata": {
    "colab": {
     "base_uri": "https://localhost:8080/",
     "height": 1000
    },
    "id": "MxgMSx3RdWH8",
    "outputId": "4b814ebf-4f2a-4745-8117-5c465bf16e9a"
   },
   "outputs": [
    {
     "name": "stdout",
     "output_type": "stream",
     "text": [
      "Requirement already satisfied: umap-learn[plot] in /usr/local/lib/python3.7/dist-packages (0.5.2)\n",
      "Requirement already satisfied: numba>=0.49 in /usr/local/lib/python3.7/dist-packages (from umap-learn[plot]) (0.51.2)\n",
      "Requirement already satisfied: pynndescent>=0.5 in /usr/local/lib/python3.7/dist-packages (from umap-learn[plot]) (0.5.5)\n",
      "Requirement already satisfied: tqdm in /usr/local/lib/python3.7/dist-packages (from umap-learn[plot]) (4.62.3)\n",
      "Requirement already satisfied: numpy>=1.17 in /usr/local/lib/python3.7/dist-packages (from umap-learn[plot]) (1.21.4)\n",
      "Requirement already satisfied: scipy>=1.0 in /usr/local/lib/python3.7/dist-packages (from umap-learn[plot]) (1.4.1)\n",
      "Requirement already satisfied: scikit-learn>=0.22 in /usr/local/lib/python3.7/dist-packages (from umap-learn[plot]) (0.22.2.post1)\n",
      "Collecting datashader\n",
      "  Downloading datashader-0.13.0-py2.py3-none-any.whl (15.8 MB)\n",
      "\u001b[K     |████████████████████████████████| 15.8 MB 1.6 kB/s \n",
      "\u001b[?25hRequirement already satisfied: pandas in /usr/local/lib/python3.7/dist-packages (from umap-learn[plot]) (1.1.5)\n",
      "Requirement already satisfied: bokeh in /usr/local/lib/python3.7/dist-packages (from umap-learn[plot]) (2.3.3)\n",
      "Requirement already satisfied: scikit-image in /usr/local/lib/python3.7/dist-packages (from umap-learn[plot]) (0.16.2)\n",
      "Requirement already satisfied: matplotlib in /usr/local/lib/python3.7/dist-packages (from umap-learn[plot]) (3.2.2)\n",
      "Requirement already satisfied: colorcet in /usr/local/lib/python3.7/dist-packages (from umap-learn[plot]) (2.0.6)\n",
      "Requirement already satisfied: seaborn in /usr/local/lib/python3.7/dist-packages (from umap-learn[plot]) (0.11.2)\n",
      "Requirement already satisfied: holoviews in /usr/local/lib/python3.7/dist-packages (from umap-learn[plot]) (1.14.6)\n",
      "Requirement already satisfied: llvmlite<0.35,>=0.34.0.dev0 in /usr/local/lib/python3.7/dist-packages (from numba>=0.49->umap-learn[plot]) (0.34.0)\n",
      "Requirement already satisfied: setuptools in /usr/local/lib/python3.7/dist-packages (from numba>=0.49->umap-learn[plot]) (57.4.0)\n",
      "Requirement already satisfied: joblib>=0.11 in /usr/local/lib/python3.7/dist-packages (from pynndescent>=0.5->umap-learn[plot]) (1.0.1)\n",
      "Requirement already satisfied: python-dateutil>=2.1 in /usr/local/lib/python3.7/dist-packages (from bokeh->umap-learn[plot]) (2.8.2)\n",
      "Requirement already satisfied: pillow>=7.1.0 in /usr/local/lib/python3.7/dist-packages (from bokeh->umap-learn[plot]) (7.1.2)\n",
      "Requirement already satisfied: PyYAML>=3.10 in /usr/local/lib/python3.7/dist-packages (from bokeh->umap-learn[plot]) (5.4.1)\n",
      "Requirement already satisfied: Jinja2>=2.9 in /usr/local/lib/python3.7/dist-packages (from bokeh->umap-learn[plot]) (2.11.3)\n",
      "Requirement already satisfied: packaging>=16.8 in /usr/local/lib/python3.7/dist-packages (from bokeh->umap-learn[plot]) (21.0)\n",
      "Requirement already satisfied: typing-extensions>=3.7.4 in /usr/local/lib/python3.7/dist-packages (from bokeh->umap-learn[plot]) (3.7.4.3)\n",
      "Requirement already satisfied: tornado>=5.1 in /usr/local/lib/python3.7/dist-packages (from bokeh->umap-learn[plot]) (5.1.1)\n",
      "Requirement already satisfied: MarkupSafe>=0.23 in /usr/local/lib/python3.7/dist-packages (from Jinja2>=2.9->bokeh->umap-learn[plot]) (2.0.1)\n",
      "Requirement already satisfied: pyparsing>=2.0.2 in /usr/local/lib/python3.7/dist-packages (from packaging>=16.8->bokeh->umap-learn[plot]) (2.4.7)\n",
      "Requirement already satisfied: six>=1.5 in /usr/local/lib/python3.7/dist-packages (from python-dateutil>=2.1->bokeh->umap-learn[plot]) (1.15.0)\n",
      "Requirement already satisfied: pyct>=0.4.4 in /usr/local/lib/python3.7/dist-packages (from colorcet->umap-learn[plot]) (0.4.8)\n",
      "Requirement already satisfied: param>=1.7.0 in /usr/local/lib/python3.7/dist-packages (from colorcet->umap-learn[plot]) (1.11.1)\n",
      "Requirement already satisfied: xarray>=0.9.6 in /usr/local/lib/python3.7/dist-packages (from datashader->umap-learn[plot]) (0.18.2)\n",
      "Collecting datashape>=0.5.1\n",
      "  Downloading datashape-0.5.2.tar.gz (76 kB)\n",
      "\u001b[K     |████████████████████████████████| 76 kB 6.1 MB/s \n",
      "\u001b[?25hRequirement already satisfied: dask[complete]>=0.18.0 in /usr/local/lib/python3.7/dist-packages (from datashader->umap-learn[plot]) (2.12.0)\n",
      "Collecting distributed>=2.0\n",
      "  Downloading distributed-2021.11.0-py3-none-any.whl (793 kB)\n",
      "\u001b[K     |████████████████████████████████| 793 kB 58.2 MB/s \n",
      "\u001b[?25hRequirement already satisfied: cloudpickle>=0.2.1 in /usr/local/lib/python3.7/dist-packages (from dask[complete]>=0.18.0->datashader->umap-learn[plot]) (1.3.0)\n",
      "Requirement already satisfied: toolz>=0.7.3 in /usr/local/lib/python3.7/dist-packages (from dask[complete]>=0.18.0->datashader->umap-learn[plot]) (0.11.1)\n",
      "Collecting partd>=0.3.10\n",
      "  Downloading partd-1.2.0-py3-none-any.whl (19 kB)\n",
      "Collecting fsspec>=0.6.0\n",
      "  Downloading fsspec-2021.11.0-py3-none-any.whl (132 kB)\n",
      "\u001b[K     |████████████████████████████████| 132 kB 56.5 MB/s \n",
      "\u001b[?25hCollecting multipledispatch>=0.4.7\n",
      "  Downloading multipledispatch-0.6.0-py3-none-any.whl (11 kB)\n",
      "Collecting distributed>=2.0\n",
      "  Downloading distributed-2021.10.0-py3-none-any.whl (791 kB)\n",
      "\u001b[K     |████████████████████████████████| 791 kB 52.0 MB/s \n",
      "\u001b[?25h  Downloading distributed-2021.9.1-py3-none-any.whl (786 kB)\n",
      "\u001b[K     |████████████████████████████████| 786 kB 54.0 MB/s \n",
      "\u001b[?25hRequirement already satisfied: sortedcontainers!=2.0.0,!=2.0.1 in /usr/local/lib/python3.7/dist-packages (from distributed>=2.0->dask[complete]>=0.18.0->datashader->umap-learn[plot]) (2.4.0)\n",
      "Requirement already satisfied: msgpack>=0.6.0 in /usr/local/lib/python3.7/dist-packages (from distributed>=2.0->dask[complete]>=0.18.0->datashader->umap-learn[plot]) (1.0.2)\n",
      "Requirement already satisfied: tblib>=1.6.0 in /usr/local/lib/python3.7/dist-packages (from distributed>=2.0->dask[complete]>=0.18.0->datashader->umap-learn[plot]) (1.7.0)\n",
      "Requirement already satisfied: click>=6.6 in /usr/local/lib/python3.7/dist-packages (from distributed>=2.0->dask[complete]>=0.18.0->datashader->umap-learn[plot]) (7.1.2)\n",
      "Collecting cloudpickle>=0.2.1\n",
      "  Downloading cloudpickle-2.0.0-py3-none-any.whl (25 kB)\n",
      "Requirement already satisfied: zict>=0.1.3 in /usr/local/lib/python3.7/dist-packages (from distributed>=2.0->dask[complete]>=0.18.0->datashader->umap-learn[plot]) (2.0.0)\n",
      "Collecting distributed>=2.0\n",
      "  Downloading distributed-2021.9.0-py3-none-any.whl (779 kB)\n",
      "\u001b[K     |████████████████████████████████| 779 kB 64.3 MB/s \n",
      "\u001b[?25h  Downloading distributed-2021.8.1-py3-none-any.whl (778 kB)\n",
      "\u001b[K     |████████████████████████████████| 778 kB 64.6 MB/s \n",
      "\u001b[?25h  Downloading distributed-2021.8.0-py3-none-any.whl (776 kB)\n",
      "\u001b[K     |████████████████████████████████| 776 kB 61.0 MB/s \n",
      "\u001b[?25h  Downloading distributed-2021.7.2-py3-none-any.whl (769 kB)\n",
      "\u001b[K     |████████████████████████████████| 769 kB 70.9 MB/s \n",
      "\u001b[?25h  Downloading distributed-2021.7.1-py3-none-any.whl (766 kB)\n",
      "\u001b[K     |████████████████████████████████| 766 kB 70.1 MB/s \n",
      "\u001b[?25h  Downloading distributed-2021.7.0-py3-none-any.whl (1.0 MB)\n",
      "\u001b[K     |████████████████████████████████| 1.0 MB 50.3 MB/s \n",
      "\u001b[?25h  Downloading distributed-2021.6.2-py3-none-any.whl (722 kB)\n",
      "\u001b[K     |████████████████████████████████| 722 kB 62.7 MB/s \n",
      "\u001b[?25h  Downloading distributed-2021.6.1-py3-none-any.whl (722 kB)\n",
      "\u001b[K     |████████████████████████████████| 722 kB 73.6 MB/s \n",
      "\u001b[?25h  Downloading distributed-2021.6.0-py3-none-any.whl (715 kB)\n",
      "\u001b[K     |████████████████████████████████| 715 kB 66.4 MB/s \n",
      "\u001b[?25h  Downloading distributed-2021.5.1-py3-none-any.whl (705 kB)\n",
      "\u001b[K     |████████████████████████████████| 705 kB 60.6 MB/s \n",
      "\u001b[?25h  Downloading distributed-2021.5.0-py3-none-any.whl (699 kB)\n",
      "\u001b[K     |████████████████████████████████| 699 kB 56.3 MB/s \n",
      "\u001b[?25h  Downloading distributed-2021.4.1-py3-none-any.whl (696 kB)\n",
      "\u001b[K     |████████████████████████████████| 696 kB 61.3 MB/s \n",
      "\u001b[?25h  Downloading distributed-2021.4.0-py3-none-any.whl (684 kB)\n",
      "\u001b[K     |████████████████████████████████| 684 kB 58.3 MB/s \n",
      "\u001b[?25h  Downloading distributed-2021.3.1-py3-none-any.whl (679 kB)\n",
      "\u001b[K     |████████████████████████████████| 679 kB 71.7 MB/s \n",
      "\u001b[?25h  Downloading distributed-2021.3.0-py3-none-any.whl (675 kB)\n",
      "\u001b[K     |████████████████████████████████| 675 kB 53.2 MB/s \n",
      "\u001b[?25h  Downloading distributed-2021.2.0-py3-none-any.whl (675 kB)\n",
      "\u001b[K     |████████████████████████████████| 675 kB 61.9 MB/s \n",
      "\u001b[?25h  Downloading distributed-2021.1.1-py3-none-any.whl (672 kB)\n",
      "\u001b[K     |████████████████████████████████| 672 kB 67.7 MB/s \n",
      "\u001b[?25h  Downloading distributed-2021.1.0-py3-none-any.whl (671 kB)\n",
      "\u001b[K     |████████████████████████████████| 671 kB 65.5 MB/s \n",
      "\u001b[?25h  Downloading distributed-2020.12.0-py3-none-any.whl (669 kB)\n",
      "\u001b[K     |████████████████████████████████| 669 kB 75.3 MB/s \n",
      "\u001b[?25h  Downloading distributed-2.30.1-py3-none-any.whl (656 kB)\n",
      "\u001b[K     |████████████████████████████████| 656 kB 69.7 MB/s \n",
      "\u001b[?25hRequirement already satisfied: psutil>=5.0 in /usr/local/lib/python3.7/dist-packages (from distributed>=2.0->dask[complete]>=0.18.0->datashader->umap-learn[plot]) (5.4.8)\n",
      "Requirement already satisfied: pytz>=2017.2 in /usr/local/lib/python3.7/dist-packages (from pandas->umap-learn[plot]) (2018.9)\n",
      "Collecting locket\n",
      "  Downloading locket-0.2.1-py2.py3-none-any.whl (4.1 kB)\n",
      "Requirement already satisfied: heapdict in /usr/local/lib/python3.7/dist-packages (from zict>=0.1.3->distributed>=2.0->dask[complete]>=0.18.0->datashader->umap-learn[plot]) (1.0.1)\n",
      "Requirement already satisfied: panel>=0.8.0 in /usr/local/lib/python3.7/dist-packages (from holoviews->umap-learn[plot]) (0.12.1)\n",
      "Requirement already satisfied: pyviz-comms>=0.7.4 in /usr/local/lib/python3.7/dist-packages (from holoviews->umap-learn[plot]) (2.1.0)\n",
      "Requirement already satisfied: markdown in /usr/local/lib/python3.7/dist-packages (from panel>=0.8.0->holoviews->umap-learn[plot]) (3.3.4)\n",
      "Requirement already satisfied: requests in /usr/local/lib/python3.7/dist-packages (from panel>=0.8.0->holoviews->umap-learn[plot]) (2.23.0)\n",
      "Requirement already satisfied: bleach in /usr/local/lib/python3.7/dist-packages (from panel>=0.8.0->holoviews->umap-learn[plot]) (4.1.0)\n",
      "Requirement already satisfied: webencodings in /usr/local/lib/python3.7/dist-packages (from bleach->panel>=0.8.0->holoviews->umap-learn[plot]) (0.5.1)\n",
      "Requirement already satisfied: importlib-metadata in /usr/local/lib/python3.7/dist-packages (from markdown->panel>=0.8.0->holoviews->umap-learn[plot]) (4.8.1)\n",
      "Requirement already satisfied: zipp>=0.5 in /usr/local/lib/python3.7/dist-packages (from importlib-metadata->markdown->panel>=0.8.0->holoviews->umap-learn[plot]) (3.6.0)\n",
      "Requirement already satisfied: cycler>=0.10 in /usr/local/lib/python3.7/dist-packages (from matplotlib->umap-learn[plot]) (0.10.0)\n",
      "Requirement already satisfied: kiwisolver>=1.0.1 in /usr/local/lib/python3.7/dist-packages (from matplotlib->umap-learn[plot]) (1.3.2)\n",
      "Requirement already satisfied: urllib3!=1.25.0,!=1.25.1,<1.26,>=1.21.1 in /usr/local/lib/python3.7/dist-packages (from requests->panel>=0.8.0->holoviews->umap-learn[plot]) (1.24.3)\n",
      "Requirement already satisfied: chardet<4,>=3.0.2 in /usr/local/lib/python3.7/dist-packages (from requests->panel>=0.8.0->holoviews->umap-learn[plot]) (3.0.4)\n",
      "Requirement already satisfied: idna<3,>=2.5 in /usr/local/lib/python3.7/dist-packages (from requests->panel>=0.8.0->holoviews->umap-learn[plot]) (2.10)\n",
      "Requirement already satisfied: certifi>=2017.4.17 in /usr/local/lib/python3.7/dist-packages (from requests->panel>=0.8.0->holoviews->umap-learn[plot]) (2021.5.30)\n",
      "Requirement already satisfied: PyWavelets>=0.4.0 in /usr/local/lib/python3.7/dist-packages (from scikit-image->umap-learn[plot]) (1.1.1)\n",
      "Requirement already satisfied: imageio>=2.3.0 in /usr/local/lib/python3.7/dist-packages (from scikit-image->umap-learn[plot]) (2.4.1)\n",
      "Requirement already satisfied: networkx>=2.0 in /usr/local/lib/python3.7/dist-packages (from scikit-image->umap-learn[plot]) (2.6.3)\n",
      "Building wheels for collected packages: datashape\n",
      "  Building wheel for datashape (setup.py) ... \u001b[?25l\u001b[?25hdone\n",
      "  Created wheel for datashape: filename=datashape-0.5.2-py3-none-any.whl size=59438 sha256=f5d88c5315ee189c0390ffb0ed02c649e70ce376759e05d1e8223e560d35938b\n",
      "  Stored in directory: /root/.cache/pip/wheels/b5/b7/80/333a5c3312ed4cd54f5d5b869868c14e0c6002cb5c7238b52d\n",
      "Successfully built datashape\n",
      "Installing collected packages: locket, cloudpickle, partd, multipledispatch, fsspec, distributed, datashape, datashader\n",
      "  Attempting uninstall: cloudpickle\n",
      "    Found existing installation: cloudpickle 1.3.0\n",
      "    Uninstalling cloudpickle-1.3.0:\n",
      "      Successfully uninstalled cloudpickle-1.3.0\n",
      "  Attempting uninstall: distributed\n",
      "    Found existing installation: distributed 1.25.3\n",
      "    Uninstalling distributed-1.25.3:\n",
      "      Successfully uninstalled distributed-1.25.3\n",
      "\u001b[31mERROR: pip's dependency resolver does not currently take into account all the packages that are installed. This behaviour is the source of the following dependency conflicts.\n",
      "gym 0.17.3 requires cloudpickle<1.7.0,>=1.2.0, but you have cloudpickle 2.0.0 which is incompatible.\u001b[0m\n",
      "Successfully installed cloudpickle-2.0.0 datashader-0.13.0 datashape-0.5.2 distributed-2.30.1 fsspec-2021.11.0 locket-0.2.1 multipledispatch-0.6.0 partd-1.2.0\n"
     ]
    },
    {
     "data": {
      "application/vnd.colab-display-data+json": {
       "pip_warning": {
        "packages": [
         "cloudpickle",
         "distributed"
        ]
       }
      }
     },
     "metadata": {},
     "output_type": "display_data"
    }
   ],
   "source": [
    "!pip install umap-learn[plot]"
   ]
  },
  {
   "cell_type": "code",
   "execution_count": null,
   "metadata": {
    "id": "tMeZfJt6ahRB"
   },
   "outputs": [],
   "source": [
    "# https://github.com/lmcinnes/umap/blob/master/doc/plotting.rst\n",
    "import umap.plot\n",
    "umap.plot.points(umap_embeddings)\n",
    "#umap.plot.points(umap_data, labels=cluster.labels_, color_key_cmap='Paired', background='black')"
   ]
  },
  {
   "cell_type": "code",
   "execution_count": null,
   "metadata": {
    "id": "5LGug3QnfAVG"
   },
   "outputs": [],
   "source": []
  },
  {
   "cell_type": "markdown",
   "metadata": {
    "id": "2ipzh6ckDFD3"
   },
   "source": [
    "#**Create Model**\n",
    "\n",
    "\n",
    "The algorithm contains, roughly 3 stages:\n",
    "\n",
    "- 1. Embed documents\n",
    "  - Extract document embeddings with BERT or any other embedding technique\n",
    "- 2. Cluster Documents\n",
    "  - UMAP to reduce the dimensionality of embeddings\n",
    "  - HDBSCAN to cluster reduced embeddings and create clusters of semantically similar documents\n",
    "- 3. Create topic representation\n",
    "  - Extract and reduce topics with c-TF-IDF\n",
    "  - Improve coherence of words with Maximal Marginal Relevance\n",
    "\n",
    "\n",
    "\n",
    "<img src='https://maartengr.github.io/BERTopic/tutorial/algorithm/algorithm.png'>"
   ]
  },
  {
   "cell_type": "code",
   "execution_count": null,
   "metadata": {
    "colab": {
     "base_uri": "https://localhost:8080/"
    },
    "id": "HtTIq3YLXD_r",
    "outputId": "e0ee174b-e7c2-42f3-d573-45bda491d17e"
   },
   "outputs": [
    {
     "name": "stdout",
     "output_type": "stream",
     "text": [
      "Total time taken (mins):  3\n"
     ]
    }
   ],
   "source": [
    "from sentence_transformers import SentenceTransformer\n",
    "\n",
    "start_time = time.time()\n",
    "\n",
    "#distilbert = SentenceTransformer('distilbert-base-nli-mean-tokens')\n",
    "#topic_model = BERTopic(embedding_model=distilbert) #, nr_topics=\"auto\")\n",
    "topic_model = BERTopic()\n",
    "topics, probs = topic_model.fit_transform(df['article'])\n",
    "\n",
    "print('Total time taken (mins): ', int((time.time()-start_time)/60))"
   ]
  },
  {
   "cell_type": "code",
   "execution_count": null,
   "metadata": {
    "id": "-_qDILsPggfl"
   },
   "outputs": [],
   "source": [
    "#model.save(\"bertopic_model\")\n",
    "#loaded_model = BERTopic.load(\"bertopic_model\")"
   ]
  },
  {
   "cell_type": "code",
   "execution_count": null,
   "metadata": {
    "colab": {
     "base_uri": "https://localhost:8080/",
     "height": 948
    },
    "id": "XdzJVA55RMWW",
    "outputId": "ffa7d184-cc5d-4cd3-b83c-dee48eb3790a"
   },
   "outputs": [
    {
     "data": {
      "text/html": [
       "<div>\n",
       "<style scoped>\n",
       "    .dataframe tbody tr th:only-of-type {\n",
       "        vertical-align: middle;\n",
       "    }\n",
       "\n",
       "    .dataframe tbody tr th {\n",
       "        vertical-align: top;\n",
       "    }\n",
       "\n",
       "    .dataframe thead th {\n",
       "        text-align: right;\n",
       "    }\n",
       "</style>\n",
       "<table border=\"1\" class=\"dataframe\">\n",
       "  <thead>\n",
       "    <tr style=\"text-align: right;\">\n",
       "      <th></th>\n",
       "      <th>Topic</th>\n",
       "      <th>Count</th>\n",
       "      <th>Name</th>\n",
       "    </tr>\n",
       "  </thead>\n",
       "  <tbody>\n",
       "    <tr>\n",
       "      <th>0</th>\n",
       "      <td>-1</td>\n",
       "      <td>460</td>\n",
       "      <td>-1_for_are_by_be</td>\n",
       "    </tr>\n",
       "    <tr>\n",
       "      <th>1</th>\n",
       "      <td>0</td>\n",
       "      <td>142</td>\n",
       "      <td>0_for_energy_climate_development</td>\n",
       "    </tr>\n",
       "    <tr>\n",
       "      <th>2</th>\n",
       "      <td>1</td>\n",
       "      <td>141</td>\n",
       "      <td>1_women_her_she_we</td>\n",
       "    </tr>\n",
       "    <tr>\n",
       "      <th>3</th>\n",
       "      <td>2</td>\n",
       "      <td>75</td>\n",
       "      <td>2_nuclear_us_states_ai</td>\n",
       "    </tr>\n",
       "    <tr>\n",
       "      <th>4</th>\n",
       "      <td>3</td>\n",
       "      <td>74</td>\n",
       "      <td>3_security_government_iraq_afghan</td>\n",
       "    </tr>\n",
       "    <tr>\n",
       "      <th>5</th>\n",
       "      <td>4</td>\n",
       "      <td>60</td>\n",
       "      <td>4_roma_integration_eu_muslim</td>\n",
       "    </tr>\n",
       "    <tr>\n",
       "      <th>6</th>\n",
       "      <td>5</td>\n",
       "      <td>55</td>\n",
       "      <td>5_de_la_el_los</td>\n",
       "    </tr>\n",
       "    <tr>\n",
       "      <th>7</th>\n",
       "      <td>6</td>\n",
       "      <td>52</td>\n",
       "      <td>6_virus_pda1_covid19_bacillus</td>\n",
       "    </tr>\n",
       "    <tr>\n",
       "      <th>8</th>\n",
       "      <td>7</td>\n",
       "      <td>43</td>\n",
       "      <td>7_health_alcohol_national_services</td>\n",
       "    </tr>\n",
       "    <tr>\n",
       "      <th>9</th>\n",
       "      <td>8</td>\n",
       "      <td>37</td>\n",
       "      <td>8_percent_care_health_medicaid</td>\n",
       "    </tr>\n",
       "    <tr>\n",
       "      <th>10</th>\n",
       "      <td>9</td>\n",
       "      <td>36</td>\n",
       "      <td>9_protein_cells_proteins_viral</td>\n",
       "    </tr>\n",
       "    <tr>\n",
       "      <th>11</th>\n",
       "      <td>10</td>\n",
       "      <td>30</td>\n",
       "      <td>10_patients_icu_data_health</td>\n",
       "    </tr>\n",
       "    <tr>\n",
       "      <th>12</th>\n",
       "      <td>11</td>\n",
       "      <td>27</td>\n",
       "      <td>11_pharmaceutical_patent_drugs_medicines</td>\n",
       "    </tr>\n",
       "    <tr>\n",
       "      <th>13</th>\n",
       "      <td>12</td>\n",
       "      <td>25</td>\n",
       "      <td>12_medicine_medical_journal_ethics</td>\n",
       "    </tr>\n",
       "    <tr>\n",
       "      <th>14</th>\n",
       "      <td>13</td>\n",
       "      <td>23</td>\n",
       "      <td>13_corruption_anticorruption_transparency_inte...</td>\n",
       "    </tr>\n",
       "    <tr>\n",
       "      <th>15</th>\n",
       "      <td>14</td>\n",
       "      <td>21</td>\n",
       "      <td>14_veterans_care_va_military</td>\n",
       "    </tr>\n",
       "    <tr>\n",
       "      <th>16</th>\n",
       "      <td>15</td>\n",
       "      <td>20</td>\n",
       "      <td>15_education_learning_research_dual</td>\n",
       "    </tr>\n",
       "    <tr>\n",
       "      <th>17</th>\n",
       "      <td>16</td>\n",
       "      <td>20</td>\n",
       "      <td>16_european_eu_europe_russia</td>\n",
       "    </tr>\n",
       "    <tr>\n",
       "      <th>18</th>\n",
       "      <td>17</td>\n",
       "      <td>18</td>\n",
       "      <td>17_africa_african_mozambique_resource</td>\n",
       "    </tr>\n",
       "    <tr>\n",
       "      <th>19</th>\n",
       "      <td>18</td>\n",
       "      <td>17</td>\n",
       "      <td>18_programs_tech_program_york</td>\n",
       "    </tr>\n",
       "    <tr>\n",
       "      <th>20</th>\n",
       "      <td>19</td>\n",
       "      <td>17</td>\n",
       "      <td>19_data_brazil_amazon_countries</td>\n",
       "    </tr>\n",
       "    <tr>\n",
       "      <th>21</th>\n",
       "      <td>20</td>\n",
       "      <td>17</td>\n",
       "      <td>20_sars_muslim_are_be</td>\n",
       "    </tr>\n",
       "    <tr>\n",
       "      <th>22</th>\n",
       "      <td>21</td>\n",
       "      <td>17</td>\n",
       "      <td>21_china_economic_chinas_chinese</td>\n",
       "    </tr>\n",
       "    <tr>\n",
       "      <th>23</th>\n",
       "      <td>22</td>\n",
       "      <td>13</td>\n",
       "      <td>22_urban_transport_rural_transportation</td>\n",
       "    </tr>\n",
       "    <tr>\n",
       "      <th>24</th>\n",
       "      <td>23</td>\n",
       "      <td>13</td>\n",
       "      <td>23_2017_india_on_terrorism</td>\n",
       "    </tr>\n",
       "    <tr>\n",
       "      <th>25</th>\n",
       "      <td>24</td>\n",
       "      <td>13</td>\n",
       "      <td>24_tax_property_valuation_taxpayer</td>\n",
       "    </tr>\n",
       "    <tr>\n",
       "      <th>26</th>\n",
       "      <td>25</td>\n",
       "      <td>12</td>\n",
       "      <td>25_china_apparel_chinese_textile</td>\n",
       "    </tr>\n",
       "    <tr>\n",
       "      <th>27</th>\n",
       "      <td>26</td>\n",
       "      <td>11</td>\n",
       "      <td>26_poverty_health_vietnam_poor</td>\n",
       "    </tr>\n",
       "    <tr>\n",
       "      <th>28</th>\n",
       "      <td>27</td>\n",
       "      <td>11</td>\n",
       "      <td>27_media_social_participatory_participants</td>\n",
       "    </tr>\n",
       "  </tbody>\n",
       "</table>\n",
       "</div>"
      ],
      "text/plain": [
       "    Topic  Count                                               Name\n",
       "0      -1    460                                   -1_for_are_by_be\n",
       "1       0    142                   0_for_energy_climate_development\n",
       "2       1    141                                 1_women_her_she_we\n",
       "3       2     75                             2_nuclear_us_states_ai\n",
       "4       3     74                  3_security_government_iraq_afghan\n",
       "5       4     60                       4_roma_integration_eu_muslim\n",
       "6       5     55                                     5_de_la_el_los\n",
       "7       6     52                      6_virus_pda1_covid19_bacillus\n",
       "8       7     43                 7_health_alcohol_national_services\n",
       "9       8     37                     8_percent_care_health_medicaid\n",
       "10      9     36                     9_protein_cells_proteins_viral\n",
       "11     10     30                        10_patients_icu_data_health\n",
       "12     11     27           11_pharmaceutical_patent_drugs_medicines\n",
       "13     12     25                 12_medicine_medical_journal_ethics\n",
       "14     13     23  13_corruption_anticorruption_transparency_inte...\n",
       "15     14     21                       14_veterans_care_va_military\n",
       "16     15     20                15_education_learning_research_dual\n",
       "17     16     20                       16_european_eu_europe_russia\n",
       "18     17     18              17_africa_african_mozambique_resource\n",
       "19     18     17                      18_programs_tech_program_york\n",
       "20     19     17                    19_data_brazil_amazon_countries\n",
       "21     20     17                              20_sars_muslim_are_be\n",
       "22     21     17                   21_china_economic_chinas_chinese\n",
       "23     22     13            22_urban_transport_rural_transportation\n",
       "24     23     13                         23_2017_india_on_terrorism\n",
       "25     24     13                 24_tax_property_valuation_taxpayer\n",
       "26     25     12                   25_china_apparel_chinese_textile\n",
       "27     26     11                     26_poverty_health_vietnam_poor\n",
       "28     27     11         27_media_social_participatory_participants"
      ]
     },
     "execution_count": 17,
     "metadata": {},
     "output_type": "execute_result"
    }
   ],
   "source": [
    "topic_model.get_topic_info()"
   ]
  },
  {
   "cell_type": "code",
   "execution_count": null,
   "metadata": {
    "colab": {
     "base_uri": "https://localhost:8080/"
    },
    "id": "xTPuuTf9r3NW",
    "outputId": "bfcf9067-46fc-4e9f-fe7e-c9fb7124b1d2"
   },
   "outputs": [
    {
     "data": {
      "text/plain": [
       "[('for', 0.013743193257044813),\n",
       " ('energy', 0.012638732688092654),\n",
       " ('climate', 0.011759016740257556),\n",
       " ('development', 0.010014768560637209),\n",
       " ('water', 0.008612184234399627),\n",
       " ('emissions', 0.007412455733968957),\n",
       " ('sustainable', 0.007173417477359682),\n",
       " ('environmental', 0.006917697843287706),\n",
       " ('population', 0.006813734909438774),\n",
       " ('sdg', 0.00673121963041029)]"
      ]
     },
     "execution_count": 18,
     "metadata": {},
     "output_type": "execute_result"
    }
   ],
   "source": [
    "topic_model.get_topic(0)"
   ]
  },
  {
   "cell_type": "code",
   "execution_count": null,
   "metadata": {
    "colab": {
     "base_uri": "https://localhost:8080/"
    },
    "id": "q74MK9D2XUof",
    "outputId": "ba352dfc-b299-487e-96f5-0df13a5ee288"
   },
   "outputs": [
    {
     "data": {
      "text/plain": [
       "{'calculate_probabilities': False,\n",
       " 'embedding_model': <bertopic.backend._sentencetransformers.SentenceTransformerBackend at 0x7f4e49567690>,\n",
       " 'hdbscan_model': HDBSCAN(algorithm='best', allow_single_cluster=False, alpha=1.0,\n",
       "         approx_min_span_tree=True, cluster_selection_epsilon=0.0,\n",
       "         cluster_selection_method='eom', core_dist_n_jobs=4,\n",
       "         gen_min_span_tree=False, leaf_size=40,\n",
       "         match_reference_implementation=False, memory=Memory(location=None),\n",
       "         metric='euclidean', min_cluster_size=10, min_samples=None, p=None,\n",
       "         prediction_data=True),\n",
       " 'language': 'english',\n",
       " 'low_memory': False,\n",
       " 'min_topic_size': 10,\n",
       " 'n_gram_range': (1, 1),\n",
       " 'nr_topics': None,\n",
       " 'seed_topic_list': None,\n",
       " 'top_n_words': 10,\n",
       " 'umap_model': UMAP(angular_rp_forest=True, low_memory=False, metric='cosine', min_dist=0.0, n_components=5, tqdm_kwds={'bar_format': '{desc}: {percentage:3.0f}%| {bar} {n_fmt}/{total_fmt} [{elapsed}]', 'desc': 'Epochs completed', 'disable': True}),\n",
       " 'vectorizer_model': CountVectorizer(analyzer='word', binary=False, decode_error='strict',\n",
       "                 dtype=<class 'numpy.int64'>, encoding='utf-8', input='content',\n",
       "                 lowercase=True, max_df=1.0, max_features=None, min_df=1,\n",
       "                 ngram_range=(1, 1), preprocessor=None, stop_words=None,\n",
       "                 strip_accents=None, token_pattern='(?u)\\\\b\\\\w\\\\w+\\\\b',\n",
       "                 tokenizer=None, vocabulary=None),\n",
       " 'verbose': False}"
      ]
     },
     "execution_count": 49,
     "metadata": {},
     "output_type": "execute_result"
    }
   ],
   "source": [
    "#topic_model.get_topic_freq()\n",
    "topic_model.get_params()"
   ]
  },
  {
   "cell_type": "code",
   "execution_count": null,
   "metadata": {
    "colab": {
     "base_uri": "https://localhost:8080/"
    },
    "id": "3YWp1EngbGzO",
    "outputId": "1a7116c0-6755-4ae0-f0ba-b1b287c5e60c"
   },
   "outputs": [
    {
     "name": "stdout",
     "output_type": "stream",
     "text": [
      "Requirement already satisfied: bertopic[visualization] in /usr/local/lib/python3.7/dist-packages (0.9.3)\n",
      "\u001b[33mWARNING: bertopic 0.9.3 does not provide the extra 'visualization'\u001b[0m\n",
      "Requirement already satisfied: sentence-transformers>=0.4.1 in /usr/local/lib/python3.7/dist-packages (from bertopic[visualization]) (2.1.0)\n",
      "Requirement already satisfied: plotly<4.14.3,>=4.7.0 in /usr/local/lib/python3.7/dist-packages (from bertopic[visualization]) (4.14.2)\n",
      "Requirement already satisfied: pandas>=1.1.5 in /usr/local/lib/python3.7/dist-packages (from bertopic[visualization]) (1.1.5)\n",
      "Requirement already satisfied: hdbscan>=0.8.27 in /usr/local/lib/python3.7/dist-packages (from bertopic[visualization]) (0.8.27)\n",
      "Requirement already satisfied: tqdm>=4.41.1 in /usr/local/lib/python3.7/dist-packages (from bertopic[visualization]) (4.62.3)\n",
      "Requirement already satisfied: numpy>=1.20.0 in /usr/local/lib/python3.7/dist-packages (from bertopic[visualization]) (1.21.4)\n",
      "Requirement already satisfied: scikit-learn>=0.22.2.post1 in /usr/local/lib/python3.7/dist-packages (from bertopic[visualization]) (0.22.2.post1)\n",
      "Requirement already satisfied: pyyaml<6.0 in /usr/local/lib/python3.7/dist-packages (from bertopic[visualization]) (5.4.1)\n",
      "Requirement already satisfied: umap-learn>=0.5.0 in /usr/local/lib/python3.7/dist-packages (from bertopic[visualization]) (0.5.2)\n",
      "Requirement already satisfied: scipy>=1.0 in /usr/local/lib/python3.7/dist-packages (from hdbscan>=0.8.27->bertopic[visualization]) (1.4.1)\n",
      "Requirement already satisfied: six in /usr/local/lib/python3.7/dist-packages (from hdbscan>=0.8.27->bertopic[visualization]) (1.15.0)\n",
      "Requirement already satisfied: joblib>=1.0 in /usr/local/lib/python3.7/dist-packages (from hdbscan>=0.8.27->bertopic[visualization]) (1.0.1)\n",
      "Requirement already satisfied: cython>=0.27 in /usr/local/lib/python3.7/dist-packages (from hdbscan>=0.8.27->bertopic[visualization]) (0.29.24)\n",
      "Requirement already satisfied: pytz>=2017.2 in /usr/local/lib/python3.7/dist-packages (from pandas>=1.1.5->bertopic[visualization]) (2018.9)\n",
      "Requirement already satisfied: python-dateutil>=2.7.3 in /usr/local/lib/python3.7/dist-packages (from pandas>=1.1.5->bertopic[visualization]) (2.8.2)\n",
      "Requirement already satisfied: retrying>=1.3.3 in /usr/local/lib/python3.7/dist-packages (from plotly<4.14.3,>=4.7.0->bertopic[visualization]) (1.3.3)\n",
      "Requirement already satisfied: tokenizers>=0.10.3 in /usr/local/lib/python3.7/dist-packages (from sentence-transformers>=0.4.1->bertopic[visualization]) (0.10.3)\n",
      "Requirement already satisfied: nltk in /usr/local/lib/python3.7/dist-packages (from sentence-transformers>=0.4.1->bertopic[visualization]) (3.2.5)\n",
      "Requirement already satisfied: torch>=1.6.0 in /usr/local/lib/python3.7/dist-packages (from sentence-transformers>=0.4.1->bertopic[visualization]) (1.9.0+cu111)\n",
      "Requirement already satisfied: huggingface-hub in /usr/local/lib/python3.7/dist-packages (from sentence-transformers>=0.4.1->bertopic[visualization]) (0.1.1)\n",
      "Requirement already satisfied: sentencepiece in /usr/local/lib/python3.7/dist-packages (from sentence-transformers>=0.4.1->bertopic[visualization]) (0.1.96)\n",
      "Requirement already satisfied: torchvision in /usr/local/lib/python3.7/dist-packages (from sentence-transformers>=0.4.1->bertopic[visualization]) (0.10.0+cu111)\n",
      "Requirement already satisfied: transformers<5.0.0,>=4.6.0 in /usr/local/lib/python3.7/dist-packages (from sentence-transformers>=0.4.1->bertopic[visualization]) (4.12.3)\n",
      "Requirement already satisfied: typing-extensions in /usr/local/lib/python3.7/dist-packages (from torch>=1.6.0->sentence-transformers>=0.4.1->bertopic[visualization]) (3.7.4.3)\n",
      "Requirement already satisfied: importlib-metadata in /usr/local/lib/python3.7/dist-packages (from transformers<5.0.0,>=4.6.0->sentence-transformers>=0.4.1->bertopic[visualization]) (4.8.1)\n",
      "Requirement already satisfied: sacremoses in /usr/local/lib/python3.7/dist-packages (from transformers<5.0.0,>=4.6.0->sentence-transformers>=0.4.1->bertopic[visualization]) (0.0.46)\n",
      "Requirement already satisfied: regex!=2019.12.17 in /usr/local/lib/python3.7/dist-packages (from transformers<5.0.0,>=4.6.0->sentence-transformers>=0.4.1->bertopic[visualization]) (2019.12.20)\n",
      "Requirement already satisfied: requests in /usr/local/lib/python3.7/dist-packages (from transformers<5.0.0,>=4.6.0->sentence-transformers>=0.4.1->bertopic[visualization]) (2.23.0)\n",
      "Requirement already satisfied: packaging>=20.0 in /usr/local/lib/python3.7/dist-packages (from transformers<5.0.0,>=4.6.0->sentence-transformers>=0.4.1->bertopic[visualization]) (21.0)\n",
      "Requirement already satisfied: filelock in /usr/local/lib/python3.7/dist-packages (from transformers<5.0.0,>=4.6.0->sentence-transformers>=0.4.1->bertopic[visualization]) (3.3.0)\n",
      "Requirement already satisfied: pyparsing>=2.0.2 in /usr/local/lib/python3.7/dist-packages (from packaging>=20.0->transformers<5.0.0,>=4.6.0->sentence-transformers>=0.4.1->bertopic[visualization]) (2.4.7)\n",
      "Requirement already satisfied: pynndescent>=0.5 in /usr/local/lib/python3.7/dist-packages (from umap-learn>=0.5.0->bertopic[visualization]) (0.5.5)\n",
      "Requirement already satisfied: numba>=0.49 in /usr/local/lib/python3.7/dist-packages (from umap-learn>=0.5.0->bertopic[visualization]) (0.51.2)\n",
      "Requirement already satisfied: llvmlite<0.35,>=0.34.0.dev0 in /usr/local/lib/python3.7/dist-packages (from numba>=0.49->umap-learn>=0.5.0->bertopic[visualization]) (0.34.0)\n",
      "Requirement already satisfied: setuptools in /usr/local/lib/python3.7/dist-packages (from numba>=0.49->umap-learn>=0.5.0->bertopic[visualization]) (57.4.0)\n",
      "Requirement already satisfied: zipp>=0.5 in /usr/local/lib/python3.7/dist-packages (from importlib-metadata->transformers<5.0.0,>=4.6.0->sentence-transformers>=0.4.1->bertopic[visualization]) (3.6.0)\n",
      "Requirement already satisfied: idna<3,>=2.5 in /usr/local/lib/python3.7/dist-packages (from requests->transformers<5.0.0,>=4.6.0->sentence-transformers>=0.4.1->bertopic[visualization]) (2.10)\n",
      "Requirement already satisfied: chardet<4,>=3.0.2 in /usr/local/lib/python3.7/dist-packages (from requests->transformers<5.0.0,>=4.6.0->sentence-transformers>=0.4.1->bertopic[visualization]) (3.0.4)\n",
      "Requirement already satisfied: urllib3!=1.25.0,!=1.25.1,<1.26,>=1.21.1 in /usr/local/lib/python3.7/dist-packages (from requests->transformers<5.0.0,>=4.6.0->sentence-transformers>=0.4.1->bertopic[visualization]) (1.24.3)\n",
      "Requirement already satisfied: certifi>=2017.4.17 in /usr/local/lib/python3.7/dist-packages (from requests->transformers<5.0.0,>=4.6.0->sentence-transformers>=0.4.1->bertopic[visualization]) (2021.5.30)\n",
      "Requirement already satisfied: click in /usr/local/lib/python3.7/dist-packages (from sacremoses->transformers<5.0.0,>=4.6.0->sentence-transformers>=0.4.1->bertopic[visualization]) (7.1.2)\n",
      "Requirement already satisfied: pillow>=5.3.0 in /usr/local/lib/python3.7/dist-packages (from torchvision->sentence-transformers>=0.4.1->bertopic[visualization]) (7.1.2)\n"
     ]
    }
   ],
   "source": [
    "!pip install bertopic[visualization]"
   ]
  },
  {
   "cell_type": "code",
   "execution_count": null,
   "metadata": {
    "colab": {
     "base_uri": "https://localhost:8080/",
     "height": 667
    },
    "id": "4TCTp9tkgvwy",
    "outputId": "5d3ba899-ac67-41e3-b9d5-ffac9ecd741b"
   },
   "outputs": [
    {
     "data": {
      "text/html": [
       "<html>\n",
       "<head><meta charset=\"utf-8\" /></head>\n",
       "<body>\n",
       "    <div>            <script src=\"https://cdnjs.cloudflare.com/ajax/libs/mathjax/2.7.5/MathJax.js?config=TeX-AMS-MML_SVG\"></script><script type=\"text/javascript\">if (window.MathJax) {MathJax.Hub.Config({SVG: {font: \"STIX-Web\"}});}</script>                <script type=\"text/javascript\">window.PlotlyConfig = {MathJaxConfig: 'local'};</script>\n",
       "        <script src=\"https://cdn.plot.ly/plotly-latest.min.js\"></script>                <div id=\"cbb763d2-f4a1-47d1-819e-0447f3d76206\" class=\"plotly-graph-div\" style=\"height:650px; width:650px;\"></div>            <script type=\"text/javascript\">                                    window.PLOTLYENV=window.PLOTLYENV || {};                                    if (document.getElementById(\"cbb763d2-f4a1-47d1-819e-0447f3d76206\")) {                    Plotly.newPlot(                        \"cbb763d2-f4a1-47d1-819e-0447f3d76206\",                        [{\"customdata\": [[13.017770767211914, -1.1703003644943237, 0, \"for | energy | climate | development | water\", 142], [-1.4417632818222046, 5.0900068283081055, 1, \"women | her | she | we | at\", 141], [15.825815200805664, 4.1305084228515625, 2, \"nuclear | us | states | ai | russian\", 75], [16.33194923400879, 1.7339831590652466, 3, \"security | government | iraq | afghan | forces\", 74], [15.981518745422363, 3.1096224784851074, 4, \"roma | integration | eu | muslim | social\", 60], [-1.723286747932434, 5.2197675704956055, 5, \"de | la | el | los | denver\", 55], [16.238525390625, 4.1681437492370605, 6, \"virus | pda1 | covid19 | bacillus | vaccine\", 52], [11.693948745727539, 0.06726133823394775, 7, \"health | alcohol | national | services | 15\", 43], [11.660406112670898, 0.30665862560272217, 8, \"percent | care | health | medicaid | states\", 37], [-2.6640427112579346, 6.802044868469238, 9, \"protein | cells | proteins | viral | virus\", 36], [-2.714138984680176, 6.594483852386475, 10, \"patients | icu | data | health | patient\", 30], [12.522088050842285, -0.15482111275196075, 11, \"pharmaceutical | patent | drugs | medicines | usd\", 27], [-2.9267191886901855, 5.932671070098877, 12, \"medicine | medical | journal | ethics | bioethics\", 25], [16.21444320678711, 2.733534097671509, 13, \"corruption | anticorruption | transparency | international | data\", 23], [-2.096956253051758, 5.383703231811523, 14, \"veterans | care | va | military | mental\", 21], [-2.6725428104400635, 6.1796369552612305, 15, \"education | learning | research | dual | science\", 20], [15.545339584350586, 2.351372480392456, 16, \"european | eu | europe | russia | states\", 20], [15.511787414550781, 2.9147818088531494, 17, \"africa | african | mozambique | resource | rights\", 18], [-2.459238290786743, 5.7457194328308105, 18, \"programs | tech | program | york | businesses\", 17], [16.185882568359375, 3.895020008087158, 19, \"data | brazil | amazon | countries | economic\", 17], [15.805967330932617, 2.559385061264038, 20, \"sars | muslim | are | be | muslims\", 17], [16.01384162902832, 3.7189273834228516, 21, \"china | economic | chinas | chinese | military\", 17], [12.599881172180176, -0.8008420467376709, 22, \"urban | transport | rural | transportation | cities\", 13], [16.232772827148438, 2.0514471530914307, 23, \"2017 | india | on | terrorism | province\", 13], [12.796985626220703, -1.0577402114868164, 24, \"tax | property | valuation | taxpayer | government\", 13], [12.374482154846191, -0.28313183784484863, 25, \"china | apparel | chinese | textile | chinas\", 12], [12.075784683227539, 0.1371234953403473, 26, \"poverty | health | vietnam | poor | urban\", 11], [-3.1444251537323, 6.263034820556641, 27, \"media | social | participatory | participants | olympic\", 11]], \"hovertemplate\": \"<b>Topic %{customdata[2]}</b><br>Words: %{customdata[3]}<br>Size: %{customdata[4]}\", \"legendgroup\": \"\", \"marker\": {\"color\": \"#B0BEC5\", \"line\": {\"color\": \"DarkSlateGrey\", \"width\": 2}, \"size\": [142, 141, 75, 74, 60, 55, 52, 43, 37, 36, 30, 27, 25, 23, 21, 20, 20, 18, 17, 17, 17, 17, 13, 13, 13, 12, 11, 11], \"sizemode\": \"area\", \"sizeref\": 0.08875, \"symbol\": \"circle\"}, \"mode\": \"markers\", \"name\": \"\", \"orientation\": \"v\", \"showlegend\": false, \"type\": \"scatter\", \"x\": [13.017770767211914, -1.4417632818222046, 15.825815200805664, 16.33194923400879, 15.981518745422363, -1.723286747932434, 16.238525390625, 11.693948745727539, 11.660406112670898, -2.6640427112579346, -2.714138984680176, 12.522088050842285, -2.9267191886901855, 16.21444320678711, -2.096956253051758, -2.6725428104400635, 15.545339584350586, 15.511787414550781, -2.459238290786743, 16.185882568359375, 15.805967330932617, 16.01384162902832, 12.599881172180176, 16.232772827148438, 12.796985626220703, 12.374482154846191, 12.075784683227539, -3.1444251537323], \"xaxis\": \"x\", \"y\": [-1.1703003644943237, 5.0900068283081055, 4.1305084228515625, 1.7339831590652466, 3.1096224784851074, 5.2197675704956055, 4.1681437492370605, 0.06726133823394775, 0.30665862560272217, 6.802044868469238, 6.594483852386475, -0.15482111275196075, 5.932671070098877, 2.733534097671509, 5.383703231811523, 6.1796369552612305, 2.351372480392456, 2.9147818088531494, 5.7457194328308105, 3.895020008087158, 2.559385061264038, 3.7189273834228516, -0.8008420467376709, 2.0514471530914307, -1.0577402114868164, -0.28313183784484863, 0.1371234953403473, 6.263034820556641], \"yaxis\": \"y\"}],                        {\"annotations\": [{\"showarrow\": false, \"text\": \"D1\", \"x\": -3.6160889267921448, \"y\": 3.238253089785576, \"yshift\": 10}, {\"showarrow\": false, \"text\": \"D2\", \"x\": 7.582826346158981, \"xshift\": 10, \"y\": 7.822351598739624}], \"height\": 650, \"hoverlabel\": {\"bgcolor\": \"white\", \"font\": {\"family\": \"Rockwell\", \"size\": 16}}, \"legend\": {\"itemsizing\": \"constant\", \"tracegroupgap\": 0}, \"margin\": {\"t\": 60}, \"shapes\": [{\"line\": {\"color\": \"#CFD8DC\", \"width\": 2}, \"type\": \"line\", \"x0\": 7.582826346158981, \"x1\": 7.582826346158981, \"y0\": -1.3458454191684723, \"y1\": 7.822351598739624}, {\"line\": {\"color\": \"#9E9E9E\", \"width\": 2}, \"type\": \"line\", \"x0\": -3.6160889267921448, \"x1\": 18.781741619110107, \"y0\": 3.238253089785576, \"y1\": 3.238253089785576}], \"sliders\": [{\"active\": 0, \"pad\": {\"t\": 50}, \"steps\": [{\"args\": [{\"marker.color\": [[\"red\", \"#B0BEC5\", \"#B0BEC5\", \"#B0BEC5\", \"#B0BEC5\", \"#B0BEC5\", \"#B0BEC5\", \"#B0BEC5\", \"#B0BEC5\", \"#B0BEC5\", \"#B0BEC5\", \"#B0BEC5\", \"#B0BEC5\", \"#B0BEC5\", \"#B0BEC5\", \"#B0BEC5\", \"#B0BEC5\", \"#B0BEC5\", \"#B0BEC5\", \"#B0BEC5\", \"#B0BEC5\", \"#B0BEC5\", \"#B0BEC5\", \"#B0BEC5\", \"#B0BEC5\", \"#B0BEC5\", \"#B0BEC5\", \"#B0BEC5\"]]}], \"label\": \"Topic 0\", \"method\": \"update\"}, {\"args\": [{\"marker.color\": [[\"#B0BEC5\", \"red\", \"#B0BEC5\", \"#B0BEC5\", \"#B0BEC5\", \"#B0BEC5\", \"#B0BEC5\", \"#B0BEC5\", \"#B0BEC5\", \"#B0BEC5\", \"#B0BEC5\", \"#B0BEC5\", \"#B0BEC5\", \"#B0BEC5\", \"#B0BEC5\", \"#B0BEC5\", \"#B0BEC5\", \"#B0BEC5\", \"#B0BEC5\", \"#B0BEC5\", \"#B0BEC5\", \"#B0BEC5\", \"#B0BEC5\", \"#B0BEC5\", \"#B0BEC5\", \"#B0BEC5\", \"#B0BEC5\", \"#B0BEC5\"]]}], \"label\": \"Topic 1\", \"method\": \"update\"}, {\"args\": [{\"marker.color\": [[\"#B0BEC5\", \"#B0BEC5\", \"red\", \"#B0BEC5\", \"#B0BEC5\", \"#B0BEC5\", \"#B0BEC5\", \"#B0BEC5\", \"#B0BEC5\", \"#B0BEC5\", \"#B0BEC5\", \"#B0BEC5\", \"#B0BEC5\", \"#B0BEC5\", \"#B0BEC5\", \"#B0BEC5\", \"#B0BEC5\", \"#B0BEC5\", \"#B0BEC5\", \"#B0BEC5\", \"#B0BEC5\", \"#B0BEC5\", \"#B0BEC5\", \"#B0BEC5\", \"#B0BEC5\", \"#B0BEC5\", \"#B0BEC5\", \"#B0BEC5\"]]}], \"label\": \"Topic 2\", \"method\": \"update\"}, {\"args\": [{\"marker.color\": [[\"#B0BEC5\", \"#B0BEC5\", \"#B0BEC5\", \"red\", \"#B0BEC5\", \"#B0BEC5\", \"#B0BEC5\", \"#B0BEC5\", \"#B0BEC5\", \"#B0BEC5\", \"#B0BEC5\", \"#B0BEC5\", \"#B0BEC5\", \"#B0BEC5\", \"#B0BEC5\", \"#B0BEC5\", \"#B0BEC5\", \"#B0BEC5\", \"#B0BEC5\", \"#B0BEC5\", \"#B0BEC5\", \"#B0BEC5\", \"#B0BEC5\", \"#B0BEC5\", \"#B0BEC5\", \"#B0BEC5\", \"#B0BEC5\", \"#B0BEC5\"]]}], \"label\": \"Topic 3\", \"method\": \"update\"}, {\"args\": [{\"marker.color\": [[\"#B0BEC5\", \"#B0BEC5\", \"#B0BEC5\", \"#B0BEC5\", \"red\", \"#B0BEC5\", \"#B0BEC5\", \"#B0BEC5\", \"#B0BEC5\", \"#B0BEC5\", \"#B0BEC5\", \"#B0BEC5\", \"#B0BEC5\", \"#B0BEC5\", \"#B0BEC5\", \"#B0BEC5\", \"#B0BEC5\", \"#B0BEC5\", \"#B0BEC5\", \"#B0BEC5\", \"#B0BEC5\", \"#B0BEC5\", \"#B0BEC5\", \"#B0BEC5\", \"#B0BEC5\", \"#B0BEC5\", \"#B0BEC5\", \"#B0BEC5\"]]}], \"label\": \"Topic 4\", \"method\": \"update\"}, {\"args\": [{\"marker.color\": [[\"#B0BEC5\", \"#B0BEC5\", \"#B0BEC5\", \"#B0BEC5\", \"#B0BEC5\", \"red\", \"#B0BEC5\", \"#B0BEC5\", \"#B0BEC5\", \"#B0BEC5\", \"#B0BEC5\", \"#B0BEC5\", \"#B0BEC5\", \"#B0BEC5\", \"#B0BEC5\", \"#B0BEC5\", \"#B0BEC5\", \"#B0BEC5\", \"#B0BEC5\", \"#B0BEC5\", \"#B0BEC5\", \"#B0BEC5\", \"#B0BEC5\", \"#B0BEC5\", \"#B0BEC5\", \"#B0BEC5\", \"#B0BEC5\", \"#B0BEC5\"]]}], \"label\": \"Topic 5\", \"method\": \"update\"}, {\"args\": [{\"marker.color\": [[\"#B0BEC5\", \"#B0BEC5\", \"#B0BEC5\", \"#B0BEC5\", \"#B0BEC5\", \"#B0BEC5\", \"red\", \"#B0BEC5\", \"#B0BEC5\", \"#B0BEC5\", \"#B0BEC5\", \"#B0BEC5\", \"#B0BEC5\", \"#B0BEC5\", \"#B0BEC5\", \"#B0BEC5\", \"#B0BEC5\", \"#B0BEC5\", \"#B0BEC5\", \"#B0BEC5\", \"#B0BEC5\", \"#B0BEC5\", \"#B0BEC5\", \"#B0BEC5\", \"#B0BEC5\", \"#B0BEC5\", \"#B0BEC5\", \"#B0BEC5\"]]}], \"label\": \"Topic 6\", \"method\": \"update\"}, {\"args\": [{\"marker.color\": [[\"#B0BEC5\", \"#B0BEC5\", \"#B0BEC5\", \"#B0BEC5\", \"#B0BEC5\", \"#B0BEC5\", \"#B0BEC5\", \"red\", \"#B0BEC5\", \"#B0BEC5\", \"#B0BEC5\", \"#B0BEC5\", \"#B0BEC5\", \"#B0BEC5\", \"#B0BEC5\", \"#B0BEC5\", \"#B0BEC5\", \"#B0BEC5\", \"#B0BEC5\", \"#B0BEC5\", \"#B0BEC5\", \"#B0BEC5\", \"#B0BEC5\", \"#B0BEC5\", \"#B0BEC5\", \"#B0BEC5\", \"#B0BEC5\", \"#B0BEC5\"]]}], \"label\": \"Topic 7\", \"method\": \"update\"}, {\"args\": [{\"marker.color\": [[\"#B0BEC5\", \"#B0BEC5\", \"#B0BEC5\", \"#B0BEC5\", \"#B0BEC5\", \"#B0BEC5\", \"#B0BEC5\", \"#B0BEC5\", \"red\", \"#B0BEC5\", \"#B0BEC5\", \"#B0BEC5\", \"#B0BEC5\", \"#B0BEC5\", \"#B0BEC5\", \"#B0BEC5\", \"#B0BEC5\", \"#B0BEC5\", \"#B0BEC5\", \"#B0BEC5\", \"#B0BEC5\", \"#B0BEC5\", \"#B0BEC5\", \"#B0BEC5\", \"#B0BEC5\", \"#B0BEC5\", \"#B0BEC5\", \"#B0BEC5\"]]}], \"label\": \"Topic 8\", \"method\": \"update\"}, {\"args\": [{\"marker.color\": [[\"#B0BEC5\", \"#B0BEC5\", \"#B0BEC5\", \"#B0BEC5\", \"#B0BEC5\", \"#B0BEC5\", \"#B0BEC5\", \"#B0BEC5\", \"#B0BEC5\", \"red\", \"#B0BEC5\", \"#B0BEC5\", \"#B0BEC5\", \"#B0BEC5\", \"#B0BEC5\", \"#B0BEC5\", \"#B0BEC5\", \"#B0BEC5\", \"#B0BEC5\", \"#B0BEC5\", \"#B0BEC5\", \"#B0BEC5\", \"#B0BEC5\", \"#B0BEC5\", \"#B0BEC5\", \"#B0BEC5\", \"#B0BEC5\", \"#B0BEC5\"]]}], \"label\": \"Topic 9\", \"method\": \"update\"}, {\"args\": [{\"marker.color\": [[\"#B0BEC5\", \"#B0BEC5\", \"#B0BEC5\", \"#B0BEC5\", \"#B0BEC5\", \"#B0BEC5\", \"#B0BEC5\", \"#B0BEC5\", \"#B0BEC5\", \"#B0BEC5\", \"red\", \"#B0BEC5\", \"#B0BEC5\", \"#B0BEC5\", \"#B0BEC5\", \"#B0BEC5\", \"#B0BEC5\", \"#B0BEC5\", \"#B0BEC5\", \"#B0BEC5\", \"#B0BEC5\", \"#B0BEC5\", \"#B0BEC5\", \"#B0BEC5\", \"#B0BEC5\", \"#B0BEC5\", \"#B0BEC5\", \"#B0BEC5\"]]}], \"label\": \"Topic 10\", \"method\": \"update\"}, {\"args\": [{\"marker.color\": [[\"#B0BEC5\", \"#B0BEC5\", \"#B0BEC5\", \"#B0BEC5\", \"#B0BEC5\", \"#B0BEC5\", \"#B0BEC5\", \"#B0BEC5\", \"#B0BEC5\", \"#B0BEC5\", \"#B0BEC5\", \"red\", \"#B0BEC5\", \"#B0BEC5\", \"#B0BEC5\", \"#B0BEC5\", \"#B0BEC5\", \"#B0BEC5\", \"#B0BEC5\", \"#B0BEC5\", \"#B0BEC5\", \"#B0BEC5\", \"#B0BEC5\", \"#B0BEC5\", \"#B0BEC5\", \"#B0BEC5\", \"#B0BEC5\", \"#B0BEC5\"]]}], \"label\": \"Topic 11\", \"method\": \"update\"}, {\"args\": [{\"marker.color\": [[\"#B0BEC5\", \"#B0BEC5\", \"#B0BEC5\", \"#B0BEC5\", \"#B0BEC5\", \"#B0BEC5\", \"#B0BEC5\", \"#B0BEC5\", \"#B0BEC5\", \"#B0BEC5\", \"#B0BEC5\", \"#B0BEC5\", \"red\", \"#B0BEC5\", \"#B0BEC5\", \"#B0BEC5\", \"#B0BEC5\", \"#B0BEC5\", \"#B0BEC5\", \"#B0BEC5\", \"#B0BEC5\", \"#B0BEC5\", \"#B0BEC5\", \"#B0BEC5\", \"#B0BEC5\", \"#B0BEC5\", \"#B0BEC5\", \"#B0BEC5\"]]}], \"label\": \"Topic 12\", \"method\": \"update\"}, {\"args\": [{\"marker.color\": [[\"#B0BEC5\", \"#B0BEC5\", \"#B0BEC5\", \"#B0BEC5\", \"#B0BEC5\", \"#B0BEC5\", \"#B0BEC5\", \"#B0BEC5\", \"#B0BEC5\", \"#B0BEC5\", \"#B0BEC5\", \"#B0BEC5\", \"#B0BEC5\", \"red\", \"#B0BEC5\", \"#B0BEC5\", \"#B0BEC5\", \"#B0BEC5\", \"#B0BEC5\", \"#B0BEC5\", \"#B0BEC5\", \"#B0BEC5\", \"#B0BEC5\", \"#B0BEC5\", \"#B0BEC5\", \"#B0BEC5\", \"#B0BEC5\", \"#B0BEC5\"]]}], \"label\": \"Topic 13\", \"method\": \"update\"}, {\"args\": [{\"marker.color\": [[\"#B0BEC5\", \"#B0BEC5\", \"#B0BEC5\", \"#B0BEC5\", \"#B0BEC5\", \"#B0BEC5\", \"#B0BEC5\", \"#B0BEC5\", \"#B0BEC5\", \"#B0BEC5\", \"#B0BEC5\", \"#B0BEC5\", \"#B0BEC5\", \"#B0BEC5\", \"red\", \"#B0BEC5\", \"#B0BEC5\", \"#B0BEC5\", \"#B0BEC5\", \"#B0BEC5\", \"#B0BEC5\", \"#B0BEC5\", \"#B0BEC5\", \"#B0BEC5\", \"#B0BEC5\", \"#B0BEC5\", \"#B0BEC5\", \"#B0BEC5\"]]}], \"label\": \"Topic 14\", \"method\": \"update\"}, {\"args\": [{\"marker.color\": [[\"#B0BEC5\", \"#B0BEC5\", \"#B0BEC5\", \"#B0BEC5\", \"#B0BEC5\", \"#B0BEC5\", \"#B0BEC5\", \"#B0BEC5\", \"#B0BEC5\", \"#B0BEC5\", \"#B0BEC5\", \"#B0BEC5\", \"#B0BEC5\", \"#B0BEC5\", \"#B0BEC5\", \"red\", \"#B0BEC5\", \"#B0BEC5\", \"#B0BEC5\", \"#B0BEC5\", \"#B0BEC5\", \"#B0BEC5\", \"#B0BEC5\", \"#B0BEC5\", \"#B0BEC5\", \"#B0BEC5\", \"#B0BEC5\", \"#B0BEC5\"]]}], \"label\": \"Topic 15\", \"method\": \"update\"}, {\"args\": [{\"marker.color\": [[\"#B0BEC5\", \"#B0BEC5\", \"#B0BEC5\", \"#B0BEC5\", \"#B0BEC5\", \"#B0BEC5\", \"#B0BEC5\", \"#B0BEC5\", \"#B0BEC5\", \"#B0BEC5\", \"#B0BEC5\", \"#B0BEC5\", \"#B0BEC5\", \"#B0BEC5\", \"#B0BEC5\", \"#B0BEC5\", \"red\", \"#B0BEC5\", \"#B0BEC5\", \"#B0BEC5\", \"#B0BEC5\", \"#B0BEC5\", \"#B0BEC5\", \"#B0BEC5\", \"#B0BEC5\", \"#B0BEC5\", \"#B0BEC5\", \"#B0BEC5\"]]}], \"label\": \"Topic 16\", \"method\": \"update\"}, {\"args\": [{\"marker.color\": [[\"#B0BEC5\", \"#B0BEC5\", \"#B0BEC5\", \"#B0BEC5\", \"#B0BEC5\", \"#B0BEC5\", \"#B0BEC5\", \"#B0BEC5\", \"#B0BEC5\", \"#B0BEC5\", \"#B0BEC5\", \"#B0BEC5\", \"#B0BEC5\", \"#B0BEC5\", \"#B0BEC5\", \"#B0BEC5\", \"#B0BEC5\", \"red\", \"#B0BEC5\", \"#B0BEC5\", \"#B0BEC5\", \"#B0BEC5\", \"#B0BEC5\", \"#B0BEC5\", \"#B0BEC5\", \"#B0BEC5\", \"#B0BEC5\", \"#B0BEC5\"]]}], \"label\": \"Topic 17\", \"method\": \"update\"}, {\"args\": [{\"marker.color\": [[\"#B0BEC5\", \"#B0BEC5\", \"#B0BEC5\", \"#B0BEC5\", \"#B0BEC5\", \"#B0BEC5\", \"#B0BEC5\", \"#B0BEC5\", \"#B0BEC5\", \"#B0BEC5\", \"#B0BEC5\", \"#B0BEC5\", \"#B0BEC5\", \"#B0BEC5\", \"#B0BEC5\", \"#B0BEC5\", \"#B0BEC5\", \"#B0BEC5\", \"red\", \"#B0BEC5\", \"#B0BEC5\", \"#B0BEC5\", \"#B0BEC5\", \"#B0BEC5\", \"#B0BEC5\", \"#B0BEC5\", \"#B0BEC5\", \"#B0BEC5\"]]}], \"label\": \"Topic 18\", \"method\": \"update\"}, {\"args\": [{\"marker.color\": [[\"#B0BEC5\", \"#B0BEC5\", \"#B0BEC5\", \"#B0BEC5\", \"#B0BEC5\", \"#B0BEC5\", \"#B0BEC5\", \"#B0BEC5\", \"#B0BEC5\", \"#B0BEC5\", \"#B0BEC5\", \"#B0BEC5\", \"#B0BEC5\", \"#B0BEC5\", \"#B0BEC5\", \"#B0BEC5\", \"#B0BEC5\", \"#B0BEC5\", \"#B0BEC5\", \"red\", \"#B0BEC5\", \"#B0BEC5\", \"#B0BEC5\", \"#B0BEC5\", \"#B0BEC5\", \"#B0BEC5\", \"#B0BEC5\", \"#B0BEC5\"]]}], \"label\": \"Topic 19\", \"method\": \"update\"}, {\"args\": [{\"marker.color\": [[\"#B0BEC5\", \"#B0BEC5\", \"#B0BEC5\", \"#B0BEC5\", \"#B0BEC5\", \"#B0BEC5\", \"#B0BEC5\", \"#B0BEC5\", \"#B0BEC5\", \"#B0BEC5\", \"#B0BEC5\", \"#B0BEC5\", \"#B0BEC5\", \"#B0BEC5\", \"#B0BEC5\", \"#B0BEC5\", \"#B0BEC5\", \"#B0BEC5\", \"#B0BEC5\", \"#B0BEC5\", \"red\", \"#B0BEC5\", \"#B0BEC5\", \"#B0BEC5\", \"#B0BEC5\", \"#B0BEC5\", \"#B0BEC5\", \"#B0BEC5\"]]}], \"label\": \"Topic 20\", \"method\": \"update\"}, {\"args\": [{\"marker.color\": [[\"#B0BEC5\", \"#B0BEC5\", \"#B0BEC5\", \"#B0BEC5\", \"#B0BEC5\", \"#B0BEC5\", \"#B0BEC5\", \"#B0BEC5\", \"#B0BEC5\", \"#B0BEC5\", \"#B0BEC5\", \"#B0BEC5\", \"#B0BEC5\", \"#B0BEC5\", \"#B0BEC5\", \"#B0BEC5\", \"#B0BEC5\", \"#B0BEC5\", \"#B0BEC5\", \"#B0BEC5\", \"#B0BEC5\", \"red\", \"#B0BEC5\", \"#B0BEC5\", \"#B0BEC5\", \"#B0BEC5\", \"#B0BEC5\", \"#B0BEC5\"]]}], \"label\": \"Topic 21\", \"method\": \"update\"}, {\"args\": [{\"marker.color\": [[\"#B0BEC5\", \"#B0BEC5\", \"#B0BEC5\", \"#B0BEC5\", \"#B0BEC5\", \"#B0BEC5\", \"#B0BEC5\", \"#B0BEC5\", \"#B0BEC5\", \"#B0BEC5\", \"#B0BEC5\", \"#B0BEC5\", \"#B0BEC5\", \"#B0BEC5\", \"#B0BEC5\", \"#B0BEC5\", \"#B0BEC5\", \"#B0BEC5\", \"#B0BEC5\", \"#B0BEC5\", \"#B0BEC5\", \"#B0BEC5\", \"red\", \"#B0BEC5\", \"#B0BEC5\", \"#B0BEC5\", \"#B0BEC5\", \"#B0BEC5\"]]}], \"label\": \"Topic 22\", \"method\": \"update\"}, {\"args\": [{\"marker.color\": [[\"#B0BEC5\", \"#B0BEC5\", \"#B0BEC5\", \"#B0BEC5\", \"#B0BEC5\", \"#B0BEC5\", \"#B0BEC5\", \"#B0BEC5\", \"#B0BEC5\", \"#B0BEC5\", \"#B0BEC5\", \"#B0BEC5\", \"#B0BEC5\", \"#B0BEC5\", \"#B0BEC5\", \"#B0BEC5\", \"#B0BEC5\", \"#B0BEC5\", \"#B0BEC5\", \"#B0BEC5\", \"#B0BEC5\", \"#B0BEC5\", \"#B0BEC5\", \"red\", \"#B0BEC5\", \"#B0BEC5\", \"#B0BEC5\", \"#B0BEC5\"]]}], \"label\": \"Topic 23\", \"method\": \"update\"}, {\"args\": [{\"marker.color\": [[\"#B0BEC5\", \"#B0BEC5\", \"#B0BEC5\", \"#B0BEC5\", \"#B0BEC5\", \"#B0BEC5\", \"#B0BEC5\", \"#B0BEC5\", \"#B0BEC5\", \"#B0BEC5\", \"#B0BEC5\", \"#B0BEC5\", \"#B0BEC5\", \"#B0BEC5\", \"#B0BEC5\", \"#B0BEC5\", \"#B0BEC5\", \"#B0BEC5\", \"#B0BEC5\", \"#B0BEC5\", \"#B0BEC5\", \"#B0BEC5\", \"#B0BEC5\", \"#B0BEC5\", \"red\", \"#B0BEC5\", \"#B0BEC5\", \"#B0BEC5\"]]}], \"label\": \"Topic 24\", \"method\": \"update\"}, {\"args\": [{\"marker.color\": [[\"#B0BEC5\", \"#B0BEC5\", \"#B0BEC5\", \"#B0BEC5\", \"#B0BEC5\", \"#B0BEC5\", \"#B0BEC5\", \"#B0BEC5\", \"#B0BEC5\", \"#B0BEC5\", \"#B0BEC5\", \"#B0BEC5\", \"#B0BEC5\", \"#B0BEC5\", \"#B0BEC5\", \"#B0BEC5\", \"#B0BEC5\", \"#B0BEC5\", \"#B0BEC5\", \"#B0BEC5\", \"#B0BEC5\", \"#B0BEC5\", \"#B0BEC5\", \"#B0BEC5\", \"#B0BEC5\", \"red\", \"#B0BEC5\", \"#B0BEC5\"]]}], \"label\": \"Topic 25\", \"method\": \"update\"}, {\"args\": [{\"marker.color\": [[\"#B0BEC5\", \"#B0BEC5\", \"#B0BEC5\", \"#B0BEC5\", \"#B0BEC5\", \"#B0BEC5\", \"#B0BEC5\", \"#B0BEC5\", \"#B0BEC5\", \"#B0BEC5\", \"#B0BEC5\", \"#B0BEC5\", \"#B0BEC5\", \"#B0BEC5\", \"#B0BEC5\", \"#B0BEC5\", \"#B0BEC5\", \"#B0BEC5\", \"#B0BEC5\", \"#B0BEC5\", \"#B0BEC5\", \"#B0BEC5\", \"#B0BEC5\", \"#B0BEC5\", \"#B0BEC5\", \"#B0BEC5\", \"red\", \"#B0BEC5\"]]}], \"label\": \"Topic 26\", \"method\": \"update\"}, {\"args\": [{\"marker.color\": [[\"#B0BEC5\", \"#B0BEC5\", \"#B0BEC5\", \"#B0BEC5\", \"#B0BEC5\", \"#B0BEC5\", \"#B0BEC5\", \"#B0BEC5\", \"#B0BEC5\", \"#B0BEC5\", \"#B0BEC5\", \"#B0BEC5\", \"#B0BEC5\", \"#B0BEC5\", \"#B0BEC5\", \"#B0BEC5\", \"#B0BEC5\", \"#B0BEC5\", \"#B0BEC5\", \"#B0BEC5\", \"#B0BEC5\", \"#B0BEC5\", \"#B0BEC5\", \"#B0BEC5\", \"#B0BEC5\", \"#B0BEC5\", \"#B0BEC5\", \"red\"]]}], \"label\": \"Topic 27\", \"method\": \"update\"}]}], \"template\": {\"data\": {\"bar\": [{\"error_x\": {\"color\": \"rgb(36,36,36)\"}, \"error_y\": {\"color\": \"rgb(36,36,36)\"}, \"marker\": {\"line\": {\"color\": \"white\", \"width\": 0.5}}, \"type\": \"bar\"}], \"barpolar\": [{\"marker\": {\"line\": {\"color\": \"white\", \"width\": 0.5}}, \"type\": \"barpolar\"}], \"carpet\": [{\"aaxis\": {\"endlinecolor\": \"rgb(36,36,36)\", \"gridcolor\": \"white\", \"linecolor\": \"white\", \"minorgridcolor\": \"white\", \"startlinecolor\": \"rgb(36,36,36)\"}, \"baxis\": {\"endlinecolor\": \"rgb(36,36,36)\", \"gridcolor\": \"white\", \"linecolor\": \"white\", \"minorgridcolor\": \"white\", \"startlinecolor\": \"rgb(36,36,36)\"}, \"type\": \"carpet\"}], \"choropleth\": [{\"colorbar\": {\"outlinewidth\": 1, \"tickcolor\": \"rgb(36,36,36)\", \"ticks\": \"outside\"}, \"type\": \"choropleth\"}], \"contour\": [{\"colorbar\": {\"outlinewidth\": 1, \"tickcolor\": \"rgb(36,36,36)\", \"ticks\": \"outside\"}, \"colorscale\": [[0.0, \"#440154\"], [0.1111111111111111, \"#482878\"], [0.2222222222222222, \"#3e4989\"], [0.3333333333333333, \"#31688e\"], [0.4444444444444444, \"#26828e\"], [0.5555555555555556, \"#1f9e89\"], [0.6666666666666666, \"#35b779\"], [0.7777777777777778, \"#6ece58\"], [0.8888888888888888, \"#b5de2b\"], [1.0, \"#fde725\"]], \"type\": \"contour\"}], \"contourcarpet\": [{\"colorbar\": {\"outlinewidth\": 1, \"tickcolor\": \"rgb(36,36,36)\", \"ticks\": \"outside\"}, \"type\": \"contourcarpet\"}], \"heatmap\": [{\"colorbar\": {\"outlinewidth\": 1, \"tickcolor\": \"rgb(36,36,36)\", \"ticks\": \"outside\"}, \"colorscale\": [[0.0, \"#440154\"], [0.1111111111111111, \"#482878\"], [0.2222222222222222, \"#3e4989\"], [0.3333333333333333, \"#31688e\"], [0.4444444444444444, \"#26828e\"], [0.5555555555555556, \"#1f9e89\"], [0.6666666666666666, \"#35b779\"], [0.7777777777777778, \"#6ece58\"], [0.8888888888888888, \"#b5de2b\"], [1.0, \"#fde725\"]], \"type\": \"heatmap\"}], \"heatmapgl\": [{\"colorbar\": {\"outlinewidth\": 1, \"tickcolor\": \"rgb(36,36,36)\", \"ticks\": \"outside\"}, \"colorscale\": [[0.0, \"#440154\"], [0.1111111111111111, \"#482878\"], [0.2222222222222222, \"#3e4989\"], [0.3333333333333333, \"#31688e\"], [0.4444444444444444, \"#26828e\"], [0.5555555555555556, \"#1f9e89\"], [0.6666666666666666, \"#35b779\"], [0.7777777777777778, \"#6ece58\"], [0.8888888888888888, \"#b5de2b\"], [1.0, \"#fde725\"]], \"type\": \"heatmapgl\"}], \"histogram\": [{\"marker\": {\"line\": {\"color\": \"white\", \"width\": 0.6}}, \"type\": \"histogram\"}], \"histogram2d\": [{\"colorbar\": {\"outlinewidth\": 1, \"tickcolor\": \"rgb(36,36,36)\", \"ticks\": \"outside\"}, \"colorscale\": [[0.0, \"#440154\"], [0.1111111111111111, \"#482878\"], [0.2222222222222222, \"#3e4989\"], [0.3333333333333333, \"#31688e\"], [0.4444444444444444, \"#26828e\"], [0.5555555555555556, \"#1f9e89\"], [0.6666666666666666, \"#35b779\"], [0.7777777777777778, \"#6ece58\"], [0.8888888888888888, \"#b5de2b\"], [1.0, \"#fde725\"]], \"type\": \"histogram2d\"}], \"histogram2dcontour\": [{\"colorbar\": {\"outlinewidth\": 1, \"tickcolor\": \"rgb(36,36,36)\", \"ticks\": \"outside\"}, \"colorscale\": [[0.0, \"#440154\"], [0.1111111111111111, \"#482878\"], [0.2222222222222222, \"#3e4989\"], [0.3333333333333333, \"#31688e\"], [0.4444444444444444, \"#26828e\"], [0.5555555555555556, \"#1f9e89\"], [0.6666666666666666, \"#35b779\"], [0.7777777777777778, \"#6ece58\"], [0.8888888888888888, \"#b5de2b\"], [1.0, \"#fde725\"]], \"type\": \"histogram2dcontour\"}], \"mesh3d\": [{\"colorbar\": {\"outlinewidth\": 1, \"tickcolor\": \"rgb(36,36,36)\", \"ticks\": \"outside\"}, \"type\": \"mesh3d\"}], \"parcoords\": [{\"line\": {\"colorbar\": {\"outlinewidth\": 1, \"tickcolor\": \"rgb(36,36,36)\", \"ticks\": \"outside\"}}, \"type\": \"parcoords\"}], \"pie\": [{\"automargin\": true, \"type\": \"pie\"}], \"scatter\": [{\"marker\": {\"colorbar\": {\"outlinewidth\": 1, \"tickcolor\": \"rgb(36,36,36)\", \"ticks\": \"outside\"}}, \"type\": \"scatter\"}], \"scatter3d\": [{\"line\": {\"colorbar\": {\"outlinewidth\": 1, \"tickcolor\": \"rgb(36,36,36)\", \"ticks\": \"outside\"}}, \"marker\": {\"colorbar\": {\"outlinewidth\": 1, \"tickcolor\": \"rgb(36,36,36)\", \"ticks\": \"outside\"}}, \"type\": \"scatter3d\"}], \"scattercarpet\": [{\"marker\": {\"colorbar\": {\"outlinewidth\": 1, \"tickcolor\": \"rgb(36,36,36)\", \"ticks\": \"outside\"}}, \"type\": \"scattercarpet\"}], \"scattergeo\": [{\"marker\": {\"colorbar\": {\"outlinewidth\": 1, \"tickcolor\": \"rgb(36,36,36)\", \"ticks\": \"outside\"}}, \"type\": \"scattergeo\"}], \"scattergl\": [{\"marker\": {\"colorbar\": {\"outlinewidth\": 1, \"tickcolor\": \"rgb(36,36,36)\", \"ticks\": \"outside\"}}, \"type\": \"scattergl\"}], \"scattermapbox\": [{\"marker\": {\"colorbar\": {\"outlinewidth\": 1, \"tickcolor\": \"rgb(36,36,36)\", \"ticks\": \"outside\"}}, \"type\": \"scattermapbox\"}], \"scatterpolar\": [{\"marker\": {\"colorbar\": {\"outlinewidth\": 1, \"tickcolor\": \"rgb(36,36,36)\", \"ticks\": \"outside\"}}, \"type\": \"scatterpolar\"}], \"scatterpolargl\": [{\"marker\": {\"colorbar\": {\"outlinewidth\": 1, \"tickcolor\": \"rgb(36,36,36)\", \"ticks\": \"outside\"}}, \"type\": \"scatterpolargl\"}], \"scatterternary\": [{\"marker\": {\"colorbar\": {\"outlinewidth\": 1, \"tickcolor\": \"rgb(36,36,36)\", \"ticks\": \"outside\"}}, \"type\": \"scatterternary\"}], \"surface\": [{\"colorbar\": {\"outlinewidth\": 1, \"tickcolor\": \"rgb(36,36,36)\", \"ticks\": \"outside\"}, \"colorscale\": [[0.0, \"#440154\"], [0.1111111111111111, \"#482878\"], [0.2222222222222222, \"#3e4989\"], [0.3333333333333333, \"#31688e\"], [0.4444444444444444, \"#26828e\"], [0.5555555555555556, \"#1f9e89\"], [0.6666666666666666, \"#35b779\"], [0.7777777777777778, \"#6ece58\"], [0.8888888888888888, \"#b5de2b\"], [1.0, \"#fde725\"]], \"type\": \"surface\"}], \"table\": [{\"cells\": {\"fill\": {\"color\": \"rgb(237,237,237)\"}, \"line\": {\"color\": \"white\"}}, \"header\": {\"fill\": {\"color\": \"rgb(217,217,217)\"}, \"line\": {\"color\": \"white\"}}, \"type\": \"table\"}]}, \"layout\": {\"annotationdefaults\": {\"arrowhead\": 0, \"arrowwidth\": 1}, \"autotypenumbers\": \"strict\", \"coloraxis\": {\"colorbar\": {\"outlinewidth\": 1, \"tickcolor\": \"rgb(36,36,36)\", \"ticks\": \"outside\"}}, \"colorscale\": {\"diverging\": [[0.0, \"rgb(103,0,31)\"], [0.1, \"rgb(178,24,43)\"], [0.2, \"rgb(214,96,77)\"], [0.3, \"rgb(244,165,130)\"], [0.4, \"rgb(253,219,199)\"], [0.5, \"rgb(247,247,247)\"], [0.6, \"rgb(209,229,240)\"], [0.7, \"rgb(146,197,222)\"], [0.8, \"rgb(67,147,195)\"], [0.9, \"rgb(33,102,172)\"], [1.0, \"rgb(5,48,97)\"]], \"sequential\": [[0.0, \"#440154\"], [0.1111111111111111, \"#482878\"], [0.2222222222222222, \"#3e4989\"], [0.3333333333333333, \"#31688e\"], [0.4444444444444444, \"#26828e\"], [0.5555555555555556, \"#1f9e89\"], [0.6666666666666666, \"#35b779\"], [0.7777777777777778, \"#6ece58\"], [0.8888888888888888, \"#b5de2b\"], [1.0, \"#fde725\"]], \"sequentialminus\": [[0.0, \"#440154\"], [0.1111111111111111, \"#482878\"], [0.2222222222222222, \"#3e4989\"], [0.3333333333333333, \"#31688e\"], [0.4444444444444444, \"#26828e\"], [0.5555555555555556, \"#1f9e89\"], [0.6666666666666666, \"#35b779\"], [0.7777777777777778, \"#6ece58\"], [0.8888888888888888, \"#b5de2b\"], [1.0, \"#fde725\"]]}, \"colorway\": [\"#1F77B4\", \"#FF7F0E\", \"#2CA02C\", \"#D62728\", \"#9467BD\", \"#8C564B\", \"#E377C2\", \"#7F7F7F\", \"#BCBD22\", \"#17BECF\"], \"font\": {\"color\": \"rgb(36,36,36)\"}, \"geo\": {\"bgcolor\": \"white\", \"lakecolor\": \"white\", \"landcolor\": \"white\", \"showlakes\": true, \"showland\": true, \"subunitcolor\": \"white\"}, \"hoverlabel\": {\"align\": \"left\"}, \"hovermode\": \"closest\", \"mapbox\": {\"style\": \"light\"}, \"paper_bgcolor\": \"white\", \"plot_bgcolor\": \"white\", \"polar\": {\"angularaxis\": {\"gridcolor\": \"rgb(232,232,232)\", \"linecolor\": \"rgb(36,36,36)\", \"showgrid\": false, \"showline\": true, \"ticks\": \"outside\"}, \"bgcolor\": \"white\", \"radialaxis\": {\"gridcolor\": \"rgb(232,232,232)\", \"linecolor\": \"rgb(36,36,36)\", \"showgrid\": false, \"showline\": true, \"ticks\": \"outside\"}}, \"scene\": {\"xaxis\": {\"backgroundcolor\": \"white\", \"gridcolor\": \"rgb(232,232,232)\", \"gridwidth\": 2, \"linecolor\": \"rgb(36,36,36)\", \"showbackground\": true, \"showgrid\": false, \"showline\": true, \"ticks\": \"outside\", \"zeroline\": false, \"zerolinecolor\": \"rgb(36,36,36)\"}, \"yaxis\": {\"backgroundcolor\": \"white\", \"gridcolor\": \"rgb(232,232,232)\", \"gridwidth\": 2, \"linecolor\": \"rgb(36,36,36)\", \"showbackground\": true, \"showgrid\": false, \"showline\": true, \"ticks\": \"outside\", \"zeroline\": false, \"zerolinecolor\": \"rgb(36,36,36)\"}, \"zaxis\": {\"backgroundcolor\": \"white\", \"gridcolor\": \"rgb(232,232,232)\", \"gridwidth\": 2, \"linecolor\": \"rgb(36,36,36)\", \"showbackground\": true, \"showgrid\": false, \"showline\": true, \"ticks\": \"outside\", \"zeroline\": false, \"zerolinecolor\": \"rgb(36,36,36)\"}}, \"shapedefaults\": {\"fillcolor\": \"black\", \"line\": {\"width\": 0}, \"opacity\": 0.3}, \"ternary\": {\"aaxis\": {\"gridcolor\": \"rgb(232,232,232)\", \"linecolor\": \"rgb(36,36,36)\", \"showgrid\": false, \"showline\": true, \"ticks\": \"outside\"}, \"baxis\": {\"gridcolor\": \"rgb(232,232,232)\", \"linecolor\": \"rgb(36,36,36)\", \"showgrid\": false, \"showline\": true, \"ticks\": \"outside\"}, \"bgcolor\": \"white\", \"caxis\": {\"gridcolor\": \"rgb(232,232,232)\", \"linecolor\": \"rgb(36,36,36)\", \"showgrid\": false, \"showline\": true, \"ticks\": \"outside\"}}, \"title\": {\"x\": 0.05}, \"xaxis\": {\"automargin\": true, \"gridcolor\": \"rgb(232,232,232)\", \"linecolor\": \"rgb(36,36,36)\", \"showgrid\": false, \"showline\": true, \"ticks\": \"outside\", \"title\": {\"standoff\": 15}, \"zeroline\": false, \"zerolinecolor\": \"rgb(36,36,36)\"}, \"yaxis\": {\"automargin\": true, \"gridcolor\": \"rgb(232,232,232)\", \"linecolor\": \"rgb(36,36,36)\", \"showgrid\": false, \"showline\": true, \"ticks\": \"outside\", \"title\": {\"standoff\": 15}, \"zeroline\": false, \"zerolinecolor\": \"rgb(36,36,36)\"}}}, \"title\": {\"font\": {\"color\": \"Black\", \"size\": 22}, \"text\": \"<b>Intertopic Distance Map\", \"x\": 0.5, \"xanchor\": \"center\", \"y\": 0.95, \"yanchor\": \"top\"}, \"width\": 650, \"xaxis\": {\"anchor\": \"y\", \"domain\": [0.0, 1.0], \"range\": [-3.6160889267921448, 18.781741619110107], \"title\": {\"text\": \"\"}, \"visible\": false}, \"yaxis\": {\"anchor\": \"x\", \"domain\": [0.0, 1.0], \"range\": [-1.3458454191684723, 7.822351598739624], \"title\": {\"text\": \"\"}, \"visible\": false}},                        {\"responsive\": true}                    ).then(function(){\n",
       "                            \n",
       "var gd = document.getElementById('cbb763d2-f4a1-47d1-819e-0447f3d76206');\n",
       "var x = new MutationObserver(function (mutations, observer) {{\n",
       "        var display = window.getComputedStyle(gd).display;\n",
       "        if (!display || display === 'none') {{\n",
       "            console.log([gd, 'removed!']);\n",
       "            Plotly.purge(gd);\n",
       "            observer.disconnect();\n",
       "        }}\n",
       "}});\n",
       "\n",
       "// Listen for the removal of the full notebook cells\n",
       "var notebookContainer = gd.closest('#notebook-container');\n",
       "if (notebookContainer) {{\n",
       "    x.observe(notebookContainer, {childList: true});\n",
       "}}\n",
       "\n",
       "// Listen for the clearing of the current output cell\n",
       "var outputEl = gd.closest('.output');\n",
       "if (outputEl) {{\n",
       "    x.observe(outputEl, {childList: true});\n",
       "}}\n",
       "\n",
       "                        })                };                            </script>        </div>\n",
       "</body>\n",
       "</html>"
      ]
     },
     "metadata": {},
     "output_type": "display_data"
    }
   ],
   "source": [
    "topic_model.visualize_topics()"
   ]
  },
  {
   "cell_type": "code",
   "execution_count": null,
   "metadata": {
    "colab": {
     "base_uri": "https://localhost:8080/",
     "height": 617
    },
    "id": "Xn0EvLkng0EY",
    "outputId": "5eb9eba0-a7d6-4ffa-85ee-2ea0996373ce"
   },
   "outputs": [
    {
     "data": {
      "text/html": [
       "<html>\n",
       "<head><meta charset=\"utf-8\" /></head>\n",
       "<body>\n",
       "    <div>            <script src=\"https://cdnjs.cloudflare.com/ajax/libs/mathjax/2.7.5/MathJax.js?config=TeX-AMS-MML_SVG\"></script><script type=\"text/javascript\">if (window.MathJax) {MathJax.Hub.Config({SVG: {font: \"STIX-Web\"}});}</script>                <script type=\"text/javascript\">window.PlotlyConfig = {MathJaxConfig: 'local'};</script>\n",
       "        <script src=\"https://cdn.plot.ly/plotly-latest.min.js\"></script>                <div id=\"68ad6541-3acb-4a14-8d91-5a5d9ccd25e5\" class=\"plotly-graph-div\" style=\"height:600px; width:1000px;\"></div>            <script type=\"text/javascript\">                                    window.PLOTLYENV=window.PLOTLYENV || {};                                    if (document.getElementById(\"68ad6541-3acb-4a14-8d91-5a5d9ccd25e5\")) {                    Plotly.newPlot(                        \"68ad6541-3acb-4a14-8d91-5a5d9ccd25e5\",                        [{\"hoverinfo\": \"text\", \"marker\": {\"color\": \"rgb(61,153,112)\"}, \"mode\": \"lines\", \"type\": \"scatter\", \"x\": [0.0, 0.9285618667838835, 0.9285618667838835, 0.0], \"xaxis\": \"x\", \"y\": [-15.0, -15.0, -25.0, -25.0], \"yaxis\": \"y\"}, {\"hoverinfo\": \"text\", \"marker\": {\"color\": \"rgb(0,116,217)\"}, \"mode\": \"lines\", \"type\": \"scatter\", \"x\": [0.0, 1.2348978925488794, 1.2348978925488794, 0.9285618667838835], \"xaxis\": \"x\", \"y\": [-5.0, -5.0, -20.0, -20.0], \"yaxis\": \"y\"}, {\"hoverinfo\": \"text\", \"marker\": {\"color\": \"rgb(255,65,54)\"}, \"mode\": \"lines\", \"type\": \"scatter\", \"x\": [0.0, 0.38567897888322833, 0.38567897888322833, 0.0], \"xaxis\": \"x\", \"y\": [-45.0, -45.0, -55.0, -55.0], \"yaxis\": \"y\"}, {\"hoverinfo\": \"text\", \"marker\": {\"color\": \"rgb(255,65,54)\"}, \"mode\": \"lines\", \"type\": \"scatter\", \"x\": [0.0, 0.4753712211184178, 0.4753712211184178, 0.38567897888322833], \"xaxis\": \"x\", \"y\": [-35.0, -35.0, -50.0, -50.0], \"yaxis\": \"y\"}, {\"hoverinfo\": \"text\", \"marker\": {\"color\": \"rgb(35,205,205)\"}, \"mode\": \"lines\", \"type\": \"scatter\", \"x\": [0.0, 0.2566357746400569, 0.2566357746400569, 0.0], \"xaxis\": \"x\", \"y\": [-75.0, -75.0, -85.0, -85.0], \"yaxis\": \"y\"}, {\"hoverinfo\": \"text\", \"marker\": {\"color\": \"rgb(35,205,205)\"}, \"mode\": \"lines\", \"type\": \"scatter\", \"x\": [0.0, 0.6984688073118689, 0.6984688073118689, 0.2566357746400569], \"xaxis\": \"x\", \"y\": [-65.0, -65.0, -80.0, -80.0], \"yaxis\": \"y\"}, {\"hoverinfo\": \"text\", \"marker\": {\"color\": \"rgb(35,205,205)\"}, \"mode\": \"lines\", \"type\": \"scatter\", \"x\": [0.0, 0.6995073141763297, 0.6995073141763297, 0.0], \"xaxis\": \"x\", \"y\": [-95.0, -95.0, -105.0, -105.0], \"yaxis\": \"y\"}, {\"hoverinfo\": \"text\", \"marker\": {\"color\": \"rgb(35,205,205)\"}, \"mode\": \"lines\", \"type\": \"scatter\", \"x\": [0.6984688073118689, 0.7931273302221806, 0.7931273302221806, 0.6995073141763297], \"xaxis\": \"x\", \"y\": [-72.5, -72.5, -100.0, -100.0], \"yaxis\": \"y\"}, {\"hoverinfo\": \"text\", \"marker\": {\"color\": \"rgb(0,116,217)\"}, \"mode\": \"lines\", \"type\": \"scatter\", \"x\": [0.4753712211184178, 1.0056200231730485, 1.0056200231730485, 0.7931273302221806], \"xaxis\": \"x\", \"y\": [-42.5, -42.5, -86.25, -86.25], \"yaxis\": \"y\"}, {\"hoverinfo\": \"text\", \"marker\": {\"color\": \"rgb(133,20,75)\"}, \"mode\": \"lines\", \"type\": \"scatter\", \"x\": [0.0, 0.26135699428937764, 0.26135699428937764, 0.0], \"xaxis\": \"x\", \"y\": [-115.0, -115.0, -125.0, -125.0], \"yaxis\": \"y\"}, {\"hoverinfo\": \"text\", \"marker\": {\"color\": \"rgb(133,20,75)\"}, \"mode\": \"lines\", \"type\": \"scatter\", \"x\": [0.0, 0.4231604758938135, 0.4231604758938135, 0.0], \"xaxis\": \"x\", \"y\": [-145.0, -145.0, -155.0, -155.0], \"yaxis\": \"y\"}, {\"hoverinfo\": \"text\", \"marker\": {\"color\": \"rgb(133,20,75)\"}, \"mode\": \"lines\", \"type\": \"scatter\", \"x\": [0.0, 0.5072495246798816, 0.5072495246798816, 0.4231604758938135], \"xaxis\": \"x\", \"y\": [-135.0, -135.0, -150.0, -150.0], \"yaxis\": \"y\"}, {\"hoverinfo\": \"text\", \"marker\": {\"color\": \"rgb(133,20,75)\"}, \"mode\": \"lines\", \"type\": \"scatter\", \"x\": [0.26135699428937764, 0.6636228856549871, 0.6636228856549871, 0.5072495246798816], \"xaxis\": \"x\", \"y\": [-120.0, -120.0, -142.5, -142.5], \"yaxis\": \"y\"}, {\"hoverinfo\": \"text\", \"marker\": {\"color\": \"rgb(255,220,0)\"}, \"mode\": \"lines\", \"type\": \"scatter\", \"x\": [0.0, 0.28262365320979005, 0.28262365320979005, 0.0], \"xaxis\": \"x\", \"y\": [-175.0, -175.0, -185.0, -185.0], \"yaxis\": \"y\"}, {\"hoverinfo\": \"text\", \"marker\": {\"color\": \"rgb(255,220,0)\"}, \"mode\": \"lines\", \"type\": \"scatter\", \"x\": [0.0, 0.31946354705104496, 0.31946354705104496, 0.28262365320979005], \"xaxis\": \"x\", \"y\": [-165.0, -165.0, -180.0, -180.0], \"yaxis\": \"y\"}, {\"hoverinfo\": \"text\", \"marker\": {\"color\": \"rgb(255,220,0)\"}, \"mode\": \"lines\", \"type\": \"scatter\", \"x\": [0.0, 0.43263020042317746, 0.43263020042317746, 0.0], \"xaxis\": \"x\", \"y\": [-195.0, -195.0, -205.0, -205.0], \"yaxis\": \"y\"}, {\"hoverinfo\": \"text\", \"marker\": {\"color\": \"rgb(255,220,0)\"}, \"mode\": \"lines\", \"type\": \"scatter\", \"x\": [0.0, 0.5484670254145091, 0.5484670254145091, 0.0], \"xaxis\": \"x\", \"y\": [-215.0, -215.0, -225.0, -225.0], \"yaxis\": \"y\"}, {\"hoverinfo\": \"text\", \"marker\": {\"color\": \"rgb(255,220,0)\"}, \"mode\": \"lines\", \"type\": \"scatter\", \"x\": [0.43263020042317746, 0.6360984309148434, 0.6360984309148434, 0.5484670254145091], \"xaxis\": \"x\", \"y\": [-200.0, -200.0, -220.0, -220.0], \"yaxis\": \"y\"}, {\"hoverinfo\": \"text\", \"marker\": {\"color\": \"rgb(255,220,0)\"}, \"mode\": \"lines\", \"type\": \"scatter\", \"x\": [0.31946354705104496, 0.7599766670525534, 0.7599766670525534, 0.6360984309148434], \"xaxis\": \"x\", \"y\": [-172.5, -172.5, -210.0, -210.0], \"yaxis\": \"y\"}, {\"hoverinfo\": \"text\", \"marker\": {\"color\": \"rgb(40,35,35)\"}, \"mode\": \"lines\", \"type\": \"scatter\", \"x\": [0.0, 0.38721014470673404, 0.38721014470673404, 0.0], \"xaxis\": \"x\", \"y\": [-235.0, -235.0, -245.0, -245.0], \"yaxis\": \"y\"}, {\"hoverinfo\": \"text\", \"marker\": {\"color\": \"rgb(40,35,35)\"}, \"mode\": \"lines\", \"type\": \"scatter\", \"x\": [0.0, 0.4576056959970761, 0.4576056959970761, 0.0], \"xaxis\": \"x\", \"y\": [-275.0, -275.0, -285.0, -285.0], \"yaxis\": \"y\"}, {\"hoverinfo\": \"text\", \"marker\": {\"color\": \"rgb(40,35,35)\"}, \"mode\": \"lines\", \"type\": \"scatter\", \"x\": [0.0, 0.6276324689610467, 0.6276324689610467, 0.4576056959970761], \"xaxis\": \"x\", \"y\": [-265.0, -265.0, -280.0, -280.0], \"yaxis\": \"y\"}, {\"hoverinfo\": \"text\", \"marker\": {\"color\": \"rgb(40,35,35)\"}, \"mode\": \"lines\", \"type\": \"scatter\", \"x\": [0.0, 0.7334016111194753, 0.7334016111194753, 0.6276324689610467], \"xaxis\": \"x\", \"y\": [-255.0, -255.0, -272.5, -272.5], \"yaxis\": \"y\"}, {\"hoverinfo\": \"text\", \"marker\": {\"color\": \"rgb(40,35,35)\"}, \"mode\": \"lines\", \"type\": \"scatter\", \"x\": [0.38721014470673404, 0.9582060435804349, 0.9582060435804349, 0.7334016111194753], \"xaxis\": \"x\", \"y\": [-240.0, -240.0, -263.75, -263.75], \"yaxis\": \"y\"}, {\"hoverinfo\": \"text\", \"marker\": {\"color\": \"rgb(0,116,217)\"}, \"mode\": \"lines\", \"type\": \"scatter\", \"x\": [0.7599766670525534, 1.1634412187524983, 1.1634412187524983, 0.9582060435804349], \"xaxis\": \"x\", \"y\": [-191.25, -191.25, -251.875, -251.875], \"yaxis\": \"y\"}, {\"hoverinfo\": \"text\", \"marker\": {\"color\": \"rgb(0,116,217)\"}, \"mode\": \"lines\", \"type\": \"scatter\", \"x\": [0.6636228856549871, 1.409628175680924, 1.409628175680924, 1.1634412187524983], \"xaxis\": \"x\", \"y\": [-131.25, -131.25, -221.5625, -221.5625], \"yaxis\": \"y\"}, {\"hoverinfo\": \"text\", \"marker\": {\"color\": \"rgb(0,116,217)\"}, \"mode\": \"lines\", \"type\": \"scatter\", \"x\": [1.0056200231730485, 1.8844477627491891, 1.8844477627491891, 1.409628175680924], \"xaxis\": \"x\", \"y\": [-64.375, -64.375, -176.40625, -176.40625], \"yaxis\": \"y\"}, {\"hoverinfo\": \"text\", \"marker\": {\"color\": \"rgb(0,116,217)\"}, \"mode\": \"lines\", \"type\": \"scatter\", \"x\": [1.2348978925488794, 2.226723691829462, 2.226723691829462, 1.8844477627491891], \"xaxis\": \"x\", \"y\": [-12.5, -12.5, -120.390625, -120.390625], \"yaxis\": \"y\"}],                        {\"autosize\": false, \"height\": 600, \"hoverlabel\": {\"bgcolor\": \"white\", \"font\": {\"family\": \"Rockwell\", \"size\": 16}}, \"hovermode\": \"closest\", \"plot_bgcolor\": \"#ECEFF1\", \"showlegend\": false, \"template\": {\"data\": {\"bar\": [{\"error_x\": {\"color\": \"#2a3f5f\"}, \"error_y\": {\"color\": \"#2a3f5f\"}, \"marker\": {\"line\": {\"color\": \"white\", \"width\": 0.5}}, \"type\": \"bar\"}], \"barpolar\": [{\"marker\": {\"line\": {\"color\": \"white\", \"width\": 0.5}}, \"type\": \"barpolar\"}], \"carpet\": [{\"aaxis\": {\"endlinecolor\": \"#2a3f5f\", \"gridcolor\": \"#C8D4E3\", \"linecolor\": \"#C8D4E3\", \"minorgridcolor\": \"#C8D4E3\", \"startlinecolor\": \"#2a3f5f\"}, \"baxis\": {\"endlinecolor\": \"#2a3f5f\", \"gridcolor\": \"#C8D4E3\", \"linecolor\": \"#C8D4E3\", \"minorgridcolor\": \"#C8D4E3\", \"startlinecolor\": \"#2a3f5f\"}, \"type\": \"carpet\"}], \"choropleth\": [{\"colorbar\": {\"outlinewidth\": 0, \"ticks\": \"\"}, \"type\": \"choropleth\"}], \"contour\": [{\"colorbar\": {\"outlinewidth\": 0, \"ticks\": \"\"}, \"colorscale\": [[0.0, \"#0d0887\"], [0.1111111111111111, \"#46039f\"], [0.2222222222222222, \"#7201a8\"], [0.3333333333333333, \"#9c179e\"], [0.4444444444444444, \"#bd3786\"], [0.5555555555555556, \"#d8576b\"], [0.6666666666666666, \"#ed7953\"], [0.7777777777777778, \"#fb9f3a\"], [0.8888888888888888, \"#fdca26\"], [1.0, \"#f0f921\"]], \"type\": \"contour\"}], \"contourcarpet\": [{\"colorbar\": {\"outlinewidth\": 0, \"ticks\": \"\"}, \"type\": \"contourcarpet\"}], \"heatmap\": [{\"colorbar\": {\"outlinewidth\": 0, \"ticks\": \"\"}, \"colorscale\": [[0.0, \"#0d0887\"], [0.1111111111111111, \"#46039f\"], [0.2222222222222222, \"#7201a8\"], [0.3333333333333333, \"#9c179e\"], [0.4444444444444444, \"#bd3786\"], [0.5555555555555556, \"#d8576b\"], [0.6666666666666666, \"#ed7953\"], [0.7777777777777778, \"#fb9f3a\"], [0.8888888888888888, \"#fdca26\"], [1.0, \"#f0f921\"]], \"type\": \"heatmap\"}], \"heatmapgl\": [{\"colorbar\": {\"outlinewidth\": 0, \"ticks\": \"\"}, \"colorscale\": [[0.0, \"#0d0887\"], [0.1111111111111111, \"#46039f\"], [0.2222222222222222, \"#7201a8\"], [0.3333333333333333, \"#9c179e\"], [0.4444444444444444, \"#bd3786\"], [0.5555555555555556, \"#d8576b\"], [0.6666666666666666, \"#ed7953\"], [0.7777777777777778, \"#fb9f3a\"], [0.8888888888888888, \"#fdca26\"], [1.0, \"#f0f921\"]], \"type\": \"heatmapgl\"}], \"histogram\": [{\"marker\": {\"colorbar\": {\"outlinewidth\": 0, \"ticks\": \"\"}}, \"type\": \"histogram\"}], \"histogram2d\": [{\"colorbar\": {\"outlinewidth\": 0, \"ticks\": \"\"}, \"colorscale\": [[0.0, \"#0d0887\"], [0.1111111111111111, \"#46039f\"], [0.2222222222222222, \"#7201a8\"], [0.3333333333333333, \"#9c179e\"], [0.4444444444444444, \"#bd3786\"], [0.5555555555555556, \"#d8576b\"], [0.6666666666666666, \"#ed7953\"], [0.7777777777777778, \"#fb9f3a\"], [0.8888888888888888, \"#fdca26\"], [1.0, \"#f0f921\"]], \"type\": \"histogram2d\"}], \"histogram2dcontour\": [{\"colorbar\": {\"outlinewidth\": 0, \"ticks\": \"\"}, \"colorscale\": [[0.0, \"#0d0887\"], [0.1111111111111111, \"#46039f\"], [0.2222222222222222, \"#7201a8\"], [0.3333333333333333, \"#9c179e\"], [0.4444444444444444, \"#bd3786\"], [0.5555555555555556, \"#d8576b\"], [0.6666666666666666, \"#ed7953\"], [0.7777777777777778, \"#fb9f3a\"], [0.8888888888888888, \"#fdca26\"], [1.0, \"#f0f921\"]], \"type\": \"histogram2dcontour\"}], \"mesh3d\": [{\"colorbar\": {\"outlinewidth\": 0, \"ticks\": \"\"}, \"type\": \"mesh3d\"}], \"parcoords\": [{\"line\": {\"colorbar\": {\"outlinewidth\": 0, \"ticks\": \"\"}}, \"type\": \"parcoords\"}], \"pie\": [{\"automargin\": true, \"type\": \"pie\"}], \"scatter\": [{\"marker\": {\"colorbar\": {\"outlinewidth\": 0, \"ticks\": \"\"}}, \"type\": \"scatter\"}], \"scatter3d\": [{\"line\": {\"colorbar\": {\"outlinewidth\": 0, \"ticks\": \"\"}}, \"marker\": {\"colorbar\": {\"outlinewidth\": 0, \"ticks\": \"\"}}, \"type\": \"scatter3d\"}], \"scattercarpet\": [{\"marker\": {\"colorbar\": {\"outlinewidth\": 0, \"ticks\": \"\"}}, \"type\": \"scattercarpet\"}], \"scattergeo\": [{\"marker\": {\"colorbar\": {\"outlinewidth\": 0, \"ticks\": \"\"}}, \"type\": \"scattergeo\"}], \"scattergl\": [{\"marker\": {\"colorbar\": {\"outlinewidth\": 0, \"ticks\": \"\"}}, \"type\": \"scattergl\"}], \"scattermapbox\": [{\"marker\": {\"colorbar\": {\"outlinewidth\": 0, \"ticks\": \"\"}}, \"type\": \"scattermapbox\"}], \"scatterpolar\": [{\"marker\": {\"colorbar\": {\"outlinewidth\": 0, \"ticks\": \"\"}}, \"type\": \"scatterpolar\"}], \"scatterpolargl\": [{\"marker\": {\"colorbar\": {\"outlinewidth\": 0, \"ticks\": \"\"}}, \"type\": \"scatterpolargl\"}], \"scatterternary\": [{\"marker\": {\"colorbar\": {\"outlinewidth\": 0, \"ticks\": \"\"}}, \"type\": \"scatterternary\"}], \"surface\": [{\"colorbar\": {\"outlinewidth\": 0, \"ticks\": \"\"}, \"colorscale\": [[0.0, \"#0d0887\"], [0.1111111111111111, \"#46039f\"], [0.2222222222222222, \"#7201a8\"], [0.3333333333333333, \"#9c179e\"], [0.4444444444444444, \"#bd3786\"], [0.5555555555555556, \"#d8576b\"], [0.6666666666666666, \"#ed7953\"], [0.7777777777777778, \"#fb9f3a\"], [0.8888888888888888, \"#fdca26\"], [1.0, \"#f0f921\"]], \"type\": \"surface\"}], \"table\": [{\"cells\": {\"fill\": {\"color\": \"#EBF0F8\"}, \"line\": {\"color\": \"white\"}}, \"header\": {\"fill\": {\"color\": \"#C8D4E3\"}, \"line\": {\"color\": \"white\"}}, \"type\": \"table\"}]}, \"layout\": {\"annotationdefaults\": {\"arrowcolor\": \"#2a3f5f\", \"arrowhead\": 0, \"arrowwidth\": 1}, \"autotypenumbers\": \"strict\", \"coloraxis\": {\"colorbar\": {\"outlinewidth\": 0, \"ticks\": \"\"}}, \"colorscale\": {\"diverging\": [[0, \"#8e0152\"], [0.1, \"#c51b7d\"], [0.2, \"#de77ae\"], [0.3, \"#f1b6da\"], [0.4, \"#fde0ef\"], [0.5, \"#f7f7f7\"], [0.6, \"#e6f5d0\"], [0.7, \"#b8e186\"], [0.8, \"#7fbc41\"], [0.9, \"#4d9221\"], [1, \"#276419\"]], \"sequential\": [[0.0, \"#0d0887\"], [0.1111111111111111, \"#46039f\"], [0.2222222222222222, \"#7201a8\"], [0.3333333333333333, \"#9c179e\"], [0.4444444444444444, \"#bd3786\"], [0.5555555555555556, \"#d8576b\"], [0.6666666666666666, \"#ed7953\"], [0.7777777777777778, \"#fb9f3a\"], [0.8888888888888888, \"#fdca26\"], [1.0, \"#f0f921\"]], \"sequentialminus\": [[0.0, \"#0d0887\"], [0.1111111111111111, \"#46039f\"], [0.2222222222222222, \"#7201a8\"], [0.3333333333333333, \"#9c179e\"], [0.4444444444444444, \"#bd3786\"], [0.5555555555555556, \"#d8576b\"], [0.6666666666666666, \"#ed7953\"], [0.7777777777777778, \"#fb9f3a\"], [0.8888888888888888, \"#fdca26\"], [1.0, \"#f0f921\"]]}, \"colorway\": [\"#636efa\", \"#EF553B\", \"#00cc96\", \"#ab63fa\", \"#FFA15A\", \"#19d3f3\", \"#FF6692\", \"#B6E880\", \"#FF97FF\", \"#FECB52\"], \"font\": {\"color\": \"#2a3f5f\"}, \"geo\": {\"bgcolor\": \"white\", \"lakecolor\": \"white\", \"landcolor\": \"white\", \"showlakes\": true, \"showland\": true, \"subunitcolor\": \"#C8D4E3\"}, \"hoverlabel\": {\"align\": \"left\"}, \"hovermode\": \"closest\", \"mapbox\": {\"style\": \"light\"}, \"paper_bgcolor\": \"white\", \"plot_bgcolor\": \"white\", \"polar\": {\"angularaxis\": {\"gridcolor\": \"#EBF0F8\", \"linecolor\": \"#EBF0F8\", \"ticks\": \"\"}, \"bgcolor\": \"white\", \"radialaxis\": {\"gridcolor\": \"#EBF0F8\", \"linecolor\": \"#EBF0F8\", \"ticks\": \"\"}}, \"scene\": {\"xaxis\": {\"backgroundcolor\": \"white\", \"gridcolor\": \"#DFE8F3\", \"gridwidth\": 2, \"linecolor\": \"#EBF0F8\", \"showbackground\": true, \"ticks\": \"\", \"zerolinecolor\": \"#EBF0F8\"}, \"yaxis\": {\"backgroundcolor\": \"white\", \"gridcolor\": \"#DFE8F3\", \"gridwidth\": 2, \"linecolor\": \"#EBF0F8\", \"showbackground\": true, \"ticks\": \"\", \"zerolinecolor\": \"#EBF0F8\"}, \"zaxis\": {\"backgroundcolor\": \"white\", \"gridcolor\": \"#DFE8F3\", \"gridwidth\": 2, \"linecolor\": \"#EBF0F8\", \"showbackground\": true, \"ticks\": \"\", \"zerolinecolor\": \"#EBF0F8\"}}, \"shapedefaults\": {\"line\": {\"color\": \"#2a3f5f\"}}, \"ternary\": {\"aaxis\": {\"gridcolor\": \"#DFE8F3\", \"linecolor\": \"#A2B1C6\", \"ticks\": \"\"}, \"baxis\": {\"gridcolor\": \"#DFE8F3\", \"linecolor\": \"#A2B1C6\", \"ticks\": \"\"}, \"bgcolor\": \"white\", \"caxis\": {\"gridcolor\": \"#DFE8F3\", \"linecolor\": \"#A2B1C6\", \"ticks\": \"\"}}, \"title\": {\"x\": 0.05}, \"xaxis\": {\"automargin\": true, \"gridcolor\": \"#EBF0F8\", \"linecolor\": \"#EBF0F8\", \"ticks\": \"\", \"title\": {\"standoff\": 15}, \"zerolinecolor\": \"#EBF0F8\", \"zerolinewidth\": 2}, \"yaxis\": {\"automargin\": true, \"gridcolor\": \"#EBF0F8\", \"linecolor\": \"#EBF0F8\", \"ticks\": \"\", \"title\": {\"standoff\": 15}, \"zerolinecolor\": \"#EBF0F8\", \"zerolinewidth\": 2}}}, \"title\": {\"font\": {\"color\": \"Black\", \"size\": 22}, \"text\": \"<b>Hierarchical Clustering\", \"x\": 0.5, \"xanchor\": \"center\", \"y\": 0.95, \"yanchor\": \"top\"}, \"width\": 1000, \"xaxis\": {\"mirror\": \"allticks\", \"rangemode\": \"tozero\", \"showgrid\": false, \"showline\": true, \"showticklabels\": true, \"ticks\": \"outside\", \"type\": \"linear\", \"zeroline\": false}, \"yaxis\": {\"mirror\": \"allticks\", \"rangemode\": \"tozero\", \"showgrid\": false, \"showline\": true, \"showticklabels\": true, \"tickmode\": \"array\", \"ticks\": \"outside\", \"ticktext\": [\"9_protein_cells_proteins\", \"5_de_la_el\", \"24_tax_property_valuation\", \"26_poverty_health_vietnam\", \"7_health_alcohol_national\", \"8_percent_care_health\", \"14_veterans_care_va\", \"10_patients_icu_data\", \"12_medicine_medical_journal\", \"6_virus_pda1_covid19\", \"11_pharmaceutical_patent_dr...\", \"21_china_economic_chinas\", \"25_china_apparel_chinese\", \"17_africa_african_mozambique\", \"16_european_eu_europe\", \"19_data_brazil_amazon\", \"2_nuclear_us_states\", \"3_security_government_iraq\", \"23_2017_india_on\", \"13_corruption_anticorruptio...\", \"27_media_social_participatory\", \"4_roma_integration_eu\", \"20_sars_muslim_are\", \"-1_for_are_by\", \"1_women_her_she\", \"22_urban_transport_rural\", \"0_for_energy_climate\", \"15_education_learning_resea...\", \"18_programs_tech_program\"], \"tickvals\": [-5.0, -15.0, -25.0, -35.0, -45.0, -55.0, -65.0, -75.0, -85.0, -95.0, -105.0, -115.0, -125.0, -135.0, -145.0, -155.0, -165.0, -175.0, -185.0, -195.0, -205.0, -215.0, -225.0, -235.0, -245.0, -255.0, -265.0, -275.0, -285.0], \"type\": \"linear\", \"zeroline\": false}},                        {\"responsive\": true}                    ).then(function(){\n",
       "                            \n",
       "var gd = document.getElementById('68ad6541-3acb-4a14-8d91-5a5d9ccd25e5');\n",
       "var x = new MutationObserver(function (mutations, observer) {{\n",
       "        var display = window.getComputedStyle(gd).display;\n",
       "        if (!display || display === 'none') {{\n",
       "            console.log([gd, 'removed!']);\n",
       "            Plotly.purge(gd);\n",
       "            observer.disconnect();\n",
       "        }}\n",
       "}});\n",
       "\n",
       "// Listen for the removal of the full notebook cells\n",
       "var notebookContainer = gd.closest('#notebook-container');\n",
       "if (notebookContainer) {{\n",
       "    x.observe(notebookContainer, {childList: true});\n",
       "}}\n",
       "\n",
       "// Listen for the clearing of the current output cell\n",
       "var outputEl = gd.closest('.output');\n",
       "if (outputEl) {{\n",
       "    x.observe(outputEl, {childList: true});\n",
       "}}\n",
       "\n",
       "                        })                };                            </script>        </div>\n",
       "</body>\n",
       "</html>"
      ]
     },
     "metadata": {},
     "output_type": "display_data"
    }
   ],
   "source": [
    "topic_model.visualize_hierarchy()"
   ]
  },
  {
   "cell_type": "code",
   "execution_count": null,
   "metadata": {
    "colab": {
     "base_uri": "https://localhost:8080/",
     "height": 617
    },
    "id": "HMt0X56fh89-",
    "outputId": "d2ac5bee-80b8-4c79-b649-af8f2dbaa699"
   },
   "outputs": [
    {
     "data": {
      "text/html": [
       "<html>\n",
       "<head><meta charset=\"utf-8\" /></head>\n",
       "<body>\n",
       "    <div>            <script src=\"https://cdnjs.cloudflare.com/ajax/libs/mathjax/2.7.5/MathJax.js?config=TeX-AMS-MML_SVG\"></script><script type=\"text/javascript\">if (window.MathJax) {MathJax.Hub.Config({SVG: {font: \"STIX-Web\"}});}</script>                <script type=\"text/javascript\">window.PlotlyConfig = {MathJaxConfig: 'local'};</script>\n",
       "        <script src=\"https://cdn.plot.ly/plotly-latest.min.js\"></script>                <div id=\"229e86b0-d96b-4431-9709-a72ff7ccd664\" class=\"plotly-graph-div\" style=\"height:600px; width:800px;\"></div>            <script type=\"text/javascript\">                                    window.PLOTLYENV=window.PLOTLYENV || {};                                    if (document.getElementById(\"229e86b0-d96b-4431-9709-a72ff7ccd664\")) {                    Plotly.newPlot(                        \"229e86b0-d96b-4431-9709-a72ff7ccd664\",                        [{\"orientation\": \"h\", \"type\": \"bar\", \"x\": [0.008612184234399627, 0.010014768560637209, 0.011759016740257556, 0.012638732688092654, 0.013743193257044813], \"xaxis\": \"x\", \"y\": [\"water  \", \"development  \", \"climate  \", \"energy  \", \"for  \"], \"yaxis\": \"y\"}, {\"orientation\": \"h\", \"type\": \"bar\", \"x\": [0.010393515738320376, 0.012716465337916233, 0.013434968617321979, 0.016162387133359435, 0.018886588741015762], \"xaxis\": \"x2\", \"y\": [\"at  \", \"we  \", \"she  \", \"her  \", \"women  \"], \"yaxis\": \"y2\"}, {\"orientation\": \"h\", \"type\": \"bar\", \"x\": [0.009515873254220977, 0.009792408286509343, 0.010007139272711362, 0.010606392728680004, 0.01398704869607237], \"xaxis\": \"x3\", \"y\": [\"russian  \", \"ai  \", \"states  \", \"us  \", \"nuclear  \"], \"yaxis\": \"y3\"}, {\"orientation\": \"h\", \"type\": \"bar\", \"x\": [0.008331600403782207, 0.008786980111042298, 0.008826949246704836, 0.008832719288524369, 0.011031872465939827], \"xaxis\": \"x4\", \"y\": [\"forces  \", \"afghan  \", \"iraq  \", \"government  \", \"security  \"], \"yaxis\": \"y4\"}, {\"orientation\": \"h\", \"type\": \"bar\", \"x\": [0.010164184631220914, 0.010234889897352946, 0.01029634476428732, 0.010457180911903303, 0.01867752870219799], \"xaxis\": \"x5\", \"y\": [\"social  \", \"muslim  \", \"eu  \", \"integration  \", \"roma  \"], \"yaxis\": \"y5\"}, {\"orientation\": \"h\", \"type\": \"bar\", \"x\": [0.021298380889456535, 0.025549109417850976, 0.03607553498999732, 0.046845914096964474, 0.07136280258068892], \"xaxis\": \"x6\", \"y\": [\"denver  \", \"los  \", \"el  \", \"la  \", \"de  \"], \"yaxis\": \"y6\"}],                        {\"annotations\": [{\"font\": {\"size\": 16}, \"showarrow\": false, \"text\": \"Topic 0\", \"x\": 0.11666666666666665, \"xanchor\": \"center\", \"xref\": \"paper\", \"y\": 1.0, \"yanchor\": \"bottom\", \"yref\": \"paper\"}, {\"font\": {\"size\": 16}, \"showarrow\": false, \"text\": \"Topic 1\", \"x\": 0.49999999999999994, \"xanchor\": \"center\", \"xref\": \"paper\", \"y\": 1.0, \"yanchor\": \"bottom\", \"yref\": \"paper\"}, {\"font\": {\"size\": 16}, \"showarrow\": false, \"text\": \"Topic 2\", \"x\": 0.8833333333333333, \"xanchor\": \"center\", \"xref\": \"paper\", \"y\": 1.0, \"yanchor\": \"bottom\", \"yref\": \"paper\"}, {\"font\": {\"size\": 16}, \"showarrow\": false, \"text\": \"Topic 3\", \"x\": 0.11666666666666665, \"xanchor\": \"center\", \"xref\": \"paper\", \"y\": 0.425, \"yanchor\": \"bottom\", \"yref\": \"paper\"}, {\"font\": {\"size\": 16}, \"showarrow\": false, \"text\": \"Topic 4\", \"x\": 0.49999999999999994, \"xanchor\": \"center\", \"xref\": \"paper\", \"y\": 0.425, \"yanchor\": \"bottom\", \"yref\": \"paper\"}, {\"font\": {\"size\": 16}, \"showarrow\": false, \"text\": \"Topic 5\", \"x\": 0.8833333333333333, \"xanchor\": \"center\", \"xref\": \"paper\", \"y\": 0.425, \"yanchor\": \"bottom\", \"yref\": \"paper\"}], \"height\": 600, \"hoverlabel\": {\"bgcolor\": \"white\", \"font\": {\"family\": \"Rockwell\", \"size\": 16}}, \"showlegend\": false, \"template\": {\"data\": {\"bar\": [{\"error_x\": {\"color\": \"#2a3f5f\"}, \"error_y\": {\"color\": \"#2a3f5f\"}, \"marker\": {\"line\": {\"color\": \"white\", \"width\": 0.5}}, \"type\": \"bar\"}], \"barpolar\": [{\"marker\": {\"line\": {\"color\": \"white\", \"width\": 0.5}}, \"type\": \"barpolar\"}], \"carpet\": [{\"aaxis\": {\"endlinecolor\": \"#2a3f5f\", \"gridcolor\": \"#C8D4E3\", \"linecolor\": \"#C8D4E3\", \"minorgridcolor\": \"#C8D4E3\", \"startlinecolor\": \"#2a3f5f\"}, \"baxis\": {\"endlinecolor\": \"#2a3f5f\", \"gridcolor\": \"#C8D4E3\", \"linecolor\": \"#C8D4E3\", \"minorgridcolor\": \"#C8D4E3\", \"startlinecolor\": \"#2a3f5f\"}, \"type\": \"carpet\"}], \"choropleth\": [{\"colorbar\": {\"outlinewidth\": 0, \"ticks\": \"\"}, \"type\": \"choropleth\"}], \"contour\": [{\"colorbar\": {\"outlinewidth\": 0, \"ticks\": \"\"}, \"colorscale\": [[0.0, \"#0d0887\"], [0.1111111111111111, \"#46039f\"], [0.2222222222222222, \"#7201a8\"], [0.3333333333333333, \"#9c179e\"], [0.4444444444444444, \"#bd3786\"], [0.5555555555555556, \"#d8576b\"], [0.6666666666666666, \"#ed7953\"], [0.7777777777777778, \"#fb9f3a\"], [0.8888888888888888, \"#fdca26\"], [1.0, \"#f0f921\"]], \"type\": \"contour\"}], \"contourcarpet\": [{\"colorbar\": {\"outlinewidth\": 0, \"ticks\": \"\"}, \"type\": \"contourcarpet\"}], \"heatmap\": [{\"colorbar\": {\"outlinewidth\": 0, \"ticks\": \"\"}, \"colorscale\": [[0.0, \"#0d0887\"], [0.1111111111111111, \"#46039f\"], [0.2222222222222222, \"#7201a8\"], [0.3333333333333333, \"#9c179e\"], [0.4444444444444444, \"#bd3786\"], [0.5555555555555556, \"#d8576b\"], [0.6666666666666666, \"#ed7953\"], [0.7777777777777778, \"#fb9f3a\"], [0.8888888888888888, \"#fdca26\"], [1.0, \"#f0f921\"]], \"type\": \"heatmap\"}], \"heatmapgl\": [{\"colorbar\": {\"outlinewidth\": 0, \"ticks\": \"\"}, \"colorscale\": [[0.0, \"#0d0887\"], [0.1111111111111111, \"#46039f\"], [0.2222222222222222, \"#7201a8\"], [0.3333333333333333, \"#9c179e\"], [0.4444444444444444, \"#bd3786\"], [0.5555555555555556, \"#d8576b\"], [0.6666666666666666, \"#ed7953\"], [0.7777777777777778, \"#fb9f3a\"], [0.8888888888888888, \"#fdca26\"], [1.0, \"#f0f921\"]], \"type\": \"heatmapgl\"}], \"histogram\": [{\"marker\": {\"colorbar\": {\"outlinewidth\": 0, \"ticks\": \"\"}}, \"type\": \"histogram\"}], \"histogram2d\": [{\"colorbar\": {\"outlinewidth\": 0, \"ticks\": \"\"}, \"colorscale\": [[0.0, \"#0d0887\"], [0.1111111111111111, \"#46039f\"], [0.2222222222222222, \"#7201a8\"], [0.3333333333333333, \"#9c179e\"], [0.4444444444444444, \"#bd3786\"], [0.5555555555555556, \"#d8576b\"], [0.6666666666666666, \"#ed7953\"], [0.7777777777777778, \"#fb9f3a\"], [0.8888888888888888, \"#fdca26\"], [1.0, \"#f0f921\"]], \"type\": \"histogram2d\"}], \"histogram2dcontour\": [{\"colorbar\": {\"outlinewidth\": 0, \"ticks\": \"\"}, \"colorscale\": [[0.0, \"#0d0887\"], [0.1111111111111111, \"#46039f\"], [0.2222222222222222, \"#7201a8\"], [0.3333333333333333, \"#9c179e\"], [0.4444444444444444, \"#bd3786\"], [0.5555555555555556, \"#d8576b\"], [0.6666666666666666, \"#ed7953\"], [0.7777777777777778, \"#fb9f3a\"], [0.8888888888888888, \"#fdca26\"], [1.0, \"#f0f921\"]], \"type\": \"histogram2dcontour\"}], \"mesh3d\": [{\"colorbar\": {\"outlinewidth\": 0, \"ticks\": \"\"}, \"type\": \"mesh3d\"}], \"parcoords\": [{\"line\": {\"colorbar\": {\"outlinewidth\": 0, \"ticks\": \"\"}}, \"type\": \"parcoords\"}], \"pie\": [{\"automargin\": true, \"type\": \"pie\"}], \"scatter\": [{\"marker\": {\"colorbar\": {\"outlinewidth\": 0, \"ticks\": \"\"}}, \"type\": \"scatter\"}], \"scatter3d\": [{\"line\": {\"colorbar\": {\"outlinewidth\": 0, \"ticks\": \"\"}}, \"marker\": {\"colorbar\": {\"outlinewidth\": 0, \"ticks\": \"\"}}, \"type\": \"scatter3d\"}], \"scattercarpet\": [{\"marker\": {\"colorbar\": {\"outlinewidth\": 0, \"ticks\": \"\"}}, \"type\": \"scattercarpet\"}], \"scattergeo\": [{\"marker\": {\"colorbar\": {\"outlinewidth\": 0, \"ticks\": \"\"}}, \"type\": \"scattergeo\"}], \"scattergl\": [{\"marker\": {\"colorbar\": {\"outlinewidth\": 0, \"ticks\": \"\"}}, \"type\": \"scattergl\"}], \"scattermapbox\": [{\"marker\": {\"colorbar\": {\"outlinewidth\": 0, \"ticks\": \"\"}}, \"type\": \"scattermapbox\"}], \"scatterpolar\": [{\"marker\": {\"colorbar\": {\"outlinewidth\": 0, \"ticks\": \"\"}}, \"type\": \"scatterpolar\"}], \"scatterpolargl\": [{\"marker\": {\"colorbar\": {\"outlinewidth\": 0, \"ticks\": \"\"}}, \"type\": \"scatterpolargl\"}], \"scatterternary\": [{\"marker\": {\"colorbar\": {\"outlinewidth\": 0, \"ticks\": \"\"}}, \"type\": \"scatterternary\"}], \"surface\": [{\"colorbar\": {\"outlinewidth\": 0, \"ticks\": \"\"}, \"colorscale\": [[0.0, \"#0d0887\"], [0.1111111111111111, \"#46039f\"], [0.2222222222222222, \"#7201a8\"], [0.3333333333333333, \"#9c179e\"], [0.4444444444444444, \"#bd3786\"], [0.5555555555555556, \"#d8576b\"], [0.6666666666666666, \"#ed7953\"], [0.7777777777777778, \"#fb9f3a\"], [0.8888888888888888, \"#fdca26\"], [1.0, \"#f0f921\"]], \"type\": \"surface\"}], \"table\": [{\"cells\": {\"fill\": {\"color\": \"#EBF0F8\"}, \"line\": {\"color\": \"white\"}}, \"header\": {\"fill\": {\"color\": \"#C8D4E3\"}, \"line\": {\"color\": \"white\"}}, \"type\": \"table\"}]}, \"layout\": {\"annotationdefaults\": {\"arrowcolor\": \"#2a3f5f\", \"arrowhead\": 0, \"arrowwidth\": 1}, \"autotypenumbers\": \"strict\", \"coloraxis\": {\"colorbar\": {\"outlinewidth\": 0, \"ticks\": \"\"}}, \"colorscale\": {\"diverging\": [[0, \"#8e0152\"], [0.1, \"#c51b7d\"], [0.2, \"#de77ae\"], [0.3, \"#f1b6da\"], [0.4, \"#fde0ef\"], [0.5, \"#f7f7f7\"], [0.6, \"#e6f5d0\"], [0.7, \"#b8e186\"], [0.8, \"#7fbc41\"], [0.9, \"#4d9221\"], [1, \"#276419\"]], \"sequential\": [[0.0, \"#0d0887\"], [0.1111111111111111, \"#46039f\"], [0.2222222222222222, \"#7201a8\"], [0.3333333333333333, \"#9c179e\"], [0.4444444444444444, \"#bd3786\"], [0.5555555555555556, \"#d8576b\"], [0.6666666666666666, \"#ed7953\"], [0.7777777777777778, \"#fb9f3a\"], [0.8888888888888888, \"#fdca26\"], [1.0, \"#f0f921\"]], \"sequentialminus\": [[0.0, \"#0d0887\"], [0.1111111111111111, \"#46039f\"], [0.2222222222222222, \"#7201a8\"], [0.3333333333333333, \"#9c179e\"], [0.4444444444444444, \"#bd3786\"], [0.5555555555555556, \"#d8576b\"], [0.6666666666666666, \"#ed7953\"], [0.7777777777777778, \"#fb9f3a\"], [0.8888888888888888, \"#fdca26\"], [1.0, \"#f0f921\"]]}, \"colorway\": [\"#636efa\", \"#EF553B\", \"#00cc96\", \"#ab63fa\", \"#FFA15A\", \"#19d3f3\", \"#FF6692\", \"#B6E880\", \"#FF97FF\", \"#FECB52\"], \"font\": {\"color\": \"#2a3f5f\"}, \"geo\": {\"bgcolor\": \"white\", \"lakecolor\": \"white\", \"landcolor\": \"white\", \"showlakes\": true, \"showland\": true, \"subunitcolor\": \"#C8D4E3\"}, \"hoverlabel\": {\"align\": \"left\"}, \"hovermode\": \"closest\", \"mapbox\": {\"style\": \"light\"}, \"paper_bgcolor\": \"white\", \"plot_bgcolor\": \"white\", \"polar\": {\"angularaxis\": {\"gridcolor\": \"#EBF0F8\", \"linecolor\": \"#EBF0F8\", \"ticks\": \"\"}, \"bgcolor\": \"white\", \"radialaxis\": {\"gridcolor\": \"#EBF0F8\", \"linecolor\": \"#EBF0F8\", \"ticks\": \"\"}}, \"scene\": {\"xaxis\": {\"backgroundcolor\": \"white\", \"gridcolor\": \"#DFE8F3\", \"gridwidth\": 2, \"linecolor\": \"#EBF0F8\", \"showbackground\": true, \"ticks\": \"\", \"zerolinecolor\": \"#EBF0F8\"}, \"yaxis\": {\"backgroundcolor\": \"white\", \"gridcolor\": \"#DFE8F3\", \"gridwidth\": 2, \"linecolor\": \"#EBF0F8\", \"showbackground\": true, \"ticks\": \"\", \"zerolinecolor\": \"#EBF0F8\"}, \"zaxis\": {\"backgroundcolor\": \"white\", \"gridcolor\": \"#DFE8F3\", \"gridwidth\": 2, \"linecolor\": \"#EBF0F8\", \"showbackground\": true, \"ticks\": \"\", \"zerolinecolor\": \"#EBF0F8\"}}, \"shapedefaults\": {\"line\": {\"color\": \"#2a3f5f\"}}, \"ternary\": {\"aaxis\": {\"gridcolor\": \"#DFE8F3\", \"linecolor\": \"#A2B1C6\", \"ticks\": \"\"}, \"baxis\": {\"gridcolor\": \"#DFE8F3\", \"linecolor\": \"#A2B1C6\", \"ticks\": \"\"}, \"bgcolor\": \"white\", \"caxis\": {\"gridcolor\": \"#DFE8F3\", \"linecolor\": \"#A2B1C6\", \"ticks\": \"\"}}, \"title\": {\"x\": 0.05}, \"xaxis\": {\"automargin\": true, \"gridcolor\": \"#EBF0F8\", \"linecolor\": \"#EBF0F8\", \"ticks\": \"\", \"title\": {\"standoff\": 15}, \"zerolinecolor\": \"#EBF0F8\", \"zerolinewidth\": 2}, \"yaxis\": {\"automargin\": true, \"gridcolor\": \"#EBF0F8\", \"linecolor\": \"#EBF0F8\", \"ticks\": \"\", \"title\": {\"standoff\": 15}, \"zerolinecolor\": \"#EBF0F8\", \"zerolinewidth\": 2}}}, \"title\": {\"font\": {\"color\": \"Black\", \"size\": 22}, \"text\": \"<b>Topic Word Scores\", \"x\": 0.15, \"xanchor\": \"center\", \"y\": 0.95, \"yanchor\": \"top\"}, \"width\": 800, \"xaxis\": {\"anchor\": \"y\", \"domain\": [0.0, 0.2333333333333333], \"matches\": \"x4\", \"showgrid\": true, \"showticklabels\": false}, \"xaxis2\": {\"anchor\": \"y2\", \"domain\": [0.3833333333333333, 0.6166666666666666], \"matches\": \"x5\", \"showgrid\": true, \"showticklabels\": false}, \"xaxis3\": {\"anchor\": \"y3\", \"domain\": [0.7666666666666666, 0.9999999999999999], \"matches\": \"x6\", \"showgrid\": true, \"showticklabels\": false}, \"xaxis4\": {\"anchor\": \"y4\", \"domain\": [0.0, 0.2333333333333333], \"showgrid\": true}, \"xaxis5\": {\"anchor\": \"y5\", \"domain\": [0.3833333333333333, 0.6166666666666666], \"showgrid\": true}, \"xaxis6\": {\"anchor\": \"y6\", \"domain\": [0.7666666666666666, 0.9999999999999999], \"showgrid\": true}, \"yaxis\": {\"anchor\": \"x\", \"domain\": [0.575, 1.0], \"showgrid\": true}, \"yaxis2\": {\"anchor\": \"x2\", \"domain\": [0.575, 1.0], \"showgrid\": true}, \"yaxis3\": {\"anchor\": \"x3\", \"domain\": [0.575, 1.0], \"showgrid\": true}, \"yaxis4\": {\"anchor\": \"x4\", \"domain\": [0.0, 0.425], \"showgrid\": true}, \"yaxis5\": {\"anchor\": \"x5\", \"domain\": [0.0, 0.425], \"showgrid\": true}, \"yaxis6\": {\"anchor\": \"x6\", \"domain\": [0.0, 0.425], \"showgrid\": true}},                        {\"responsive\": true}                    ).then(function(){\n",
       "                            \n",
       "var gd = document.getElementById('229e86b0-d96b-4431-9709-a72ff7ccd664');\n",
       "var x = new MutationObserver(function (mutations, observer) {{\n",
       "        var display = window.getComputedStyle(gd).display;\n",
       "        if (!display || display === 'none') {{\n",
       "            console.log([gd, 'removed!']);\n",
       "            Plotly.purge(gd);\n",
       "            observer.disconnect();\n",
       "        }}\n",
       "}});\n",
       "\n",
       "// Listen for the removal of the full notebook cells\n",
       "var notebookContainer = gd.closest('#notebook-container');\n",
       "if (notebookContainer) {{\n",
       "    x.observe(notebookContainer, {childList: true});\n",
       "}}\n",
       "\n",
       "// Listen for the clearing of the current output cell\n",
       "var outputEl = gd.closest('.output');\n",
       "if (outputEl) {{\n",
       "    x.observe(outputEl, {childList: true});\n",
       "}}\n",
       "\n",
       "                        })                };                            </script>        </div>\n",
       "</body>\n",
       "</html>"
      ]
     },
     "metadata": {},
     "output_type": "display_data"
    }
   ],
   "source": [
    "topic_model.visualize_barchart()"
   ]
  },
  {
   "cell_type": "code",
   "execution_count": null,
   "metadata": {
    "colab": {
     "base_uri": "https://localhost:8080/",
     "height": 817
    },
    "id": "Dp-AWLNclU7i",
    "outputId": "0e44dabf-c741-46ee-d644-d47ed0a6631c"
   },
   "outputs": [
    {
     "data": {
      "text/html": [
       "<html>\n",
       "<head><meta charset=\"utf-8\" /></head>\n",
       "<body>\n",
       "    <div>            <script src=\"https://cdnjs.cloudflare.com/ajax/libs/mathjax/2.7.5/MathJax.js?config=TeX-AMS-MML_SVG\"></script><script type=\"text/javascript\">if (window.MathJax) {MathJax.Hub.Config({SVG: {font: \"STIX-Web\"}});}</script>                <script type=\"text/javascript\">window.PlotlyConfig = {MathJaxConfig: 'local'};</script>\n",
       "        <script src=\"https://cdn.plot.ly/plotly-latest.min.js\"></script>                <div id=\"274c3c9d-0957-477d-ac4e-b15002f5532b\" class=\"plotly-graph-div\" style=\"height:800px; width:800px;\"></div>            <script type=\"text/javascript\">                                    window.PLOTLYENV=window.PLOTLYENV || {};                                    if (document.getElementById(\"274c3c9d-0957-477d-ac4e-b15002f5532b\")) {                    Plotly.newPlot(                        \"274c3c9d-0957-477d-ac4e-b15002f5532b\",                        [{\"coloraxis\": \"coloraxis\", \"hovertemplate\": \"x: %{x}<br>y: %{y}<br>Similarity Score: %{z}<extra></extra>\", \"name\": \"0\", \"type\": \"heatmap\", \"x\": [\"-1_for_are_by\", \"0_for_energy_climate\", \"1_women_her_she\", \"2_nuclear_us_states\", \"3_security_government_iraq\", \"4_roma_integration_eu\", \"5_de_la_el\", \"6_virus_pda1_covid19\", \"7_health_alcohol_national\", \"8_percent_care_health\", \"9_protein_cells_proteins\", \"10_patients_icu_data\", \"11_pharmaceutical_patent_dr...\", \"12_medicine_medical_journal\", \"13_corruption_anticorruptio...\", \"14_veterans_care_va\", \"15_education_learning_resea...\", \"16_european_eu_europe\", \"17_africa_african_mozambique\", \"18_programs_tech_program\", \"19_data_brazil_amazon\", \"20_sars_muslim_are\", \"21_china_economic_chinas\", \"22_urban_transport_rural\", \"23_2017_india_on\", \"24_tax_property_valuation\", \"25_china_apparel_chinese\", \"26_poverty_health_vietnam\", \"27_media_social_participatory\"], \"xaxis\": \"x\", \"y\": [\"-1_for_are_by\", \"0_for_energy_climate\", \"1_women_her_she\", \"2_nuclear_us_states\", \"3_security_government_iraq\", \"4_roma_integration_eu\", \"5_de_la_el\", \"6_virus_pda1_covid19\", \"7_health_alcohol_national\", \"8_percent_care_health\", \"9_protein_cells_proteins\", \"10_patients_icu_data\", \"11_pharmaceutical_patent_dr...\", \"12_medicine_medical_journal\", \"13_corruption_anticorruptio...\", \"14_veterans_care_va\", \"15_education_learning_resea...\", \"16_european_eu_europe\", \"17_africa_african_mozambique\", \"18_programs_tech_program\", \"19_data_brazil_amazon\", \"20_sars_muslim_are\", \"21_china_economic_chinas\", \"22_urban_transport_rural\", \"23_2017_india_on\", \"24_tax_property_valuation\", \"25_china_apparel_chinese\", \"26_poverty_health_vietnam\", \"27_media_social_participatory\"], \"yaxis\": \"y\", \"z\": [[0.9999999999999993, 0.6835676162621219, 0.7866731059276049, 0.634157357283561, 0.6375408224954764, 0.6454979459946555, 0.5282675689029883, 0.5279836824884744, 0.6431035192752513, 0.6229370931129107, 0.41332798811231797, 0.5907530153893323, 0.536693304628979, 0.5482668498594343, 0.5993748714441954, 0.5985187845333002, 0.6229517886254965, 0.5358097876580974, 0.5672668104064121, 0.6102153228236065, 0.5998838537792988, 0.8031470057544023, 0.5118842046089799, 0.5359438435490653, 0.6979299660641423, 0.45820986462251734, 0.5335555361516827, 0.607637560785718, 0.6305847691858382], [0.6835676162621219, 1.0000000000000004, 0.5818653170244101, 0.6820578504823386, 0.6446264473008899, 0.5931080330344458, 0.45385888105170313, 0.5343956893865415, 0.6727937531458339, 0.5806025733311573, 0.4695514302828118, 0.5550992971143934, 0.5365938849059558, 0.5599293400008515, 0.6280742839223331, 0.5678565769918014, 0.6508988297088361, 0.525910441273352, 0.6023596523606847, 0.6269800859383046, 0.6115900358215034, 0.6475940272190881, 0.5715742746584872, 0.6160362352650017, 0.6620669943903279, 0.5215955498542394, 0.55026079632686, 0.6781292039362017, 0.6465900190550725], [0.7866731059276049, 0.5818653170244101, 1.0, 0.6345316055249218, 0.6023911415264267, 0.658580843266763, 0.5453003750615733, 0.471796409689965, 0.575178512169684, 0.5687218717036183, 0.34933104787615654, 0.5525598971067807, 0.45742645379702246, 0.5102704051577147, 0.5518876507546634, 0.5852576170236097, 0.5656362541079138, 0.5120902577037798, 0.5237337079887674, 0.5901804117355943, 0.5590964881671542, 0.7328448463101938, 0.49437935149724194, 0.48230789923416506, 0.6478977374873749, 0.4383065936534347, 0.53672693531433, 0.5679648417235086, 0.6246176945622453], [0.634157357283561, 0.6820578504823386, 0.6345316055249218, 0.9999999999999996, 0.8500451243660363, 0.6863904109189771, 0.5366943300589855, 0.6093537346958391, 0.7021221359287876, 0.6870233565708512, 0.49349966250539123, 0.613644065879146, 0.6451150649320002, 0.6106483026674738, 0.7108722578512208, 0.6669417694235173, 0.6751117277897767, 0.7920907221548585, 0.6574587241873368, 0.7437047609571847, 0.8017632148776814, 0.7208377742948291, 0.749886386532023, 0.6349777712333269, 0.825198674329851, 0.4988981925545902, 0.6947820201661232, 0.6741426252515063, 0.7220269133547148], [0.6375408224954764, 0.6446264473008899, 0.6023911415264267, 0.8500451243660363, 0.9999999999999998, 0.6811339664349519, 0.4645338422092629, 0.5395088191664824, 0.687557994276887, 0.6882698759218288, 0.40109610322508876, 0.5745617523740212, 0.6132020447498363, 0.5691468041482924, 0.7335577558205604, 0.6507274007993372, 0.6088626245505611, 0.7241909059488607, 0.702718850789811, 0.6795701910193359, 0.765583003102547, 0.7516021270947126, 0.7384477251926934, 0.6208961104543163, 0.8503023661329265, 0.5243028659964455, 0.6601201910446954, 0.7083573994544792, 0.709864399227603], [0.6454979459946555, 0.5931080330344458, 0.658580843266763, 0.6863904109189771, 0.6811339664349519, 0.9999999999999998, 0.531561365119841, 0.515076788579975, 0.6286843617404283, 0.593157326362239, 0.3804369966223442, 0.5778266709183677, 0.5234232559792646, 0.5433395054357675, 0.6466503731100228, 0.5743502978480336, 0.618236264684351, 0.7418368027157113, 0.6780971349775256, 0.6638591244635379, 0.6649264967350994, 0.761778122782858, 0.6324835426127886, 0.6417591315520681, 0.7405034313123459, 0.43877010294772884, 0.6417130876412116, 0.6573902369848194, 0.714980512595218], [0.5282675689029883, 0.45385888105170313, 0.5453003750615733, 0.5366943300589855, 0.4645338422092629, 0.531561365119841, 0.9999999999999996, 0.3926444846500413, 0.4727379320665488, 0.506387977576195, 0.2995253824592286, 0.4072981506164747, 0.395157444001951, 0.37288730904884304, 0.5003360461011024, 0.5083064441167171, 0.4344907633974107, 0.5393687635484636, 0.4183701230837933, 0.5032087113300614, 0.5651407878481614, 0.4761577983179154, 0.4086243785356969, 0.5676513025242819, 0.5843417960025579, 0.38260788092591613, 0.4454428194923811, 0.4910038759321933, 0.47243224505176507], [0.5279836824884744, 0.5343956893865415, 0.471796409689965, 0.6093537346958391, 0.5395088191664824, 0.515076788579975, 0.3926444846500413, 1.0, 0.6845069014040213, 0.5986474871368862, 0.6755938996441306, 0.6866884266646265, 0.5996482353038524, 0.6433978187389005, 0.5745529939266439, 0.5761878060453931, 0.4834940400126835, 0.47972863208337885, 0.5046012197412385, 0.4789491021497583, 0.5116485164239363, 0.5976513535425673, 0.45730358541333715, 0.43257345099969347, 0.6034927834477637, 0.35563199910387205, 0.46477449664515225, 0.5682869656159939, 0.5532483790920115], [0.6431035192752513, 0.6727937531458339, 0.575178512169684, 0.7021221359287876, 0.687557994276887, 0.6286843617404283, 0.4727379320665488, 0.6845069014040213, 0.9999999999999998, 0.8226563065201593, 0.5095018812425791, 0.8321292466346281, 0.696082390298399, 0.8420406529962352, 0.6780758597194059, 0.7215098186726109, 0.6373536515899686, 0.5823151033654512, 0.5927098151328521, 0.6672097433062214, 0.6277435501726352, 0.7599212008529843, 0.574098922648923, 0.5910173764133375, 0.6864684742402786, 0.5371046405732216, 0.5629344202422604, 0.8084960021759058, 0.7163918631825792], [0.6229370931129107, 0.5806025733311573, 0.5687218717036183, 0.6870233565708512, 0.6882698759218288, 0.593157326362239, 0.506387977576195, 0.5986474871368862, 0.8226563065201593, 1.0000000000000002, 0.43302050088141325, 0.7517088979972737, 0.614487282238262, 0.6984242736131139, 0.6263263636120558, 0.6996156995938827, 0.5661438093314295, 0.5934641014887845, 0.5694666821739939, 0.6406032077138386, 0.66703241964851, 0.6960992595404997, 0.5527163879700747, 0.5528579335320842, 0.6828206301746987, 0.5979870457127439, 0.55236752314927, 0.772839144127017, 0.6451870154228553], [0.41332798811231797, 0.4695514302828118, 0.34933104787615654, 0.49349966250539123, 0.40109610322508876, 0.3804369966223442, 0.2995253824592286, 0.6755938996441306, 0.5095018812425791, 0.43302050088141325, 0.9999999999999998, 0.48206296185729325, 0.47116808647569053, 0.4887402441993316, 0.439628803629917, 0.44008746081380634, 0.44637279244018246, 0.33165418064456553, 0.3501009365665106, 0.4161452288555061, 0.37036090994650694, 0.4405325556595109, 0.28661072640206436, 0.35980886826369396, 0.41550459358031017, 0.2991133261142961, 0.3339894235012504, 0.4050469600437515, 0.43772091535894164], [0.5907530153893323, 0.5550992971143934, 0.5525598971067807, 0.613644065879146, 0.5745617523740212, 0.5778266709183677, 0.4072981506164747, 0.6866884266646265, 0.8321292466346281, 0.7517088979972737, 0.48206296185729325, 0.9999999999999998, 0.6361988753716896, 0.8571887763388808, 0.6085074553262226, 0.6796768549853864, 0.6644336636281651, 0.47499439892423745, 0.5276292171827854, 0.6239465903794896, 0.5557530673558202, 0.716768270150337, 0.46101826360698916, 0.5093599507992639, 0.5863129741424471, 0.3906808739232789, 0.4648464402255717, 0.6720173504713942, 0.6236449839754913], [0.536693304628979, 0.5365938849059558, 0.45742645379702246, 0.6451150649320002, 0.6132020447498363, 0.5234232559792646, 0.395157444001951, 0.5996482353038524, 0.696082390298399, 0.614487282238262, 0.47116808647569053, 0.6361988753716896, 0.9999999999999998, 0.712486157452692, 0.6436686176417186, 0.5089260256894805, 0.5663876348153014, 0.5590513969795643, 0.5702039142200234, 0.6118906680747072, 0.6313535336791889, 0.6066296735545347, 0.5939739277417153, 0.5115155172752225, 0.6319905938968795, 0.47633433700862166, 0.5730125461169254, 0.6044978150551077, 0.5505404555887488], [0.5482668498594343, 0.5599293400008515, 0.5102704051577147, 0.6106483026674738, 0.5691468041482924, 0.5433395054357675, 0.37288730904884304, 0.6433978187389005, 0.8420406529962352, 0.6984242736131139, 0.4887402441993316, 0.8571887763388808, 0.712486157452692, 0.9999999999999991, 0.623303652167764, 0.6439547858998211, 0.6563540395624652, 0.47663739999413984, 0.5342016245844247, 0.6020574462573427, 0.5341334984167418, 0.6976917681316321, 0.48845803259329534, 0.48365673625394956, 0.5697061508347538, 0.4268366245058493, 0.48311865967703815, 0.6595433419056531, 0.6679692369950516], [0.5993748714441954, 0.6280742839223331, 0.5518876507546634, 0.7108722578512208, 0.7335577558205604, 0.6466503731100228, 0.5003360461011024, 0.5745529939266439, 0.6780758597194059, 0.6263263636120558, 0.439628803629917, 0.6085074553262226, 0.6436686176417186, 0.623303652167764, 1.0, 0.5606840038185608, 0.6155575751096438, 0.628635737452286, 0.6597384406243971, 0.6279678850170309, 0.698998589286019, 0.6394754432800065, 0.6345820170969175, 0.5676225170659499, 0.7420300787989169, 0.5854273626169939, 0.600352633360622, 0.6840980981142246, 0.7466274104896435], [0.5985187845333002, 0.5678565769918014, 0.5852576170236097, 0.6669417694235173, 0.6507274007993372, 0.5743502978480336, 0.5083064441167171, 0.5761878060453931, 0.7215098186726109, 0.6996156995938827, 0.44008746081380634, 0.6796768549853864, 0.5089260256894805, 0.6439547858998211, 0.5606840038185608, 1.0, 0.5560769143002979, 0.49956043162170327, 0.5168291090804513, 0.6224118617519234, 0.5381412039036744, 0.682688256469232, 0.5154211329378888, 0.5175181443894361, 0.6221063017608723, 0.48176748756641585, 0.5225932494574549, 0.6350770460719591, 0.6023744941938587], [0.6229517886254965, 0.6508988297088361, 0.5656362541079138, 0.6751117277897767, 0.6088626245505611, 0.618236264684351, 0.4344907633974107, 0.4834940400126835, 0.6373536515899686, 0.5661438093314295, 0.44637279244018246, 0.6644336636281651, 0.5663876348153014, 0.6563540395624652, 0.6155575751096438, 0.5560769143002979, 0.9999999999999998, 0.5262958341177865, 0.5609034458014974, 0.7668888387581074, 0.6147652586503483, 0.7134897976265865, 0.5344865106356963, 0.5457437198381391, 0.6356969265015723, 0.4385940020695257, 0.5147917078431402, 0.5959542260818957, 0.6750020653270401], [0.5358097876580974, 0.525910441273352, 0.5120902577037798, 0.7920907221548585, 0.7241909059488607, 0.7418368027157113, 0.5393687635484636, 0.47972863208337885, 0.5823151033654512, 0.5934641014887845, 0.33165418064456553, 0.47499439892423745, 0.5590513969795643, 0.47663739999413984, 0.628635737452286, 0.49956043162170327, 0.5262958341177865, 1.0000000000000004, 0.6962184828040228, 0.5980056989690099, 0.8093255880155921, 0.5969940688302147, 0.7306516208238398, 0.6009053801862574, 0.7315657770144744, 0.4632843362555197, 0.6627577378937884, 0.592638213708927, 0.6319705012421992], [0.5672668104064121, 0.6023596523606847, 0.5237337079887674, 0.6574587241873368, 0.702718850789811, 0.6780971349775256, 0.4183701230837933, 0.5046012197412385, 0.5927098151328521, 0.5694666821739939, 0.3501009365665106, 0.5276292171827854, 0.5702039142200234, 0.5342016245844247, 0.6597384406243971, 0.5168291090804513, 0.5609034458014974, 0.6962184828040228, 1.0, 0.5623383518328002, 0.7809099290652495, 0.6401140987302323, 0.7165541233305442, 0.5759595357873997, 0.709984602419133, 0.4674948960951476, 0.6528040074260897, 0.6834775055491603, 0.6419605098726386], [0.6102153228236065, 0.6269800859383046, 0.5901804117355943, 0.7437047609571847, 0.6795701910193359, 0.6638591244635379, 0.5032087113300614, 0.4789491021497583, 0.6672097433062214, 0.6406032077138386, 0.4161452288555061, 0.6239465903794896, 0.6118906680747072, 0.6020574462573427, 0.6279678850170309, 0.6224118617519234, 0.7668888387581074, 0.5980056989690099, 0.5623383518328002, 1.0, 0.6832084640493727, 0.6926898544661997, 0.6217135137136041, 0.6949551413545944, 0.6842526626078362, 0.4697050468191616, 0.6430190029218507, 0.6621042096376188, 0.679077838097149], [0.5998838537792988, 0.6115900358215034, 0.5590964881671542, 0.8017632148776814, 0.765583003102547, 0.6649264967350994, 0.5651407878481614, 0.5116485164239363, 0.6277435501726352, 0.66703241964851, 0.37036090994650694, 0.5557530673558202, 0.6313535336791889, 0.5341334984167418, 0.698998589286019, 0.5381412039036744, 0.6147652586503483, 0.8093255880155921, 0.7809099290652495, 0.6832084640493727, 0.9999999999999994, 0.6235214719565448, 0.8177063101806136, 0.6393637931521263, 0.7795286416556939, 0.5231482495617972, 0.7366463197229233, 0.6866416852871768, 0.6568811881278842], [0.8031470057544023, 0.6475940272190881, 0.7328448463101938, 0.7208377742948291, 0.7516021270947126, 0.761778122782858, 0.4761577983179154, 0.5976513535425673, 0.7599212008529843, 0.6960992595404997, 0.4405325556595109, 0.716768270150337, 0.6066296735545347, 0.6976917681316321, 0.6394754432800065, 0.682688256469232, 0.7134897976265865, 0.5969940688302147, 0.6401140987302323, 0.6926898544661997, 0.6235214719565448, 1.0000000000000004, 0.6017375903698399, 0.5764411681460634, 0.7372045198519074, 0.4761319531529885, 0.6224459907966347, 0.7176057430918124, 0.7118775200215658], [0.5118842046089799, 0.5715742746584872, 0.49437935149724194, 0.749886386532023, 0.7384477251926934, 0.6324835426127886, 0.4086243785356969, 0.45730358541333715, 0.574098922648923, 0.5527163879700747, 0.28661072640206436, 0.46101826360698916, 0.5939739277417153, 0.48845803259329534, 0.6345820170969175, 0.5154211329378888, 0.5344865106356963, 0.7306516208238398, 0.7165541233305442, 0.6217135137136041, 0.8177063101806136, 0.6017375903698399, 1.0, 0.625868159481637, 0.7214341357121399, 0.43795543042417284, 0.8804861120335339, 0.6634323743568599, 0.6143373914031968], [0.5359438435490653, 0.6160362352650017, 0.48230789923416506, 0.6349777712333269, 0.6208961104543163, 0.6417591315520681, 0.5676513025242819, 0.43257345099969347, 0.5910173764133375, 0.5528579335320842, 0.35980886826369396, 0.5093599507992639, 0.5115155172752225, 0.48365673625394956, 0.5676225170659499, 0.5175181443894361, 0.5457437198381391, 0.6009053801862574, 0.5759595357873997, 0.6949551413545944, 0.6393637931521263, 0.5764411681460634, 0.625868159481637, 0.9999999999999996, 0.6699332754806742, 0.4554835351204917, 0.6019838150420612, 0.6992104127245014, 0.6177841180890615], [0.6979299660641423, 0.6620669943903279, 0.6478977374873749, 0.825198674329851, 0.8503023661329265, 0.7405034313123459, 0.5843417960025579, 0.6034927834477637, 0.6864684742402786, 0.6828206301746987, 0.41550459358031017, 0.5863129741424471, 0.6319905938968795, 0.5697061508347538, 0.7420300787989169, 0.6221063017608723, 0.6356969265015723, 0.7315657770144744, 0.709984602419133, 0.6842526626078362, 0.7795286416556939, 0.7372045198519074, 0.7214341357121399, 0.6699332754806742, 0.9999999999999993, 0.5409527810172899, 0.6774280972731302, 0.6938977785645217, 0.7001820603615229], [0.45820986462251734, 0.5215955498542394, 0.4383065936534347, 0.4988981925545902, 0.5243028659964455, 0.43877010294772884, 0.38260788092591613, 0.35563199910387205, 0.5371046405732216, 0.5979870457127439, 0.2991133261142961, 0.3906808739232789, 0.47633433700862166, 0.4268366245058493, 0.5854273626169939, 0.48176748756641585, 0.4385940020695257, 0.4632843362555197, 0.4674948960951476, 0.4697050468191616, 0.5231482495617972, 0.4761319531529885, 0.43795543042417284, 0.4554835351204917, 0.5409527810172899, 0.9999999999999996, 0.4121815836145226, 0.5692542011603348, 0.4789499076183444], [0.5335555361516827, 0.55026079632686, 0.53672693531433, 0.6947820201661232, 0.6601201910446954, 0.6417130876412116, 0.4454428194923811, 0.46477449664515225, 0.5629344202422604, 0.55236752314927, 0.3339894235012504, 0.4648464402255717, 0.5730125461169254, 0.48311865967703815, 0.600352633360622, 0.5225932494574549, 0.5147917078431402, 0.6627577378937884, 0.6528040074260897, 0.6430190029218507, 0.7366463197229233, 0.6224459907966347, 0.8804861120335339, 0.6019838150420612, 0.6774280972731302, 0.4121815836145226, 0.9999999999999996, 0.6172372223592215, 0.5929043307171161], [0.607637560785718, 0.6781292039362017, 0.5679648417235086, 0.6741426252515063, 0.7083573994544792, 0.6573902369848194, 0.4910038759321933, 0.5682869656159939, 0.8084960021759058, 0.772839144127017, 0.4050469600437515, 0.6720173504713942, 0.6044978150551077, 0.6595433419056531, 0.6840980981142246, 0.6350770460719591, 0.5959542260818957, 0.592638213708927, 0.6834775055491603, 0.6621042096376188, 0.6866416852871768, 0.7176057430918124, 0.6634323743568599, 0.6992104127245014, 0.6938977785645217, 0.5692542011603348, 0.6172372223592215, 1.0000000000000007, 0.7235682586907668], [0.6305847691858382, 0.6465900190550725, 0.6246176945622453, 0.7220269133547148, 0.709864399227603, 0.714980512595218, 0.47243224505176507, 0.5532483790920115, 0.7163918631825792, 0.6451870154228553, 0.43772091535894164, 0.6236449839754913, 0.5505404555887488, 0.6679692369950516, 0.7466274104896435, 0.6023744941938587, 0.6750020653270401, 0.6319705012421992, 0.6419605098726386, 0.679077838097149, 0.6568811881278842, 0.7118775200215658, 0.6143373914031968, 0.6177841180890615, 0.7001820603615229, 0.4789499076183444, 0.5929043307171161, 0.7235682586907668, 0.9999999999999998]]}],                        {\"coloraxis\": {\"colorbar\": {\"title\": {\"text\": \"Similarity Score\"}}, \"colorscale\": [[0.0, \"rgb(247,252,240)\"], [0.125, \"rgb(224,243,219)\"], [0.25, \"rgb(204,235,197)\"], [0.375, \"rgb(168,221,181)\"], [0.5, \"rgb(123,204,196)\"], [0.625, \"rgb(78,179,211)\"], [0.75, \"rgb(43,140,190)\"], [0.875, \"rgb(8,104,172)\"], [1.0, \"rgb(8,64,129)\"]]}, \"height\": 800, \"hoverlabel\": {\"bgcolor\": \"white\", \"font\": {\"family\": \"Rockwell\", \"size\": 16}}, \"legend\": {\"title\": {\"text\": \"Trend\"}}, \"margin\": {\"t\": 60}, \"showlegend\": true, \"template\": {\"data\": {\"bar\": [{\"error_x\": {\"color\": \"#2a3f5f\"}, \"error_y\": {\"color\": \"#2a3f5f\"}, \"marker\": {\"line\": {\"color\": \"#E5ECF6\", \"width\": 0.5}}, \"type\": \"bar\"}], \"barpolar\": [{\"marker\": {\"line\": {\"color\": \"#E5ECF6\", \"width\": 0.5}}, \"type\": \"barpolar\"}], \"carpet\": [{\"aaxis\": {\"endlinecolor\": \"#2a3f5f\", \"gridcolor\": \"white\", \"linecolor\": \"white\", \"minorgridcolor\": \"white\", \"startlinecolor\": \"#2a3f5f\"}, \"baxis\": {\"endlinecolor\": \"#2a3f5f\", \"gridcolor\": \"white\", \"linecolor\": \"white\", \"minorgridcolor\": \"white\", \"startlinecolor\": \"#2a3f5f\"}, \"type\": \"carpet\"}], \"choropleth\": [{\"colorbar\": {\"outlinewidth\": 0, \"ticks\": \"\"}, \"type\": \"choropleth\"}], \"contour\": [{\"colorbar\": {\"outlinewidth\": 0, \"ticks\": \"\"}, \"colorscale\": [[0.0, \"#0d0887\"], [0.1111111111111111, \"#46039f\"], [0.2222222222222222, \"#7201a8\"], [0.3333333333333333, \"#9c179e\"], [0.4444444444444444, \"#bd3786\"], [0.5555555555555556, \"#d8576b\"], [0.6666666666666666, \"#ed7953\"], [0.7777777777777778, \"#fb9f3a\"], [0.8888888888888888, \"#fdca26\"], [1.0, \"#f0f921\"]], \"type\": \"contour\"}], \"contourcarpet\": [{\"colorbar\": {\"outlinewidth\": 0, \"ticks\": \"\"}, \"type\": \"contourcarpet\"}], \"heatmap\": [{\"colorbar\": {\"outlinewidth\": 0, \"ticks\": \"\"}, \"colorscale\": [[0.0, \"#0d0887\"], [0.1111111111111111, \"#46039f\"], [0.2222222222222222, \"#7201a8\"], [0.3333333333333333, \"#9c179e\"], [0.4444444444444444, \"#bd3786\"], [0.5555555555555556, \"#d8576b\"], [0.6666666666666666, \"#ed7953\"], [0.7777777777777778, \"#fb9f3a\"], [0.8888888888888888, \"#fdca26\"], [1.0, \"#f0f921\"]], \"type\": \"heatmap\"}], \"heatmapgl\": [{\"colorbar\": {\"outlinewidth\": 0, \"ticks\": \"\"}, \"colorscale\": [[0.0, \"#0d0887\"], [0.1111111111111111, \"#46039f\"], [0.2222222222222222, \"#7201a8\"], [0.3333333333333333, \"#9c179e\"], [0.4444444444444444, \"#bd3786\"], [0.5555555555555556, \"#d8576b\"], [0.6666666666666666, \"#ed7953\"], [0.7777777777777778, \"#fb9f3a\"], [0.8888888888888888, \"#fdca26\"], [1.0, \"#f0f921\"]], \"type\": \"heatmapgl\"}], \"histogram\": [{\"marker\": {\"colorbar\": {\"outlinewidth\": 0, \"ticks\": \"\"}}, \"type\": \"histogram\"}], \"histogram2d\": [{\"colorbar\": {\"outlinewidth\": 0, \"ticks\": \"\"}, \"colorscale\": [[0.0, \"#0d0887\"], [0.1111111111111111, \"#46039f\"], [0.2222222222222222, \"#7201a8\"], [0.3333333333333333, \"#9c179e\"], [0.4444444444444444, \"#bd3786\"], [0.5555555555555556, \"#d8576b\"], [0.6666666666666666, \"#ed7953\"], [0.7777777777777778, \"#fb9f3a\"], [0.8888888888888888, \"#fdca26\"], [1.0, \"#f0f921\"]], \"type\": \"histogram2d\"}], \"histogram2dcontour\": [{\"colorbar\": {\"outlinewidth\": 0, \"ticks\": \"\"}, \"colorscale\": [[0.0, \"#0d0887\"], [0.1111111111111111, \"#46039f\"], [0.2222222222222222, \"#7201a8\"], [0.3333333333333333, \"#9c179e\"], [0.4444444444444444, \"#bd3786\"], [0.5555555555555556, \"#d8576b\"], [0.6666666666666666, \"#ed7953\"], [0.7777777777777778, \"#fb9f3a\"], [0.8888888888888888, \"#fdca26\"], [1.0, \"#f0f921\"]], \"type\": \"histogram2dcontour\"}], \"mesh3d\": [{\"colorbar\": {\"outlinewidth\": 0, \"ticks\": \"\"}, \"type\": \"mesh3d\"}], \"parcoords\": [{\"line\": {\"colorbar\": {\"outlinewidth\": 0, \"ticks\": \"\"}}, \"type\": \"parcoords\"}], \"pie\": [{\"automargin\": true, \"type\": \"pie\"}], \"scatter\": [{\"marker\": {\"colorbar\": {\"outlinewidth\": 0, \"ticks\": \"\"}}, \"type\": \"scatter\"}], \"scatter3d\": [{\"line\": {\"colorbar\": {\"outlinewidth\": 0, \"ticks\": \"\"}}, \"marker\": {\"colorbar\": {\"outlinewidth\": 0, \"ticks\": \"\"}}, \"type\": \"scatter3d\"}], \"scattercarpet\": [{\"marker\": {\"colorbar\": {\"outlinewidth\": 0, \"ticks\": \"\"}}, \"type\": \"scattercarpet\"}], \"scattergeo\": [{\"marker\": {\"colorbar\": {\"outlinewidth\": 0, \"ticks\": \"\"}}, \"type\": \"scattergeo\"}], \"scattergl\": [{\"marker\": {\"colorbar\": {\"outlinewidth\": 0, \"ticks\": \"\"}}, \"type\": \"scattergl\"}], \"scattermapbox\": [{\"marker\": {\"colorbar\": {\"outlinewidth\": 0, \"ticks\": \"\"}}, \"type\": \"scattermapbox\"}], \"scatterpolar\": [{\"marker\": {\"colorbar\": {\"outlinewidth\": 0, \"ticks\": \"\"}}, \"type\": \"scatterpolar\"}], \"scatterpolargl\": [{\"marker\": {\"colorbar\": {\"outlinewidth\": 0, \"ticks\": \"\"}}, \"type\": \"scatterpolargl\"}], \"scatterternary\": [{\"marker\": {\"colorbar\": {\"outlinewidth\": 0, \"ticks\": \"\"}}, \"type\": \"scatterternary\"}], \"surface\": [{\"colorbar\": {\"outlinewidth\": 0, \"ticks\": \"\"}, \"colorscale\": [[0.0, \"#0d0887\"], [0.1111111111111111, \"#46039f\"], [0.2222222222222222, \"#7201a8\"], [0.3333333333333333, \"#9c179e\"], [0.4444444444444444, \"#bd3786\"], [0.5555555555555556, \"#d8576b\"], [0.6666666666666666, \"#ed7953\"], [0.7777777777777778, \"#fb9f3a\"], [0.8888888888888888, \"#fdca26\"], [1.0, \"#f0f921\"]], \"type\": \"surface\"}], \"table\": [{\"cells\": {\"fill\": {\"color\": \"#EBF0F8\"}, \"line\": {\"color\": \"white\"}}, \"header\": {\"fill\": {\"color\": \"#C8D4E3\"}, \"line\": {\"color\": \"white\"}}, \"type\": \"table\"}]}, \"layout\": {\"annotationdefaults\": {\"arrowcolor\": \"#2a3f5f\", \"arrowhead\": 0, \"arrowwidth\": 1}, \"autotypenumbers\": \"strict\", \"coloraxis\": {\"colorbar\": {\"outlinewidth\": 0, \"ticks\": \"\"}}, \"colorscale\": {\"diverging\": [[0, \"#8e0152\"], [0.1, \"#c51b7d\"], [0.2, \"#de77ae\"], [0.3, \"#f1b6da\"], [0.4, \"#fde0ef\"], [0.5, \"#f7f7f7\"], [0.6, \"#e6f5d0\"], [0.7, \"#b8e186\"], [0.8, \"#7fbc41\"], [0.9, \"#4d9221\"], [1, \"#276419\"]], \"sequential\": [[0.0, \"#0d0887\"], [0.1111111111111111, \"#46039f\"], [0.2222222222222222, \"#7201a8\"], [0.3333333333333333, \"#9c179e\"], [0.4444444444444444, \"#bd3786\"], [0.5555555555555556, \"#d8576b\"], [0.6666666666666666, \"#ed7953\"], [0.7777777777777778, \"#fb9f3a\"], [0.8888888888888888, \"#fdca26\"], [1.0, \"#f0f921\"]], \"sequentialminus\": [[0.0, \"#0d0887\"], [0.1111111111111111, \"#46039f\"], [0.2222222222222222, \"#7201a8\"], [0.3333333333333333, \"#9c179e\"], [0.4444444444444444, \"#bd3786\"], [0.5555555555555556, \"#d8576b\"], [0.6666666666666666, \"#ed7953\"], [0.7777777777777778, \"#fb9f3a\"], [0.8888888888888888, \"#fdca26\"], [1.0, \"#f0f921\"]]}, \"colorway\": [\"#636efa\", \"#EF553B\", \"#00cc96\", \"#ab63fa\", \"#FFA15A\", \"#19d3f3\", \"#FF6692\", \"#B6E880\", \"#FF97FF\", \"#FECB52\"], \"font\": {\"color\": \"#2a3f5f\"}, \"geo\": {\"bgcolor\": \"white\", \"lakecolor\": \"white\", \"landcolor\": \"#E5ECF6\", \"showlakes\": true, \"showland\": true, \"subunitcolor\": \"white\"}, \"hoverlabel\": {\"align\": \"left\"}, \"hovermode\": \"closest\", \"mapbox\": {\"style\": \"light\"}, \"paper_bgcolor\": \"white\", \"plot_bgcolor\": \"#E5ECF6\", \"polar\": {\"angularaxis\": {\"gridcolor\": \"white\", \"linecolor\": \"white\", \"ticks\": \"\"}, \"bgcolor\": \"#E5ECF6\", \"radialaxis\": {\"gridcolor\": \"white\", \"linecolor\": \"white\", \"ticks\": \"\"}}, \"scene\": {\"xaxis\": {\"backgroundcolor\": \"#E5ECF6\", \"gridcolor\": \"white\", \"gridwidth\": 2, \"linecolor\": \"white\", \"showbackground\": true, \"ticks\": \"\", \"zerolinecolor\": \"white\"}, \"yaxis\": {\"backgroundcolor\": \"#E5ECF6\", \"gridcolor\": \"white\", \"gridwidth\": 2, \"linecolor\": \"white\", \"showbackground\": true, \"ticks\": \"\", \"zerolinecolor\": \"white\"}, \"zaxis\": {\"backgroundcolor\": \"#E5ECF6\", \"gridcolor\": \"white\", \"gridwidth\": 2, \"linecolor\": \"white\", \"showbackground\": true, \"ticks\": \"\", \"zerolinecolor\": \"white\"}}, \"shapedefaults\": {\"line\": {\"color\": \"#2a3f5f\"}}, \"ternary\": {\"aaxis\": {\"gridcolor\": \"white\", \"linecolor\": \"white\", \"ticks\": \"\"}, \"baxis\": {\"gridcolor\": \"white\", \"linecolor\": \"white\", \"ticks\": \"\"}, \"bgcolor\": \"#E5ECF6\", \"caxis\": {\"gridcolor\": \"white\", \"linecolor\": \"white\", \"ticks\": \"\"}}, \"title\": {\"x\": 0.05}, \"xaxis\": {\"automargin\": true, \"gridcolor\": \"white\", \"linecolor\": \"white\", \"ticks\": \"\", \"title\": {\"standoff\": 15}, \"zerolinecolor\": \"white\", \"zerolinewidth\": 2}, \"yaxis\": {\"automargin\": true, \"gridcolor\": \"white\", \"linecolor\": \"white\", \"ticks\": \"\", \"title\": {\"standoff\": 15}, \"zerolinecolor\": \"white\", \"zerolinewidth\": 2}}}, \"title\": {\"font\": {\"color\": \"Black\", \"size\": 22}, \"text\": \"<b>Similarity Matrix\", \"x\": 0.55, \"xanchor\": \"center\", \"y\": 0.95, \"yanchor\": \"top\"}, \"width\": 800, \"xaxis\": {\"anchor\": \"y\", \"constrain\": \"domain\", \"domain\": [0.0, 1.0], \"scaleanchor\": \"y\"}, \"yaxis\": {\"anchor\": \"x\", \"autorange\": \"reversed\", \"constrain\": \"domain\", \"domain\": [0.0, 1.0]}},                        {\"responsive\": true}                    ).then(function(){\n",
       "                            \n",
       "var gd = document.getElementById('274c3c9d-0957-477d-ac4e-b15002f5532b');\n",
       "var x = new MutationObserver(function (mutations, observer) {{\n",
       "        var display = window.getComputedStyle(gd).display;\n",
       "        if (!display || display === 'none') {{\n",
       "            console.log([gd, 'removed!']);\n",
       "            Plotly.purge(gd);\n",
       "            observer.disconnect();\n",
       "        }}\n",
       "}});\n",
       "\n",
       "// Listen for the removal of the full notebook cells\n",
       "var notebookContainer = gd.closest('#notebook-container');\n",
       "if (notebookContainer) {{\n",
       "    x.observe(notebookContainer, {childList: true});\n",
       "}}\n",
       "\n",
       "// Listen for the clearing of the current output cell\n",
       "var outputEl = gd.closest('.output');\n",
       "if (outputEl) {{\n",
       "    x.observe(outputEl, {childList: true});\n",
       "}}\n",
       "\n",
       "                        })                };                            </script>        </div>\n",
       "</body>\n",
       "</html>"
      ]
     },
     "metadata": {},
     "output_type": "display_data"
    }
   ],
   "source": [
    "topic_model.visualize_heatmap()"
   ]
  },
  {
   "cell_type": "code",
   "execution_count": null,
   "metadata": {
    "id": "NBefUR0whDy7"
   },
   "outputs": [],
   "source": [
    "timestamps = df['date'].tolist()\n",
    "topics_over_time = topic_model.topics_over_time(df['article'], topics, timestamps, nr_bins=20)"
   ]
  },
  {
   "cell_type": "code",
   "execution_count": null,
   "metadata": {
    "colab": {
     "base_uri": "https://localhost:8080/",
     "height": 467
    },
    "id": "nLAvt2APindi",
    "outputId": "3ee1b880-30b6-4240-cdfa-42d09fb5e6b7"
   },
   "outputs": [
    {
     "data": {
      "text/html": [
       "<html>\n",
       "<head><meta charset=\"utf-8\" /></head>\n",
       "<body>\n",
       "    <div>            <script src=\"https://cdnjs.cloudflare.com/ajax/libs/mathjax/2.7.5/MathJax.js?config=TeX-AMS-MML_SVG\"></script><script type=\"text/javascript\">if (window.MathJax) {MathJax.Hub.Config({SVG: {font: \"STIX-Web\"}});}</script>                <script type=\"text/javascript\">window.PlotlyConfig = {MathJaxConfig: 'local'};</script>\n",
       "        <script src=\"https://cdn.plot.ly/plotly-latest.min.js\"></script>                <div id=\"45cb3beb-744a-4bff-bcaf-3c1bb1243e66\" class=\"plotly-graph-div\" style=\"height:450px; width:1250px;\"></div>            <script type=\"text/javascript\">                                    window.PLOTLYENV=window.PLOTLYENV || {};                                    if (document.getElementById(\"45cb3beb-744a-4bff-bcaf-3c1bb1243e66\")) {                    Plotly.newPlot(                        \"45cb3beb-744a-4bff-bcaf-3c1bb1243e66\",                        [{\"hoverinfo\": \"text\", \"hovertext\": [\"<b>Topic 1</b><br>Words: at, women, her, we, be\", \"<b>Topic 1</b><br>Words: was, her, he, his, be\", \"<b>Topic 1</b><br>Words: women, we, her, at, with\", \"<b>Topic 1</b><br>Words: women, her, we, she, for\", \"<b>Topic 1</b><br>Words: women, her, she, we, womens\", \"<b>Topic 1</b><br>Words: women, her, she, for, we\", \"<b>Topic 1</b><br>Words: her, women, she, we, my\", \"<b>Topic 1</b><br>Words: her, women, she, pb, feminist\", \"<b>Topic 1</b><br>Words: we, women, our, with, her\", \"<b>Topic 1</b><br>Words: women, her, with, we, she\", \"<b>Topic 1</b><br>Words: women, we, with, her, at\"], \"marker\": {\"color\": \"#E69F00\"}, \"mode\": \"lines\", \"name\": \"1_women_her_she_we\", \"type\": \"scatter\", \"x\": [\"1901-11-01T09:33:07.200000\", \"1913-11-22T04:48:00\", \"1967-08-12T02:24:00\", \"1973-07-31T04:48:00\", \"1979-07-20T07:12:00\", \"1985-07-08T09:36:00\", \"1991-06-27T12:00:00\", \"1997-06-15T14:24:00\", \"2003-06-04T16:48:00\", \"2009-05-23T19:12:00\", \"2015-05-12T21:36:00\"], \"y\": [3, 2, 13, 20, 14, 29, 22, 6, 4, 11, 17]}, {\"hoverinfo\": \"text\", \"hovertext\": [\"<b>Topic 8</b><br>Words: black, women, percent, care, health\", \"<b>Topic 8</b><br>Words: professor, chairman, oclc, university, stanford\", \"<b>Topic 8</b><br>Words: women, her, she, black, care\", \"<b>Topic 8</b><br>Words: safety, patient, hospitals, health, hospital\", \"<b>Topic 8</b><br>Words: medicaid, insurance, states, percent, coverage\", \"<b>Topic 8</b><br>Words: women, coverage, states, medicaid, health\"], \"marker\": {\"color\": \"#56B4E9\"}, \"mode\": \"lines\", \"name\": \"8_percent_care_health_medicaid\", \"type\": \"scatter\", \"x\": [\"1901-11-01T09:33:07.200000\", \"1967-08-12T02:24:00\", \"1985-07-08T09:36:00\", \"2003-06-04T16:48:00\", \"2009-05-23T19:12:00\", \"2015-05-12T21:36:00\"], \"y\": [1, 1, 1, 2, 11, 21]}, {\"hoverinfo\": \"text\", \"hovertext\": [\"<b>Topic 14</b><br>Words: black, veterans, we, for, muhammad\", \"<b>Topic 14</b><br>Words: vets, va, veterans, vvaw, we\", \"<b>Topic 14</b><br>Words: veterans, va, tbi, treatment, depression\", \"<b>Topic 14</b><br>Words: va, veterans, military, services, medical\", \"<b>Topic 14</b><br>Words: veterans, military, commander, va, veteran\"], \"marker\": {\"color\": \"#009E73\"}, \"mode\": \"lines\", \"name\": \"14_veterans_care_va_military\", \"type\": \"scatter\", \"x\": [\"1967-08-12T02:24:00\", \"1973-07-31T04:48:00\", \"2003-06-04T16:48:00\", \"2009-05-23T19:12:00\", \"2015-05-12T21:36:00\"], \"y\": [1, 4, 2, 6, 8]}, {\"hoverinfo\": \"text\", \"hovertext\": [\"<b>Topic 0</b><br>Words: energy, nuclear, industrial, power, era\", \"<b>Topic 0</b><br>Words: forest, forestry, certification, forests, land\", \"<b>Topic 0</b><br>Words: development, urban, climate, water, energy\", \"<b>Topic 0</b><br>Words: energy, for, climate, development, be\", \"<b>Topic 0</b><br>Words: climate, energy, sdg, index, development\"], \"marker\": {\"color\": \"#F0E442\"}, \"mode\": \"lines\", \"name\": \"0_for_energy_climate_development\", \"type\": \"scatter\", \"x\": [\"1973-07-31T04:48:00\", \"1997-06-15T14:24:00\", \"2003-06-04T16:48:00\", \"2009-05-23T19:12:00\", \"2015-05-12T21:36:00\"], \"y\": [1, 2, 16, 46, 77]}, {\"hoverinfo\": \"text\", \"hovertext\": [\"<b>Topic 5</b><br>Words: la, chicano, el, que, los\", \"<b>Topic 5</b><br>Words: la, el, los, las, por\", \"<b>Topic 5</b><br>Words: la, el, los, denver, colorado\", \"<b>Topic 5</b><br>Words: la, el, los, denver, por\", \"<b>Topic 5</b><br>Words: de, el, los, denver, por\", \"<b>Topic 5</b><br>Words: la, el, terrorism, los, guatemala\"], \"marker\": {\"color\": \"#D55E00\"}, \"mode\": \"lines\", \"name\": \"5_de_la_el_los\", \"type\": \"scatter\", \"x\": [\"1985-07-08T09:36:00\", \"1991-06-27T12:00:00\", \"1997-06-15T14:24:00\", \"2003-06-04T16:48:00\", \"2009-05-23T19:12:00\", \"2015-05-12T21:36:00\"], \"y\": [1, 1, 10, 35, 3, 5]}, {\"hoverinfo\": \"text\", \"hovertext\": [\"<b>Topic 3</b><br>Words: mosul, iraq, aqi, coalition, iraqi\", \"<b>Topic 3</b><br>Words: security, is, iraq, afghanistan, counterterrorism\", \"<b>Topic 3</b><br>Words: iraq, iran, political, government, security\", \"<b>Topic 3</b><br>Words: is, security, afghan, government, are\"], \"marker\": {\"color\": \"#0072B2\"}, \"mode\": \"lines\", \"name\": \"3_security_government_iraq_afghan\", \"type\": \"scatter\", \"x\": [\"1997-06-15T14:24:00\", \"2003-06-04T16:48:00\", \"2009-05-23T19:12:00\", \"2015-05-12T21:36:00\"], \"y\": [1, 6, 20, 47]}, {\"hoverinfo\": \"text\", \"hovertext\": [\"<b>Topic 4</b><br>Words: roma, programme, minority, minorities, education\", \"<b>Topic 4</b><br>Words: muslims, germany, muslim, und, german\", \"<b>Topic 4</b><br>Words: muslim, social, muslims, integration, their\", \"<b>Topic 4</b><br>Words: eu, roma, migration, migrants, their\"], \"marker\": {\"color\": \"#CC79A7\"}, \"mode\": \"lines\", \"name\": \"4_roma_integration_eu_muslim\", \"type\": \"scatter\", \"x\": [\"1997-06-15T14:24:00\", \"2003-06-04T16:48:00\", \"2009-05-23T19:12:00\", \"2015-05-12T21:36:00\"], \"y\": [3, 7, 28, 22]}, {\"hoverinfo\": \"text\", \"hovertext\": [\"<b>Topic 6</b><br>Words: settlement, defendants, infectious, plaintiffs, disease\", \"<b>Topic 6</b><br>Words: virus, anthracis, disease, influenza, vaccine\", \"<b>Topic 6</b><br>Words: poultry, diseases, virus, disease, surveillance\", \"<b>Topic 6</b><br>Words: covid19, virus, 2020, vaccine, pda1\"], \"marker\": {\"color\": \"#E69F00\"}, \"mode\": \"lines\", \"name\": \"6_virus_pda1_covid19_bacillus\", \"type\": \"scatter\", \"x\": [\"1997-06-15T14:24:00\", \"2003-06-04T16:48:00\", \"2009-05-23T19:12:00\", \"2015-05-12T21:36:00\"], \"y\": [2, 3, 4, 43]}, {\"hoverinfo\": \"text\", \"hovertext\": [\"<b>Topic 12</b><br>Words: medicine, folklore, medical, healing, psychiatry\", \"<b>Topic 12</b><br>Words: medicine, medical, complementary, integrative, health\", \"<b>Topic 12</b><br>Words: medical, ethics, medicine, bioethics, patients\", \"<b>Topic 12</b><br>Words: data, research, biomedical, medical, medicine\"], \"marker\": {\"color\": \"#56B4E9\"}, \"mode\": \"lines\", \"name\": \"12_medicine_medical_journal_ethics\", \"type\": \"scatter\", \"x\": [\"1997-06-15T14:24:00\", \"2003-06-04T16:48:00\", \"2009-05-23T19:12:00\", \"2015-05-12T21:36:00\"], \"y\": [2, 2, 18, 3]}, {\"hoverinfo\": \"text\", \"hovertext\": [\"<b>Topic 2</b><br>Words: nuclear, be, security, states, us\", \"<b>Topic 2</b><br>Words: us, states, space, security, military\", \"<b>Topic 2</b><br>Words: nuclear, ai, us, russian, states\"], \"marker\": {\"color\": \"#009E73\"}, \"mode\": \"lines\", \"name\": \"2_nuclear_us_states_ai\", \"type\": \"scatter\", \"x\": [\"2003-06-04T16:48:00\", \"2009-05-23T19:12:00\", \"2015-05-12T21:36:00\"], \"y\": [6, 15, 54]}, {\"hoverinfo\": \"text\", \"hovertext\": [\"<b>Topic 7</b><br>Words: health, burma, china, burmese, medical\", \"<b>Topic 7</b><br>Words: health, services, hospitals, alcohol, medical\", \"<b>Topic 7</b><br>Words: health, alcohol, national, population, services\"], \"marker\": {\"color\": \"#F0E442\"}, \"mode\": \"lines\", \"name\": \"7_health_alcohol_national_services\", \"type\": \"scatter\", \"x\": [\"2003-06-04T16:48:00\", \"2009-05-23T19:12:00\", \"2015-05-12T21:36:00\"], \"y\": [2, 22, 19]}, {\"hoverinfo\": \"text\", \"hovertext\": [\"<b>Topic 9</b><br>Words: vaccine, vaccines, antigen, plasmid, gene\", \"<b>Topic 9</b><br>Words: protein, cells, proteins, viral, virus\", \"<b>Topic 9</b><br>Words: protein, cells, proteins, viral, pedv\"], \"marker\": {\"color\": \"#D55E00\"}, \"mode\": \"lines\", \"name\": \"9_protein_cells_proteins_viral\", \"type\": \"scatter\", \"x\": [\"2003-06-04T16:48:00\", \"2009-05-23T19:12:00\", \"2015-05-12T21:36:00\"], \"y\": [1, 14, 21]}, {\"hoverinfo\": \"text\", \"hovertext\": [\"<b>Topic 10</b><br>Words: patient, data, patients, healthcare, health\", \"<b>Topic 10</b><br>Words: patients, icu, patient, data, health\", \"<b>Topic 10</b><br>Words: data, anc, digital, patients, workflows\"], \"marker\": {\"color\": \"#0072B2\"}, \"mode\": \"lines\", \"name\": \"10_patients_icu_data_health\", \"type\": \"scatter\", \"x\": [\"2003-06-04T16:48:00\", \"2009-05-23T19:12:00\", \"2015-05-12T21:36:00\"], \"y\": [15, 12, 3]}, {\"hoverinfo\": \"text\", \"hovertext\": [\"<b>Topic 11</b><br>Words: pharmaceutical, pharma, patent, crops, license\", \"<b>Topic 11</b><br>Words: patent, pharmaceutical, mark, drugs, medicines\", \"<b>Topic 11</b><br>Words: pharmaceutical, patent, medicines, drugs, bangladesh\"], \"marker\": {\"color\": \"#CC79A7\"}, \"mode\": \"lines\", \"name\": \"11_pharmaceutical_patent_drugs_medicines\", \"type\": \"scatter\", \"x\": [\"2003-06-04T16:48:00\", \"2009-05-23T19:12:00\", \"2015-05-12T21:36:00\"], \"y\": [3, 14, 10]}, {\"hoverinfo\": \"text\", \"hovertext\": [\"<b>Topic 13</b><br>Words: acc, corruption, transparency, anticorruption, aca\", \"<b>Topic 13</b><br>Words: corruption, anticorruption, transparency, data, illicit\"], \"marker\": {\"color\": \"#E69F00\"}, \"mode\": \"lines\", \"name\": \"13_corruption_anticorruption_transparenc...\", \"type\": \"scatter\", \"x\": [\"2009-05-23T19:12:00\", \"2015-05-12T21:36:00\"], \"y\": [3, 20]}],                        {\"height\": 450, \"hoverlabel\": {\"bgcolor\": \"white\", \"font\": {\"family\": \"Rockwell\", \"size\": 16}}, \"legend\": {\"title\": {\"text\": \"<b>Global Topic Representation\"}}, \"template\": {\"data\": {\"bar\": [{\"error_x\": {\"color\": \"rgb(36,36,36)\"}, \"error_y\": {\"color\": \"rgb(36,36,36)\"}, \"marker\": {\"line\": {\"color\": \"white\", \"width\": 0.5}}, \"type\": \"bar\"}], \"barpolar\": [{\"marker\": {\"line\": {\"color\": \"white\", \"width\": 0.5}}, \"type\": \"barpolar\"}], \"carpet\": [{\"aaxis\": {\"endlinecolor\": \"rgb(36,36,36)\", \"gridcolor\": \"white\", \"linecolor\": \"white\", \"minorgridcolor\": \"white\", \"startlinecolor\": \"rgb(36,36,36)\"}, \"baxis\": {\"endlinecolor\": \"rgb(36,36,36)\", \"gridcolor\": \"white\", \"linecolor\": \"white\", \"minorgridcolor\": \"white\", \"startlinecolor\": \"rgb(36,36,36)\"}, \"type\": \"carpet\"}], \"choropleth\": [{\"colorbar\": {\"outlinewidth\": 1, \"tickcolor\": \"rgb(36,36,36)\", \"ticks\": \"outside\"}, \"type\": \"choropleth\"}], \"contour\": [{\"colorbar\": {\"outlinewidth\": 1, \"tickcolor\": \"rgb(36,36,36)\", \"ticks\": \"outside\"}, \"colorscale\": [[0.0, \"#440154\"], [0.1111111111111111, \"#482878\"], [0.2222222222222222, \"#3e4989\"], [0.3333333333333333, \"#31688e\"], [0.4444444444444444, \"#26828e\"], [0.5555555555555556, \"#1f9e89\"], [0.6666666666666666, \"#35b779\"], [0.7777777777777778, \"#6ece58\"], [0.8888888888888888, \"#b5de2b\"], [1.0, \"#fde725\"]], \"type\": \"contour\"}], \"contourcarpet\": [{\"colorbar\": {\"outlinewidth\": 1, \"tickcolor\": \"rgb(36,36,36)\", \"ticks\": \"outside\"}, \"type\": \"contourcarpet\"}], \"heatmap\": [{\"colorbar\": {\"outlinewidth\": 1, \"tickcolor\": \"rgb(36,36,36)\", \"ticks\": \"outside\"}, \"colorscale\": [[0.0, \"#440154\"], [0.1111111111111111, \"#482878\"], [0.2222222222222222, \"#3e4989\"], [0.3333333333333333, \"#31688e\"], [0.4444444444444444, \"#26828e\"], [0.5555555555555556, \"#1f9e89\"], [0.6666666666666666, \"#35b779\"], [0.7777777777777778, \"#6ece58\"], [0.8888888888888888, \"#b5de2b\"], [1.0, \"#fde725\"]], \"type\": \"heatmap\"}], \"heatmapgl\": [{\"colorbar\": {\"outlinewidth\": 1, \"tickcolor\": \"rgb(36,36,36)\", \"ticks\": \"outside\"}, \"colorscale\": [[0.0, \"#440154\"], [0.1111111111111111, \"#482878\"], [0.2222222222222222, \"#3e4989\"], [0.3333333333333333, \"#31688e\"], [0.4444444444444444, \"#26828e\"], [0.5555555555555556, \"#1f9e89\"], [0.6666666666666666, \"#35b779\"], [0.7777777777777778, \"#6ece58\"], [0.8888888888888888, \"#b5de2b\"], [1.0, \"#fde725\"]], \"type\": \"heatmapgl\"}], \"histogram\": [{\"marker\": {\"line\": {\"color\": \"white\", \"width\": 0.6}}, \"type\": \"histogram\"}], \"histogram2d\": [{\"colorbar\": {\"outlinewidth\": 1, \"tickcolor\": \"rgb(36,36,36)\", \"ticks\": \"outside\"}, \"colorscale\": [[0.0, \"#440154\"], [0.1111111111111111, \"#482878\"], [0.2222222222222222, \"#3e4989\"], [0.3333333333333333, \"#31688e\"], [0.4444444444444444, \"#26828e\"], [0.5555555555555556, \"#1f9e89\"], [0.6666666666666666, \"#35b779\"], [0.7777777777777778, \"#6ece58\"], [0.8888888888888888, \"#b5de2b\"], [1.0, \"#fde725\"]], \"type\": \"histogram2d\"}], \"histogram2dcontour\": [{\"colorbar\": {\"outlinewidth\": 1, \"tickcolor\": \"rgb(36,36,36)\", \"ticks\": \"outside\"}, \"colorscale\": [[0.0, \"#440154\"], [0.1111111111111111, \"#482878\"], [0.2222222222222222, \"#3e4989\"], [0.3333333333333333, \"#31688e\"], [0.4444444444444444, \"#26828e\"], [0.5555555555555556, \"#1f9e89\"], [0.6666666666666666, \"#35b779\"], [0.7777777777777778, \"#6ece58\"], [0.8888888888888888, \"#b5de2b\"], [1.0, \"#fde725\"]], \"type\": \"histogram2dcontour\"}], \"mesh3d\": [{\"colorbar\": {\"outlinewidth\": 1, \"tickcolor\": \"rgb(36,36,36)\", \"ticks\": \"outside\"}, \"type\": \"mesh3d\"}], \"parcoords\": [{\"line\": {\"colorbar\": {\"outlinewidth\": 1, \"tickcolor\": \"rgb(36,36,36)\", \"ticks\": \"outside\"}}, \"type\": \"parcoords\"}], \"pie\": [{\"automargin\": true, \"type\": \"pie\"}], \"scatter\": [{\"marker\": {\"colorbar\": {\"outlinewidth\": 1, \"tickcolor\": \"rgb(36,36,36)\", \"ticks\": \"outside\"}}, \"type\": \"scatter\"}], \"scatter3d\": [{\"line\": {\"colorbar\": {\"outlinewidth\": 1, \"tickcolor\": \"rgb(36,36,36)\", \"ticks\": \"outside\"}}, \"marker\": {\"colorbar\": {\"outlinewidth\": 1, \"tickcolor\": \"rgb(36,36,36)\", \"ticks\": \"outside\"}}, \"type\": \"scatter3d\"}], \"scattercarpet\": [{\"marker\": {\"colorbar\": {\"outlinewidth\": 1, \"tickcolor\": \"rgb(36,36,36)\", \"ticks\": \"outside\"}}, \"type\": \"scattercarpet\"}], \"scattergeo\": [{\"marker\": {\"colorbar\": {\"outlinewidth\": 1, \"tickcolor\": \"rgb(36,36,36)\", \"ticks\": \"outside\"}}, \"type\": \"scattergeo\"}], \"scattergl\": [{\"marker\": {\"colorbar\": {\"outlinewidth\": 1, \"tickcolor\": \"rgb(36,36,36)\", \"ticks\": \"outside\"}}, \"type\": \"scattergl\"}], \"scattermapbox\": [{\"marker\": {\"colorbar\": {\"outlinewidth\": 1, \"tickcolor\": \"rgb(36,36,36)\", \"ticks\": \"outside\"}}, \"type\": \"scattermapbox\"}], \"scatterpolar\": [{\"marker\": {\"colorbar\": {\"outlinewidth\": 1, \"tickcolor\": \"rgb(36,36,36)\", \"ticks\": \"outside\"}}, \"type\": \"scatterpolar\"}], \"scatterpolargl\": [{\"marker\": {\"colorbar\": {\"outlinewidth\": 1, \"tickcolor\": \"rgb(36,36,36)\", \"ticks\": \"outside\"}}, \"type\": \"scatterpolargl\"}], \"scatterternary\": [{\"marker\": {\"colorbar\": {\"outlinewidth\": 1, \"tickcolor\": \"rgb(36,36,36)\", \"ticks\": \"outside\"}}, \"type\": \"scatterternary\"}], \"surface\": [{\"colorbar\": {\"outlinewidth\": 1, \"tickcolor\": \"rgb(36,36,36)\", \"ticks\": \"outside\"}, \"colorscale\": [[0.0, \"#440154\"], [0.1111111111111111, \"#482878\"], [0.2222222222222222, \"#3e4989\"], [0.3333333333333333, \"#31688e\"], [0.4444444444444444, \"#26828e\"], [0.5555555555555556, \"#1f9e89\"], [0.6666666666666666, \"#35b779\"], [0.7777777777777778, \"#6ece58\"], [0.8888888888888888, \"#b5de2b\"], [1.0, \"#fde725\"]], \"type\": \"surface\"}], \"table\": [{\"cells\": {\"fill\": {\"color\": \"rgb(237,237,237)\"}, \"line\": {\"color\": \"white\"}}, \"header\": {\"fill\": {\"color\": \"rgb(217,217,217)\"}, \"line\": {\"color\": \"white\"}}, \"type\": \"table\"}]}, \"layout\": {\"annotationdefaults\": {\"arrowhead\": 0, \"arrowwidth\": 1}, \"autotypenumbers\": \"strict\", \"coloraxis\": {\"colorbar\": {\"outlinewidth\": 1, \"tickcolor\": \"rgb(36,36,36)\", \"ticks\": \"outside\"}}, \"colorscale\": {\"diverging\": [[0.0, \"rgb(103,0,31)\"], [0.1, \"rgb(178,24,43)\"], [0.2, \"rgb(214,96,77)\"], [0.3, \"rgb(244,165,130)\"], [0.4, \"rgb(253,219,199)\"], [0.5, \"rgb(247,247,247)\"], [0.6, \"rgb(209,229,240)\"], [0.7, \"rgb(146,197,222)\"], [0.8, \"rgb(67,147,195)\"], [0.9, \"rgb(33,102,172)\"], [1.0, \"rgb(5,48,97)\"]], \"sequential\": [[0.0, \"#440154\"], [0.1111111111111111, \"#482878\"], [0.2222222222222222, \"#3e4989\"], [0.3333333333333333, \"#31688e\"], [0.4444444444444444, \"#26828e\"], [0.5555555555555556, \"#1f9e89\"], [0.6666666666666666, \"#35b779\"], [0.7777777777777778, \"#6ece58\"], [0.8888888888888888, \"#b5de2b\"], [1.0, \"#fde725\"]], \"sequentialminus\": [[0.0, \"#440154\"], [0.1111111111111111, \"#482878\"], [0.2222222222222222, \"#3e4989\"], [0.3333333333333333, \"#31688e\"], [0.4444444444444444, \"#26828e\"], [0.5555555555555556, \"#1f9e89\"], [0.6666666666666666, \"#35b779\"], [0.7777777777777778, \"#6ece58\"], [0.8888888888888888, \"#b5de2b\"], [1.0, \"#fde725\"]]}, \"colorway\": [\"#1F77B4\", \"#FF7F0E\", \"#2CA02C\", \"#D62728\", \"#9467BD\", \"#8C564B\", \"#E377C2\", \"#7F7F7F\", \"#BCBD22\", \"#17BECF\"], \"font\": {\"color\": \"rgb(36,36,36)\"}, \"geo\": {\"bgcolor\": \"white\", \"lakecolor\": \"white\", \"landcolor\": \"white\", \"showlakes\": true, \"showland\": true, \"subunitcolor\": \"white\"}, \"hoverlabel\": {\"align\": \"left\"}, \"hovermode\": \"closest\", \"mapbox\": {\"style\": \"light\"}, \"paper_bgcolor\": \"white\", \"plot_bgcolor\": \"white\", \"polar\": {\"angularaxis\": {\"gridcolor\": \"rgb(232,232,232)\", \"linecolor\": \"rgb(36,36,36)\", \"showgrid\": false, \"showline\": true, \"ticks\": \"outside\"}, \"bgcolor\": \"white\", \"radialaxis\": {\"gridcolor\": \"rgb(232,232,232)\", \"linecolor\": \"rgb(36,36,36)\", \"showgrid\": false, \"showline\": true, \"ticks\": \"outside\"}}, \"scene\": {\"xaxis\": {\"backgroundcolor\": \"white\", \"gridcolor\": \"rgb(232,232,232)\", \"gridwidth\": 2, \"linecolor\": \"rgb(36,36,36)\", \"showbackground\": true, \"showgrid\": false, \"showline\": true, \"ticks\": \"outside\", \"zeroline\": false, \"zerolinecolor\": \"rgb(36,36,36)\"}, \"yaxis\": {\"backgroundcolor\": \"white\", \"gridcolor\": \"rgb(232,232,232)\", \"gridwidth\": 2, \"linecolor\": \"rgb(36,36,36)\", \"showbackground\": true, \"showgrid\": false, \"showline\": true, \"ticks\": \"outside\", \"zeroline\": false, \"zerolinecolor\": \"rgb(36,36,36)\"}, \"zaxis\": {\"backgroundcolor\": \"white\", \"gridcolor\": \"rgb(232,232,232)\", \"gridwidth\": 2, \"linecolor\": \"rgb(36,36,36)\", \"showbackground\": true, \"showgrid\": false, \"showline\": true, \"ticks\": \"outside\", \"zeroline\": false, \"zerolinecolor\": \"rgb(36,36,36)\"}}, \"shapedefaults\": {\"fillcolor\": \"black\", \"line\": {\"width\": 0}, \"opacity\": 0.3}, \"ternary\": {\"aaxis\": {\"gridcolor\": \"rgb(232,232,232)\", \"linecolor\": \"rgb(36,36,36)\", \"showgrid\": false, \"showline\": true, \"ticks\": \"outside\"}, \"baxis\": {\"gridcolor\": \"rgb(232,232,232)\", \"linecolor\": \"rgb(36,36,36)\", \"showgrid\": false, \"showline\": true, \"ticks\": \"outside\"}, \"bgcolor\": \"white\", \"caxis\": {\"gridcolor\": \"rgb(232,232,232)\", \"linecolor\": \"rgb(36,36,36)\", \"showgrid\": false, \"showline\": true, \"ticks\": \"outside\"}}, \"title\": {\"x\": 0.05}, \"xaxis\": {\"automargin\": true, \"gridcolor\": \"rgb(232,232,232)\", \"linecolor\": \"rgb(36,36,36)\", \"showgrid\": false, \"showline\": true, \"ticks\": \"outside\", \"title\": {\"standoff\": 15}, \"zeroline\": false, \"zerolinecolor\": \"rgb(36,36,36)\"}, \"yaxis\": {\"automargin\": true, \"gridcolor\": \"rgb(232,232,232)\", \"linecolor\": \"rgb(36,36,36)\", \"showgrid\": false, \"showline\": true, \"ticks\": \"outside\", \"title\": {\"standoff\": 15}, \"zeroline\": false, \"zerolinecolor\": \"rgb(36,36,36)\"}}}, \"title\": {\"font\": {\"color\": \"Black\", \"size\": 22}, \"text\": \"<b>Topics over Time\", \"x\": 0.4, \"xanchor\": \"center\", \"y\": 0.95, \"yanchor\": \"top\"}, \"width\": 1250, \"xaxis\": {\"showgrid\": true}, \"yaxis\": {\"showgrid\": true, \"title\": {\"text\": \"Frequency\"}}},                        {\"responsive\": true}                    ).then(function(){\n",
       "                            \n",
       "var gd = document.getElementById('45cb3beb-744a-4bff-bcaf-3c1bb1243e66');\n",
       "var x = new MutationObserver(function (mutations, observer) {{\n",
       "        var display = window.getComputedStyle(gd).display;\n",
       "        if (!display || display === 'none') {{\n",
       "            console.log([gd, 'removed!']);\n",
       "            Plotly.purge(gd);\n",
       "            observer.disconnect();\n",
       "        }}\n",
       "}});\n",
       "\n",
       "// Listen for the removal of the full notebook cells\n",
       "var notebookContainer = gd.closest('#notebook-container');\n",
       "if (notebookContainer) {{\n",
       "    x.observe(notebookContainer, {childList: true});\n",
       "}}\n",
       "\n",
       "// Listen for the clearing of the current output cell\n",
       "var outputEl = gd.closest('.output');\n",
       "if (outputEl) {{\n",
       "    x.observe(outputEl, {childList: true});\n",
       "}}\n",
       "\n",
       "                        })                };                            </script>        </div>\n",
       "</body>\n",
       "</html>"
      ]
     },
     "metadata": {},
     "output_type": "display_data"
    }
   ],
   "source": [
    "topic_model.visualize_topics_over_time(topics_over_time, top_n_topics=15)"
   ]
  },
  {
   "cell_type": "markdown",
   "metadata": {
    "id": "1-F7124eQduv"
   },
   "source": [
    "##Make Prediction\n",
    "\n",
    "- predict a topic of a new document"
   ]
  },
  {
   "cell_type": "code",
   "execution_count": null,
   "metadata": {
    "colab": {
     "base_uri": "https://localhost:8080/"
    },
    "id": "vKHJnfT8Qf3h",
    "outputId": "f7093f8a-efd0-4327-948c-d89d99e8a7b2"
   },
   "outputs": [
    {
     "name": "stdout",
     "output_type": "stream",
     "text": [
      "[7] None\n",
      "[-1] None\n",
      "[-1] None\n"
     ]
    }
   ],
   "source": [
    "#new_docs = 'Cerebrovascular disease, or vascular brain disease, refers to multiple conditions that affect the blood vessels and blood circulation in the brain, such as stroke and vascular malformation. Cerebrovascular disease is the secondTrusted Source leading cause of death in the world. It is also the fifthTrusted Source leading cause of death in the U.S. and was responsible for 37.6Trusted Source deaths per 100,000 individuals in the U.S. in 2017.In addition to causing physical disability, cerebrovascular diseases can result in the development and progression of cognitive impairment and dementia.Moreover, health experts also associate subclinical cerebrovascular damage — that is, brain abnormalities observed in the early stages of the cerebrovascular disease before its symptoms become evident — with an increased risk of dementia. Healthy lifestyle modifications, including making dietary changes, increasing physical activity levels, and quitting smoking, can reduce the risk of cerebrovascular disease.For instance, there is a relation between higher intake of fish and a lower risk of stroke. Fish are an excellent source of omega-3 polyunsaturated fatty acids, which may mediate these benefits on cerebrovascular health. However, the evidence that fish consumption reduces vascular brain damage before the onset of the cerebrovascular disease is mixed. A recent cross-sectional study investigated the link between fish consumption and vascular brain damage in healthy older adults before cerebrovascular disease onset. The study reports an association between eating fish two or more times per week and lower levels of brain abnormalities related to vascular brain damage, especially in individuals under the age of 75 years. The study senior author, Dr. Cecilia Samieri, a senior researcher at the University of Bordeaux in France, explains: “Our results are exciting because they show something as simple as eating two or more servings of fish each week is associated with fewer brain lesions and other markers of vascular brain damage, long before obvious signs of dementia appear. However, eating that much fish did not have a protective effect in people 75 years of age and older. The study appears in the journal Neurology. Evaluating cerebrovascular health The present study analyzed data collected between March 1999 and March 2001 as part of the Three-City Study, which aims to understand the relationship between vascular diseases and dementia in people aged 65 years and older. The analysis involved 1,623 people with an average age of 72.3 years and residing in Dijon, France. Individuals were excluded from the study if they had a dementia diagnosis, a history of stroke, or hospitalization for cardiovascular diseases. The researchers evaluated the extent of subclinical cerebrovascular damage using brain MRI scans. They analyzed the MRI scans for the presence of three markers associated with subclinical cerebrovascular damage white matter abnormalities infarcts enlargement of perivascular spaces White matter consists of nerve fibers, or axons, that relay messages between brain regions. Cerebrovascular disease can result in nerve fiber degeneration and cause damage to the myelin sheath that surrounds the nerve fibers. This leads to white matter abnormalities. Infarcts are regions of dead tissue resulting from inadequate blood supply. This is often due to a blood clot in a blood vessel. Perivascular spaces are fluid-filled spaces surrounding blood vessels. When enlarged, they are associated with cerebral small vessel disease. Each of these markers predicts the extent of cognitive decline related to cerebrovascular disease. However, previous studies have shown that a single measure obtained by combining multiple cerebrovascular disease markers can be a better predictor of cognitive decline than any single marker.'\n",
    "\n",
    "new_docs = ['Altogether, they analyzed health data from 386,406 middle-aged individuals with European ancestry. Each was followed for an average of 9.5 years, underwent 25-hydroxyvitamin D (25(OH)D) measurements, and did not have cardiovascular disease at baseline.25(OH)D is the major circulating form of vitamin D in the body. It is measured via blood test to indicate vitamin D supply in the body from sunlight and nutrition. Over the study period, 33,546 people developed coronary heart disease, 18,166 people had a stroke, and 27, 885 people died',\n",
    "            'A lawsuit has been filed following the Astroworld Festival tragedy that left eight people dead and dozens injured in Houston on Friday night. A concertgoer who was injured during the festival is suing rapper and producer Travis Scott, who was the organizer of the Astroworld Festival, as well as entertainment company Live Nation, concert promoter Scoremore and others involved in the event, according to the lawsuit obtained by CNN',\n",
    "            'More than 10,000 patients were diagnosed with covid in a U.S. hospital last year after they were admitted for something else, according to federal and state records analyzed exclusively for KHN. The number is certainly an undercount, since it includes mostly patients 65 and older, plus California and Florida patients of all ages',\n",
    "            ]\n",
    "\n",
    "\n",
    "for doc in new_docs:\n",
    "  topics, probs = topic_model.transform(doc)\n",
    "  print(topics, probs)\n",
    "\n"
   ]
  },
  {
   "cell_type": "markdown",
   "metadata": {
    "id": "b32bVAYFUVHR"
   },
   "source": [
    "##Save Model"
   ]
  },
  {
   "cell_type": "code",
   "execution_count": null,
   "metadata": {
    "id": "p_tz-K6JRmH8"
   },
   "outputs": [],
   "source": [
    "topic_model.save('my_bertopics_model')"
   ]
  },
  {
   "cell_type": "code",
   "execution_count": null,
   "metadata": {
    "colab": {
     "base_uri": "https://localhost:8080/"
    },
    "id": "25QvKw0IUg1y",
    "outputId": "9af0dc3d-e110-4a98-c3bf-0b3bcc5187ff"
   },
   "outputs": [
    {
     "name": "stdout",
     "output_type": "stream",
     "text": [
      "'=4.0.0'\n",
      " healthcare_industry_from_1900_2021.csv\n",
      " healthcare_industry_from_1900_2021.jsonl\n",
      " healthcare_industry_from_1900_2021_NER.ipynb\n",
      " logs.log\n",
      " mlruns\n",
      " model.state.sstats.npy\n",
      " my_bertopics_model\n",
      " taggers\n",
      " topic_modeling_BERTopic.ipynb\n",
      " topic_modeling_flair.ipynb\n",
      " topic_modeling_pycaret.ipynb\n",
      " topic_modeling_Top2Vec.ipynb\n",
      " tsne.png\n",
      " tsne.svg\n",
      " tweet_topic_modeling_flair.ipynb\n",
      " Wordcloud.png\n"
     ]
    }
   ],
   "source": [
    "!ls"
   ]
  },
  {
   "cell_type": "markdown",
   "metadata": {
    "id": "aEzI8L7iURcv"
   },
   "source": [
    "##Load Model"
   ]
  },
  {
   "cell_type": "code",
   "execution_count": null,
   "metadata": {
    "id": "QXJVwFEDUK2s"
   },
   "outputs": [],
   "source": [
    "BerTopic_model = BERTopic.load('my_bertopics_model')"
   ]
  },
  {
   "cell_type": "markdown",
   "metadata": {
    "id": "h7cqpmcZRotQ"
   },
   "source": []
  },
  {
   "cell_type": "markdown",
   "metadata": {
    "id": "H3eZ03KWOi-2"
   },
   "source": [
    "#How can we assess the topic modeling?\n",
    "\n",
    "\n",
    "- Perplexity, but its poor indicator of the quality of the topics.\n",
    "\n",
    "- Topic Visualization is also a good way to assess topic models. \n",
    "\n",
    "- Topic Coherence measure is a good way to compare difference topic models based on their human-interpretability\n",
    "\n",
    "\n",
    "- [evaluation-of-topic-modeling-topic-coherence](https://datascienceplus.com/evaluation-of-topic-modeling-topic-coherence/)"
   ]
  },
  {
   "cell_type": "markdown",
   "metadata": {
    "id": "TvtW4onDvRkr"
   },
   "source": [
    "#Coherence of topic models\n",
    "\n",
    "- the coherence score is for assessing the quality of the learned topics.\n",
    "\n",
    "- For one topic, the words 𝑖,𝑗 being scored in ∑𝑖<𝑗Score(𝑤𝑖,𝑤𝑗) have the highest probability of occurring for that topic. You need to specify how many words in the topic to consider for the overall score.\n",
    "- For the \"UMass\" measure, the numerator 𝐷(𝑤𝑖,𝑤𝑗) is the number of - documents in which words 𝑤𝑖 , 𝑤𝑗 appear together. 1 is added to this term because we are taking logs and we need to avoid taking log of 0 when the two words never appear together. The denominator is the number of documents 𝐷(𝑤𝑖) appears in. So the score is higher if 𝑤𝑖 and 𝑤𝑗 appear together in documents a lot relative to how often 𝑤𝑖 alone appears in documents. \n",
    "\n",
    "- This makes sense as a measure of topic coherence, since if two words in a topic really belong together you would expect them to show up together a lot. The denominator is just adjusting for the document frequency of the words you are considering, so that words like \"the\" don't get an artificially high score.\n",
    "to determine the optimal number 𝐾∗ of topics by finding argmax𝐾1𝐾∑𝐾𝑡=1𝐶𝑆(𝑡) .That is take the average topic coherence score for various settings of 𝐾 and see which gives the highest average coherence.\n",
    "\n",
    "\n",
    "- http://qpleple.com/topic-coherence-to-evaluate-topic-models/\n",
    "\n",
    "- https://github.com/MaartenGr/BERTopic/issues/90\n",
    "\n",
    "- https://maartengr.github.io/BERTopic/tutorial/algorithm/algorithm.html\n",
    "\n",
    "- https://stats.stackexchange.com/questions/375062/how-does-topic-coherence-score-in-lda-intuitively-makes-sense"
   ]
  },
  {
   "cell_type": "code",
   "execution_count": null,
   "metadata": {
    "id": "vd_prjyKiGFO"
   },
   "outputs": [],
   "source": [
    "import gensim.corpora as corpora\n",
    "from gensim.models.coherencemodel import CoherenceModel"
   ]
  },
  {
   "cell_type": "code",
   "execution_count": null,
   "metadata": {
    "id": "GKBsrQyAueLS"
   },
   "outputs": [],
   "source": [
    "docs = df['article']\n",
    "# Preprocess documents\n",
    "cleaned_docs = topic_model._preprocess_text(docs)"
   ]
  },
  {
   "cell_type": "code",
   "execution_count": null,
   "metadata": {
    "id": "6ST_BZ6pi2YK"
   },
   "outputs": [],
   "source": [
    "# Extract vectorizer and tokenizer from BERTopic\n",
    "vectorizer = topic_model.vectorizer_model\n",
    "tokenizer = vectorizer.build_tokenizer()"
   ]
  },
  {
   "cell_type": "code",
   "execution_count": null,
   "metadata": {
    "id": "KzraHuFxjC1D"
   },
   "outputs": [],
   "source": [
    "# Extract features for Topic Coherence evaluation\n",
    "words = vectorizer.get_feature_names()\n",
    "tokens = [tokenizer(doc) for doc in cleaned_docs]\n",
    "dictionary = corpora.Dictionary(tokens)\n",
    "corpus = [dictionary.doc2bow(token) for token in tokens]\n",
    "topic_words = [[words for words, _ in topic_model.get_topic(topic)] \n",
    "               for topic in range(len(set(topics))-1)]\n",
    "\n"
   ]
  },
  {
   "cell_type": "code",
   "execution_count": null,
   "metadata": {
    "id": "ZCLI-abwjWVy"
   },
   "outputs": [],
   "source": [
    "# Evaluate\n",
    "coherence_model = CoherenceModel(topics=topic_words, \n",
    "                                 texts=tokens, \n",
    "                                 corpus=corpus,\n",
    "                                 dictionary=dictionary, \n",
    "                                 coherence='c_v')\n",
    "coherence = coherence_model.get_coherence()"
   ]
  },
  {
   "cell_type": "code",
   "execution_count": null,
   "metadata": {
    "colab": {
     "base_uri": "https://localhost:8080/"
    },
    "id": "VzZowU0hNHRO",
    "outputId": "0b5d9fed-59e5-445a-9d68-4009a7c964d4"
   },
   "outputs": [
    {
     "data": {
      "text/plain": [
       "<gensim.models.coherencemodel.CoherenceModel at 0x7f4d62d1ea90>"
      ]
     },
     "execution_count": 32,
     "metadata": {},
     "output_type": "execute_result"
    }
   ],
   "source": [
    "coherence_model\n"
   ]
  },
  {
   "cell_type": "code",
   "execution_count": null,
   "metadata": {
    "colab": {
     "base_uri": "https://localhost:8080/"
    },
    "id": "w_TEtGXPu_fj",
    "outputId": "129d0cca-64dc-45a1-9c0a-426f78b7b77a"
   },
   "outputs": [
    {
     "data": {
      "text/plain": [
       "0.6402120714374593"
      ]
     },
     "execution_count": 31,
     "metadata": {},
     "output_type": "execute_result"
    }
   ],
   "source": [
    "coherence"
   ]
  },
  {
   "cell_type": "code",
   "execution_count": null,
   "metadata": {
    "colab": {
     "base_uri": "https://localhost:8080/",
     "height": 154,
     "referenced_widgets": [
      "b94389344c3a4eae8ff6ebe0fd88c6e1",
      "a6aca639c53a49e3a2d2257a5de311ae",
      "887c904bbcf74e06a51e84966e3012fe",
      "41a551077fb04dedac27b2a63ef67182",
      "90d25bb88db94e8dac47ae76b6d39ebc",
      "ff9763ca214b491cb9b6f862c610b7bb",
      "ffd01388e4ff4a2fa57474406cf51a7e",
      "40c757c8bcd449cfb56ebc00e24e57de",
      "fc0f7b717d9549f2a628d55ab1961d2f",
      "f709518004274cedb9b02fe5736d9164",
      "a9ee441a91a04b5e850915a356fb5907"
     ]
    },
    "id": "x_kH8Gw1v3Gt",
    "outputId": "a4e7bd82-08f2-4b84-a743-ad32b7d11f58"
   },
   "outputs": [
    {
     "data": {
      "application/vnd.jupyter.widget-view+json": {
       "model_id": "b94389344c3a4eae8ff6ebe0fd88c6e1",
       "version_major": 2,
       "version_minor": 0
      },
      "text/plain": [
       "Batches:   0%|          | 0/47 [00:00<?, ?it/s]"
      ]
     },
     "metadata": {},
     "output_type": "display_data"
    },
    {
     "name": "stderr",
     "output_type": "stream",
     "text": [
      "2021-11-08 05:49:53,354 - BERTopic - Transformed documents to Embeddings\n",
      "/usr/local/lib/python3.7/dist-packages/numba/np/ufunc/parallel.py:363: NumbaWarning: The TBB threading layer requires TBB version 2019.5 or later i.e., TBB_INTERFACE_VERSION >= 11005. Found TBB_INTERFACE_VERSION = 9107. The TBB threading layer is disabled.\n",
      "  warnings.warn(problem)\n",
      "2021-11-08 05:50:06,163 - BERTopic - Reduced dimensionality with UMAP\n",
      "2021-11-08 05:50:06,250 - BERTopic - Clustered UMAP embeddings with HDBSCAN\n"
     ]
    }
   ],
   "source": [
    "from bertopic import BERTopic\n",
    "import gensim.corpora as corpora\n",
    "from gensim.models.coherencemodel import CoherenceModel\n",
    "\n",
    "docs = df['article']\n",
    "\n",
    "topic_model = BERTopic(verbose=True, n_gram_range=(1, 3))\n",
    "topics, _ = topic_model.fit_transform(docs)\n",
    "\n",
    "# Preprocess Documents\n",
    "documents = pd.DataFrame({\"Document\": docs,\n",
    "                          \"ID\": range(len(docs)),\n",
    "                          \"Topic\": topics})\n",
    "documents_per_topic = documents.groupby(['Topic'], as_index=False).agg({'Document': ' '.join})\n"
   ]
  },
  {
   "cell_type": "code",
   "execution_count": null,
   "metadata": {
    "id": "Ow7f-oq4FjHj"
   },
   "outputs": [],
   "source": [
    "documents"
   ]
  },
  {
   "cell_type": "code",
   "execution_count": null,
   "metadata": {
    "id": "R0eoMw0SFmdd"
   },
   "outputs": [],
   "source": [
    "documents_per_topic"
   ]
  },
  {
   "cell_type": "code",
   "execution_count": null,
   "metadata": {
    "id": "iS4VFPivDsb4"
   },
   "outputs": [],
   "source": [
    "cleaned_docs = topic_model._preprocess_text(documents_per_topic.Document.values)\n",
    "\n",
    "# Extract vectorizer and analyzer from BERTopic\n",
    "vectorizer = topic_model.vectorizer_model\n",
    "analyzer = vectorizer.build_analyzer()\n",
    "\n",
    "# Extract features for Topic Coherence evaluation\n",
    "words = vectorizer.get_feature_names()\n",
    "tokens = [analyzer(doc) for doc in cleaned_docs]\n",
    "dictionary = corpora.Dictionary(tokens)\n",
    "corpus = [dictionary.doc2bow(token) for token in tokens]\n",
    "topic_words = [[words for words, _ in topic_model.get_topic(topic)] \n",
    "               for topic in range(len(set(topics))-1)]\n",
    "\n",
    "# Evaluate\n",
    "coherence_model = CoherenceModel(topics=topic_words, \n",
    "                                 texts=tokens, \n",
    "                                 corpus=corpus,\n",
    "                                 dictionary=dictionary, \n",
    "                                 coherence='c_v')\n",
    "coherence = coherence_model.get_coherence()"
   ]
  }
 ],
 "metadata": {
  "accelerator": "GPU",
  "colab": {
   "collapsed_sections": [],
   "name": "topic_modeling_BERTopic.ipynb",
   "provenance": []
  },
  "kernelspec": {
   "display_name": "Python 3",
   "language": "python",
   "name": "python3"
  },
  "language_info": {
   "codemirror_mode": {
    "name": "ipython",
    "version": 3
   },
   "file_extension": ".py",
   "mimetype": "text/x-python",
   "name": "python",
   "nbconvert_exporter": "python",
   "pygments_lexer": "ipython3",
   "version": "3.7.6"
  },
  "widgets": {
   "application/vnd.jupyter.widget-state+json": {
    "0d14309992de4bcc8cbf8bc3027d12f7": {
     "model_module": "@jupyter-widgets/controls",
     "model_module_version": "1.5.0",
     "model_name": "HTMLModel",
     "state": {
      "_dom_classes": [],
      "_model_module": "@jupyter-widgets/controls",
      "_model_module_version": "1.5.0",
      "_model_name": "HTMLModel",
      "_view_count": null,
      "_view_module": "@jupyter-widgets/controls",
      "_view_module_version": "1.5.0",
      "_view_name": "HTMLView",
      "description": "",
      "description_tooltip": null,
      "layout": "IPY_MODEL_73d59e764d39400494c1926719f2d1cd",
      "placeholder": "​",
      "style": "IPY_MODEL_6e9b5b7306334848bcecd1f051ce1916",
      "value": "Batches: 100%"
     }
    },
    "1eb1f5fd2b9045b6b2b51e782c50ae32": {
     "model_module": "@jupyter-widgets/base",
     "model_module_version": "1.2.0",
     "model_name": "LayoutModel",
     "state": {
      "_model_module": "@jupyter-widgets/base",
      "_model_module_version": "1.2.0",
      "_model_name": "LayoutModel",
      "_view_count": null,
      "_view_module": "@jupyter-widgets/base",
      "_view_module_version": "1.2.0",
      "_view_name": "LayoutView",
      "align_content": null,
      "align_items": null,
      "align_self": null,
      "border": null,
      "bottom": null,
      "display": null,
      "flex": null,
      "flex_flow": null,
      "grid_area": null,
      "grid_auto_columns": null,
      "grid_auto_flow": null,
      "grid_auto_rows": null,
      "grid_column": null,
      "grid_gap": null,
      "grid_row": null,
      "grid_template_areas": null,
      "grid_template_columns": null,
      "grid_template_rows": null,
      "height": null,
      "justify_content": null,
      "justify_items": null,
      "left": null,
      "margin": null,
      "max_height": null,
      "max_width": null,
      "min_height": null,
      "min_width": null,
      "object_fit": null,
      "object_position": null,
      "order": null,
      "overflow": null,
      "overflow_x": null,
      "overflow_y": null,
      "padding": null,
      "right": null,
      "top": null,
      "visibility": null,
      "width": null
     }
    },
    "40c757c8bcd449cfb56ebc00e24e57de": {
     "model_module": "@jupyter-widgets/controls",
     "model_module_version": "1.5.0",
     "model_name": "ProgressStyleModel",
     "state": {
      "_model_module": "@jupyter-widgets/controls",
      "_model_module_version": "1.5.0",
      "_model_name": "ProgressStyleModel",
      "_view_count": null,
      "_view_module": "@jupyter-widgets/base",
      "_view_module_version": "1.2.0",
      "_view_name": "StyleView",
      "bar_color": null,
      "description_width": ""
     }
    },
    "41a551077fb04dedac27b2a63ef67182": {
     "model_module": "@jupyter-widgets/controls",
     "model_module_version": "1.5.0",
     "model_name": "FloatProgressModel",
     "state": {
      "_dom_classes": [],
      "_model_module": "@jupyter-widgets/controls",
      "_model_module_version": "1.5.0",
      "_model_name": "FloatProgressModel",
      "_view_count": null,
      "_view_module": "@jupyter-widgets/controls",
      "_view_module_version": "1.5.0",
      "_view_name": "ProgressView",
      "bar_style": "success",
      "description": "",
      "description_tooltip": null,
      "layout": "IPY_MODEL_fc0f7b717d9549f2a628d55ab1961d2f",
      "max": 47,
      "min": 0,
      "orientation": "horizontal",
      "style": "IPY_MODEL_40c757c8bcd449cfb56ebc00e24e57de",
      "value": 47
     }
    },
    "45c4cea7fbc94e5695341d12d5b61bed": {
     "model_module": "@jupyter-widgets/base",
     "model_module_version": "1.2.0",
     "model_name": "LayoutModel",
     "state": {
      "_model_module": "@jupyter-widgets/base",
      "_model_module_version": "1.2.0",
      "_model_name": "LayoutModel",
      "_view_count": null,
      "_view_module": "@jupyter-widgets/base",
      "_view_module_version": "1.2.0",
      "_view_name": "LayoutView",
      "align_content": null,
      "align_items": null,
      "align_self": null,
      "border": null,
      "bottom": null,
      "display": null,
      "flex": null,
      "flex_flow": null,
      "grid_area": null,
      "grid_auto_columns": null,
      "grid_auto_flow": null,
      "grid_auto_rows": null,
      "grid_column": null,
      "grid_gap": null,
      "grid_row": null,
      "grid_template_areas": null,
      "grid_template_columns": null,
      "grid_template_rows": null,
      "height": null,
      "justify_content": null,
      "justify_items": null,
      "left": null,
      "margin": null,
      "max_height": null,
      "max_width": null,
      "min_height": null,
      "min_width": null,
      "object_fit": null,
      "object_position": null,
      "order": null,
      "overflow": null,
      "overflow_x": null,
      "overflow_y": null,
      "padding": null,
      "right": null,
      "top": null,
      "visibility": null,
      "width": null
     }
    },
    "60454dd804b24b0ea0a8703ac36bd2a2": {
     "model_module": "@jupyter-widgets/controls",
     "model_module_version": "1.5.0",
     "model_name": "FloatProgressModel",
     "state": {
      "_dom_classes": [],
      "_model_module": "@jupyter-widgets/controls",
      "_model_module_version": "1.5.0",
      "_model_name": "FloatProgressModel",
      "_view_count": null,
      "_view_module": "@jupyter-widgets/controls",
      "_view_module_version": "1.5.0",
      "_view_name": "ProgressView",
      "bar_style": "success",
      "description": "",
      "description_tooltip": null,
      "layout": "IPY_MODEL_1eb1f5fd2b9045b6b2b51e782c50ae32",
      "max": 47,
      "min": 0,
      "orientation": "horizontal",
      "style": "IPY_MODEL_bfaa8d48e70e4d3d9aefd1fa574e1836",
      "value": 47
     }
    },
    "6e9b5b7306334848bcecd1f051ce1916": {
     "model_module": "@jupyter-widgets/controls",
     "model_module_version": "1.5.0",
     "model_name": "DescriptionStyleModel",
     "state": {
      "_model_module": "@jupyter-widgets/controls",
      "_model_module_version": "1.5.0",
      "_model_name": "DescriptionStyleModel",
      "_view_count": null,
      "_view_module": "@jupyter-widgets/base",
      "_view_module_version": "1.2.0",
      "_view_name": "StyleView",
      "description_width": ""
     }
    },
    "73d59e764d39400494c1926719f2d1cd": {
     "model_module": "@jupyter-widgets/base",
     "model_module_version": "1.2.0",
     "model_name": "LayoutModel",
     "state": {
      "_model_module": "@jupyter-widgets/base",
      "_model_module_version": "1.2.0",
      "_model_name": "LayoutModel",
      "_view_count": null,
      "_view_module": "@jupyter-widgets/base",
      "_view_module_version": "1.2.0",
      "_view_name": "LayoutView",
      "align_content": null,
      "align_items": null,
      "align_self": null,
      "border": null,
      "bottom": null,
      "display": null,
      "flex": null,
      "flex_flow": null,
      "grid_area": null,
      "grid_auto_columns": null,
      "grid_auto_flow": null,
      "grid_auto_rows": null,
      "grid_column": null,
      "grid_gap": null,
      "grid_row": null,
      "grid_template_areas": null,
      "grid_template_columns": null,
      "grid_template_rows": null,
      "height": null,
      "justify_content": null,
      "justify_items": null,
      "left": null,
      "margin": null,
      "max_height": null,
      "max_width": null,
      "min_height": null,
      "min_width": null,
      "object_fit": null,
      "object_position": null,
      "order": null,
      "overflow": null,
      "overflow_x": null,
      "overflow_y": null,
      "padding": null,
      "right": null,
      "top": null,
      "visibility": null,
      "width": null
     }
    },
    "80d6637143d04d3c9cecac7fccd0ae2d": {
     "model_module": "@jupyter-widgets/base",
     "model_module_version": "1.2.0",
     "model_name": "LayoutModel",
     "state": {
      "_model_module": "@jupyter-widgets/base",
      "_model_module_version": "1.2.0",
      "_model_name": "LayoutModel",
      "_view_count": null,
      "_view_module": "@jupyter-widgets/base",
      "_view_module_version": "1.2.0",
      "_view_name": "LayoutView",
      "align_content": null,
      "align_items": null,
      "align_self": null,
      "border": null,
      "bottom": null,
      "display": null,
      "flex": null,
      "flex_flow": null,
      "grid_area": null,
      "grid_auto_columns": null,
      "grid_auto_flow": null,
      "grid_auto_rows": null,
      "grid_column": null,
      "grid_gap": null,
      "grid_row": null,
      "grid_template_areas": null,
      "grid_template_columns": null,
      "grid_template_rows": null,
      "height": null,
      "justify_content": null,
      "justify_items": null,
      "left": null,
      "margin": null,
      "max_height": null,
      "max_width": null,
      "min_height": null,
      "min_width": null,
      "object_fit": null,
      "object_position": null,
      "order": null,
      "overflow": null,
      "overflow_x": null,
      "overflow_y": null,
      "padding": null,
      "right": null,
      "top": null,
      "visibility": null,
      "width": null
     }
    },
    "887c904bbcf74e06a51e84966e3012fe": {
     "model_module": "@jupyter-widgets/controls",
     "model_module_version": "1.5.0",
     "model_name": "HTMLModel",
     "state": {
      "_dom_classes": [],
      "_model_module": "@jupyter-widgets/controls",
      "_model_module_version": "1.5.0",
      "_model_name": "HTMLModel",
      "_view_count": null,
      "_view_module": "@jupyter-widgets/controls",
      "_view_module_version": "1.5.0",
      "_view_name": "HTMLView",
      "description": "",
      "description_tooltip": null,
      "layout": "IPY_MODEL_ffd01388e4ff4a2fa57474406cf51a7e",
      "placeholder": "​",
      "style": "IPY_MODEL_ff9763ca214b491cb9b6f862c610b7bb",
      "value": "Batches: 100%"
     }
    },
    "90d25bb88db94e8dac47ae76b6d39ebc": {
     "model_module": "@jupyter-widgets/controls",
     "model_module_version": "1.5.0",
     "model_name": "HTMLModel",
     "state": {
      "_dom_classes": [],
      "_model_module": "@jupyter-widgets/controls",
      "_model_module_version": "1.5.0",
      "_model_name": "HTMLModel",
      "_view_count": null,
      "_view_module": "@jupyter-widgets/controls",
      "_view_module_version": "1.5.0",
      "_view_name": "HTMLView",
      "description": "",
      "description_tooltip": null,
      "layout": "IPY_MODEL_a9ee441a91a04b5e850915a356fb5907",
      "placeholder": "​",
      "style": "IPY_MODEL_f709518004274cedb9b02fe5736d9164",
      "value": " 47/47 [02:11&lt;00:00,  2.94it/s]"
     }
    },
    "a6aca639c53a49e3a2d2257a5de311ae": {
     "model_module": "@jupyter-widgets/base",
     "model_module_version": "1.2.0",
     "model_name": "LayoutModel",
     "state": {
      "_model_module": "@jupyter-widgets/base",
      "_model_module_version": "1.2.0",
      "_model_name": "LayoutModel",
      "_view_count": null,
      "_view_module": "@jupyter-widgets/base",
      "_view_module_version": "1.2.0",
      "_view_name": "LayoutView",
      "align_content": null,
      "align_items": null,
      "align_self": null,
      "border": null,
      "bottom": null,
      "display": null,
      "flex": null,
      "flex_flow": null,
      "grid_area": null,
      "grid_auto_columns": null,
      "grid_auto_flow": null,
      "grid_auto_rows": null,
      "grid_column": null,
      "grid_gap": null,
      "grid_row": null,
      "grid_template_areas": null,
      "grid_template_columns": null,
      "grid_template_rows": null,
      "height": null,
      "justify_content": null,
      "justify_items": null,
      "left": null,
      "margin": null,
      "max_height": null,
      "max_width": null,
      "min_height": null,
      "min_width": null,
      "object_fit": null,
      "object_position": null,
      "order": null,
      "overflow": null,
      "overflow_x": null,
      "overflow_y": null,
      "padding": null,
      "right": null,
      "top": null,
      "visibility": null,
      "width": null
     }
    },
    "a9ee441a91a04b5e850915a356fb5907": {
     "model_module": "@jupyter-widgets/base",
     "model_module_version": "1.2.0",
     "model_name": "LayoutModel",
     "state": {
      "_model_module": "@jupyter-widgets/base",
      "_model_module_version": "1.2.0",
      "_model_name": "LayoutModel",
      "_view_count": null,
      "_view_module": "@jupyter-widgets/base",
      "_view_module_version": "1.2.0",
      "_view_name": "LayoutView",
      "align_content": null,
      "align_items": null,
      "align_self": null,
      "border": null,
      "bottom": null,
      "display": null,
      "flex": null,
      "flex_flow": null,
      "grid_area": null,
      "grid_auto_columns": null,
      "grid_auto_flow": null,
      "grid_auto_rows": null,
      "grid_column": null,
      "grid_gap": null,
      "grid_row": null,
      "grid_template_areas": null,
      "grid_template_columns": null,
      "grid_template_rows": null,
      "height": null,
      "justify_content": null,
      "justify_items": null,
      "left": null,
      "margin": null,
      "max_height": null,
      "max_width": null,
      "min_height": null,
      "min_width": null,
      "object_fit": null,
      "object_position": null,
      "order": null,
      "overflow": null,
      "overflow_x": null,
      "overflow_y": null,
      "padding": null,
      "right": null,
      "top": null,
      "visibility": null,
      "width": null
     }
    },
    "ac6281a363e5403cadb8acbd782fa94b": {
     "model_module": "@jupyter-widgets/controls",
     "model_module_version": "1.5.0",
     "model_name": "HBoxModel",
     "state": {
      "_dom_classes": [],
      "_model_module": "@jupyter-widgets/controls",
      "_model_module_version": "1.5.0",
      "_model_name": "HBoxModel",
      "_view_count": null,
      "_view_module": "@jupyter-widgets/controls",
      "_view_module_version": "1.5.0",
      "_view_name": "HBoxView",
      "box_style": "",
      "children": [
       "IPY_MODEL_0d14309992de4bcc8cbf8bc3027d12f7",
       "IPY_MODEL_60454dd804b24b0ea0a8703ac36bd2a2",
       "IPY_MODEL_fe5f3f63d4fb4d65b659c6bbec7d277d"
      ],
      "layout": "IPY_MODEL_45c4cea7fbc94e5695341d12d5b61bed"
     }
    },
    "b94389344c3a4eae8ff6ebe0fd88c6e1": {
     "model_module": "@jupyter-widgets/controls",
     "model_module_version": "1.5.0",
     "model_name": "HBoxModel",
     "state": {
      "_dom_classes": [],
      "_model_module": "@jupyter-widgets/controls",
      "_model_module_version": "1.5.0",
      "_model_name": "HBoxModel",
      "_view_count": null,
      "_view_module": "@jupyter-widgets/controls",
      "_view_module_version": "1.5.0",
      "_view_name": "HBoxView",
      "box_style": "",
      "children": [
       "IPY_MODEL_887c904bbcf74e06a51e84966e3012fe",
       "IPY_MODEL_41a551077fb04dedac27b2a63ef67182",
       "IPY_MODEL_90d25bb88db94e8dac47ae76b6d39ebc"
      ],
      "layout": "IPY_MODEL_a6aca639c53a49e3a2d2257a5de311ae"
     }
    },
    "bfaa8d48e70e4d3d9aefd1fa574e1836": {
     "model_module": "@jupyter-widgets/controls",
     "model_module_version": "1.5.0",
     "model_name": "ProgressStyleModel",
     "state": {
      "_model_module": "@jupyter-widgets/controls",
      "_model_module_version": "1.5.0",
      "_model_name": "ProgressStyleModel",
      "_view_count": null,
      "_view_module": "@jupyter-widgets/base",
      "_view_module_version": "1.2.0",
      "_view_name": "StyleView",
      "bar_color": null,
      "description_width": ""
     }
    },
    "da05df53605346058fc8902f46aa87f6": {
     "model_module": "@jupyter-widgets/controls",
     "model_module_version": "1.5.0",
     "model_name": "DescriptionStyleModel",
     "state": {
      "_model_module": "@jupyter-widgets/controls",
      "_model_module_version": "1.5.0",
      "_model_name": "DescriptionStyleModel",
      "_view_count": null,
      "_view_module": "@jupyter-widgets/base",
      "_view_module_version": "1.2.0",
      "_view_name": "StyleView",
      "description_width": ""
     }
    },
    "f709518004274cedb9b02fe5736d9164": {
     "model_module": "@jupyter-widgets/controls",
     "model_module_version": "1.5.0",
     "model_name": "DescriptionStyleModel",
     "state": {
      "_model_module": "@jupyter-widgets/controls",
      "_model_module_version": "1.5.0",
      "_model_name": "DescriptionStyleModel",
      "_view_count": null,
      "_view_module": "@jupyter-widgets/base",
      "_view_module_version": "1.2.0",
      "_view_name": "StyleView",
      "description_width": ""
     }
    },
    "fc0f7b717d9549f2a628d55ab1961d2f": {
     "model_module": "@jupyter-widgets/base",
     "model_module_version": "1.2.0",
     "model_name": "LayoutModel",
     "state": {
      "_model_module": "@jupyter-widgets/base",
      "_model_module_version": "1.2.0",
      "_model_name": "LayoutModel",
      "_view_count": null,
      "_view_module": "@jupyter-widgets/base",
      "_view_module_version": "1.2.0",
      "_view_name": "LayoutView",
      "align_content": null,
      "align_items": null,
      "align_self": null,
      "border": null,
      "bottom": null,
      "display": null,
      "flex": null,
      "flex_flow": null,
      "grid_area": null,
      "grid_auto_columns": null,
      "grid_auto_flow": null,
      "grid_auto_rows": null,
      "grid_column": null,
      "grid_gap": null,
      "grid_row": null,
      "grid_template_areas": null,
      "grid_template_columns": null,
      "grid_template_rows": null,
      "height": null,
      "justify_content": null,
      "justify_items": null,
      "left": null,
      "margin": null,
      "max_height": null,
      "max_width": null,
      "min_height": null,
      "min_width": null,
      "object_fit": null,
      "object_position": null,
      "order": null,
      "overflow": null,
      "overflow_x": null,
      "overflow_y": null,
      "padding": null,
      "right": null,
      "top": null,
      "visibility": null,
      "width": null
     }
    },
    "fe5f3f63d4fb4d65b659c6bbec7d277d": {
     "model_module": "@jupyter-widgets/controls",
     "model_module_version": "1.5.0",
     "model_name": "HTMLModel",
     "state": {
      "_dom_classes": [],
      "_model_module": "@jupyter-widgets/controls",
      "_model_module_version": "1.5.0",
      "_model_name": "HTMLModel",
      "_view_count": null,
      "_view_module": "@jupyter-widgets/controls",
      "_view_module_version": "1.5.0",
      "_view_name": "HTMLView",
      "description": "",
      "description_tooltip": null,
      "layout": "IPY_MODEL_80d6637143d04d3c9cecac7fccd0ae2d",
      "placeholder": "​",
      "style": "IPY_MODEL_da05df53605346058fc8902f46aa87f6",
      "value": " 47/47 [02:10&lt;00:00,  2.83it/s]"
     }
    },
    "ff9763ca214b491cb9b6f862c610b7bb": {
     "model_module": "@jupyter-widgets/controls",
     "model_module_version": "1.5.0",
     "model_name": "DescriptionStyleModel",
     "state": {
      "_model_module": "@jupyter-widgets/controls",
      "_model_module_version": "1.5.0",
      "_model_name": "DescriptionStyleModel",
      "_view_count": null,
      "_view_module": "@jupyter-widgets/base",
      "_view_module_version": "1.2.0",
      "_view_name": "StyleView",
      "description_width": ""
     }
    },
    "ffd01388e4ff4a2fa57474406cf51a7e": {
     "model_module": "@jupyter-widgets/base",
     "model_module_version": "1.2.0",
     "model_name": "LayoutModel",
     "state": {
      "_model_module": "@jupyter-widgets/base",
      "_model_module_version": "1.2.0",
      "_model_name": "LayoutModel",
      "_view_count": null,
      "_view_module": "@jupyter-widgets/base",
      "_view_module_version": "1.2.0",
      "_view_name": "LayoutView",
      "align_content": null,
      "align_items": null,
      "align_self": null,
      "border": null,
      "bottom": null,
      "display": null,
      "flex": null,
      "flex_flow": null,
      "grid_area": null,
      "grid_auto_columns": null,
      "grid_auto_flow": null,
      "grid_auto_rows": null,
      "grid_column": null,
      "grid_gap": null,
      "grid_row": null,
      "grid_template_areas": null,
      "grid_template_columns": null,
      "grid_template_rows": null,
      "height": null,
      "justify_content": null,
      "justify_items": null,
      "left": null,
      "margin": null,
      "max_height": null,
      "max_width": null,
      "min_height": null,
      "min_width": null,
      "object_fit": null,
      "object_position": null,
      "order": null,
      "overflow": null,
      "overflow_x": null,
      "overflow_y": null,
      "padding": null,
      "right": null,
      "top": null,
      "visibility": null,
      "width": null
     }
    }
   }
  }
 },
 "nbformat": 4,
 "nbformat_minor": 1
}
