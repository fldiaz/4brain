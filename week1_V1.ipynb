{
 "cells": [
  {
   "cell_type": "markdown",
   "metadata": {
    "id": "lNnTTMT9dnM4"
   },
   "source": [
    "# Today you are a Data Scientist at Tesla! \n",
    "## You have been assigned a new project to look at car sales from Quarters 1-2 in California for 2019 to make predictions as to which cars will be sold more than the others in Q3 and Q4, to ensure enough inventory to meet demands!"
   ]
  },
  {
   "cell_type": "markdown",
   "metadata": {
    "id": "AQqh5DMaq9QW"
   },
   "source": [
    "### If running this notebook in Google Colab, run the following cell first to mount your Google Drive"
   ]
  },
  {
   "cell_type": "code",
   "execution_count": null,
   "metadata": {
    "colab": {
     "base_uri": "https://localhost:8080/"
    },
    "executionInfo": {
     "elapsed": 197,
     "status": "ok",
     "timestamp": 1627687605649,
     "user": {
      "displayName": "Spencer Kent",
      "photoUrl": "",
      "userId": "07841346171340846448"
     },
     "user_tz": 420
    },
    "id": "Mqah54vN8CVB",
    "outputId": "8633c489-6439-4a66-dafd-cba26bc7e88d"
   },
   "outputs": [],
   "source": [
    "from google.colab import drive\n",
    "drive.mount('/content/drive')"
   ]
  },
  {
   "cell_type": "markdown",
   "metadata": {
    "id": "NliK7yTn8LMn"
   },
   "source": [
    "^^ This mounts your Google Drive at the location */content/drive* on the virtual machine running this notebook."
   ]
  },
  {
   "cell_type": "markdown",
   "metadata": {
    "id": "v-eh9IKUfTdQ"
   },
   "source": [
    "# Task 1: Load data and wrangle training and test sets"
   ]
  },
  {
   "cell_type": "markdown",
   "metadata": {
    "id": "OI6NP0JBdnM5"
   },
   "source": [
    "### Import some modules we'll make use of"
   ]
  },
  {
   "cell_type": "code",
   "execution_count": 4,
   "metadata": {
    "id": "WdNx3CHEdnM5"
   },
   "outputs": [],
   "source": [
    "import numpy as np\n",
    "import pandas as pd\n",
    "import matplotlib.pyplot as plt\n",
    "pd.options.display.max_columns = 100000\n",
    "pd.options.display.max_rows = 999990"
   ]
  },
  {
   "cell_type": "markdown",
   "metadata": {
    "id": "dM4fGT-ldnM8"
   },
   "source": [
    "### Read in the CSV file containing the California sales data for Quarters 1 and 2\n",
    "\n",
    "Then examine the data's shape and first few rows"
   ]
  },
  {
   "cell_type": "code",
   "execution_count": 5,
   "metadata": {
    "id": "-s13HIEBdtGd"
   },
   "outputs": [],
   "source": [
    "# my copy of the Tesla sales data is located in my drive at /Datasets/week_1/\n",
    "df_sales = pd.read_csv('sales_Q12_2019.csv')"
   ]
  },
  {
   "cell_type": "code",
   "execution_count": 6,
   "metadata": {
    "id": "HdP5mSNQePPU"
   },
   "outputs": [
    {
     "name": "stdout",
     "output_type": "stream",
     "text": [
      "(5837, 76)\n"
     ]
    },
    {
     "data": {
      "text/html": [
       "<div>\n",
       "<style scoped>\n",
       "    .dataframe tbody tr th:only-of-type {\n",
       "        vertical-align: middle;\n",
       "    }\n",
       "\n",
       "    .dataframe tbody tr th {\n",
       "        vertical-align: top;\n",
       "    }\n",
       "\n",
       "    .dataframe thead th {\n",
       "        text-align: right;\n",
       "    }\n",
       "</style>\n",
       "<table border=\"1\" class=\"dataframe\">\n",
       "  <thead>\n",
       "    <tr style=\"text-align: right;\">\n",
       "      <th></th>\n",
       "      <th>main_S60_1</th>\n",
       "      <th>main_S60_2</th>\n",
       "      <th>main_type_SP100D</th>\n",
       "      <th>main_type_S60D_1</th>\n",
       "      <th>main_type_S60D_2</th>\n",
       "      <th>main_type_S70</th>\n",
       "      <th>main_type_S70D</th>\n",
       "      <th>main_type_S75</th>\n",
       "      <th>main_type_S75D</th>\n",
       "      <th>main_type_S80</th>\n",
       "      <th>main_type_S80D</th>\n",
       "      <th>main_type_S85</th>\n",
       "      <th>main_type_S85P</th>\n",
       "      <th>main_type_P85D</th>\n",
       "      <th>main_type_S90</th>\n",
       "      <th>main_type_S90D</th>\n",
       "      <th>main_type_S100D</th>\n",
       "      <th>engine_A</th>\n",
       "      <th>engine_B</th>\n",
       "      <th>engine_C</th>\n",
       "      <th>engine_D</th>\n",
       "      <th>engine_E</th>\n",
       "      <th>engine_F</th>\n",
       "      <th>engine_G</th>\n",
       "      <th>engine_H</th>\n",
       "      <th>engine_I</th>\n",
       "      <th>engine_J</th>\n",
       "      <th>engine_K</th>\n",
       "      <th>engine_L</th>\n",
       "      <th>engine_M</th>\n",
       "      <th>engine_N</th>\n",
       "      <th>engine_O</th>\n",
       "      <th>engine_P</th>\n",
       "      <th>engine_Q</th>\n",
       "      <th>engine_R</th>\n",
       "      <th>engine_S</th>\n",
       "      <th>engine_T</th>\n",
       "      <th>engine_U</th>\n",
       "      <th>engine_V</th>\n",
       "      <th>engine_W</th>\n",
       "      <th>engine_X</th>\n",
       "      <th>engine_Y</th>\n",
       "      <th>engine_Z</th>\n",
       "      <th>sales_1</th>\n",
       "      <th>sales_2</th>\n",
       "      <th>sales_3</th>\n",
       "      <th>sales_4</th>\n",
       "      <th>sales_5</th>\n",
       "      <th>sales_6</th>\n",
       "      <th>sales_7</th>\n",
       "      <th>sales_8</th>\n",
       "      <th>sales_9</th>\n",
       "      <th>sales_10</th>\n",
       "      <th>sales_11</th>\n",
       "      <th>sales_12</th>\n",
       "      <th>sales_13</th>\n",
       "      <th>sales_14</th>\n",
       "      <th>sales_15</th>\n",
       "      <th>sales_16</th>\n",
       "      <th>sales_17</th>\n",
       "      <th>sales_18</th>\n",
       "      <th>sales_19</th>\n",
       "      <th>sales_20</th>\n",
       "      <th>sales_21</th>\n",
       "      <th>sales_22</th>\n",
       "      <th>sales_23</th>\n",
       "      <th>sales_24</th>\n",
       "      <th>sales_25</th>\n",
       "      <th>sales_26</th>\n",
       "      <th>sales_27</th>\n",
       "      <th>sales_28</th>\n",
       "      <th>sales_29</th>\n",
       "      <th>sales_30</th>\n",
       "      <th>MSRP</th>\n",
       "      <th>dealer_state</th>\n",
       "      <th>date</th>\n",
       "    </tr>\n",
       "  </thead>\n",
       "  <tbody>\n",
       "    <tr>\n",
       "      <th>0</th>\n",
       "      <td>0</td>\n",
       "      <td>0</td>\n",
       "      <td>0</td>\n",
       "      <td>0</td>\n",
       "      <td>0</td>\n",
       "      <td>1</td>\n",
       "      <td>0</td>\n",
       "      <td>0</td>\n",
       "      <td>0</td>\n",
       "      <td>0</td>\n",
       "      <td>0</td>\n",
       "      <td>0</td>\n",
       "      <td>0</td>\n",
       "      <td>0</td>\n",
       "      <td>0</td>\n",
       "      <td>0</td>\n",
       "      <td>0</td>\n",
       "      <td>0</td>\n",
       "      <td>0</td>\n",
       "      <td>0</td>\n",
       "      <td>0</td>\n",
       "      <td>0</td>\n",
       "      <td>0</td>\n",
       "      <td>0</td>\n",
       "      <td>0</td>\n",
       "      <td>0</td>\n",
       "      <td>0</td>\n",
       "      <td>0</td>\n",
       "      <td>0</td>\n",
       "      <td>0</td>\n",
       "      <td>0</td>\n",
       "      <td>0</td>\n",
       "      <td>0</td>\n",
       "      <td>0</td>\n",
       "      <td>0</td>\n",
       "      <td>0</td>\n",
       "      <td>0</td>\n",
       "      <td>0</td>\n",
       "      <td>0</td>\n",
       "      <td>0</td>\n",
       "      <td>0</td>\n",
       "      <td>0</td>\n",
       "      <td>0</td>\n",
       "      <td>0</td>\n",
       "      <td>0</td>\n",
       "      <td>0</td>\n",
       "      <td>0</td>\n",
       "      <td>0</td>\n",
       "      <td>0</td>\n",
       "      <td>0</td>\n",
       "      <td>1</td>\n",
       "      <td>0</td>\n",
       "      <td>0</td>\n",
       "      <td>0</td>\n",
       "      <td>0</td>\n",
       "      <td>0</td>\n",
       "      <td>0</td>\n",
       "      <td>0</td>\n",
       "      <td>0</td>\n",
       "      <td>0</td>\n",
       "      <td>0</td>\n",
       "      <td>0</td>\n",
       "      <td>0</td>\n",
       "      <td>0</td>\n",
       "      <td>0</td>\n",
       "      <td>0</td>\n",
       "      <td>0</td>\n",
       "      <td>0</td>\n",
       "      <td>0</td>\n",
       "      <td>0</td>\n",
       "      <td>0</td>\n",
       "      <td>0</td>\n",
       "      <td>0</td>\n",
       "      <td>44610</td>\n",
       "      <td>California</td>\n",
       "      <td>2019-04-28</td>\n",
       "    </tr>\n",
       "    <tr>\n",
       "      <th>1</th>\n",
       "      <td>0</td>\n",
       "      <td>0</td>\n",
       "      <td>0</td>\n",
       "      <td>0</td>\n",
       "      <td>0</td>\n",
       "      <td>0</td>\n",
       "      <td>0</td>\n",
       "      <td>0</td>\n",
       "      <td>0</td>\n",
       "      <td>0</td>\n",
       "      <td>0</td>\n",
       "      <td>0</td>\n",
       "      <td>0</td>\n",
       "      <td>0</td>\n",
       "      <td>0</td>\n",
       "      <td>0</td>\n",
       "      <td>1</td>\n",
       "      <td>1</td>\n",
       "      <td>0</td>\n",
       "      <td>0</td>\n",
       "      <td>0</td>\n",
       "      <td>0</td>\n",
       "      <td>0</td>\n",
       "      <td>0</td>\n",
       "      <td>0</td>\n",
       "      <td>0</td>\n",
       "      <td>0</td>\n",
       "      <td>0</td>\n",
       "      <td>0</td>\n",
       "      <td>0</td>\n",
       "      <td>0</td>\n",
       "      <td>0</td>\n",
       "      <td>0</td>\n",
       "      <td>0</td>\n",
       "      <td>0</td>\n",
       "      <td>0</td>\n",
       "      <td>0</td>\n",
       "      <td>0</td>\n",
       "      <td>0</td>\n",
       "      <td>0</td>\n",
       "      <td>0</td>\n",
       "      <td>0</td>\n",
       "      <td>0</td>\n",
       "      <td>0</td>\n",
       "      <td>0</td>\n",
       "      <td>0</td>\n",
       "      <td>0</td>\n",
       "      <td>0</td>\n",
       "      <td>0</td>\n",
       "      <td>0</td>\n",
       "      <td>1</td>\n",
       "      <td>0</td>\n",
       "      <td>0</td>\n",
       "      <td>0</td>\n",
       "      <td>0</td>\n",
       "      <td>0</td>\n",
       "      <td>0</td>\n",
       "      <td>0</td>\n",
       "      <td>0</td>\n",
       "      <td>0</td>\n",
       "      <td>0</td>\n",
       "      <td>0</td>\n",
       "      <td>0</td>\n",
       "      <td>0</td>\n",
       "      <td>0</td>\n",
       "      <td>0</td>\n",
       "      <td>0</td>\n",
       "      <td>0</td>\n",
       "      <td>0</td>\n",
       "      <td>0</td>\n",
       "      <td>0</td>\n",
       "      <td>0</td>\n",
       "      <td>0</td>\n",
       "      <td>41505</td>\n",
       "      <td>California</td>\n",
       "      <td>2019-03-14</td>\n",
       "    </tr>\n",
       "    <tr>\n",
       "      <th>2</th>\n",
       "      <td>0</td>\n",
       "      <td>0</td>\n",
       "      <td>0</td>\n",
       "      <td>0</td>\n",
       "      <td>0</td>\n",
       "      <td>0</td>\n",
       "      <td>0</td>\n",
       "      <td>0</td>\n",
       "      <td>0</td>\n",
       "      <td>0</td>\n",
       "      <td>0</td>\n",
       "      <td>0</td>\n",
       "      <td>1</td>\n",
       "      <td>0</td>\n",
       "      <td>0</td>\n",
       "      <td>0</td>\n",
       "      <td>0</td>\n",
       "      <td>0</td>\n",
       "      <td>0</td>\n",
       "      <td>0</td>\n",
       "      <td>0</td>\n",
       "      <td>0</td>\n",
       "      <td>0</td>\n",
       "      <td>0</td>\n",
       "      <td>0</td>\n",
       "      <td>0</td>\n",
       "      <td>0</td>\n",
       "      <td>0</td>\n",
       "      <td>0</td>\n",
       "      <td>0</td>\n",
       "      <td>0</td>\n",
       "      <td>0</td>\n",
       "      <td>0</td>\n",
       "      <td>1</td>\n",
       "      <td>0</td>\n",
       "      <td>0</td>\n",
       "      <td>0</td>\n",
       "      <td>0</td>\n",
       "      <td>0</td>\n",
       "      <td>0</td>\n",
       "      <td>0</td>\n",
       "      <td>0</td>\n",
       "      <td>0</td>\n",
       "      <td>0</td>\n",
       "      <td>0</td>\n",
       "      <td>0</td>\n",
       "      <td>0</td>\n",
       "      <td>0</td>\n",
       "      <td>0</td>\n",
       "      <td>1</td>\n",
       "      <td>0</td>\n",
       "      <td>0</td>\n",
       "      <td>0</td>\n",
       "      <td>0</td>\n",
       "      <td>0</td>\n",
       "      <td>0</td>\n",
       "      <td>0</td>\n",
       "      <td>0</td>\n",
       "      <td>0</td>\n",
       "      <td>0</td>\n",
       "      <td>0</td>\n",
       "      <td>0</td>\n",
       "      <td>0</td>\n",
       "      <td>0</td>\n",
       "      <td>0</td>\n",
       "      <td>0</td>\n",
       "      <td>0</td>\n",
       "      <td>0</td>\n",
       "      <td>0</td>\n",
       "      <td>0</td>\n",
       "      <td>0</td>\n",
       "      <td>0</td>\n",
       "      <td>0</td>\n",
       "      <td>58890</td>\n",
       "      <td>California</td>\n",
       "      <td>2019-06-12</td>\n",
       "    </tr>\n",
       "    <tr>\n",
       "      <th>3</th>\n",
       "      <td>0</td>\n",
       "      <td>0</td>\n",
       "      <td>0</td>\n",
       "      <td>0</td>\n",
       "      <td>0</td>\n",
       "      <td>0</td>\n",
       "      <td>0</td>\n",
       "      <td>0</td>\n",
       "      <td>0</td>\n",
       "      <td>0</td>\n",
       "      <td>0</td>\n",
       "      <td>0</td>\n",
       "      <td>1</td>\n",
       "      <td>0</td>\n",
       "      <td>0</td>\n",
       "      <td>0</td>\n",
       "      <td>0</td>\n",
       "      <td>0</td>\n",
       "      <td>0</td>\n",
       "      <td>0</td>\n",
       "      <td>0</td>\n",
       "      <td>0</td>\n",
       "      <td>0</td>\n",
       "      <td>0</td>\n",
       "      <td>0</td>\n",
       "      <td>0</td>\n",
       "      <td>0</td>\n",
       "      <td>0</td>\n",
       "      <td>0</td>\n",
       "      <td>0</td>\n",
       "      <td>0</td>\n",
       "      <td>0</td>\n",
       "      <td>0</td>\n",
       "      <td>0</td>\n",
       "      <td>0</td>\n",
       "      <td>0</td>\n",
       "      <td>0</td>\n",
       "      <td>0</td>\n",
       "      <td>0</td>\n",
       "      <td>0</td>\n",
       "      <td>0</td>\n",
       "      <td>0</td>\n",
       "      <td>0</td>\n",
       "      <td>0</td>\n",
       "      <td>0</td>\n",
       "      <td>0</td>\n",
       "      <td>0</td>\n",
       "      <td>0</td>\n",
       "      <td>0</td>\n",
       "      <td>0</td>\n",
       "      <td>1</td>\n",
       "      <td>0</td>\n",
       "      <td>0</td>\n",
       "      <td>0</td>\n",
       "      <td>0</td>\n",
       "      <td>0</td>\n",
       "      <td>0</td>\n",
       "      <td>0</td>\n",
       "      <td>0</td>\n",
       "      <td>0</td>\n",
       "      <td>0</td>\n",
       "      <td>0</td>\n",
       "      <td>0</td>\n",
       "      <td>0</td>\n",
       "      <td>0</td>\n",
       "      <td>0</td>\n",
       "      <td>0</td>\n",
       "      <td>0</td>\n",
       "      <td>0</td>\n",
       "      <td>0</td>\n",
       "      <td>0</td>\n",
       "      <td>0</td>\n",
       "      <td>0</td>\n",
       "      <td>51055</td>\n",
       "      <td>California</td>\n",
       "      <td>2019-03-04</td>\n",
       "    </tr>\n",
       "    <tr>\n",
       "      <th>4</th>\n",
       "      <td>0</td>\n",
       "      <td>0</td>\n",
       "      <td>0</td>\n",
       "      <td>0</td>\n",
       "      <td>0</td>\n",
       "      <td>0</td>\n",
       "      <td>0</td>\n",
       "      <td>0</td>\n",
       "      <td>0</td>\n",
       "      <td>0</td>\n",
       "      <td>0</td>\n",
       "      <td>0</td>\n",
       "      <td>0</td>\n",
       "      <td>1</td>\n",
       "      <td>0</td>\n",
       "      <td>0</td>\n",
       "      <td>0</td>\n",
       "      <td>0</td>\n",
       "      <td>0</td>\n",
       "      <td>0</td>\n",
       "      <td>0</td>\n",
       "      <td>0</td>\n",
       "      <td>0</td>\n",
       "      <td>0</td>\n",
       "      <td>0</td>\n",
       "      <td>0</td>\n",
       "      <td>0</td>\n",
       "      <td>0</td>\n",
       "      <td>0</td>\n",
       "      <td>0</td>\n",
       "      <td>0</td>\n",
       "      <td>0</td>\n",
       "      <td>0</td>\n",
       "      <td>1</td>\n",
       "      <td>0</td>\n",
       "      <td>0</td>\n",
       "      <td>0</td>\n",
       "      <td>0</td>\n",
       "      <td>0</td>\n",
       "      <td>0</td>\n",
       "      <td>0</td>\n",
       "      <td>0</td>\n",
       "      <td>0</td>\n",
       "      <td>0</td>\n",
       "      <td>0</td>\n",
       "      <td>0</td>\n",
       "      <td>0</td>\n",
       "      <td>0</td>\n",
       "      <td>0</td>\n",
       "      <td>0</td>\n",
       "      <td>0</td>\n",
       "      <td>0</td>\n",
       "      <td>0</td>\n",
       "      <td>1</td>\n",
       "      <td>0</td>\n",
       "      <td>0</td>\n",
       "      <td>0</td>\n",
       "      <td>0</td>\n",
       "      <td>0</td>\n",
       "      <td>0</td>\n",
       "      <td>0</td>\n",
       "      <td>0</td>\n",
       "      <td>0</td>\n",
       "      <td>0</td>\n",
       "      <td>0</td>\n",
       "      <td>0</td>\n",
       "      <td>0</td>\n",
       "      <td>0</td>\n",
       "      <td>0</td>\n",
       "      <td>0</td>\n",
       "      <td>0</td>\n",
       "      <td>0</td>\n",
       "      <td>0</td>\n",
       "      <td>70830</td>\n",
       "      <td>California</td>\n",
       "      <td>2019-01-23</td>\n",
       "    </tr>\n",
       "  </tbody>\n",
       "</table>\n",
       "</div>"
      ],
      "text/plain": [
       "   main_S60_1  main_S60_2  main_type_SP100D  main_type_S60D_1  \\\n",
       "0           0           0                 0                 0   \n",
       "1           0           0                 0                 0   \n",
       "2           0           0                 0                 0   \n",
       "3           0           0                 0                 0   \n",
       "4           0           0                 0                 0   \n",
       "\n",
       "   main_type_S60D_2  main_type_S70  main_type_S70D  main_type_S75  \\\n",
       "0                 0              1               0              0   \n",
       "1                 0              0               0              0   \n",
       "2                 0              0               0              0   \n",
       "3                 0              0               0              0   \n",
       "4                 0              0               0              0   \n",
       "\n",
       "   main_type_S75D  main_type_S80  main_type_S80D  main_type_S85  \\\n",
       "0               0              0               0              0   \n",
       "1               0              0               0              0   \n",
       "2               0              0               0              0   \n",
       "3               0              0               0              0   \n",
       "4               0              0               0              0   \n",
       "\n",
       "   main_type_S85P  main_type_P85D  main_type_S90  main_type_S90D  \\\n",
       "0               0               0              0               0   \n",
       "1               0               0              0               0   \n",
       "2               1               0              0               0   \n",
       "3               1               0              0               0   \n",
       "4               0               1              0               0   \n",
       "\n",
       "   main_type_S100D  engine_A  engine_B  engine_C  engine_D  engine_E  \\\n",
       "0                0         0         0         0         0         0   \n",
       "1                1         1         0         0         0         0   \n",
       "2                0         0         0         0         0         0   \n",
       "3                0         0         0         0         0         0   \n",
       "4                0         0         0         0         0         0   \n",
       "\n",
       "   engine_F  engine_G  engine_H  engine_I  engine_J  engine_K  engine_L  \\\n",
       "0         0         0         0         0         0         0         0   \n",
       "1         0         0         0         0         0         0         0   \n",
       "2         0         0         0         0         0         0         0   \n",
       "3         0         0         0         0         0         0         0   \n",
       "4         0         0         0         0         0         0         0   \n",
       "\n",
       "   engine_M  engine_N  engine_O  engine_P  engine_Q  engine_R  engine_S  \\\n",
       "0         0         0         0         0         0         0         0   \n",
       "1         0         0         0         0         0         0         0   \n",
       "2         0         0         0         0         1         0         0   \n",
       "3         0         0         0         0         0         0         0   \n",
       "4         0         0         0         0         1         0         0   \n",
       "\n",
       "   engine_T  engine_U  engine_V  engine_W  engine_X  engine_Y  engine_Z  \\\n",
       "0         0         0         0         0         0         0         0   \n",
       "1         0         0         0         0         0         0         0   \n",
       "2         0         0         0         0         0         0         0   \n",
       "3         0         0         0         0         0         0         0   \n",
       "4         0         0         0         0         0         0         0   \n",
       "\n",
       "   sales_1  sales_2  sales_3  sales_4  sales_5  sales_6  sales_7  sales_8  \\\n",
       "0        0        0        0        0        0        0        0        1   \n",
       "1        0        0        0        0        0        0        0        1   \n",
       "2        0        0        0        0        0        0        1        0   \n",
       "3        0        0        0        0        0        0        0        1   \n",
       "4        0        0        0        0        0        0        0        0   \n",
       "\n",
       "   sales_9  sales_10  sales_11  sales_12  sales_13  sales_14  sales_15  \\\n",
       "0        0         0         0         0         0         0         0   \n",
       "1        0         0         0         0         0         0         0   \n",
       "2        0         0         0         0         0         0         0   \n",
       "3        0         0         0         0         0         0         0   \n",
       "4        0         0         1         0         0         0         0   \n",
       "\n",
       "   sales_16  sales_17  sales_18  sales_19  sales_20  sales_21  sales_22  \\\n",
       "0         0         0         0         0         0         0         0   \n",
       "1         0         0         0         0         0         0         0   \n",
       "2         0         0         0         0         0         0         0   \n",
       "3         0         0         0         0         0         0         0   \n",
       "4         0         0         0         0         0         0         0   \n",
       "\n",
       "   sales_23  sales_24  sales_25  sales_26  sales_27  sales_28  sales_29  \\\n",
       "0         0         0         0         0         0         0         0   \n",
       "1         0         0         0         0         0         0         0   \n",
       "2         0         0         0         0         0         0         0   \n",
       "3         0         0         0         0         0         0         0   \n",
       "4         0         0         0         0         0         0         0   \n",
       "\n",
       "   sales_30   MSRP dealer_state        date  \n",
       "0         0  44610   California  2019-04-28  \n",
       "1         0  41505   California  2019-03-14  \n",
       "2         0  58890   California  2019-06-12  \n",
       "3         0  51055   California  2019-03-04  \n",
       "4         0  70830   California  2019-01-23  "
      ]
     },
     "execution_count": 6,
     "metadata": {},
     "output_type": "execute_result"
    }
   ],
   "source": [
    "print(df_sales.shape)\n",
    "df_sales.head()"
   ]
  },
  {
   "cell_type": "code",
   "execution_count": 7,
   "metadata": {
    "id": "9zWKdbKgHQCj"
   },
   "outputs": [
    {
     "name": "stdout",
     "output_type": "stream",
     "text": [
      "Index(['main_S60_1', 'main_S60_2', 'main_type_SP100D', 'main_type_S60D_1',\n",
      "       'main_type_S60D_2', 'main_type_S70', 'main_type_S70D', 'main_type_S75',\n",
      "       'main_type_S75D', 'main_type_S80', 'main_type_S80D', 'main_type_S85',\n",
      "       'main_type_S85P', 'main_type_P85D', 'main_type_S90', 'main_type_S90D',\n",
      "       'main_type_S100D', 'engine_A', 'engine_B', 'engine_C', 'engine_D',\n",
      "       'engine_E', 'engine_F', 'engine_G', 'engine_H', 'engine_I', 'engine_J',\n",
      "       'engine_K', 'engine_L', 'engine_M', 'engine_N', 'engine_O', 'engine_P',\n",
      "       'engine_Q', 'engine_R', 'engine_S', 'engine_T', 'engine_U', 'engine_V',\n",
      "       'engine_W', 'engine_X', 'engine_Y', 'engine_Z', 'sales_1', 'sales_2',\n",
      "       'sales_3', 'sales_4', 'sales_5', 'sales_6', 'sales_7', 'sales_8',\n",
      "       'sales_9', 'sales_10', 'sales_11', 'sales_12', 'sales_13', 'sales_14',\n",
      "       'sales_15', 'sales_16', 'sales_17', 'sales_18', 'sales_19', 'sales_20',\n",
      "       'sales_21', 'sales_22', 'sales_23', 'sales_24', 'sales_25', 'sales_26',\n",
      "       'sales_27', 'sales_28', 'sales_29', 'sales_30', 'MSRP', 'dealer_state',\n",
      "       'date'],\n",
      "      dtype='object')\n"
     ]
    }
   ],
   "source": [
    "print(df_sales.columns)"
   ]
  },
  {
   "cell_type": "markdown",
   "metadata": {
    "id": "dF7w0UQndnM_"
   },
   "source": [
    "### Begin cleaning the data\n",
    "\n",
    "Eliminate the `'dealer_state'` and `'date'` columns. The former is useless to our model, since we already know that our dataset is restricted to California sales. While we could possibly extract useful information from the `'date'` column (for example, to determine whether more cars are sold on weekends than weekdays), we'll be focusing on car configurations in this exercise."
   ]
  },
  {
   "cell_type": "code",
   "execution_count": 8,
   "metadata": {
    "id": "i-DThsrHdnNA"
   },
   "outputs": [
    {
     "name": "stdout",
     "output_type": "stream",
     "text": [
      "(5837, 74)\n"
     ]
    },
    {
     "data": {
      "text/html": [
       "<div>\n",
       "<style scoped>\n",
       "    .dataframe tbody tr th:only-of-type {\n",
       "        vertical-align: middle;\n",
       "    }\n",
       "\n",
       "    .dataframe tbody tr th {\n",
       "        vertical-align: top;\n",
       "    }\n",
       "\n",
       "    .dataframe thead th {\n",
       "        text-align: right;\n",
       "    }\n",
       "</style>\n",
       "<table border=\"1\" class=\"dataframe\">\n",
       "  <thead>\n",
       "    <tr style=\"text-align: right;\">\n",
       "      <th></th>\n",
       "      <th>main_S60_1</th>\n",
       "      <th>main_S60_2</th>\n",
       "      <th>main_type_SP100D</th>\n",
       "      <th>main_type_S60D_1</th>\n",
       "      <th>main_type_S60D_2</th>\n",
       "      <th>main_type_S70</th>\n",
       "      <th>main_type_S70D</th>\n",
       "      <th>main_type_S75</th>\n",
       "      <th>main_type_S75D</th>\n",
       "      <th>main_type_S80</th>\n",
       "      <th>main_type_S80D</th>\n",
       "      <th>main_type_S85</th>\n",
       "      <th>main_type_S85P</th>\n",
       "      <th>main_type_P85D</th>\n",
       "      <th>main_type_S90</th>\n",
       "      <th>main_type_S90D</th>\n",
       "      <th>main_type_S100D</th>\n",
       "      <th>engine_A</th>\n",
       "      <th>engine_B</th>\n",
       "      <th>engine_C</th>\n",
       "      <th>engine_D</th>\n",
       "      <th>engine_E</th>\n",
       "      <th>engine_F</th>\n",
       "      <th>engine_G</th>\n",
       "      <th>engine_H</th>\n",
       "      <th>engine_I</th>\n",
       "      <th>engine_J</th>\n",
       "      <th>engine_K</th>\n",
       "      <th>engine_L</th>\n",
       "      <th>engine_M</th>\n",
       "      <th>engine_N</th>\n",
       "      <th>engine_O</th>\n",
       "      <th>engine_P</th>\n",
       "      <th>engine_Q</th>\n",
       "      <th>engine_R</th>\n",
       "      <th>engine_S</th>\n",
       "      <th>engine_T</th>\n",
       "      <th>engine_U</th>\n",
       "      <th>engine_V</th>\n",
       "      <th>engine_W</th>\n",
       "      <th>engine_X</th>\n",
       "      <th>engine_Y</th>\n",
       "      <th>engine_Z</th>\n",
       "      <th>sales_1</th>\n",
       "      <th>sales_2</th>\n",
       "      <th>sales_3</th>\n",
       "      <th>sales_4</th>\n",
       "      <th>sales_5</th>\n",
       "      <th>sales_6</th>\n",
       "      <th>sales_7</th>\n",
       "      <th>sales_8</th>\n",
       "      <th>sales_9</th>\n",
       "      <th>sales_10</th>\n",
       "      <th>sales_11</th>\n",
       "      <th>sales_12</th>\n",
       "      <th>sales_13</th>\n",
       "      <th>sales_14</th>\n",
       "      <th>sales_15</th>\n",
       "      <th>sales_16</th>\n",
       "      <th>sales_17</th>\n",
       "      <th>sales_18</th>\n",
       "      <th>sales_19</th>\n",
       "      <th>sales_20</th>\n",
       "      <th>sales_21</th>\n",
       "      <th>sales_22</th>\n",
       "      <th>sales_23</th>\n",
       "      <th>sales_24</th>\n",
       "      <th>sales_25</th>\n",
       "      <th>sales_26</th>\n",
       "      <th>sales_27</th>\n",
       "      <th>sales_28</th>\n",
       "      <th>sales_29</th>\n",
       "      <th>sales_30</th>\n",
       "      <th>MSRP</th>\n",
       "    </tr>\n",
       "  </thead>\n",
       "  <tbody>\n",
       "    <tr>\n",
       "      <th>0</th>\n",
       "      <td>0</td>\n",
       "      <td>0</td>\n",
       "      <td>0</td>\n",
       "      <td>0</td>\n",
       "      <td>0</td>\n",
       "      <td>1</td>\n",
       "      <td>0</td>\n",
       "      <td>0</td>\n",
       "      <td>0</td>\n",
       "      <td>0</td>\n",
       "      <td>0</td>\n",
       "      <td>0</td>\n",
       "      <td>0</td>\n",
       "      <td>0</td>\n",
       "      <td>0</td>\n",
       "      <td>0</td>\n",
       "      <td>0</td>\n",
       "      <td>0</td>\n",
       "      <td>0</td>\n",
       "      <td>0</td>\n",
       "      <td>0</td>\n",
       "      <td>0</td>\n",
       "      <td>0</td>\n",
       "      <td>0</td>\n",
       "      <td>0</td>\n",
       "      <td>0</td>\n",
       "      <td>0</td>\n",
       "      <td>0</td>\n",
       "      <td>0</td>\n",
       "      <td>0</td>\n",
       "      <td>0</td>\n",
       "      <td>0</td>\n",
       "      <td>0</td>\n",
       "      <td>0</td>\n",
       "      <td>0</td>\n",
       "      <td>0</td>\n",
       "      <td>0</td>\n",
       "      <td>0</td>\n",
       "      <td>0</td>\n",
       "      <td>0</td>\n",
       "      <td>0</td>\n",
       "      <td>0</td>\n",
       "      <td>0</td>\n",
       "      <td>0</td>\n",
       "      <td>0</td>\n",
       "      <td>0</td>\n",
       "      <td>0</td>\n",
       "      <td>0</td>\n",
       "      <td>0</td>\n",
       "      <td>0</td>\n",
       "      <td>1</td>\n",
       "      <td>0</td>\n",
       "      <td>0</td>\n",
       "      <td>0</td>\n",
       "      <td>0</td>\n",
       "      <td>0</td>\n",
       "      <td>0</td>\n",
       "      <td>0</td>\n",
       "      <td>0</td>\n",
       "      <td>0</td>\n",
       "      <td>0</td>\n",
       "      <td>0</td>\n",
       "      <td>0</td>\n",
       "      <td>0</td>\n",
       "      <td>0</td>\n",
       "      <td>0</td>\n",
       "      <td>0</td>\n",
       "      <td>0</td>\n",
       "      <td>0</td>\n",
       "      <td>0</td>\n",
       "      <td>0</td>\n",
       "      <td>0</td>\n",
       "      <td>0</td>\n",
       "      <td>44610</td>\n",
       "    </tr>\n",
       "    <tr>\n",
       "      <th>1</th>\n",
       "      <td>0</td>\n",
       "      <td>0</td>\n",
       "      <td>0</td>\n",
       "      <td>0</td>\n",
       "      <td>0</td>\n",
       "      <td>0</td>\n",
       "      <td>0</td>\n",
       "      <td>0</td>\n",
       "      <td>0</td>\n",
       "      <td>0</td>\n",
       "      <td>0</td>\n",
       "      <td>0</td>\n",
       "      <td>0</td>\n",
       "      <td>0</td>\n",
       "      <td>0</td>\n",
       "      <td>0</td>\n",
       "      <td>1</td>\n",
       "      <td>1</td>\n",
       "      <td>0</td>\n",
       "      <td>0</td>\n",
       "      <td>0</td>\n",
       "      <td>0</td>\n",
       "      <td>0</td>\n",
       "      <td>0</td>\n",
       "      <td>0</td>\n",
       "      <td>0</td>\n",
       "      <td>0</td>\n",
       "      <td>0</td>\n",
       "      <td>0</td>\n",
       "      <td>0</td>\n",
       "      <td>0</td>\n",
       "      <td>0</td>\n",
       "      <td>0</td>\n",
       "      <td>0</td>\n",
       "      <td>0</td>\n",
       "      <td>0</td>\n",
       "      <td>0</td>\n",
       "      <td>0</td>\n",
       "      <td>0</td>\n",
       "      <td>0</td>\n",
       "      <td>0</td>\n",
       "      <td>0</td>\n",
       "      <td>0</td>\n",
       "      <td>0</td>\n",
       "      <td>0</td>\n",
       "      <td>0</td>\n",
       "      <td>0</td>\n",
       "      <td>0</td>\n",
       "      <td>0</td>\n",
       "      <td>0</td>\n",
       "      <td>1</td>\n",
       "      <td>0</td>\n",
       "      <td>0</td>\n",
       "      <td>0</td>\n",
       "      <td>0</td>\n",
       "      <td>0</td>\n",
       "      <td>0</td>\n",
       "      <td>0</td>\n",
       "      <td>0</td>\n",
       "      <td>0</td>\n",
       "      <td>0</td>\n",
       "      <td>0</td>\n",
       "      <td>0</td>\n",
       "      <td>0</td>\n",
       "      <td>0</td>\n",
       "      <td>0</td>\n",
       "      <td>0</td>\n",
       "      <td>0</td>\n",
       "      <td>0</td>\n",
       "      <td>0</td>\n",
       "      <td>0</td>\n",
       "      <td>0</td>\n",
       "      <td>0</td>\n",
       "      <td>41505</td>\n",
       "    </tr>\n",
       "    <tr>\n",
       "      <th>2</th>\n",
       "      <td>0</td>\n",
       "      <td>0</td>\n",
       "      <td>0</td>\n",
       "      <td>0</td>\n",
       "      <td>0</td>\n",
       "      <td>0</td>\n",
       "      <td>0</td>\n",
       "      <td>0</td>\n",
       "      <td>0</td>\n",
       "      <td>0</td>\n",
       "      <td>0</td>\n",
       "      <td>0</td>\n",
       "      <td>1</td>\n",
       "      <td>0</td>\n",
       "      <td>0</td>\n",
       "      <td>0</td>\n",
       "      <td>0</td>\n",
       "      <td>0</td>\n",
       "      <td>0</td>\n",
       "      <td>0</td>\n",
       "      <td>0</td>\n",
       "      <td>0</td>\n",
       "      <td>0</td>\n",
       "      <td>0</td>\n",
       "      <td>0</td>\n",
       "      <td>0</td>\n",
       "      <td>0</td>\n",
       "      <td>0</td>\n",
       "      <td>0</td>\n",
       "      <td>0</td>\n",
       "      <td>0</td>\n",
       "      <td>0</td>\n",
       "      <td>0</td>\n",
       "      <td>1</td>\n",
       "      <td>0</td>\n",
       "      <td>0</td>\n",
       "      <td>0</td>\n",
       "      <td>0</td>\n",
       "      <td>0</td>\n",
       "      <td>0</td>\n",
       "      <td>0</td>\n",
       "      <td>0</td>\n",
       "      <td>0</td>\n",
       "      <td>0</td>\n",
       "      <td>0</td>\n",
       "      <td>0</td>\n",
       "      <td>0</td>\n",
       "      <td>0</td>\n",
       "      <td>0</td>\n",
       "      <td>1</td>\n",
       "      <td>0</td>\n",
       "      <td>0</td>\n",
       "      <td>0</td>\n",
       "      <td>0</td>\n",
       "      <td>0</td>\n",
       "      <td>0</td>\n",
       "      <td>0</td>\n",
       "      <td>0</td>\n",
       "      <td>0</td>\n",
       "      <td>0</td>\n",
       "      <td>0</td>\n",
       "      <td>0</td>\n",
       "      <td>0</td>\n",
       "      <td>0</td>\n",
       "      <td>0</td>\n",
       "      <td>0</td>\n",
       "      <td>0</td>\n",
       "      <td>0</td>\n",
       "      <td>0</td>\n",
       "      <td>0</td>\n",
       "      <td>0</td>\n",
       "      <td>0</td>\n",
       "      <td>0</td>\n",
       "      <td>58890</td>\n",
       "    </tr>\n",
       "    <tr>\n",
       "      <th>3</th>\n",
       "      <td>0</td>\n",
       "      <td>0</td>\n",
       "      <td>0</td>\n",
       "      <td>0</td>\n",
       "      <td>0</td>\n",
       "      <td>0</td>\n",
       "      <td>0</td>\n",
       "      <td>0</td>\n",
       "      <td>0</td>\n",
       "      <td>0</td>\n",
       "      <td>0</td>\n",
       "      <td>0</td>\n",
       "      <td>1</td>\n",
       "      <td>0</td>\n",
       "      <td>0</td>\n",
       "      <td>0</td>\n",
       "      <td>0</td>\n",
       "      <td>0</td>\n",
       "      <td>0</td>\n",
       "      <td>0</td>\n",
       "      <td>0</td>\n",
       "      <td>0</td>\n",
       "      <td>0</td>\n",
       "      <td>0</td>\n",
       "      <td>0</td>\n",
       "      <td>0</td>\n",
       "      <td>0</td>\n",
       "      <td>0</td>\n",
       "      <td>0</td>\n",
       "      <td>0</td>\n",
       "      <td>0</td>\n",
       "      <td>0</td>\n",
       "      <td>0</td>\n",
       "      <td>0</td>\n",
       "      <td>0</td>\n",
       "      <td>0</td>\n",
       "      <td>0</td>\n",
       "      <td>0</td>\n",
       "      <td>0</td>\n",
       "      <td>0</td>\n",
       "      <td>0</td>\n",
       "      <td>0</td>\n",
       "      <td>0</td>\n",
       "      <td>0</td>\n",
       "      <td>0</td>\n",
       "      <td>0</td>\n",
       "      <td>0</td>\n",
       "      <td>0</td>\n",
       "      <td>0</td>\n",
       "      <td>0</td>\n",
       "      <td>1</td>\n",
       "      <td>0</td>\n",
       "      <td>0</td>\n",
       "      <td>0</td>\n",
       "      <td>0</td>\n",
       "      <td>0</td>\n",
       "      <td>0</td>\n",
       "      <td>0</td>\n",
       "      <td>0</td>\n",
       "      <td>0</td>\n",
       "      <td>0</td>\n",
       "      <td>0</td>\n",
       "      <td>0</td>\n",
       "      <td>0</td>\n",
       "      <td>0</td>\n",
       "      <td>0</td>\n",
       "      <td>0</td>\n",
       "      <td>0</td>\n",
       "      <td>0</td>\n",
       "      <td>0</td>\n",
       "      <td>0</td>\n",
       "      <td>0</td>\n",
       "      <td>0</td>\n",
       "      <td>51055</td>\n",
       "    </tr>\n",
       "    <tr>\n",
       "      <th>4</th>\n",
       "      <td>0</td>\n",
       "      <td>0</td>\n",
       "      <td>0</td>\n",
       "      <td>0</td>\n",
       "      <td>0</td>\n",
       "      <td>0</td>\n",
       "      <td>0</td>\n",
       "      <td>0</td>\n",
       "      <td>0</td>\n",
       "      <td>0</td>\n",
       "      <td>0</td>\n",
       "      <td>0</td>\n",
       "      <td>0</td>\n",
       "      <td>1</td>\n",
       "      <td>0</td>\n",
       "      <td>0</td>\n",
       "      <td>0</td>\n",
       "      <td>0</td>\n",
       "      <td>0</td>\n",
       "      <td>0</td>\n",
       "      <td>0</td>\n",
       "      <td>0</td>\n",
       "      <td>0</td>\n",
       "      <td>0</td>\n",
       "      <td>0</td>\n",
       "      <td>0</td>\n",
       "      <td>0</td>\n",
       "      <td>0</td>\n",
       "      <td>0</td>\n",
       "      <td>0</td>\n",
       "      <td>0</td>\n",
       "      <td>0</td>\n",
       "      <td>0</td>\n",
       "      <td>1</td>\n",
       "      <td>0</td>\n",
       "      <td>0</td>\n",
       "      <td>0</td>\n",
       "      <td>0</td>\n",
       "      <td>0</td>\n",
       "      <td>0</td>\n",
       "      <td>0</td>\n",
       "      <td>0</td>\n",
       "      <td>0</td>\n",
       "      <td>0</td>\n",
       "      <td>0</td>\n",
       "      <td>0</td>\n",
       "      <td>0</td>\n",
       "      <td>0</td>\n",
       "      <td>0</td>\n",
       "      <td>0</td>\n",
       "      <td>0</td>\n",
       "      <td>0</td>\n",
       "      <td>0</td>\n",
       "      <td>1</td>\n",
       "      <td>0</td>\n",
       "      <td>0</td>\n",
       "      <td>0</td>\n",
       "      <td>0</td>\n",
       "      <td>0</td>\n",
       "      <td>0</td>\n",
       "      <td>0</td>\n",
       "      <td>0</td>\n",
       "      <td>0</td>\n",
       "      <td>0</td>\n",
       "      <td>0</td>\n",
       "      <td>0</td>\n",
       "      <td>0</td>\n",
       "      <td>0</td>\n",
       "      <td>0</td>\n",
       "      <td>0</td>\n",
       "      <td>0</td>\n",
       "      <td>0</td>\n",
       "      <td>0</td>\n",
       "      <td>70830</td>\n",
       "    </tr>\n",
       "  </tbody>\n",
       "</table>\n",
       "</div>"
      ],
      "text/plain": [
       "   main_S60_1  main_S60_2  main_type_SP100D  main_type_S60D_1  \\\n",
       "0           0           0                 0                 0   \n",
       "1           0           0                 0                 0   \n",
       "2           0           0                 0                 0   \n",
       "3           0           0                 0                 0   \n",
       "4           0           0                 0                 0   \n",
       "\n",
       "   main_type_S60D_2  main_type_S70  main_type_S70D  main_type_S75  \\\n",
       "0                 0              1               0              0   \n",
       "1                 0              0               0              0   \n",
       "2                 0              0               0              0   \n",
       "3                 0              0               0              0   \n",
       "4                 0              0               0              0   \n",
       "\n",
       "   main_type_S75D  main_type_S80  main_type_S80D  main_type_S85  \\\n",
       "0               0              0               0              0   \n",
       "1               0              0               0              0   \n",
       "2               0              0               0              0   \n",
       "3               0              0               0              0   \n",
       "4               0              0               0              0   \n",
       "\n",
       "   main_type_S85P  main_type_P85D  main_type_S90  main_type_S90D  \\\n",
       "0               0               0              0               0   \n",
       "1               0               0              0               0   \n",
       "2               1               0              0               0   \n",
       "3               1               0              0               0   \n",
       "4               0               1              0               0   \n",
       "\n",
       "   main_type_S100D  engine_A  engine_B  engine_C  engine_D  engine_E  \\\n",
       "0                0         0         0         0         0         0   \n",
       "1                1         1         0         0         0         0   \n",
       "2                0         0         0         0         0         0   \n",
       "3                0         0         0         0         0         0   \n",
       "4                0         0         0         0         0         0   \n",
       "\n",
       "   engine_F  engine_G  engine_H  engine_I  engine_J  engine_K  engine_L  \\\n",
       "0         0         0         0         0         0         0         0   \n",
       "1         0         0         0         0         0         0         0   \n",
       "2         0         0         0         0         0         0         0   \n",
       "3         0         0         0         0         0         0         0   \n",
       "4         0         0         0         0         0         0         0   \n",
       "\n",
       "   engine_M  engine_N  engine_O  engine_P  engine_Q  engine_R  engine_S  \\\n",
       "0         0         0         0         0         0         0         0   \n",
       "1         0         0         0         0         0         0         0   \n",
       "2         0         0         0         0         1         0         0   \n",
       "3         0         0         0         0         0         0         0   \n",
       "4         0         0         0         0         1         0         0   \n",
       "\n",
       "   engine_T  engine_U  engine_V  engine_W  engine_X  engine_Y  engine_Z  \\\n",
       "0         0         0         0         0         0         0         0   \n",
       "1         0         0         0         0         0         0         0   \n",
       "2         0         0         0         0         0         0         0   \n",
       "3         0         0         0         0         0         0         0   \n",
       "4         0         0         0         0         0         0         0   \n",
       "\n",
       "   sales_1  sales_2  sales_3  sales_4  sales_5  sales_6  sales_7  sales_8  \\\n",
       "0        0        0        0        0        0        0        0        1   \n",
       "1        0        0        0        0        0        0        0        1   \n",
       "2        0        0        0        0        0        0        1        0   \n",
       "3        0        0        0        0        0        0        0        1   \n",
       "4        0        0        0        0        0        0        0        0   \n",
       "\n",
       "   sales_9  sales_10  sales_11  sales_12  sales_13  sales_14  sales_15  \\\n",
       "0        0         0         0         0         0         0         0   \n",
       "1        0         0         0         0         0         0         0   \n",
       "2        0         0         0         0         0         0         0   \n",
       "3        0         0         0         0         0         0         0   \n",
       "4        0         0         1         0         0         0         0   \n",
       "\n",
       "   sales_16  sales_17  sales_18  sales_19  sales_20  sales_21  sales_22  \\\n",
       "0         0         0         0         0         0         0         0   \n",
       "1         0         0         0         0         0         0         0   \n",
       "2         0         0         0         0         0         0         0   \n",
       "3         0         0         0         0         0         0         0   \n",
       "4         0         0         0         0         0         0         0   \n",
       "\n",
       "   sales_23  sales_24  sales_25  sales_26  sales_27  sales_28  sales_29  \\\n",
       "0         0         0         0         0         0         0         0   \n",
       "1         0         0         0         0         0         0         0   \n",
       "2         0         0         0         0         0         0         0   \n",
       "3         0         0         0         0         0         0         0   \n",
       "4         0         0         0         0         0         0         0   \n",
       "\n",
       "   sales_30   MSRP  \n",
       "0         0  44610  \n",
       "1         0  41505  \n",
       "2         0  58890  \n",
       "3         0  51055  \n",
       "4         0  70830  "
      ]
     },
     "execution_count": 8,
     "metadata": {},
     "output_type": "execute_result"
    }
   ],
   "source": [
    "df_sales = df_sales.drop(columns=['dealer_state','date'])\n",
    "print(df_sales.shape)\n",
    "df_sales.head()"
   ]
  },
  {
   "cell_type": "markdown",
   "metadata": {
    "id": "qqdkmnCodnNC"
   },
   "source": [
    "### Read in the CSV file containing the California sales data for Quarters 3 and 4\n",
    "\n",
    "The `'dealer_state'` and `'date'` columns have already been eliminated in this dataset, so you don't need to worry about them here. Examine the data's shape and first few rows."
   ]
  },
  {
   "cell_type": "code",
   "execution_count": 9,
   "metadata": {
    "id": "bJpTgHxAdnND"
   },
   "outputs": [
    {
     "name": "stdout",
     "output_type": "stream",
     "text": [
      "(6666, 74)\n",
      "Index(['main_S60_1', 'main_S60_2', 'main_type_SP100D', 'main_type_S60D_1',\n",
      "       'main_type_S60D_2', 'main_type_S70', 'main_type_S70D', 'main_type_S75',\n",
      "       'main_type_S75D', 'main_type_S80', 'main_type_S80D', 'main_type_S85',\n",
      "       'main_type_S85P', 'main_type_P85D', 'main_type_S90', 'main_type_S90D',\n",
      "       'main_type_S100D', 'engine_A', 'engine_B', 'engine_C', 'engine_D',\n",
      "       'engine_E', 'engine_F', 'engine_G', 'engine_H', 'engine_I', 'engine_J',\n",
      "       'engine_K', 'engine_L', 'engine_M', 'engine_N', 'engine_O', 'engine_P',\n",
      "       'engine_Q', 'engine_R', 'engine_S', 'engine_T', 'engine_U', 'engine_V',\n",
      "       'engine_W', 'engine_X', 'engine_Y', 'engine_Z', 'sales_1', 'sales_2',\n",
      "       'sales_3', 'sales_4', 'sales_5', 'sales_6', 'sales_7', 'sales_8',\n",
      "       'sales_9', 'sales_10', 'sales_11', 'sales_12', 'sales_13', 'sales_14',\n",
      "       'sales_15', 'sales_16', 'sales_17', 'sales_18', 'sales_19', 'sales_20',\n",
      "       'sales_21', 'sales_22', 'sales_23', 'sales_24', 'sales_25', 'sales_26',\n",
      "       'sales_27', 'sales_28', 'sales_29', 'sales_30', 'MSRP'],\n",
      "      dtype='object')\n"
     ]
    },
    {
     "data": {
      "text/html": [
       "<div>\n",
       "<style scoped>\n",
       "    .dataframe tbody tr th:only-of-type {\n",
       "        vertical-align: middle;\n",
       "    }\n",
       "\n",
       "    .dataframe tbody tr th {\n",
       "        vertical-align: top;\n",
       "    }\n",
       "\n",
       "    .dataframe thead th {\n",
       "        text-align: right;\n",
       "    }\n",
       "</style>\n",
       "<table border=\"1\" class=\"dataframe\">\n",
       "  <thead>\n",
       "    <tr style=\"text-align: right;\">\n",
       "      <th></th>\n",
       "      <th>main_S60_1</th>\n",
       "      <th>main_S60_2</th>\n",
       "      <th>main_type_SP100D</th>\n",
       "      <th>main_type_S60D_1</th>\n",
       "      <th>main_type_S60D_2</th>\n",
       "      <th>main_type_S70</th>\n",
       "      <th>main_type_S70D</th>\n",
       "      <th>main_type_S75</th>\n",
       "      <th>main_type_S75D</th>\n",
       "      <th>main_type_S80</th>\n",
       "      <th>main_type_S80D</th>\n",
       "      <th>main_type_S85</th>\n",
       "      <th>main_type_S85P</th>\n",
       "      <th>main_type_P85D</th>\n",
       "      <th>main_type_S90</th>\n",
       "      <th>main_type_S90D</th>\n",
       "      <th>main_type_S100D</th>\n",
       "      <th>engine_A</th>\n",
       "      <th>engine_B</th>\n",
       "      <th>engine_C</th>\n",
       "      <th>engine_D</th>\n",
       "      <th>engine_E</th>\n",
       "      <th>engine_F</th>\n",
       "      <th>engine_G</th>\n",
       "      <th>engine_H</th>\n",
       "      <th>engine_I</th>\n",
       "      <th>engine_J</th>\n",
       "      <th>engine_K</th>\n",
       "      <th>engine_L</th>\n",
       "      <th>engine_M</th>\n",
       "      <th>engine_N</th>\n",
       "      <th>engine_O</th>\n",
       "      <th>engine_P</th>\n",
       "      <th>engine_Q</th>\n",
       "      <th>engine_R</th>\n",
       "      <th>engine_S</th>\n",
       "      <th>engine_T</th>\n",
       "      <th>engine_U</th>\n",
       "      <th>engine_V</th>\n",
       "      <th>engine_W</th>\n",
       "      <th>engine_X</th>\n",
       "      <th>engine_Y</th>\n",
       "      <th>engine_Z</th>\n",
       "      <th>sales_1</th>\n",
       "      <th>sales_2</th>\n",
       "      <th>sales_3</th>\n",
       "      <th>sales_4</th>\n",
       "      <th>sales_5</th>\n",
       "      <th>sales_6</th>\n",
       "      <th>sales_7</th>\n",
       "      <th>sales_8</th>\n",
       "      <th>sales_9</th>\n",
       "      <th>sales_10</th>\n",
       "      <th>sales_11</th>\n",
       "      <th>sales_12</th>\n",
       "      <th>sales_13</th>\n",
       "      <th>sales_14</th>\n",
       "      <th>sales_15</th>\n",
       "      <th>sales_16</th>\n",
       "      <th>sales_17</th>\n",
       "      <th>sales_18</th>\n",
       "      <th>sales_19</th>\n",
       "      <th>sales_20</th>\n",
       "      <th>sales_21</th>\n",
       "      <th>sales_22</th>\n",
       "      <th>sales_23</th>\n",
       "      <th>sales_24</th>\n",
       "      <th>sales_25</th>\n",
       "      <th>sales_26</th>\n",
       "      <th>sales_27</th>\n",
       "      <th>sales_28</th>\n",
       "      <th>sales_29</th>\n",
       "      <th>sales_30</th>\n",
       "      <th>MSRP</th>\n",
       "    </tr>\n",
       "  </thead>\n",
       "  <tbody>\n",
       "    <tr>\n",
       "      <th>0</th>\n",
       "      <td>0</td>\n",
       "      <td>0</td>\n",
       "      <td>0</td>\n",
       "      <td>0</td>\n",
       "      <td>0</td>\n",
       "      <td>1</td>\n",
       "      <td>0</td>\n",
       "      <td>0</td>\n",
       "      <td>0</td>\n",
       "      <td>0</td>\n",
       "      <td>0</td>\n",
       "      <td>0</td>\n",
       "      <td>0</td>\n",
       "      <td>0</td>\n",
       "      <td>0</td>\n",
       "      <td>0</td>\n",
       "      <td>0</td>\n",
       "      <td>0</td>\n",
       "      <td>0</td>\n",
       "      <td>0</td>\n",
       "      <td>0</td>\n",
       "      <td>0</td>\n",
       "      <td>0</td>\n",
       "      <td>0</td>\n",
       "      <td>0</td>\n",
       "      <td>0</td>\n",
       "      <td>0</td>\n",
       "      <td>0</td>\n",
       "      <td>0</td>\n",
       "      <td>0</td>\n",
       "      <td>0</td>\n",
       "      <td>0</td>\n",
       "      <td>0</td>\n",
       "      <td>1</td>\n",
       "      <td>0</td>\n",
       "      <td>0</td>\n",
       "      <td>0</td>\n",
       "      <td>0</td>\n",
       "      <td>0</td>\n",
       "      <td>0</td>\n",
       "      <td>0</td>\n",
       "      <td>0</td>\n",
       "      <td>0</td>\n",
       "      <td>0</td>\n",
       "      <td>0</td>\n",
       "      <td>0</td>\n",
       "      <td>0</td>\n",
       "      <td>0</td>\n",
       "      <td>0</td>\n",
       "      <td>0</td>\n",
       "      <td>0</td>\n",
       "      <td>0</td>\n",
       "      <td>0</td>\n",
       "      <td>0</td>\n",
       "      <td>0</td>\n",
       "      <td>0</td>\n",
       "      <td>0</td>\n",
       "      <td>0</td>\n",
       "      <td>0</td>\n",
       "      <td>0</td>\n",
       "      <td>0</td>\n",
       "      <td>0</td>\n",
       "      <td>0</td>\n",
       "      <td>0</td>\n",
       "      <td>0</td>\n",
       "      <td>0</td>\n",
       "      <td>1</td>\n",
       "      <td>0</td>\n",
       "      <td>0</td>\n",
       "      <td>0</td>\n",
       "      <td>0</td>\n",
       "      <td>0</td>\n",
       "      <td>0</td>\n",
       "      <td>51355</td>\n",
       "    </tr>\n",
       "    <tr>\n",
       "      <th>1</th>\n",
       "      <td>0</td>\n",
       "      <td>0</td>\n",
       "      <td>0</td>\n",
       "      <td>0</td>\n",
       "      <td>0</td>\n",
       "      <td>0</td>\n",
       "      <td>0</td>\n",
       "      <td>0</td>\n",
       "      <td>0</td>\n",
       "      <td>0</td>\n",
       "      <td>0</td>\n",
       "      <td>0</td>\n",
       "      <td>0</td>\n",
       "      <td>1</td>\n",
       "      <td>0</td>\n",
       "      <td>0</td>\n",
       "      <td>0</td>\n",
       "      <td>0</td>\n",
       "      <td>0</td>\n",
       "      <td>0</td>\n",
       "      <td>0</td>\n",
       "      <td>0</td>\n",
       "      <td>0</td>\n",
       "      <td>0</td>\n",
       "      <td>0</td>\n",
       "      <td>0</td>\n",
       "      <td>0</td>\n",
       "      <td>0</td>\n",
       "      <td>0</td>\n",
       "      <td>0</td>\n",
       "      <td>0</td>\n",
       "      <td>0</td>\n",
       "      <td>0</td>\n",
       "      <td>1</td>\n",
       "      <td>0</td>\n",
       "      <td>0</td>\n",
       "      <td>0</td>\n",
       "      <td>0</td>\n",
       "      <td>0</td>\n",
       "      <td>0</td>\n",
       "      <td>0</td>\n",
       "      <td>0</td>\n",
       "      <td>0</td>\n",
       "      <td>0</td>\n",
       "      <td>0</td>\n",
       "      <td>0</td>\n",
       "      <td>0</td>\n",
       "      <td>0</td>\n",
       "      <td>0</td>\n",
       "      <td>0</td>\n",
       "      <td>0</td>\n",
       "      <td>0</td>\n",
       "      <td>0</td>\n",
       "      <td>1</td>\n",
       "      <td>0</td>\n",
       "      <td>0</td>\n",
       "      <td>0</td>\n",
       "      <td>0</td>\n",
       "      <td>0</td>\n",
       "      <td>0</td>\n",
       "      <td>0</td>\n",
       "      <td>0</td>\n",
       "      <td>0</td>\n",
       "      <td>0</td>\n",
       "      <td>0</td>\n",
       "      <td>0</td>\n",
       "      <td>0</td>\n",
       "      <td>0</td>\n",
       "      <td>0</td>\n",
       "      <td>0</td>\n",
       "      <td>0</td>\n",
       "      <td>0</td>\n",
       "      <td>0</td>\n",
       "      <td>71580</td>\n",
       "    </tr>\n",
       "    <tr>\n",
       "      <th>2</th>\n",
       "      <td>0</td>\n",
       "      <td>0</td>\n",
       "      <td>0</td>\n",
       "      <td>0</td>\n",
       "      <td>0</td>\n",
       "      <td>0</td>\n",
       "      <td>0</td>\n",
       "      <td>0</td>\n",
       "      <td>0</td>\n",
       "      <td>0</td>\n",
       "      <td>0</td>\n",
       "      <td>0</td>\n",
       "      <td>0</td>\n",
       "      <td>1</td>\n",
       "      <td>0</td>\n",
       "      <td>0</td>\n",
       "      <td>0</td>\n",
       "      <td>0</td>\n",
       "      <td>0</td>\n",
       "      <td>0</td>\n",
       "      <td>0</td>\n",
       "      <td>0</td>\n",
       "      <td>0</td>\n",
       "      <td>0</td>\n",
       "      <td>0</td>\n",
       "      <td>0</td>\n",
       "      <td>0</td>\n",
       "      <td>0</td>\n",
       "      <td>0</td>\n",
       "      <td>0</td>\n",
       "      <td>0</td>\n",
       "      <td>0</td>\n",
       "      <td>0</td>\n",
       "      <td>1</td>\n",
       "      <td>0</td>\n",
       "      <td>0</td>\n",
       "      <td>0</td>\n",
       "      <td>0</td>\n",
       "      <td>0</td>\n",
       "      <td>0</td>\n",
       "      <td>0</td>\n",
       "      <td>0</td>\n",
       "      <td>0</td>\n",
       "      <td>0</td>\n",
       "      <td>0</td>\n",
       "      <td>0</td>\n",
       "      <td>0</td>\n",
       "      <td>0</td>\n",
       "      <td>0</td>\n",
       "      <td>0</td>\n",
       "      <td>0</td>\n",
       "      <td>0</td>\n",
       "      <td>0</td>\n",
       "      <td>1</td>\n",
       "      <td>0</td>\n",
       "      <td>0</td>\n",
       "      <td>0</td>\n",
       "      <td>0</td>\n",
       "      <td>0</td>\n",
       "      <td>0</td>\n",
       "      <td>0</td>\n",
       "      <td>0</td>\n",
       "      <td>0</td>\n",
       "      <td>0</td>\n",
       "      <td>0</td>\n",
       "      <td>0</td>\n",
       "      <td>0</td>\n",
       "      <td>0</td>\n",
       "      <td>0</td>\n",
       "      <td>0</td>\n",
       "      <td>0</td>\n",
       "      <td>0</td>\n",
       "      <td>0</td>\n",
       "      <td>66790</td>\n",
       "    </tr>\n",
       "    <tr>\n",
       "      <th>3</th>\n",
       "      <td>0</td>\n",
       "      <td>0</td>\n",
       "      <td>0</td>\n",
       "      <td>0</td>\n",
       "      <td>0</td>\n",
       "      <td>0</td>\n",
       "      <td>0</td>\n",
       "      <td>0</td>\n",
       "      <td>0</td>\n",
       "      <td>0</td>\n",
       "      <td>0</td>\n",
       "      <td>0</td>\n",
       "      <td>0</td>\n",
       "      <td>1</td>\n",
       "      <td>0</td>\n",
       "      <td>0</td>\n",
       "      <td>0</td>\n",
       "      <td>0</td>\n",
       "      <td>0</td>\n",
       "      <td>0</td>\n",
       "      <td>0</td>\n",
       "      <td>0</td>\n",
       "      <td>0</td>\n",
       "      <td>0</td>\n",
       "      <td>0</td>\n",
       "      <td>0</td>\n",
       "      <td>0</td>\n",
       "      <td>0</td>\n",
       "      <td>0</td>\n",
       "      <td>0</td>\n",
       "      <td>0</td>\n",
       "      <td>0</td>\n",
       "      <td>0</td>\n",
       "      <td>1</td>\n",
       "      <td>0</td>\n",
       "      <td>0</td>\n",
       "      <td>0</td>\n",
       "      <td>0</td>\n",
       "      <td>0</td>\n",
       "      <td>0</td>\n",
       "      <td>0</td>\n",
       "      <td>0</td>\n",
       "      <td>0</td>\n",
       "      <td>0</td>\n",
       "      <td>0</td>\n",
       "      <td>0</td>\n",
       "      <td>0</td>\n",
       "      <td>0</td>\n",
       "      <td>0</td>\n",
       "      <td>0</td>\n",
       "      <td>0</td>\n",
       "      <td>0</td>\n",
       "      <td>0</td>\n",
       "      <td>1</td>\n",
       "      <td>0</td>\n",
       "      <td>0</td>\n",
       "      <td>0</td>\n",
       "      <td>0</td>\n",
       "      <td>0</td>\n",
       "      <td>0</td>\n",
       "      <td>0</td>\n",
       "      <td>0</td>\n",
       "      <td>0</td>\n",
       "      <td>0</td>\n",
       "      <td>0</td>\n",
       "      <td>0</td>\n",
       "      <td>0</td>\n",
       "      <td>0</td>\n",
       "      <td>0</td>\n",
       "      <td>0</td>\n",
       "      <td>0</td>\n",
       "      <td>0</td>\n",
       "      <td>0</td>\n",
       "      <td>72330</td>\n",
       "    </tr>\n",
       "    <tr>\n",
       "      <th>4</th>\n",
       "      <td>0</td>\n",
       "      <td>0</td>\n",
       "      <td>0</td>\n",
       "      <td>0</td>\n",
       "      <td>0</td>\n",
       "      <td>0</td>\n",
       "      <td>0</td>\n",
       "      <td>0</td>\n",
       "      <td>0</td>\n",
       "      <td>0</td>\n",
       "      <td>0</td>\n",
       "      <td>0</td>\n",
       "      <td>1</td>\n",
       "      <td>0</td>\n",
       "      <td>0</td>\n",
       "      <td>0</td>\n",
       "      <td>0</td>\n",
       "      <td>0</td>\n",
       "      <td>0</td>\n",
       "      <td>0</td>\n",
       "      <td>0</td>\n",
       "      <td>0</td>\n",
       "      <td>0</td>\n",
       "      <td>0</td>\n",
       "      <td>0</td>\n",
       "      <td>0</td>\n",
       "      <td>0</td>\n",
       "      <td>0</td>\n",
       "      <td>0</td>\n",
       "      <td>0</td>\n",
       "      <td>0</td>\n",
       "      <td>0</td>\n",
       "      <td>0</td>\n",
       "      <td>1</td>\n",
       "      <td>0</td>\n",
       "      <td>0</td>\n",
       "      <td>0</td>\n",
       "      <td>0</td>\n",
       "      <td>0</td>\n",
       "      <td>0</td>\n",
       "      <td>0</td>\n",
       "      <td>0</td>\n",
       "      <td>0</td>\n",
       "      <td>1</td>\n",
       "      <td>0</td>\n",
       "      <td>0</td>\n",
       "      <td>0</td>\n",
       "      <td>0</td>\n",
       "      <td>0</td>\n",
       "      <td>0</td>\n",
       "      <td>0</td>\n",
       "      <td>0</td>\n",
       "      <td>0</td>\n",
       "      <td>0</td>\n",
       "      <td>0</td>\n",
       "      <td>0</td>\n",
       "      <td>0</td>\n",
       "      <td>0</td>\n",
       "      <td>0</td>\n",
       "      <td>0</td>\n",
       "      <td>0</td>\n",
       "      <td>0</td>\n",
       "      <td>0</td>\n",
       "      <td>0</td>\n",
       "      <td>0</td>\n",
       "      <td>0</td>\n",
       "      <td>0</td>\n",
       "      <td>0</td>\n",
       "      <td>0</td>\n",
       "      <td>0</td>\n",
       "      <td>0</td>\n",
       "      <td>0</td>\n",
       "      <td>0</td>\n",
       "      <td>55370</td>\n",
       "    </tr>\n",
       "  </tbody>\n",
       "</table>\n",
       "</div>"
      ],
      "text/plain": [
       "   main_S60_1  main_S60_2  main_type_SP100D  main_type_S60D_1  \\\n",
       "0           0           0                 0                 0   \n",
       "1           0           0                 0                 0   \n",
       "2           0           0                 0                 0   \n",
       "3           0           0                 0                 0   \n",
       "4           0           0                 0                 0   \n",
       "\n",
       "   main_type_S60D_2  main_type_S70  main_type_S70D  main_type_S75  \\\n",
       "0                 0              1               0              0   \n",
       "1                 0              0               0              0   \n",
       "2                 0              0               0              0   \n",
       "3                 0              0               0              0   \n",
       "4                 0              0               0              0   \n",
       "\n",
       "   main_type_S75D  main_type_S80  main_type_S80D  main_type_S85  \\\n",
       "0               0              0               0              0   \n",
       "1               0              0               0              0   \n",
       "2               0              0               0              0   \n",
       "3               0              0               0              0   \n",
       "4               0              0               0              0   \n",
       "\n",
       "   main_type_S85P  main_type_P85D  main_type_S90  main_type_S90D  \\\n",
       "0               0               0              0               0   \n",
       "1               0               1              0               0   \n",
       "2               0               1              0               0   \n",
       "3               0               1              0               0   \n",
       "4               1               0              0               0   \n",
       "\n",
       "   main_type_S100D  engine_A  engine_B  engine_C  engine_D  engine_E  \\\n",
       "0                0         0         0         0         0         0   \n",
       "1                0         0         0         0         0         0   \n",
       "2                0         0         0         0         0         0   \n",
       "3                0         0         0         0         0         0   \n",
       "4                0         0         0         0         0         0   \n",
       "\n",
       "   engine_F  engine_G  engine_H  engine_I  engine_J  engine_K  engine_L  \\\n",
       "0         0         0         0         0         0         0         0   \n",
       "1         0         0         0         0         0         0         0   \n",
       "2         0         0         0         0         0         0         0   \n",
       "3         0         0         0         0         0         0         0   \n",
       "4         0         0         0         0         0         0         0   \n",
       "\n",
       "   engine_M  engine_N  engine_O  engine_P  engine_Q  engine_R  engine_S  \\\n",
       "0         0         0         0         0         1         0         0   \n",
       "1         0         0         0         0         1         0         0   \n",
       "2         0         0         0         0         1         0         0   \n",
       "3         0         0         0         0         1         0         0   \n",
       "4         0         0         0         0         1         0         0   \n",
       "\n",
       "   engine_T  engine_U  engine_V  engine_W  engine_X  engine_Y  engine_Z  \\\n",
       "0         0         0         0         0         0         0         0   \n",
       "1         0         0         0         0         0         0         0   \n",
       "2         0         0         0         0         0         0         0   \n",
       "3         0         0         0         0         0         0         0   \n",
       "4         0         0         0         0         0         0         0   \n",
       "\n",
       "   sales_1  sales_2  sales_3  sales_4  sales_5  sales_6  sales_7  sales_8  \\\n",
       "0        0        0        0        0        0        0        0        0   \n",
       "1        0        0        0        0        0        0        0        0   \n",
       "2        0        0        0        0        0        0        0        0   \n",
       "3        0        0        0        0        0        0        0        0   \n",
       "4        1        0        0        0        0        0        0        0   \n",
       "\n",
       "   sales_9  sales_10  sales_11  sales_12  sales_13  sales_14  sales_15  \\\n",
       "0        0         0         0         0         0         0         0   \n",
       "1        0         0         1         0         0         0         0   \n",
       "2        0         0         1         0         0         0         0   \n",
       "3        0         0         1         0         0         0         0   \n",
       "4        0         0         0         0         0         0         0   \n",
       "\n",
       "   sales_16  sales_17  sales_18  sales_19  sales_20  sales_21  sales_22  \\\n",
       "0         0         0         0         0         0         0         0   \n",
       "1         0         0         0         0         0         0         0   \n",
       "2         0         0         0         0         0         0         0   \n",
       "3         0         0         0         0         0         0         0   \n",
       "4         0         0         0         0         0         0         0   \n",
       "\n",
       "   sales_23  sales_24  sales_25  sales_26  sales_27  sales_28  sales_29  \\\n",
       "0         0         1         0         0         0         0         0   \n",
       "1         0         0         0         0         0         0         0   \n",
       "2         0         0         0         0         0         0         0   \n",
       "3         0         0         0         0         0         0         0   \n",
       "4         0         0         0         0         0         0         0   \n",
       "\n",
       "   sales_30   MSRP  \n",
       "0         0  51355  \n",
       "1         0  71580  \n",
       "2         0  66790  \n",
       "3         0  72330  \n",
       "4         0  55370  "
      ]
     },
     "execution_count": 9,
     "metadata": {},
     "output_type": "execute_result"
    }
   ],
   "source": [
    "# my copy of the Tesla sales data is located in my drive at /Datasets/week_1/\n",
    "df_pred = pd.read_csv('sales_Q34_2019.csv')\n",
    "print(np.shape(df_pred))\n",
    "print(df_pred.columns)\n",
    "df_pred.head()"
   ]
  },
  {
   "cell_type": "markdown",
   "metadata": {
    "id": "kcmsU-T1dnNF"
   },
   "source": [
    "### Set up a regression problem that uses car IDs to predict proportion of # sold. \n",
    "\n",
    "You've probably noticed that 73 of the 74 columns in our Q12 and Q34 datasets\n",
    "are one-hot-encoded representations of the car's `'main_type'`, `'engine'`, and \n",
    "`'sales_version'` values. This could be viewed as a unique ID for each type of car. You've probably also noticed that the final column is \n",
    "the car's `'MSRP'`, or manufacturer's (Tesla's, in this case) suggested retail price. You could do several things with this data--we're asking you to fit a model of the **proportion of cars sold** based on the unique ID. You'll fit the model on Q12 data and test it on Q34 data. We won't use MSRP.\n",
    "\n",
    "Each row in the dataset represents the sale of a single car. So, we can count up\n",
    "the number of rows with a particular ID, and this gives us the number of times that specific type of car was sold in California during that time period. This number divided by the total number sold is the proportion of sales attributed to this particular type of car.\n",
    "\n",
    "<!-- \n",
    "\n",
    "\n",
    "Consolidate data by finding numbers of unique car combinations sold for training and test data sets\n",
    "\n",
    "\n",
    "\n",
    "However, each row represents the sale of a single car. If we define a unique car type by its combination of `'main_type'`, `'engine'`, and `'sales_version'` values, the number of rows displaying that combination corresponds to the number of times during that half of the year that that distinct type of car was sold in California. Therefore, we can make training and test datasets where each row now corresponds to a unique car type, and the target value is how many times that car type was sold in California during a given half of the year.\n",
    "\n",
    "## This task requires data wrangling!\n",
    "## Create functions that read the Q12 (df_sales) and Q34 (df_pred) data sets and create train_X, train_Y, test_X and test_Y, respectively. Use pandas and NumPy as needed. -->\n",
    "\n",
    "**Create a Python function called ``get_features_and_targets`` that takes in a quarterly sales dataframe and produces matrices $\\mathbf{X}$ and $\\mathbf{Y}$, where $\\mathbf{X}$ has in each row a unique car ID and the corresponding row of $\\mathbf{Y}$ has that specific car's proportion of total sales for the quarter**"
   ]
  },
  {
   "cell_type": "code",
   "execution_count": 10,
   "metadata": {
    "id": "Mo5c3VhBkB33"
   },
   "outputs": [],
   "source": [
    "def get_features_and_targets(df):\n",
    "    temp=df.groupby(list(df.columns[:-1]), as_index=False).size()\n",
    "    temp.rename(columns={'size':'proportion'}, inplace=True)\n",
    "    temp['proportion']=temp['proportion']/df.shape[0]\n",
    "    X=temp.iloc[:,:-1]\n",
    "    Y=temp.iloc[:,-1]\n",
    "    return X, Y\n",
    "  # YOUR CODE HERE"
   ]
  },
  {
   "cell_type": "markdown",
   "metadata": {
    "id": "toTX3W89fX2P"
   },
   "source": [
    "### Use your function to create $\\mathbf{X}$, $\\mathbf{Y}$, pairs for both the training data and the test data:"
   ]
  },
  {
   "cell_type": "code",
   "execution_count": 11,
   "metadata": {
    "id": "Rf6Vj0ujhJ77"
   },
   "outputs": [
    {
     "name": "stdout",
     "output_type": "stream",
     "text": [
      "(66, 73)\n",
      "Number of unique cars in Q12 = 66\n",
      "Number of unique cars in Q34 = 71\n"
     ]
    }
   ],
   "source": [
    "train_X, train_Y = get_features_and_targets(df_sales)\n",
    "test_X, test_Y = get_features_and_targets(df_pred)\n",
    "print(np.shape(train_X))\n",
    "print(f\"Number of unique cars in Q12 = {len(train_Y)}\")\n",
    "print(f\"Number of unique cars in Q34 = {len(test_Y)}\")"
   ]
  },
  {
   "cell_type": "markdown",
   "metadata": {
    "id": "8d7BSjsQdnNV"
   },
   "source": [
    "Okay, so let's note that the Q12 and Q34 datasets contain differing numbers of distinct cars. Clearly, some new models were introduced by Q3, but were any discontinued by the end of Q2? Let's find out."
   ]
  },
  {
   "cell_type": "markdown",
   "metadata": {
    "id": "y7Z-Trs9o821"
   },
   "source": [
    "Print the number of cars that were sold in either Q12 or Q34, or both. In mathematical notation, if the set of cars sold in Q12 is $\\mathcal{A}$ and the set of cars sold in Q34 is $\\mathcal{B}$, we're asking for the size of the *union* of these two sets $|\\mathcal{A} \\cup \\mathcal{B}|$. The notation $|\\cdot|$ indicates measurement of the size of a set, the number of distinct items. (Mathematicians usually refer to it as the *cardinality*)"
   ]
  },
  {
   "cell_type": "code",
   "execution_count": 12,
   "metadata": {
    "id": "KOEhFSxin_te"
   },
   "outputs": [
    {
     "name": "stdout",
     "output_type": "stream",
     "text": [
      "Number of unique cars sold = 80\n"
     ]
    }
   ],
   "source": [
    "## YOUR CODE HERE\n",
    "total=pd.concat([df_sales, df_pred])\n",
    "total_x, total_Y = get_features_and_targets(total)\n",
    "print(f\"Number of unique cars sold = {len(total_x)}\")"
   ]
  },
  {
   "cell_type": "markdown",
   "metadata": {
    "id": "8KgAprxHqcv2"
   },
   "source": [
    "A handy little fact from set theory is that $|\\mathcal{A} \\cup \\mathcal{B}| = |\\mathcal{A}| + |\\mathcal{B}| - |\\mathcal{A} \\cap \\mathcal{B}|$, where $\\cap$ is the *intersection* of $\\mathcal{A}$ and $\\mathcal{B}$, things that are in **both** $\\mathcal{A}$ and $\\mathcal{B}$. Use this fact, and what you've computed above, to print the number of models that were sold in both Q12 and Q34."
   ]
  },
  {
   "cell_type": "code",
   "execution_count": 13,
   "metadata": {
    "id": "56A3357NswMG"
   },
   "outputs": [
    {
     "name": "stdout",
     "output_type": "stream",
     "text": [
      "Number of unique cars sold in both Q12 and Q34 = 57\n"
     ]
    }
   ],
   "source": [
    "## YOUR CODE HERE\n",
    "print(f\"Number of unique cars sold in both Q12 and Q34 = {len(train_Y) + len(test_Y)-len(total_Y)}\")"
   ]
  },
  {
   "cell_type": "markdown",
   "metadata": {
    "id": "clPi1NVCunoy"
   },
   "source": [
    "How many cars that were sold in Q12 were discontinued by Q34?"
   ]
  },
  {
   "cell_type": "code",
   "execution_count": 14,
   "metadata": {
    "colab": {
     "base_uri": "https://localhost:8080/"
    },
    "executionInfo": {
     "elapsed": 12,
     "status": "ok",
     "timestamp": 1627687607185,
     "user": {
      "displayName": "Spencer Kent",
      "photoUrl": "",
      "userId": "07841346171340846448"
     },
     "user_tz": 420
    },
    "id": "VmMdZNuzu5Z-",
    "outputId": "cf6cf2d7-1b6c-472a-c1d7-dfd5fa885816"
   },
   "outputs": [
    {
     "name": "stdout",
     "output_type": "stream",
     "text": [
      "Number of unique cars discontinued in Q34 = 9\n"
     ]
    }
   ],
   "source": [
    "## YOUR CODE HERE\n",
    "print(f\"Number of unique cars discontinued in Q34 = {len(total_Y)-len(test_Y)}\")"
   ]
  },
  {
   "cell_type": "markdown",
   "metadata": {
    "id": "04zz5QOkvtij"
   },
   "source": [
    "How many cars were launched in Q34?"
   ]
  },
  {
   "cell_type": "code",
   "execution_count": 15,
   "metadata": {
    "id": "stRzG8THvyeA"
   },
   "outputs": [
    {
     "name": "stdout",
     "output_type": "stream",
     "text": [
      "Number of unique cars launched in Q34 = 14\n"
     ]
    }
   ],
   "source": [
    "## YOUR CODE HERE\n",
    "print(f\"Number of unique cars launched in Q34 = {len(total_Y)-len(train_Y)}\")"
   ]
  },
  {
   "cell_type": "markdown",
   "metadata": {
    "id": "3qn6SNBNdnNb"
   },
   "source": [
    "# Task 2: Visualize the training and test targets any way you see fit"
   ]
  },
  {
   "cell_type": "markdown",
   "metadata": {
    "id": "OzsF0PfoyoyS"
   },
   "source": [
    "This is super open-ended and we're not expecting a particular visualization, just show us what comes comes to your mind!"
   ]
  },
  {
   "cell_type": "code",
   "execution_count": 18,
   "metadata": {},
   "outputs": [],
   "source": [
    "sales_1Q = df_sales.groupby(list(df_sales.columns[:-1])).size().reset_index(name='Count')  # https://stackoverflow.com/questions/36018851/pandas-counting-unique-rows\n",
    "sales_3Q=df_pred.groupby(list(df_pred.columns[:-1])).size().reset_index(name='Count')"
   ]
  },
  {
   "cell_type": "markdown",
   "metadata": {},
   "source": [
    "import plotly.offline as pyo\n",
    "import plotly.graph_objs as go\n",
    "import matplotlib.pyplot as plt\n",
    "import plotly.express as px\n",
    "trace1=go.Bar(\n",
    "x=sales_1Q.index,\n",
    "y=sales_1Q['Count'], name='Sales12Q',)\n",
    "\n",
    "trace2=go.Bar(\n",
    "x=sales_3Q.index,\n",
    "y=sales_3Q['Count'],name='Sales34Q',)\n",
    "\n",
    "data = [trace1, trace2]\n",
    "layout = go.Layout(\n",
    "title=''\n",
    ")\n",
    "fig = go.Figure(data=data, layout=layout)\n",
    "#pyo.plot(fig)\n",
    "fig.show()"
   ]
  },
  {
   "cell_type": "markdown",
   "metadata": {
    "id": "9g-2fwgydnNh"
   },
   "source": [
    "# Task 3: Fit a linear model with gradient descent"
   ]
  },
  {
   "cell_type": "markdown",
   "metadata": {
    "id": "oriL0PcVOlw-"
   },
   "source": [
    "Set hyperparameters for learning rate and maximum number of iterations through the training data."
   ]
  },
  {
   "cell_type": "code",
   "execution_count": 19,
   "metadata": {
    "id": "QKIv3936OfVk"
   },
   "outputs": [],
   "source": [
    "# these are good starting values, you can play around with them though\n",
    "s_learning_rate = 0.001\n",
    "s_max_iteration = 1000"
   ]
  },
  {
   "cell_type": "markdown",
   "metadata": {
    "id": "Lx-wS125dnNk"
   },
   "source": [
    "### Hypothesis Function\n",
    "\n",
    "Define your hypothesis function $h(\\cdot)$ (which you use to make predictions $\\hat{\\mathbf{Y}}$ as the matrix product of your feature data $\\mathbf{X}$ and parameters $\\boldsymbol{\\theta}$. $\\boldsymbol{\\theta}$, which you'll initialize in the training loop (below) is a column vector, one for every feature in the training data, plus one for bias."
   ]
  },
  {
   "cell_type": "code",
   "execution_count": 20,
   "metadata": {
    "id": "SI8oTUQsdnNk"
   },
   "outputs": [],
   "source": [
    "# Define your hypothesis function according to the instructions above\n",
    "def h(theta, X):\n",
    "    Y_hat=np.dot(X, theta)\n",
    "    return np.dot(X, theta)\n",
    "  ## YOUR CODE HERE"
   ]
  },
  {
   "cell_type": "markdown",
   "metadata": {
    "id": "7LW5F5uhdnNm"
   },
   "source": [
    "Define your loss function as **half** the MSE (mean squared error) between your actual and predicted $\\mathbf{Y}$ values. \n",
    "\n",
    "Recall that the predicted $\\mathbf{Y}$ values, $\\hat{\\mathbf{Y}}$, are a function of $\\boldsymbol{\\theta}$ and $\\mathbf{X}$.\n"
   ]
  },
  {
   "cell_type": "code",
   "execution_count": 21,
   "metadata": {
    "id": "KzRpZec4dnNm"
   },
   "outputs": [],
   "source": [
    "# Loss Function\n",
    "def loss (theta, X, Y) :\n",
    "    #Y_hat=X.dot(theta)#np.dot(X, theta)\n",
    "    Y_hat=h(theta, X)\n",
    "    return 0.5.np.mean(Y-Y_hat)**2\n",
    "  ## YOUR CODE HERE\n",
    "    "
   ]
  },
  {
   "cell_type": "markdown",
   "metadata": {
    "id": "PCLgRXivdnNp"
   },
   "source": [
    "### Gradient of Hypothesis Function\n",
    "\n",
    "One can verify through straightforward (if somewhat tedious) multivariable calculus that the gradient of the loss function $J$ with respect to the parameters $\\theta$ is \n",
    "\n",
    "$$ \\frac{\\partial J}{\\partial \\boldsymbol{\\theta}} = - \\frac{1}{m} X^T \\cdot (Y - \\hat{Y})$$\n",
    "\n",
    "Where $m$ is the number of data samples, the number of rows in $\\mathbf{X}$ and $\\mathbf{Y}$.\n",
    "\n",
    "Note that the $\\mathbf{X}$ here is the one that has been augmented with a bias column. \n",
    "\n",
    "Set up a function ``gradient`` to compute this gradient."
   ]
  },
  {
   "cell_type": "code",
   "execution_count": 22,
   "metadata": {
    "id": "3zYnvBa1dnNp"
   },
   "outputs": [],
   "source": [
    "def gradient (theta, X, Y) :\n",
    "    m, X= X.shape\n",
    "    return -1 * np.dot(X.T, Y - h(theta, X)) / X.shape[0]\n",
    "  ## YOUR CODE HERE\n"
   ]
  },
  {
   "cell_type": "markdown",
   "metadata": {
    "id": "fo-NxmSLdnNr"
   },
   "source": [
    "### Gradient Descent\n",
    "\n",
    "Complete the function ``stochastic_gradient_descent`` below, to train your linear regression model with gradient descent, i.e. calculate $\\frac{\\partial J}{\\partial \\theta}$ and update $\\theta$. Recall that the general gradient descent update formula is $\\theta := \\theta - \\alpha \\frac{\\partial J}{\\partial \\theta}$, with $\\alpha$ the stepsize. We've provided the skeleton of a stochastic gradient descent function, but you're welcome to experiment with batch and/or minibatch gradient descent. Also recall that the aforementioned gradient descent methods differ in how frequently they calculate $\\frac{\\partial J}{\\partial \\theta}$ and update $\\theta$. Notice in the first step we initialize $\\boldsymbol{\\theta}$ to all zeros and we temporarily prepend a column of $1$'s to the features, which corresponds to the bias parameter."
   ]
  },
  {
   "cell_type": "code",
   "execution_count": 34,
   "metadata": {
    "id": "g6hbmDgkdnNs"
   },
   "outputs": [],
   "source": [
    "def stochastic_gradient_descent(X, Y, learning_rate, max_iteration, print_interval):\n",
    "    theta = np.zeros((X.shape[1]+1, 1))\n",
    "    X_with_ones = np.hstack([np.ones([X.shape[0], 1]), X])  # prepend a column of 1s. This is just to make the math more compact, your original data is still X[:, 1:]\n",
    "  # Initialize the cost as an array of zeros, one for each iteration through the dataset\n",
    "    cost = np.zeros(max_iteration)\n",
    "  # Loop over the dataset\n",
    "    for i in range(max_iteration):\n",
    "    # Loop over each row in the dataset\n",
    "        for j in range(X.shape[0]):# Compute the gradient from the current row in X and the associated Y value\n",
    "      # Make sure that both X and Y are represented as 2D row vectors\n",
    "            X_2d=X_with_ones[j,:][None, :]\n",
    "            y_2d=Y[j,:][None, :]\n",
    "            grad=gradient(theta, X_2d, y_2d)\n",
    "        # Update theta\n",
    "            theta=theta-learning_rate*grad\n",
    "    # Update the cost array for the current iteration for each iteration\n",
    "    cost[i] = loss(theta, X_with_ones, Y)\n",
    "    if i % print_interval == 0 :\n",
    "        print('iteration : ', i, ' loss : ', loss(theta, X_with_ones, Y)) \n",
    "    return theta, cost"
   ]
  },
  {
   "cell_type": "code",
   "execution_count": 35,
   "metadata": {
    "id": "O084UJ8UdnNt"
   },
   "outputs": [
    {
     "ename": "KeyError",
     "evalue": "'key of type tuple not found and not a MultiIndex'",
     "output_type": "error",
     "traceback": [
      "\u001b[1;31m---------------------------------------------------------------------------\u001b[0m",
      "\u001b[1;31mKeyError\u001b[0m                                  Traceback (most recent call last)",
      "\u001b[1;32m<ipython-input-35-a4ea9320a688>\u001b[0m in \u001b[0;36m<module>\u001b[1;34m\u001b[0m\n\u001b[1;32m----> 1\u001b[1;33m \u001b[0ms_theta\u001b[0m\u001b[1;33m,\u001b[0m \u001b[0ms_cost\u001b[0m \u001b[1;33m=\u001b[0m \u001b[0mstochastic_gradient_descent\u001b[0m\u001b[1;33m(\u001b[0m\u001b[0mtrain_X\u001b[0m\u001b[1;33m,\u001b[0m \u001b[0mtrain_Y\u001b[0m\u001b[1;33m,\u001b[0m \u001b[0ms_learning_rate\u001b[0m\u001b[1;33m,\u001b[0m \u001b[0ms_max_iteration\u001b[0m\u001b[1;33m,\u001b[0m \u001b[1;36m100\u001b[0m\u001b[1;33m)\u001b[0m\u001b[1;33m\u001b[0m\u001b[1;33m\u001b[0m\u001b[0m\n\u001b[0m",
      "\u001b[1;32m<ipython-input-34-f0299c38fe8d>\u001b[0m in \u001b[0;36mstochastic_gradient_descent\u001b[1;34m(X, Y, learning_rate, max_iteration, print_interval)\u001b[0m\n\u001b[0;32m     10\u001b[0m       \u001b[1;31m# Make sure that both X and Y are represented as 2D row vectors\u001b[0m\u001b[1;33m\u001b[0m\u001b[1;33m\u001b[0m\u001b[1;33m\u001b[0m\u001b[0m\n\u001b[0;32m     11\u001b[0m             \u001b[0mX_2d\u001b[0m\u001b[1;33m=\u001b[0m\u001b[0mX_with_ones\u001b[0m\u001b[1;33m[\u001b[0m\u001b[0mj\u001b[0m\u001b[1;33m,\u001b[0m\u001b[1;33m:\u001b[0m\u001b[1;33m]\u001b[0m\u001b[1;33m[\u001b[0m\u001b[1;32mNone\u001b[0m\u001b[1;33m,\u001b[0m \u001b[1;33m:\u001b[0m\u001b[1;33m]\u001b[0m\u001b[1;33m\u001b[0m\u001b[1;33m\u001b[0m\u001b[0m\n\u001b[1;32m---> 12\u001b[1;33m             \u001b[0my_2d\u001b[0m\u001b[1;33m=\u001b[0m\u001b[0mY\u001b[0m\u001b[1;33m[\u001b[0m\u001b[0mj\u001b[0m\u001b[1;33m,\u001b[0m\u001b[1;33m:\u001b[0m\u001b[1;33m]\u001b[0m\u001b[1;33m[\u001b[0m\u001b[1;32mNone\u001b[0m\u001b[1;33m,\u001b[0m \u001b[1;33m:\u001b[0m\u001b[1;33m]\u001b[0m\u001b[1;33m\u001b[0m\u001b[1;33m\u001b[0m\u001b[0m\n\u001b[0m\u001b[0;32m     13\u001b[0m             \u001b[0mgrad\u001b[0m\u001b[1;33m=\u001b[0m\u001b[0mgradient\u001b[0m\u001b[1;33m(\u001b[0m\u001b[0mtheta\u001b[0m\u001b[1;33m,\u001b[0m \u001b[0mX_2d\u001b[0m\u001b[1;33m,\u001b[0m \u001b[0my_2d\u001b[0m\u001b[1;33m)\u001b[0m\u001b[1;33m\u001b[0m\u001b[1;33m\u001b[0m\u001b[0m\n\u001b[0;32m     14\u001b[0m         \u001b[1;31m# Update theta\u001b[0m\u001b[1;33m\u001b[0m\u001b[1;33m\u001b[0m\u001b[1;33m\u001b[0m\u001b[0m\n",
      "\u001b[1;32m~\\anaconda3\\lib\\site-packages\\pandas\\core\\series.py\u001b[0m in \u001b[0;36m__getitem__\u001b[1;34m(self, key)\u001b[0m\n\u001b[0;32m    846\u001b[0m             \u001b[1;32mreturn\u001b[0m \u001b[0mself\u001b[0m\u001b[1;33m.\u001b[0m\u001b[0m_get_values\u001b[0m\u001b[1;33m(\u001b[0m\u001b[0mkey\u001b[0m\u001b[1;33m)\u001b[0m\u001b[1;33m\u001b[0m\u001b[1;33m\u001b[0m\u001b[0m\n\u001b[0;32m    847\u001b[0m \u001b[1;33m\u001b[0m\u001b[0m\n\u001b[1;32m--> 848\u001b[1;33m         \u001b[1;32mreturn\u001b[0m \u001b[0mself\u001b[0m\u001b[1;33m.\u001b[0m\u001b[0m_get_with\u001b[0m\u001b[1;33m(\u001b[0m\u001b[0mkey\u001b[0m\u001b[1;33m)\u001b[0m\u001b[1;33m\u001b[0m\u001b[1;33m\u001b[0m\u001b[0m\n\u001b[0m\u001b[0;32m    849\u001b[0m \u001b[1;33m\u001b[0m\u001b[0m\n\u001b[0;32m    850\u001b[0m     \u001b[1;32mdef\u001b[0m \u001b[0m_get_with\u001b[0m\u001b[1;33m(\u001b[0m\u001b[0mself\u001b[0m\u001b[1;33m,\u001b[0m \u001b[0mkey\u001b[0m\u001b[1;33m)\u001b[0m\u001b[1;33m:\u001b[0m\u001b[1;33m\u001b[0m\u001b[1;33m\u001b[0m\u001b[0m\n",
      "\u001b[1;32m~\\anaconda3\\lib\\site-packages\\pandas\\core\\series.py\u001b[0m in \u001b[0;36m_get_with\u001b[1;34m(self, key)\u001b[0m\n\u001b[0;32m    861\u001b[0m             )\n\u001b[0;32m    862\u001b[0m         \u001b[1;32melif\u001b[0m \u001b[0misinstance\u001b[0m\u001b[1;33m(\u001b[0m\u001b[0mkey\u001b[0m\u001b[1;33m,\u001b[0m \u001b[0mtuple\u001b[0m\u001b[1;33m)\u001b[0m\u001b[1;33m:\u001b[0m\u001b[1;33m\u001b[0m\u001b[1;33m\u001b[0m\u001b[0m\n\u001b[1;32m--> 863\u001b[1;33m             \u001b[1;32mreturn\u001b[0m \u001b[0mself\u001b[0m\u001b[1;33m.\u001b[0m\u001b[0m_get_values_tuple\u001b[0m\u001b[1;33m(\u001b[0m\u001b[0mkey\u001b[0m\u001b[1;33m)\u001b[0m\u001b[1;33m\u001b[0m\u001b[1;33m\u001b[0m\u001b[0m\n\u001b[0m\u001b[0;32m    864\u001b[0m \u001b[1;33m\u001b[0m\u001b[0m\n\u001b[0;32m    865\u001b[0m         \u001b[1;32melif\u001b[0m \u001b[1;32mnot\u001b[0m \u001b[0mis_list_like\u001b[0m\u001b[1;33m(\u001b[0m\u001b[0mkey\u001b[0m\u001b[1;33m)\u001b[0m\u001b[1;33m:\u001b[0m\u001b[1;33m\u001b[0m\u001b[1;33m\u001b[0m\u001b[0m\n",
      "\u001b[1;32m~\\anaconda3\\lib\\site-packages\\pandas\\core\\series.py\u001b[0m in \u001b[0;36m_get_values_tuple\u001b[1;34m(self, key)\u001b[0m\n\u001b[0;32m    896\u001b[0m \u001b[1;33m\u001b[0m\u001b[0m\n\u001b[0;32m    897\u001b[0m         \u001b[1;32mif\u001b[0m \u001b[1;32mnot\u001b[0m \u001b[0misinstance\u001b[0m\u001b[1;33m(\u001b[0m\u001b[0mself\u001b[0m\u001b[1;33m.\u001b[0m\u001b[0mindex\u001b[0m\u001b[1;33m,\u001b[0m \u001b[0mMultiIndex\u001b[0m\u001b[1;33m)\u001b[0m\u001b[1;33m:\u001b[0m\u001b[1;33m\u001b[0m\u001b[1;33m\u001b[0m\u001b[0m\n\u001b[1;32m--> 898\u001b[1;33m             \u001b[1;32mraise\u001b[0m \u001b[0mKeyError\u001b[0m\u001b[1;33m(\u001b[0m\u001b[1;34m\"key of type tuple not found and not a MultiIndex\"\u001b[0m\u001b[1;33m)\u001b[0m\u001b[1;33m\u001b[0m\u001b[1;33m\u001b[0m\u001b[0m\n\u001b[0m\u001b[0;32m    899\u001b[0m \u001b[1;33m\u001b[0m\u001b[0m\n\u001b[0;32m    900\u001b[0m         \u001b[1;31m# If key is contained, would have returned by now\u001b[0m\u001b[1;33m\u001b[0m\u001b[1;33m\u001b[0m\u001b[1;33m\u001b[0m\u001b[0m\n",
      "\u001b[1;31mKeyError\u001b[0m: 'key of type tuple not found and not a MultiIndex'"
     ]
    }
   ],
   "source": [
    "s_theta, s_cost = stochastic_gradient_descent(train_X, train_Y, s_learning_rate, s_max_iteration, 100)"
   ]
  },
  {
   "cell_type": "code",
   "execution_count": 36,
   "metadata": {
    "id": "aoRR-pP8P2C2"
   },
   "outputs": [
    {
     "ename": "NameError",
     "evalue": "name 's_theta' is not defined",
     "output_type": "error",
     "traceback": [
      "\u001b[1;31m---------------------------------------------------------------------------\u001b[0m",
      "\u001b[1;31mNameError\u001b[0m                                 Traceback (most recent call last)",
      "\u001b[1;32m<ipython-input-36-196db6f62d2f>\u001b[0m in \u001b[0;36m<module>\u001b[1;34m\u001b[0m\n\u001b[1;32m----> 1\u001b[1;33m \u001b[0mplt\u001b[0m\u001b[1;33m.\u001b[0m\u001b[0mstem\u001b[0m\u001b[1;33m(\u001b[0m\u001b[0mnp\u001b[0m\u001b[1;33m.\u001b[0m\u001b[0msqueeze\u001b[0m\u001b[1;33m(\u001b[0m\u001b[0ms_theta\u001b[0m\u001b[1;33m)\u001b[0m\u001b[1;33m)\u001b[0m\u001b[1;33m\u001b[0m\u001b[1;33m\u001b[0m\u001b[0m\n\u001b[0m",
      "\u001b[1;31mNameError\u001b[0m: name 's_theta' is not defined"
     ]
    }
   ],
   "source": [
    "plt.stem(np.squeeze(s_theta))"
   ]
  },
  {
   "cell_type": "markdown",
   "metadata": {
    "id": "B6D2kqejdnNv"
   },
   "source": [
    "### Generate Predictions from Test Data"
   ]
  },
  {
   "cell_type": "code",
   "execution_count": null,
   "metadata": {
    "id": "m-u3iTbNdnNw"
   },
   "outputs": [],
   "source": [
    "# remember that s_theta should be applied to features that have a prepended column of 1's\n",
    "pred_Y_from_GD = h(s_theta, np.hstack([np.ones([test_X.shape[0], 1]), test_X]))\n",
    "# Set any negative predictions to 0\n",
    "pred_Y_from_GD[pred_Y_from_GD<0] = 0"
   ]
  },
  {
   "cell_type": "markdown",
   "metadata": {
    "id": "2ImYOho6dnNy"
   },
   "source": [
    "### Visualize the predicted and actual test labels"
   ]
  },
  {
   "cell_type": "code",
   "execution_count": 40,
   "metadata": {
    "id": "o3t83fxcr6dd"
   },
   "outputs": [],
   "source": [
    "from sklearn.metrics import mean_squared_error as MSE\n",
    "from sklearn.metrics import r2_score"
   ]
  },
  {
   "cell_type": "code",
   "execution_count": 41,
   "metadata": {
    "id": "Ljk24gJ4dnNy"
   },
   "outputs": [
    {
     "ename": "NameError",
     "evalue": "name 'pred_Y_from_GD' is not defined",
     "output_type": "error",
     "traceback": [
      "\u001b[1;31m---------------------------------------------------------------------------\u001b[0m",
      "\u001b[1;31mNameError\u001b[0m                                 Traceback (most recent call last)",
      "\u001b[1;32m<ipython-input-41-6dd5a882d8e0>\u001b[0m in \u001b[0;36m<module>\u001b[1;34m\u001b[0m\n\u001b[0;32m      1\u001b[0m \u001b[1;31m# compare predictions pred_Y_from_GD to test_Y. Report MSE and R^2 score\u001b[0m\u001b[1;33m\u001b[0m\u001b[1;33m\u001b[0m\u001b[1;33m\u001b[0m\u001b[0m\n\u001b[1;32m----> 2\u001b[1;33m \u001b[0mMSE\u001b[0m\u001b[1;33m(\u001b[0m\u001b[0mtest_Y\u001b[0m\u001b[1;33m,\u001b[0m \u001b[0mpred_Y_from_GD\u001b[0m\u001b[1;33m)\u001b[0m\u001b[1;33m\u001b[0m\u001b[1;33m\u001b[0m\u001b[0m\n\u001b[0m\u001b[0;32m      3\u001b[0m \u001b[0mr2_score\u001b[0m\u001b[1;33m(\u001b[0m\u001b[0mtest_Y\u001b[0m\u001b[1;33m,\u001b[0m \u001b[0mpred_Y_from_GD\u001b[0m\u001b[1;33m)\u001b[0m\u001b[1;33m\u001b[0m\u001b[1;33m\u001b[0m\u001b[0m\n\u001b[0;32m      4\u001b[0m \u001b[1;31m## YOUR CODE HERE\u001b[0m\u001b[1;33m\u001b[0m\u001b[1;33m\u001b[0m\u001b[1;33m\u001b[0m\u001b[0m\n",
      "\u001b[1;31mNameError\u001b[0m: name 'pred_Y_from_GD' is not defined"
     ]
    }
   ],
   "source": [
    "# compare predictions pred_Y_from_GD to test_Y. Report MSE and R^2 score\n",
    "MSE(test_Y, pred_Y_from_GD)\n",
    "r2_score(test_Y, pred_Y_from_GD)\n",
    "## YOUR CODE HERE"
   ]
  },
  {
   "cell_type": "markdown",
   "metadata": {
    "id": "QNFkAA7gdnN0"
   },
   "source": [
    "# Task 4: Normal Equations\n",
    "\n",
    "Since our training dataset isn't very large, let's generate predictions using the normal equations: \n",
    "\n",
    "$$\\boldsymbol{\\theta} = (X^T \\cdot X)^{-1} \\cdot X^T \\cdot Y$$ \n",
    "$$\\hat{Y} = X \\cdot \\boldsymbol{\\theta}$$\n",
    "\n",
    "and see how they compare to the predictions which we obtained from gradient descent. Remember we still have a bias term, so $\\boldsymbol{\\theta}$ is of size 74x1 (73 for the unique ID features, 1 for the bias)"
   ]
  },
  {
   "cell_type": "code",
   "execution_count": 42,
   "metadata": {
    "id": "ez7XC2qQdnN1"
   },
   "outputs": [],
   "source": [
    "def normal_equations_solution(X, Y):\n",
    "    X_with_ones = np.hstack([np.ones([X.shape[0], 1]), X])\n",
    "    theta=np.dot(np.linalg.pinv(X_with_ones), Y)\n",
    "    return theta"
   ]
  },
  {
   "cell_type": "code",
   "execution_count": 43,
   "metadata": {
    "id": "cAhtVznMZGtB"
   },
   "outputs": [],
   "source": [
    "# Compute the predicted Y values\n",
    "n_theta = normal_equations_solution(train_X, train_Y)\n",
    "pred_Y_from_N = np.matmul(np.hstack([np.ones([test_X.shape[0], 1]), test_X]), n_theta)\n",
    "\n",
    "# Set any negative predictions to 0\n",
    "pred_Y_from_N[np.where(pred_Y_from_N<0)]=0"
   ]
  },
  {
   "cell_type": "code",
   "execution_count": 44,
   "metadata": {},
   "outputs": [
    {
     "name": "stdout",
     "output_type": "stream",
     "text": [
      "MSE = 0.00015900598697866014\n",
      "R2 = 0.5415619143191437\n"
     ]
    }
   ],
   "source": [
    "print(f\"MSE = {MSE(test_Y, pred_Y_from_N)}\")\n",
    "print((f\"R2 = {r2_score(test_Y, pred_Y_from_N)}\"))"
   ]
  },
  {
   "cell_type": "code",
   "execution_count": 45,
   "metadata": {},
   "outputs": [],
   "source": [
    "results=pd.DataFrame(pred_Y_from_N, columns=['estimation'])\n",
    "\n",
    "results=results.merge(pd.DataFrame(test_Y), left_index=True, right_index=True)"
   ]
  },
  {
   "cell_type": "code",
   "execution_count": 46,
   "metadata": {},
   "outputs": [
    {
     "data": {
      "text/plain": [
       "<matplotlib.collections.PathCollection at 0x297155f34c8>"
      ]
     },
     "execution_count": 46,
     "metadata": {},
     "output_type": "execute_result"
    },
    {
     "data": {
      "image/png": "[encoded data removed]",
      "text/plain": [
       "<Figure size 432x288 with 1 Axes>"
      ]
     },
     "metadata": {
      "needs_background": "light"
     },
     "output_type": "display_data"
    }
   ],
   "source": [
    "plt.scatter(results.index, results['estimation'],color='k', alpha=0.3)\n",
    "plt.scatter(results.index, results['proportion'])\n"
   ]
  },
  {
   "cell_type": "markdown",
   "metadata": {
    "id": "i3ofJxdUdnN6"
   },
   "source": [
    "### Regularized Normal Equations"
   ]
  },
  {
   "cell_type": "code",
   "execution_count": 47,
   "metadata": {
    "colab": {
     "base_uri": "https://localhost:8080/"
    },
    "executionInfo": {
     "elapsed": 9,
     "status": "ok",
     "timestamp": 1627687637973,
     "user": {
      "displayName": "Spencer Kent",
      "photoUrl": "",
      "userId": "07841346171340846448"
     },
     "user_tz": 420
    },
    "id": "VyIX4LaAdnN6",
    "outputId": "4011e415-a117-43ae-d5ff-57cc6f976a76"
   },
   "outputs": [
    {
     "name": "stdout",
     "output_type": "stream",
     "text": [
      "Recall that our training features array train_X has\n",
      "m = 66 rows and n = 73 columns\n"
     ]
    }
   ],
   "source": [
    "print('Recall that our training features array train_X has')\n",
    "print(f'm = {train_X.shape[0]} rows and n = {train_X.shape[1]} columns')"
   ]
  },
  {
   "cell_type": "markdown",
   "metadata": {
    "id": "BSvkrQ6EdnN8"
   },
   "source": [
    "`train_X` is thus wider than it is tall, which suggests that the regularized normal equations might perform better in generating label predictions. In this case, we modify the first of the normal equations given above to \n",
    "\n",
    "$$\\boldsymbol{\\theta} = (X^T \\cdot X + \\lambda m I)^{-1} \\cdot X^T \\cdot Y$$.\n",
    "\n",
    "Here, $\\lambda$ is the regularization parameter and $m$ is the number of rows in $X$."
   ]
  },
  {
   "cell_type": "markdown",
   "metadata": {
    "id": "7Mgd1zocdnN9"
   },
   "source": [
    "### Repeat the previous parts of Task IV, but this time incorporate regularization"
   ]
  },
  {
   "cell_type": "code",
   "execution_count": 48,
   "metadata": {
    "id": "nFY5YO-IZ2e7"
   },
   "outputs": [],
   "source": [
    "def regularized_normal_equations_solution(X, Y, regularization_param):\n",
    "    X_with_ones = np.hstack([np.ones([train_X.shape[0], 1]), train_X])\n",
    "    theta=np.dot(np.linalg.inv(np.dot(X_with_ones.T, X_with_ones) + regularization_param * X.shape[0] * np.identity(X_with_ones.shape[1])),\n",
    "      np.matmul(X_with_ones.T, Y))\n",
    "    return theta\n",
    "    "
   ]
  },
  {
   "cell_type": "code",
   "execution_count": 49,
   "metadata": {
    "id": "bIrbJkOydnN9"
   },
   "outputs": [
    {
     "name": "stdout",
     "output_type": "stream",
     "text": [
      "For regularization parameter 0.01\n",
      "RMSE, R2 = 0.00013572695793108593 0.6086788431585037\n",
      "-----\n",
      "For regularization parameter 1.12\n",
      "RMSE, R2 = 0.0003404530943224867 0.018422716081303303\n",
      "-----\n",
      "For regularization parameter 2.23\n",
      "RMSE, R2 = 0.0003924508437774036 -0.13149458686291915\n",
      "-----\n",
      "For regularization parameter 3.34\n",
      "RMSE, R2 = 0.00042300887507005933 -0.21959796984975544\n",
      "-----\n",
      "For regularization parameter 4.45\n",
      "RMSE, R2 = 0.000443389726721268 -0.27835901899678883\n",
      "-----\n",
      "For regularization parameter 5.5600000000000005\n",
      "RMSE, R2 = 0.0004579636767466423 -0.3203779006590106\n",
      "-----\n",
      "For regularization parameter 6.67\n",
      "RMSE, R2 = 0.00046890007772475275 -0.35190918337301347\n",
      "-----\n",
      "For regularization parameter 7.78\n",
      "RMSE, R2 = 0.0004774071570102474 -0.3764363676412439\n",
      "-----\n",
      "For regularization parameter 8.89\n",
      "RMSE, R2 = 0.0004842119364762752 -0.3960555664598697\n",
      "-----\n",
      "For regularization parameter 10.0\n",
      "RMSE, R2 = 0.0004897780313997582 -0.41210345213968336\n",
      "-----\n"
     ]
    }
   ],
   "source": [
    "test_these_lambdas = np.linspace(0.01, 10, 10)\n",
    "\n",
    "for i in test_these_lambdas:\n",
    "  theta_temp = regularized_normal_equations_solution(train_X, train_Y, i)\n",
    "  pred_Y_from_N_reg = np.matmul(np.hstack([np.ones([test_X.shape[0], 1]), test_X]), theta_temp)\n",
    "  pred_Y_from_N_reg[np.where(pred_Y_from_N_reg<0)]=0\n",
    "  print('For regularization parameter', i)\n",
    "  print(\"RMSE, R2 =\", MSE(test_Y, pred_Y_from_N_reg), r2_score(test_Y, pred_Y_from_N_reg))\n",
    "  print('-----')"
   ]
  },
  {
   "cell_type": "markdown",
   "metadata": {
    "id": "o5uD0DVidnN_"
   },
   "source": [
    "# Task V: Non-linear Regression Models (GLM, DT) "
   ]
  },
  {
   "cell_type": "markdown",
   "metadata": {
    "id": "Yk0Be7SQdnN_"
   },
   "source": [
    "### Generalized Linear Models\n",
    "\n",
    "`sm` (our alias for `statsmodels.api`) contains a `GLM` class. Use it to instantiate a model. The relevant parameters are training labels, training features, and `ffamily`, i.e. the family of distributions to which we assume our prediction errors belong. Some potentially good choices for `ffamily` include Gaussian, Gamma, and Logit."
   ]
  },
  {
   "cell_type": "code",
   "execution_count": 50,
   "metadata": {
    "id": "cxUdD_LhdnN_"
   },
   "outputs": [
    {
     "name": "stdout",
     "output_type": "stream",
     "text": [
      "                 Generalized Linear Model Regression Results                  \n",
      "==============================================================================\n",
      "Dep. Variable:             proportion   No. Observations:                   66\n",
      "Model:                            GLM   Df Residuals:                       35\n",
      "Model Family:                Gaussian   Df Model:                           30\n",
      "Link Function:               identity   Scale:                      0.00050810\n",
      "Method:                          IRLS   Log-Likelihood:                 177.58\n",
      "Date:                Sat, 07 Aug 2021   Deviance:                     0.017784\n",
      "Time:                        19:07:51   Pearson chi2:                   0.0178\n",
      "No. Iterations:                     3                                         \n",
      "Covariance Type:            nonrobust                                         \n",
      "====================================================================================\n",
      "                       coef    std err          z      P>|z|      [0.025      0.975]\n",
      "------------------------------------------------------------------------------------\n",
      "const                0.0147      0.009      1.721      0.085      -0.002       0.031\n",
      "main_S60_1        1.633e-17   2.24e-17      0.729      0.466   -2.76e-17    6.02e-17\n",
      "main_S60_2       -2.922e-17   4.58e-17     -0.639      0.523   -1.19e-16    6.05e-17\n",
      "main_type_SP100D     0.0012      0.032      0.038      0.970      -0.061       0.064\n",
      "main_type_S60D_1     0.0012      0.045      0.027      0.979      -0.087       0.090\n",
      "main_type_S60D_2    -0.0033      0.014     -0.242      0.809      -0.030       0.023\n",
      "main_type_S70        0.0170      0.010      1.785      0.074      -0.002       0.036\n",
      "main_type_S70D      -0.0054      0.011     -0.486      0.627      -0.027       0.016\n",
      "main_type_S75      2.64e-17   1.51e-17      1.750      0.080   -3.17e-18     5.6e-17\n",
      "main_type_S75D      -0.0097      0.023     -0.431      0.667      -0.054       0.035\n",
      "main_type_S80       -0.0028      0.012     -0.234      0.815      -0.027       0.021\n",
      "main_type_S80D      -0.0012      0.016     -0.076      0.939      -0.032       0.029\n",
      "main_type_S85        0.0007      0.012      0.058      0.953      -0.024       0.025\n",
      "main_type_S85P       0.0266      0.009      2.946      0.003       0.009       0.044\n",
      "main_type_P85D      -0.0014      0.021     -0.070      0.945      -0.042       0.039\n",
      "main_type_S90    -2.313e-19   6.18e-18     -0.037      0.970   -1.23e-17    1.19e-17\n",
      "main_type_S90D     1.07e-17   4.61e-18      2.320      0.020    1.66e-18    1.97e-17\n",
      "main_type_S100D      0.0153      0.007      2.124      0.034       0.001       0.029\n",
      "engine_A             0.0280      0.010      2.836      0.005       0.009       0.047\n",
      "engine_B         -1.152e-17    4.6e-18     -2.507      0.012   -2.05e-17   -2.51e-18\n",
      "engine_C         -6.193e-19    4.9e-18     -0.126      0.899   -1.02e-17    8.99e-18\n",
      "engine_D         -1.003e-18   3.11e-18     -0.323      0.747    -7.1e-18    5.09e-18\n",
      "engine_E            -0.0093      0.013     -0.715      0.475      -0.035       0.016\n",
      "engine_F          4.495e-18   6.57e-18      0.684      0.494   -8.38e-18    1.74e-17\n",
      "engine_G            -0.0078      0.017     -0.451      0.652      -0.042       0.026\n",
      "engine_H         -2.638e-19   5.81e-19     -0.454      0.650    -1.4e-18    8.76e-19\n",
      "engine_I          1.404e-18   3.35e-18      0.419      0.675   -5.17e-18    7.97e-18\n",
      "engine_J         -8.086e-19   5.03e-18     -0.161      0.872   -1.07e-17    9.04e-18\n",
      "engine_K          5.675e-19   2.51e-18      0.226      0.821   -4.35e-18    5.49e-18\n",
      "engine_L         -3.995e-18   1.33e-18     -2.997      0.003   -6.61e-18   -1.38e-18\n",
      "engine_M         -8.233e-20   2.85e-19     -0.289      0.773   -6.41e-19    4.76e-19\n",
      "engine_N             0.0012      0.026      0.047      0.963      -0.050       0.052\n",
      "engine_O            -0.0072      0.020     -0.353      0.724      -0.047       0.033\n",
      "engine_P            -0.0072      0.010     -0.735      0.462      -0.027       0.012\n",
      "engine_Q            -0.0013      0.008     -0.162      0.871      -0.017       0.015\n",
      "engine_R                  0          0        nan        nan           0           0\n",
      "engine_S                  0          0        nan        nan           0           0\n",
      "engine_T                  0          0        nan        nan           0           0\n",
      "engine_U            -0.0128      0.010     -1.291      0.197      -0.032       0.007\n",
      "engine_V                  0          0        nan        nan           0           0\n",
      "engine_W                  0          0        nan        nan           0           0\n",
      "engine_X            -0.0076      0.026     -0.286      0.775      -0.059       0.044\n",
      "engine_Y                  0          0        nan        nan           0           0\n",
      "engine_Z            -0.0254      0.010     -2.565      0.010      -0.045      -0.006\n",
      "sales_1             -0.0192      0.017     -1.100      0.271      -0.053       0.015\n",
      "sales_2                   0          0        nan        nan           0           0\n",
      "sales_3             -0.0014      0.017     -0.080      0.936      -0.035       0.033\n",
      "sales_4             -0.0019      0.017     -0.110      0.913      -0.036       0.032\n",
      "sales_5             -0.0060      0.023     -0.260      0.795      -0.051       0.039\n",
      "sales_6                   0          0        nan        nan           0           0\n",
      "sales_7             -0.0142      0.017     -0.815      0.415      -0.048       0.020\n",
      "sales_8             -0.0034      0.010     -0.330      0.742      -0.024       0.017\n",
      "sales_9             -0.0073      0.010     -0.744      0.457      -0.027       0.012\n",
      "sales_10             0.0530      0.022      2.441      0.015       0.010       0.096\n",
      "sales_11             0.0642      0.024      2.696      0.007       0.018       0.111\n",
      "sales_12                  0          0        nan        nan           0           0\n",
      "sales_13                  0          0        nan        nan           0           0\n",
      "sales_14                  0          0        nan        nan           0           0\n",
      "sales_15                  0          0        nan        nan           0           0\n",
      "sales_16                  0          0        nan        nan           0           0\n",
      "sales_17            -0.0108      0.027     -0.404      0.686      -0.063       0.042\n",
      "sales_18                  0          0        nan        nan           0           0\n",
      "sales_19                  0          0        nan        nan           0           0\n",
      "sales_20                  0          0        nan        nan           0           0\n",
      "sales_21            -0.0072      0.010     -0.735      0.462      -0.027       0.012\n",
      "sales_22                  0          0        nan        nan           0           0\n",
      "sales_23                  0          0        nan        nan           0           0\n",
      "sales_24            -0.0124      0.009     -1.337      0.181      -0.031       0.006\n",
      "sales_25             0.0137      0.022      0.633      0.527      -0.029       0.056\n",
      "sales_26            -0.0078      0.017     -0.451      0.652      -0.042       0.026\n",
      "sales_27                  0          0        nan        nan           0           0\n",
      "sales_28            -0.0246      0.017     -1.415      0.157      -0.059       0.009\n",
      "sales_29                  0          0        nan        nan           0           0\n",
      "sales_30                  0          0        nan        nan           0           0\n",
      "====================================================================================\n"
     ]
    },
    {
     "name": "stderr",
     "output_type": "stream",
     "text": [
      "C:\\Users\\FLORENCIA\\anaconda3\\lib\\site-packages\\statsmodels\\base\\model.py:1362: RuntimeWarning: invalid value encountered in true_divide\n",
      "  return self.params / self.bse\n",
      "C:\\Users\\FLORENCIA\\anaconda3\\lib\\site-packages\\scipy\\stats\\_distn_infrastructure.py:903: RuntimeWarning: invalid value encountered in greater\n",
      "  return (a < x) & (x < b)\n",
      "C:\\Users\\FLORENCIA\\anaconda3\\lib\\site-packages\\scipy\\stats\\_distn_infrastructure.py:903: RuntimeWarning: invalid value encountered in less\n",
      "  return (a < x) & (x < b)\n",
      "C:\\Users\\FLORENCIA\\anaconda3\\lib\\site-packages\\scipy\\stats\\_distn_infrastructure.py:1912: RuntimeWarning: invalid value encountered in less_equal\n",
      "  cond2 = cond0 & (x <= _a)\n"
     ]
    }
   ],
   "source": [
    "# GLM \n",
    "import statsmodels.api as sm\n",
    "# Instantiate the GLM\n",
    "train_X_glm = sm.add_constant(train_X)\n",
    "glm_gamma = sm.GLM(train_Y, train_X_glm, family=sm.families.Gaussian())\n",
    "# Train the GLM\n",
    "glm_results = glm_gamma.fit()\n",
    "print(glm_results.summary())"
   ]
  },
  {
   "cell_type": "markdown",
   "metadata": {
    "id": "7IAchWHodnOB"
   },
   "source": [
    "### Generate predictions from the test data"
   ]
  },
  {
   "cell_type": "code",
   "execution_count": 51,
   "metadata": {
    "id": "XLTsITX7dnOC"
   },
   "outputs": [
    {
     "ename": "SyntaxError",
     "evalue": "invalid syntax (<ipython-input-51-3421e6378926>, line 3)",
     "output_type": "error",
     "traceback": [
      "\u001b[1;36m  File \u001b[1;32m\"<ipython-input-51-3421e6378926>\"\u001b[1;36m, line \u001b[1;32m3\u001b[0m\n\u001b[1;33m    pred_Y_from_GLM=\u001b[0m\n\u001b[1;37m                    ^\u001b[0m\n\u001b[1;31mSyntaxError\u001b[0m\u001b[1;31m:\u001b[0m invalid syntax\n"
     ]
    }
   ],
   "source": [
    "# generate predictions, called pred_Y_from_GLM. (don't forget to add a constant column to test_X)\n",
    "## YOUR CODE HERE\n",
    "pred_Y_from_GLM=\n",
    "# Set any negative predictions to 0\n",
    "pred_Y_from_GLM[pred_Y_from_GLM<0]=0"
   ]
  },
  {
   "cell_type": "code",
   "execution_count": null,
   "metadata": {
    "id": "TgXIT-JpdnOE"
   },
   "outputs": [],
   "source": [
    "# Plot predictions compared to test_Y, and also print MSE and R^2 score\n",
    "## YOUR CODE HERE"
   ]
  },
  {
   "cell_type": "markdown",
   "metadata": {
    "id": "Vld0rNUcdnOG"
   },
   "source": [
    "### Random Forest Regression\n",
    "\n",
    "Use the `RandomForestRegressor` from `sklearn.ensemble` to generate predictions. The relevant parameters are the `max_depth` of the trees and the `random_state`, to ensure reproducibility."
   ]
  },
  {
   "cell_type": "code",
   "execution_count": 52,
   "metadata": {
    "id": "EbxRUm3UdnOG"
   },
   "outputs": [],
   "source": [
    "from sklearn.ensemble import RandomForestRegressor\n",
    "# Instantiate the random forest regression model\n",
    "regr = RandomForestRegressor(max_depth=5, random_state=0)\n",
    "# Train the model\n",
    "regr.fit(train_X, train_Y)\n",
    "## YOUR CODE HERE\n",
    "# Generate predictions from the test data\n",
    "## YOUR CODE HERE\n",
    "pred_Y_from_RF = regr.predict(test_X)"
   ]
  },
  {
   "cell_type": "code",
   "execution_count": 53,
   "metadata": {
    "id": "YSZX9t1MdnOK"
   },
   "outputs": [
    {
     "name": "stdout",
     "output_type": "stream",
     "text": [
      "MSE = 9.71818540120476e-05\n",
      "R2 = 0.7198101532983234\n"
     ]
    },
    {
     "data": {
      "text/plain": [
       "<matplotlib.collections.PathCollection at 0x297165e7f08>"
      ]
     },
     "execution_count": 53,
     "metadata": {},
     "output_type": "execute_result"
    },
    {
     "data": {
      "image/png": "[encoded data removed]",
      "text/plain": [
       "<Figure size 432x288 with 1 Axes>"
      ]
     },
     "metadata": {
      "needs_background": "light"
     },
     "output_type": "display_data"
    }
   ],
   "source": [
    "# Plot predictions compared to test_Y, and also print MSE and R^2 score\n",
    "## YOUR CODE HERE\n",
    "print(f\"MSE = {MSE(test_Y, pred_Y_from_RF)}\")\n",
    "print((f\"R2 = {r2_score(test_Y, pred_Y_from_RF)}\"))\n",
    "plt.scatter(range(len(test_Y)), test_Y)\n",
    "plt.scatter(range(len(pred_Y_from_RF)), pred_Y_from_RF,  color='red')"
   ]
  },
  {
   "cell_type": "markdown",
   "metadata": {
    "id": "bxx1JrikdnON"
   },
   "source": [
    "\n",
    "## Populate the table below with the results of your experiments above. Which models performed best?"
   ]
  },
  {
   "cell_type": "code",
   "execution_count": null,
   "metadata": {
    "id": "44MPnft4dnON"
   },
   "outputs": [],
   "source": [
    "## Results\n",
    "\n",
    "|Method      |RMSE             |R2               |\n",
    "|------------|-----------------|-----------------|\n",
    "| Gradient Descent | xx | xx|\n",
    "| Normal Equations | 0.00015900598697866014 | 0.54 |\n",
    "| Regularized Normal Equations | 0.00 | 0.60 |\n",
    "| Generalized Linear Model (GLM) | xx | xx |\n",
    "| Random Forests | 0.00 | 0.71 |\n"
   ]
  },
  {
   "cell_type": "markdown",
   "metadata": {},
   "source": [
    "### Ramdom Forest performed better"
   ]
  },
  {
   "cell_type": "code",
   "execution_count": null,
   "metadata": {},
   "outputs": [],
   "source": []
  }
 ],
 "metadata": {
  "colab": {
   "collapsed_sections": [],
   "name": "week1_V1.ipynb",
   "provenance": [
    {
     "file_id": "1A5aKkAXYKm5ju0TNG-1yU44-hnWEhh__",
     "timestamp": 1603344980309
    }
   ]
  },
  "kernelspec": {
   "display_name": "Python 3",
   "language": "python",
   "name": "python3"
  },
  "language_info": {
   "codemirror_mode": {
    "name": "ipython",
    "version": 3
   },
   "file_extension": ".py",
   "mimetype": "text/x-python",
   "name": "python",
   "nbconvert_exporter": "python",
   "pygments_lexer": "ipython3",
   "version": "3.7.6"
  }
 },
 "nbformat": 4,
 "nbformat_minor": 1
}
